{
 "cells": [
  {
   "cell_type": "markdown",
   "id": "78050053",
   "metadata": {},
   "source": [
    "# Python으로 웹 스크래퍼 만들기 3\n",
    "\n",
    "사이트 운영자들은 웹 스크래핑 매우 싫어한다.\n",
    "\n",
    "그래서 봇 인증 프로그램 등을 만들어 작업을 까다롭게 조치를 해두는 경우가 있다. ( 이용약관에도 기입해 두기도 한다. )\n",
    "\n",
    "민감한 사항이 때문에 스크래핑한 내용을 상업적으로 사용할 경우 법적다툼이 벌어질 가능성도 있다.\n",
    "\n",
    "교육 목적 이외에 상업적인 서비스를 만들 생각이라면 참고하자."
   ]
  },
  {
   "cell_type": "markdown",
   "id": "e4cde683",
   "metadata": {},
   "source": [
    "\n",
    "- URL Formatting\n",
    "\n",
    "- Requests\n",
    "\n",
    "- [HTTP Status Codes](https://developer.mozilla.org/ko/docs/Web/HTTP/Status)\n",
    "\n",
    "- dictionary\n",
    "\n",
    "- .startswith\n",
    "\n",
    "- f\"{}\"\n",
    "\n",
    "- find_all : list\n",
    "\n",
    "- find : v"
   ]
  },
  {
   "cell_type": "markdown",
   "id": "db3336de",
   "metadata": {},
   "source": [
    "---"
   ]
  },
  {
   "cell_type": "markdown",
   "id": "2d9c464b",
   "metadata": {},
   "source": [
    "## ~ 5.9"
   ]
  },
  {
   "cell_type": "code",
   "execution_count": null,
   "id": "7c0fac88",
   "metadata": {},
   "outputs": [],
   "source": [
    "from requests import get \n",
    "\n",
    "from bs4 import BeautifulSoup\n",
    "\n",
    "\n",
    "base_url = \"https://weworkremotely.com/remote-jobs/search?utf8=✓&term=\"\n",
    "\n",
    "search_term = \"java\"\n",
    "\n",
    "response = get(f\"{base_url}{search_term}\")\n",
    "\n",
    "    \n",
    "if response.status_code != 200:\n",
    "    print(\"Can't request website\")\n",
    "else:\n",
    "    soup = BeautifulSoup(response.text,\"html.parser\")\n",
    "    \n",
    "    # print(soup.find_all('title'))\n",
    "\n",
    "    jobs = soup.find_all('section', class_=\"jobs\")\n",
    "    # print(soup.find_all('section', class_=\"jobs\"))    \n",
    "    # print(len(jobs))\n",
    "    \n",
    "    results = []\n",
    "    \n",
    "    for job_section in jobs:\n",
    "    \n",
    "        # print(job_section.find_all('li')) \n",
    "        job_posts = job_section.find_all('li')\n",
    "        \n",
    "        # 리스트 컴프리헨션으로 view-all 클래스 제외 (버튼)\n",
    "        job_posts = [post for post in job_section.find_all('li') if 'view-all' not in post['class']]\n",
    "\n",
    "        for post in job_posts:\n",
    "            \n",
    "            \n",
    "            anchors = post.find_all('a') # list\n",
    "            \n",
    "            anchor = anchors[1] # dictionary in list\n",
    "            \n",
    "            link = anchor['href'] # value in dictionary\n",
    "            \n",
    "            # anchor('a') 내 span tag (class = company)추출, list\n",
    "            company, position, region = anchor.find_all('span',class_='company')\n",
    "            \n",
    "            title = anchor.find('span', class_='title')\n",
    "            \n",
    "            # html tag 제외 후, dictionary 데이터 생성 후, list append\n",
    "            data_result = {\n",
    "                'title': title.string,\n",
    "                'company' : company.string,\n",
    "                'position' : position.string,\n",
    "                'region' : region.string,\n",
    "                'link' : f'https://weworkremotely.com{link}'\n",
    "                }\n",
    "            \n",
    "            results.append(data_result)\n",
    "        \n",
    "    \n",
    "    for result in results:\n",
    "        print(result)\n",
    "\n",
    "            "
   ]
  },
  {
   "cell_type": "markdown",
   "id": "2f9812d9",
   "metadata": {},
   "source": [
    "---"
   ]
  },
  {
   "cell_type": "markdown",
   "id": "7397d657",
   "metadata": {},
   "source": [
    "## Refactoring -1\n",
    "\n",
    "- search_term 을 parameter 로 받고, dict 데이터로 results 를 return 하는 함수 생성\n"
   ]
  },
  {
   "cell_type": "code",
   "execution_count": null,
   "id": "f39fd948",
   "metadata": {},
   "outputs": [],
   "source": [
    "from requests import get \n",
    "from bs4 import BeautifulSoup\n",
    "\n",
    "# extract 폴더, wwr.py 파일, extract_jobs 함수 import\n",
    "\n",
    "from extract.wwr import extract_jobs\n",
    "\n",
    "jobs = extract_jobs('python')\n",
    "print(jobs)"
   ]
  },
  {
   "cell_type": "markdown",
   "id": "ba2c2fd9",
   "metadata": {},
   "source": [
    "---"
   ]
  },
  {
   "cell_type": "markdown",
   "id": "ae7c4318",
   "metadata": {},
   "source": [
    "## Refactoring -2\n",
    "\n",
    "- 함수화\n",
    "- pages 추가\n"
   ]
  },
  {
   "cell_type": "code",
   "execution_count": null,
   "id": "5dbc6f93",
   "metadata": {},
   "outputs": [],
   "source": [
    "from bs4 import BeautifulSoup\n",
    "from selenium import webdriver\n",
    "from selenium.webdriver.chrome.options import Options\n",
    "\n",
    "\n",
    "def extract_indeed_jobs(keyword):\n",
    "    \n",
    "    pages = get_page_count(keyword)\n",
    "    \n",
    "    for page in range(pages):\n",
    "        \n",
    "        options = Options()\n",
    "\n",
    "        browser = webdriver.Chrome(options=options)\n",
    "        \n",
    "        base_url = \"https://kr.indeed.com/jobs\"\n",
    "        search_term = f'{keyword}'\n",
    "\n",
    "        browser.get(f\"{base_url}?q={search_term}\")\n",
    "\n",
    "        # --- bs4 처리 \n",
    "\n",
    "        soup = BeautifulSoup(browser.page_source, \"html.parser\")\n",
    "\n",
    "        job_list = soup.find(\"ul\", class_=\"jobsearch-ResultsList\")\n",
    "\n",
    "        jobs = job_list.find_all('li', recursive=False)\n",
    "\n",
    "\n",
    "        # li 태그 중 class 네임에 따라 출력,\n",
    "        # find, none 논리로 출력 \n",
    "\n",
    "        results = []\n",
    "\n",
    "        for job in jobs:\n",
    "\n",
    "            zone = job.find(\"div\", class_=\"mosaic-zone\")\n",
    "\n",
    "            if zone == None:\n",
    "\n",
    "                # anchor = job.find_all('a') # list\n",
    "\n",
    "                anchor = job.select_one('h2 a') # dict\n",
    "\n",
    "                title = anchor['aria-label']\n",
    "                link = anchor['href']\n",
    "\n",
    "                company = job.find('span', class_='companyName')\n",
    "                location = job.find('div', class_='companyLocation')\n",
    "\n",
    "                # dict 데이터 형\n",
    "                job_data = {\n",
    "                    'position': title,\n",
    "                    'link': f\"https://kr.indeed.com{link}\",\n",
    "                    'company': company.string,\n",
    "                    'location': location.string\n",
    "                }\n",
    "\n",
    "                # 결과 리스트 append\n",
    "                results.append(job_data)\n",
    "\n",
    "        for result in results:\n",
    "            print(result)\n",
    "            print()"
   ]
  },
  {
   "cell_type": "code",
   "execution_count": null,
   "id": "601335d5",
   "metadata": {},
   "outputs": [],
   "source": [
    "# 1번 페이지 5번 반복 \n",
    "\n",
    "extract_indeed_jobs('python')"
   ]
  },
  {
   "cell_type": "markdown",
   "id": "72f8e911",
   "metadata": {},
   "source": [
    "---"
   ]
  },
  {
   "cell_type": "markdown",
   "id": "5ad4ac3d",
   "metadata": {},
   "source": [
    "`options = Options()`\n",
    "`browser = webdriver.Chrome(options=options)`\n",
    "\n",
    "를 함수 내에서 실행시키게 해야함.\n",
    "\n",
    "- 켜져있는 상태로, 한번 더 켜지면, 봇 의심\n",
    "\n",
    "- 함수 내에서 오픈하게 되면, 실행 후, 꺼지고, 다시 실행\n",
    "\n",
    "- 오픈, 카운트, 클로즈\n",
    "\n",
    "- 1~5. 오픈, 출력, 클로즈\n",
    "\n"
   ]
  },
  {
   "cell_type": "markdown",
   "id": "23603bec",
   "metadata": {},
   "source": [
    "---"
   ]
  },
  {
   "cell_type": "markdown",
   "id": "058f799d",
   "metadata": {},
   "source": [
    "## Refactoring -3\n",
    "\n",
    "- 1 ~ 5 번페이지 start 처리\n",
    "\n",
    "- page 에 따라 start 부분 처리 x(0), 10, 20\n",
    "\n",
    "- start를 0처리 하면, start 없이 요청 하는것과 같은 결과가 나옴\n",
    "\n",
    "- result 빼서 처리"
   ]
  },
  {
   "cell_type": "code",
   "execution_count": null,
   "id": "7d8835be",
   "metadata": {},
   "outputs": [],
   "source": [
    "from bs4 import BeautifulSoup\n",
    "from selenium import webdriver\n",
    "from selenium.webdriver.chrome.options import Options\n",
    "\n",
    "\n",
    "def extract_indeed_jobs(keyword):\n",
    "    \n",
    "    pages = get_page_count(keyword)\n",
    "    \n",
    "    results = []\n",
    "  \n",
    "    for page in range(pages):\n",
    "        \n",
    "        options = Options()\n",
    "\n",
    "        browser = webdriver.Chrome(options=options)\n",
    "        \n",
    "        base_url = \"https://kr.indeed.com/jobs\"\n",
    "        search_term = f'{keyword}'\n",
    "\n",
    "        browser.get(f\"{base_url}?q={search_term}&start={page*10}\")\n",
    "\n",
    "        # --- bs4 처리 \n",
    "\n",
    "        soup = BeautifulSoup(browser.page_source, \"html.parser\")\n",
    "\n",
    "        job_list = soup.find(\"ul\", class_=\"jobsearch-ResultsList\")\n",
    "\n",
    "        jobs = job_list.find_all('li', recursive=False)\n",
    "\n",
    "\n",
    "        # li 태그 중 class 네임에 따라 출력,\n",
    "        # find, none 논리로 출력 \n",
    "\n",
    "\n",
    "        for job in jobs:\n",
    "\n",
    "            zone = job.find(\"div\", class_=\"mosaic-zone\")\n",
    "\n",
    "            if zone == None:\n",
    "\n",
    "                # anchor = job.find_all('a') # list\n",
    "\n",
    "                anchor = job.select_one('h2 a') # dict\n",
    "\n",
    "                title = anchor['aria-label']\n",
    "                link = anchor['href']\n",
    "\n",
    "                company = job.find('span', class_='companyName')\n",
    "                location = job.find('div', class_='companyLocation')\n",
    "\n",
    "                # dict 데이터 형\n",
    "                job_data = {\n",
    "                    'position': title,\n",
    "                    'link': f\"https://kr.indeed.com{link}\",\n",
    "                    'company': company.string,\n",
    "                    'location': location.string\n",
    "                }\n",
    "\n",
    "                # 결과 리스트 append\n",
    "                results.append(job_data)\n",
    "\n",
    "    \n",
    "    for result in results:\n",
    "        print(result)\n",
    "        print()"
   ]
  },
  {
   "cell_type": "code",
   "execution_count": null,
   "id": "f185e2db",
   "metadata": {},
   "outputs": [],
   "source": [
    "extract_indeed_jobs('python')"
   ]
  },
  {
   "cell_type": "markdown",
   "id": "b8119355",
   "metadata": {},
   "source": [
    "---"
   ]
  },
  {
   "cell_type": "markdown",
   "id": "f1aec15c",
   "metadata": {},
   "source": [
    "- 완전 함수로 변환\n",
    "\n",
    "- return 리스트"
   ]
  },
  {
   "cell_type": "code",
   "execution_count": null,
   "id": "d18101ec",
   "metadata": {},
   "outputs": [],
   "source": [
    "from bs4 import BeautifulSoup\n",
    "from selenium import webdriver\n",
    "from selenium.webdriver.chrome.options import Options\n",
    "\n",
    "\n",
    "def extract_indeed_jobs(keyword):\n",
    "    \n",
    "    pages = get_page_count(keyword)\n",
    "    \n",
    "    results = []\n",
    "  \n",
    "    for page in range(pages):\n",
    "        \n",
    "        options = Options()\n",
    "\n",
    "        browser = webdriver.Chrome(options=options)\n",
    "        \n",
    "        base_url = \"https://kr.indeed.com/jobs\"\n",
    "        search_term = f'{keyword}'\n",
    "        final_url = f\"{base_url}?q={search_term}&start={page*10}\"\n",
    "        \n",
    "        print(f'Request url : {final_url}')\n",
    "        browser.get(final_url)\n",
    "\n",
    "        # --- bs4 처리 \n",
    "\n",
    "        soup = BeautifulSoup(browser.page_source, \"html.parser\")\n",
    "\n",
    "        job_list = soup.find(\"ul\", class_=\"jobsearch-ResultsList\")\n",
    "\n",
    "        jobs = job_list.find_all('li', recursive=False)\n",
    "\n",
    "\n",
    "        # li 태그 중 class 네임에 따라 출력,\n",
    "        # find, none 논리로 출력 \n",
    "\n",
    "\n",
    "        for job in jobs:\n",
    "\n",
    "            zone = job.find(\"div\", class_=\"mosaic-zone\")\n",
    "\n",
    "            if zone == None:\n",
    "\n",
    "                # anchor = job.find_all('a') # list\n",
    "\n",
    "                anchor = job.select_one('h2 a') # dict\n",
    "\n",
    "                title = anchor['aria-label']\n",
    "                link = anchor['href']\n",
    "\n",
    "                company = job.find('span', class_='companyName')\n",
    "                location = job.find('div', class_='companyLocation')\n",
    "\n",
    "                # dict 데이터 형\n",
    "                job_data = {\n",
    "                    'position': title,\n",
    "                    'link': f\"https://kr.indeed.com{link}\",\n",
    "                    'company': company.string,\n",
    "                    'location': location.string\n",
    "                }\n",
    "\n",
    "                # 결과 리스트 append\n",
    "                results.append(job_data)\n",
    "\n",
    "    \n",
    "    return results"
   ]
  },
  {
   "cell_type": "code",
   "execution_count": null,
   "id": "fc906c6e",
   "metadata": {},
   "outputs": [],
   "source": [
    "jobs = extract_indeed_jobs('python')\n",
    "print(jobs)"
   ]
  },
  {
   "cell_type": "code",
   "execution_count": null,
   "id": "914b35a7",
   "metadata": {},
   "outputs": [],
   "source": [
    "print(len(jobs))"
   ]
  },
  {
   "cell_type": "markdown",
   "id": "b200fcbe",
   "metadata": {},
   "source": [
    "- 첫번째 페이지로 이동후, 그 이후 페이지가 몇개 있는지 확인, 제약사항(5) 후 처리\n"
   ]
  },
  {
   "cell_type": "markdown",
   "id": "1908561a",
   "metadata": {},
   "source": [
    "---"
   ]
  },
  {
   "cell_type": "markdown",
   "id": "a15741d4",
   "metadata": {},
   "source": [
    "## Refactoring -4 \n",
    "\n",
    "- 함수 처리"
   ]
  },
  {
   "cell_type": "code",
   "execution_count": null,
   "id": "44a584c4",
   "metadata": {},
   "outputs": [],
   "source": [
    "'hello,world, happy,toady'.replace(',', ' ')"
   ]
  },
  {
   "cell_type": "code",
   "execution_count": 1,
   "id": "bfb44efe",
   "metadata": {},
   "outputs": [
    {
     "name": "stdout",
     "output_type": "stream",
     "text": [
      "Request url : https://kr.indeed.com/jobs?q=python&start=0\n",
      "Request url : https://kr.indeed.com/jobs?q=python&start=10\n",
      "Request url : https://kr.indeed.com/jobs?q=python&start=20\n",
      "Request url : https://kr.indeed.com/jobs?q=python&start=30\n",
      "Request url : https://kr.indeed.com/jobs?q=python&start=40\n"
     ]
    }
   ],
   "source": [
    "# 폴더.파일.py import 함수\n",
    "# 리스트 리턴,(리스트내 데이터 dict)\n",
    "\n",
    "from extract.indeed import extract_indeed_jobs\n",
    "from extract.wwr import extract_jobs\n",
    "\n",
    "wwr = extract_jobs('python')\n",
    "indeed = extract_indeed_jobs('python')\n",
    "\n",
    "jobs = wwr + indeed\n"
   ]
  },
  {
   "cell_type": "code",
   "execution_count": null,
   "id": "89cf0a8e",
   "metadata": {},
   "outputs": [],
   "source": [
    "len(jobs) # 5 + 15 * 5 "
   ]
  },
  {
   "cell_type": "code",
   "execution_count": null,
   "id": "ff06024a",
   "metadata": {},
   "outputs": [],
   "source": [
    "print(jobs)"
   ]
  },
  {
   "cell_type": "markdown",
   "id": "9a6d47ed",
   "metadata": {},
   "source": [
    "---"
   ]
  },
  {
   "cell_type": "markdown",
   "id": "76b6c420",
   "metadata": {},
   "source": [
    "## 사용자 입력 및 파일 처리\n",
    "\n",
    "\n",
    "- csv 파일 생성 \n",
    "\n",
    "- 파일 open 및 write\n",
    "\n"
   ]
  },
  {
   "cell_type": "code",
   "execution_count": 1,
   "id": "dd2cf7e0",
   "metadata": {},
   "outputs": [
    {
     "name": "stdout",
     "output_type": "stream",
     "text": [
      "what do you want to search for? python\n"
     ]
    }
   ],
   "source": [
    "keyword = input('what do you want to search for? ')"
   ]
  },
  {
   "cell_type": "code",
   "execution_count": 2,
   "id": "a15941e5",
   "metadata": {},
   "outputs": [
    {
     "name": "stdout",
     "output_type": "stream",
     "text": [
      "Request url : https://kr.indeed.com/jobs?q=python&start=0\n",
      "Request url : https://kr.indeed.com/jobs?q=python&start=10\n",
      "Request url : https://kr.indeed.com/jobs?q=python&start=20\n",
      "Request url : https://kr.indeed.com/jobs?q=python&start=30\n",
      "Request url : https://kr.indeed.com/jobs?q=python&start=40\n"
     ]
    }
   ],
   "source": [
    "from extract.indeed import extract_indeed_jobs\n",
    "from extract.wwr import extract_jobs\n",
    "\n",
    "wwr = extract_jobs(keyword)\n",
    "indeed = extract_indeed_jobs(keyword)\n",
    "\n",
    "jobs = wwr + indeed"
   ]
  },
  {
   "cell_type": "code",
   "execution_count": 3,
   "id": "5939133e",
   "metadata": {},
   "outputs": [],
   "source": [
    "file = open(f\"{keyword}.csv\", \"w\",encoding=\"utf-8-sig\")\n",
    "# 파일에 헤더 입력 , \\n\n",
    "file.write(\"Position,Company,Location,URL\\n\")\n",
    "\n",
    "# jobs 리스트, job dict\n",
    "for job in jobs:\n",
    "    file.write(f\"{job['position']},{job['company']},{job['location']},{job['link']}\\n\")"
   ]
  },
  {
   "cell_type": "code",
   "execution_count": 4,
   "id": "6ba7cc93",
   "metadata": {},
   "outputs": [],
   "source": [
    "file.close()"
   ]
  },
  {
   "cell_type": "markdown",
   "id": "501f51d9",
   "metadata": {},
   "source": [
    "---"
   ]
  },
  {
   "cell_type": "markdown",
   "id": "f2212564",
   "metadata": {},
   "source": [
    "## 쉽표 (`,`) 처리"
   ]
  },
  {
   "cell_type": "markdown",
   "id": "f1c882f7",
   "metadata": {},
   "source": [
    "- 딕셔너리 내 데이터가  `,` 포함 하고 있음, `,` 는 csv 파일에서 열 분리를 의미함. csv 인코딩 하는데 문제 발생 \n",
    "    - ex) '구글, 서울' > 구글 입력후 `,` 로 자동 열 분리 \n",
    "    \n",
    "- extract 함수 내에서 `,`가 있다면, 공백으로 처리 하여 해결\n",
    "```.py\n",
    "                job_data = {\n",
    "                    'position': title.replace(\",\", \" \"),\n",
    "                    'company': company.string.replace(\",\", \" \"),\n",
    "                    'location': location.string.replace(\",\", \" \"),\n",
    "                    'link': f\"https://kr.indeed.com{link}\"\n",
    "\n",
    "                }\n",
    "```\n",
    "\n"
   ]
  },
  {
   "cell_type": "markdown",
   "id": "7df9c16e",
   "metadata": {},
   "source": [
    "---"
   ]
  },
  {
   "cell_type": "markdown",
   "id": "180dc4ae",
   "metadata": {},
   "source": [
    "## Refactoring\n",
    "\n",
    "- 파일 생성 함수화"
   ]
  },
  {
   "cell_type": "code",
   "execution_count": 5,
   "id": "dbb0906a",
   "metadata": {},
   "outputs": [
    {
     "name": "stdout",
     "output_type": "stream",
     "text": [
      "what do you want to search for? python\n",
      "Request url : https://kr.indeed.com/jobs?q=python&start=0\n",
      "Request url : https://kr.indeed.com/jobs?q=python&start=10\n",
      "Request url : https://kr.indeed.com/jobs?q=python&start=20\n",
      "Request url : https://kr.indeed.com/jobs?q=python&start=30\n",
      "Request url : https://kr.indeed.com/jobs?q=python&start=40\n"
     ]
    }
   ],
   "source": [
    "from extract.indeed import extract_indeed_jobs\n",
    "from extract.wwr import extract_jobs\n",
    "from extract.file import save_to_file\n",
    "\n",
    "keyword = input('what do you want to search for ? ')\n",
    "\n",
    "wwr = extract_jobs(keyword)\n",
    "indeed = extract_indeed_jobs(keyword)\n",
    "\n",
    "jobs = wwr + indeed\n",
    "\n",
    "save_to_file(keyword,jobs)\n"
   ]
  },
  {
   "cell_type": "markdown",
   "id": "68486653",
   "metadata": {},
   "source": [
    "---"
   ]
  },
  {
   "cell_type": "markdown",
   "id": "ebf0641b",
   "metadata": {},
   "source": [
    "## Flask\n",
    "\n",
    "- install"
   ]
  }
 ],
 "metadata": {
  "kernelspec": {
   "display_name": "Python 3 (ipykernel)",
   "language": "python",
   "name": "python3"
  },
  "language_info": {
   "codemirror_mode": {
    "name": "ipython",
    "version": 3
   },
   "file_extension": ".py",
   "mimetype": "text/x-python",
   "name": "python",
   "nbconvert_exporter": "python",
   "pygments_lexer": "ipython3",
   "version": "3.8.16"
  },
  "toc": {
   "base_numbering": 1,
   "nav_menu": {},
   "number_sections": true,
   "sideBar": true,
   "skip_h1_title": false,
   "title_cell": "Table of Contents",
   "title_sidebar": "Contents",
   "toc_cell": false,
   "toc_position": {
    "height": "calc(100% - 180px)",
    "left": "10px",
    "top": "150px",
    "width": "262.390625px"
   },
   "toc_section_display": true,
   "toc_window_display": true
  },
  "varInspector": {
   "cols": {
    "lenName": 16,
    "lenType": 16,
    "lenVar": 40
   },
   "kernels_config": {
    "python": {
     "delete_cmd_postfix": "",
     "delete_cmd_prefix": "del ",
     "library": "var_list.py",
     "varRefreshCmd": "print(var_dic_list())"
    },
    "r": {
     "delete_cmd_postfix": ") ",
     "delete_cmd_prefix": "rm(",
     "library": "var_list.r",
     "varRefreshCmd": "cat(var_dic_list()) "
    }
   },
   "types_to_exclude": [
    "module",
    "function",
    "builtin_function_or_method",
    "instance",
    "_Feature"
   ],
   "window_display": false
  }
 },
 "nbformat": 4,
 "nbformat_minor": 5
}
