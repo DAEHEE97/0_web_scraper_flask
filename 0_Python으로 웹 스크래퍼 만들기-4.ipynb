{
 "cells": [
  {
   "cell_type": "markdown",
   "id": "78050053",
   "metadata": {},
   "source": [
    "# Python으로 웹 스크래퍼 만들기 4\n",
    "\n",
    "- Flask"
   ]
  },
  {
   "cell_type": "markdown",
   "id": "180dc4ae",
   "metadata": {},
   "source": [
    "## Refactoring\n",
    "\n",
    "- 사용자 입력 , 파일 생성 까지 모두 함수화"
   ]
  },
  {
   "cell_type": "code",
   "execution_count": 1,
   "id": "dbb0906a",
   "metadata": {},
   "outputs": [
    {
     "name": "stdout",
     "output_type": "stream",
     "text": [
      "what do you want to search for ? nest\n",
      "Request url : https://kr.indeed.com/jobs?q=nest&start=0\n"
     ]
    }
   ],
   "source": [
    "from extract.indeed import extract_indeed_jobs\n",
    "from extract.wwr import extract_jobs\n",
    "from extract.file import save_to_file\n",
    "\n",
    "keyword = input('what do you want to search for ? ')\n",
    "\n",
    "wwr = extract_jobs(keyword)\n",
    "indeed = extract_indeed_jobs(keyword)\n",
    "\n",
    "jobs = wwr + indeed\n",
    "\n",
    "save_to_file(keyword,jobs)\n"
   ]
  },
  {
   "cell_type": "markdown",
   "id": "68486653",
   "metadata": {},
   "source": [
    "---"
   ]
  },
  {
   "cell_type": "markdown",
   "id": "ebf0641b",
   "metadata": {},
   "source": [
    "## Flask\n",
    "\n",
    "- local"
   ]
  },
  {
   "cell_type": "code",
   "execution_count": 2,
   "id": "98efa664",
   "metadata": {},
   "outputs": [],
   "source": [
    "from flask import Flask"
   ]
  },
  {
   "cell_type": "code",
   "execution_count": 3,
   "id": "61dddf38",
   "metadata": {},
   "outputs": [
    {
     "name": "stdout",
     "output_type": "stream",
     "text": [
      " * Serving Flask app 'JobScrapper'\n",
      " * Debug mode: off\n"
     ]
    },
    {
     "name": "stderr",
     "output_type": "stream",
     "text": [
      "\u001b[31m\u001b[1mWARNING: This is a development server. Do not use it in a production deployment. Use a production WSGI server instead.\u001b[0m\n",
      " * Running on http://127.0.0.1:5000\n",
      "\u001b[33mPress CTRL+C to quit\u001b[0m\n",
      "127.0.0.1 - - [24/May/2023 16:28:25] \"GET / HTTP/1.1\" 200 -\n",
      "127.0.0.1 - - [24/May/2023 16:28:26] \"\u001b[33mGET /apple-touch-icon-precomposed.png HTTP/1.1\u001b[0m\" 404 -\n",
      "127.0.0.1 - - [24/May/2023 16:28:26] \"\u001b[33mGET /favicon.ico HTTP/1.1\u001b[0m\" 404 -\n",
      "127.0.0.1 - - [24/May/2023 16:28:26] \"\u001b[33mGET /apple-touch-icon.png HTTP/1.1\u001b[0m\" 404 -\n"
     ]
    }
   ],
   "source": [
    "from flask import Flask\n",
    "# Flask 클래스의 인스턴스를 만들고, \"JobScrapper\"라는 이름을 부여하여 app 변수에 할당합니다\n",
    "app = Flask(\"JobScrapper\")\n",
    "\n",
    "\n",
    "# home() 함수를 '/' 경로로 연결합니다. 이 경로는 Flask 애플리케이션의 루트 경로입니다.\n",
    "@app.route(\"/\")\n",
    "def home():\n",
    "    return \"hello flask\"\n",
    "\n",
    "# Flask 애플리케이션을 실행하고, \"127.0.0.1\" IP 주소에서 요청을 받을 수 있도록 합니다.\n",
    "app.run(\"127.0.0.1\")\n"
   ]
  },
  {
   "cell_type": "markdown",
   "id": "95045b17",
   "metadata": {},
   "source": [
    "---"
   ]
  },
  {
   "cell_type": "markdown",
   "id": "adadb00a",
   "metadata": {},
   "source": [
    "\n",
    "- IP 주소는 컴퓨터 네트워크에서 다른 장치들과 통신하기 위해 사용되는 주소입니다. \n",
    "\n",
    "- 127.0.0.1은 자기 자신을 가리키는 로컬 호스트(local host)를 가리키는 IP 주소로, 로컬 컴퓨터 내에서 실행 중인 프로그램이 자신의 IP 주소로 127.0.0.1을 사용하여 자신에게 요청을 보낼 수 있습니다.\n",
    "\n",
    "- Flask의 app.run() 함수에서 \"127.0.0.1\"을 인자로 넘겨주면, Flask 애플리케이션을 실행하고 로컬 호스트에서만 접근할 수 있도록 설정합니다. \n",
    "\n",
    "- 따라서 이 코드에서 Flask 애플리케이션은 로컬 컴퓨터 내에서만 실행됩니다."
   ]
  },
  {
   "cell_type": "markdown",
   "id": "2f594d2d",
   "metadata": {},
   "source": [
    "---"
   ]
  },
  {
   "cell_type": "markdown",
   "id": "24602ca3",
   "metadata": {},
   "source": [
    "## Flask\n",
    "\n",
    "- 외부 호스트 허용"
   ]
  },
  {
   "cell_type": "code",
   "execution_count": 4,
   "id": "e1028804",
   "metadata": {},
   "outputs": [
    {
     "name": "stdout",
     "output_type": "stream",
     "text": [
      " * Serving Flask app 'JobScrapper'\n",
      " * Debug mode: off\n"
     ]
    },
    {
     "name": "stderr",
     "output_type": "stream",
     "text": [
      "\u001b[31m\u001b[1mWARNING: This is a development server. Do not use it in a production deployment. Use a production WSGI server instead.\u001b[0m\n",
      " * Running on all addresses (0.0.0.0)\n",
      " * Running on http://127.0.0.1:8000\n",
      " * Running on http://172.30.1.43:8000\n",
      "\u001b[33mPress CTRL+C to quit\u001b[0m\n",
      "172.30.1.43 - - [24/May/2023 16:29:21] \"GET / HTTP/1.1\" 200 -\n",
      "172.30.1.43 - - [24/May/2023 16:29:21] \"\u001b[33mGET /favicon.ico HTTP/1.1\u001b[0m\" 404 -\n"
     ]
    }
   ],
   "source": [
    "from flask import Flask\n",
    "\n",
    "# Flask 클래스의 인스턴스를 만들고, \"JobScrapper\"라는 이름을 부여하여 app 변수에 할당합니다\n",
    "app = Flask(\"JobScrapper\")\n",
    "\n",
    "\n",
    "# 이 경로는 Flask 애플리케이션의 루트 경로입니다.\n",
    "# home() 함수를 '/' 경로로 연결합니다. \n",
    "\n",
    "@app.route(\"/\")\n",
    "def home():\n",
    "    return \"hello flask\"\n",
    "\n",
    "# 모든 IP 허용 0.0.0.0\n",
    "app.run(host='0.0.0.0', port=8000)"
   ]
  },
  {
   "cell_type": "markdown",
   "id": "920c17da",
   "metadata": {},
   "source": [
    "- host='0.0.0.0'는 모든 IP 주소에서 들어오는 요청을 수락하도록 설정하는 것이며, 이렇게 설정하면 로컬 뿐만 아니라 외부 호스트에서도 Flask 애플리케이션에 접근할 수 있습니다."
   ]
  },
  {
   "cell_type": "markdown",
   "id": "c75a6a62",
   "metadata": {},
   "source": [
    "---"
   ]
  },
  {
   "cell_type": "markdown",
   "id": "8de3bf2b",
   "metadata": {},
   "source": [
    "## URL 이동"
   ]
  },
  {
   "cell_type": "code",
   "execution_count": 7,
   "id": "294051c1",
   "metadata": {},
   "outputs": [
    {
     "name": "stdout",
     "output_type": "stream",
     "text": [
      " * Serving Flask app 'JobScrapper'\n",
      " * Debug mode: off\n"
     ]
    },
    {
     "name": "stderr",
     "output_type": "stream",
     "text": [
      "\u001b[31m\u001b[1mWARNING: This is a development server. Do not use it in a production deployment. Use a production WSGI server instead.\u001b[0m\n",
      " * Running on all addresses (0.0.0.0)\n",
      " * Running on http://127.0.0.1:8000\n",
      " * Running on http://172.30.1.43:8000\n",
      "\u001b[33mPress CTRL+C to quit\u001b[0m\n",
      "172.30.1.43 - - [24/May/2023 16:31:11] \"GET / HTTP/1.1\" 200 -\n",
      "172.30.1.43 - - [24/May/2023 16:31:13] \"GET /hello HTTP/1.1\" 200 -\n"
     ]
    }
   ],
   "source": [
    "from flask import Flask\n",
    "\n",
    "# Flask 클래스의 인스턴스를 만들고, \"JobScrapper\"라는 이름을 부여하여 app 변수에 할당합니다\n",
    "app = Flask(\"JobScrapper\")\n",
    "\n",
    "\n",
    "# 이 경로는 Flask 애플리케이션의 루트 경로입니다.\n",
    "# home() 함수를 '/' 경로로 연결합니다. \n",
    "# <a> 태그로 \"/hello\" 경로로 이동할 수 있는 링크를 포함하고 있습니다.\n",
    "\n",
    "@app.route(\"/\")\n",
    "def home():\n",
    "    return \"<h1>home</h1> <a href = '/hello'> go to site </a>\"\n",
    "\n",
    "# /hello 루트\n",
    "@app.route('/hello')\n",
    "def hello():\n",
    "    return 'hello flask'\n",
    "\n",
    "app.run(host='0.0.0.0', port=8000)"
   ]
  },
  {
   "cell_type": "markdown",
   "id": "672b45d4",
   "metadata": {},
   "source": [
    "- 서버로서, Pause 전까지 종료 x, 유저에 request를 대기하고 있는 상태"
   ]
  },
  {
   "cell_type": "markdown",
   "id": "cd50753d",
   "metadata": {},
   "source": [
    "---"
   ]
  },
  {
   "cell_type": "markdown",
   "id": "49ab3bf3",
   "metadata": {},
   "source": [
    "## flask html return\n",
    "\n",
    "templates 폴더"
   ]
  },
  {
   "cell_type": "code",
   "execution_count": 9,
   "id": "404d8996",
   "metadata": {},
   "outputs": [
    {
     "name": "stdout",
     "output_type": "stream",
     "text": [
      " * Serving Flask app 'JobScrapper'\n",
      " * Debug mode: off\n"
     ]
    },
    {
     "name": "stderr",
     "output_type": "stream",
     "text": [
      "\u001b[31m\u001b[1mWARNING: This is a development server. Do not use it in a production deployment. Use a production WSGI server instead.\u001b[0m\n",
      " * Running on all addresses (0.0.0.0)\n",
      " * Running on http://127.0.0.1:8000\n",
      " * Running on http://172.30.1.43:8000\n",
      "\u001b[33mPress CTRL+C to quit\u001b[0m\n",
      "172.30.1.43 - - [24/May/2023 16:33:32] \"GET / HTTP/1.1\" 200 -\n"
     ]
    }
   ],
   "source": [
    "from flask import Flask\n",
    "from flask import render_template\n",
    "\n",
    "\n",
    "# Flask 클래스의 인스턴스를 만들고, \"JobScrapper\"라는 이름을 부여하여 app 변수에 할당합니다\n",
    "app = Flask(\"JobScrapper\")\n",
    "\n",
    "\n",
    "# HTML 리턴하여, 유저에게 HTML을 보낼수 있음.\n",
    "@app.route(\"/\")\n",
    "def home():\n",
    "    return render_template('home.html')\n",
    "\n",
    "\n",
    "app.run(host='0.0.0.0', port=8000)"
   ]
  },
  {
   "cell_type": "markdown",
   "id": "35562ebe",
   "metadata": {},
   "source": [
    "---"
   ]
  },
  {
   "cell_type": "markdown",
   "id": "82d45671",
   "metadata": {},
   "source": [
    "## Rendering Templates\n",
    "\n",
    "- html 에 변수 처리 후, html 생성해서 유저에게 보내줌 : 랜더링"
   ]
  },
  {
   "cell_type": "markdown",
   "id": "534d6825",
   "metadata": {},
   "source": [
    "flask 는 `templates`  라는 이름의 폴더를 찾음. \n",
    "\n",
    "- 다른 이름 x\n",
    "- 파일 위치는 main 과 같은 위치에 있어야 함.\n",
    "\n",
    "이 때 main.py 는 백엔드임\n",
    "\n",
    "백엔드에서 파라미터 로 보낸 데이터는, 백엔드에서 부터 전달되고 있는 거\n",
    "\n",
    "flask 에서는 user 가 홈페이지로 오면, flask 는  html 파일을 가져다가, 변수 name 값으로 바꿔줌\n",
    "반영됨 정적 -> 동적\n",
    "\n",
    "request 가 도착하면 Flask는 변수를 가져다가 HTML templates 안에 있는 변수를 가져온것으로 replace하고, 그렇게 만들어진 `결과의 HTML` 이 user에게 전달됨 : rendering\n",
    "\n",
    "\n",
    "flask 는 주어진 변수를 모두 replace 하면서 이 템플릿을 렌더링해줘."
   ]
  },
  {
   "cell_type": "markdown",
   "id": "4e69878a",
   "metadata": {},
   "source": [
    "---"
   ]
  },
  {
   "cell_type": "markdown",
   "id": "f3b97c75",
   "metadata": {},
   "source": [
    "## HTML 에 변수 넣기\n",
    "\n"
   ]
  },
  {
   "cell_type": "code",
   "execution_count": 10,
   "id": "f8b7f74e",
   "metadata": {},
   "outputs": [
    {
     "name": "stdout",
     "output_type": "stream",
     "text": [
      " * Serving Flask app 'JobScrapper'\n",
      " * Debug mode: off\n"
     ]
    },
    {
     "name": "stderr",
     "output_type": "stream",
     "text": [
      "\u001b[31m\u001b[1mWARNING: This is a development server. Do not use it in a production deployment. Use a production WSGI server instead.\u001b[0m\n",
      " * Running on all addresses (0.0.0.0)\n",
      " * Running on http://127.0.0.1:8000\n",
      " * Running on http://172.30.1.43:8000\n",
      "\u001b[33mPress CTRL+C to quit\u001b[0m\n",
      "172.30.1.43 - - [24/May/2023 16:34:12] \"GET / HTTP/1.1\" 200 -\n",
      "172.30.1.43 - - [24/May/2023 16:34:14] \"\u001b[33mGET /search?keyword=hello HTTP/1.1\u001b[0m\" 404 -\n"
     ]
    }
   ],
   "source": [
    "# main.py\n",
    "\n",
    "from flask import Flask\n",
    "from flask import render_template\n",
    "\n",
    "\n",
    "# Flask 클래스의 인스턴스를 만들고, \"JobScrapper\"라는 이름을 부여하여 app 변수에 할당합니다\n",
    "app = Flask(\"JobScrapper\")\n",
    "\n",
    "\n",
    "# HTML 리턴하여, 유저에게 HTML을 보낼수 있음.\n",
    "@app.route(\"/\")\n",
    "def home():\n",
    "    return render_template('home.html', name='DAEHEE')\n",
    "\n",
    "\n",
    "# /hello 루트\n",
    "@app.route('/hello')\n",
    "def hello():\n",
    "    return 'hello flask'\n",
    "\n",
    "app.run(host='0.0.0.0', port=8000)"
   ]
  },
  {
   "cell_type": "markdown",
   "id": "51f8c984",
   "metadata": {
    "variables": {
     " 변수명 ": {}
    }
   },
   "source": [
    "main.py 파일은 Flask 애플리케이션의 백엔드 역할을 담당하는 파일입니다.\n",
    "\n",
    "클라이언트 측에서 백엔드로 전송한 파라미터는 Flask에서 request 객체를 통해 접근할 수 있습니다. \n",
    "\n",
    "이렇게 접근한 파라미터는 Flask 애플리케이션 내에서 다양한 처리를 거쳐 데이터베이스에 저장하거나, 다른 API를 호출하거나, 다른 처리를 수행할 수 있습니다.\n",
    "\n",
    "---\n",
    "Flask는 템플릿 엔진을 내장하고 있어서, HTML 템플릿 파일을 이용하여 동적인 웹 페이지를 생성할 수 있습니다. \n",
    "\n",
    "Flask는 render_template() 함수를 통해 HTML 템플릿 파일을 렌더링하며, 이 과정에서 변수 값을 전달하여 동적인 웹 페이지를 생성합니다.\n",
    "\n",
    "예를 들어, Flask 애플리케이션에서 render_template() 함수를 호출할 때, HTML 템플릿 파일에 전달할 변수 값을 딕셔너리 형태로 전달할 수 있습니다. \n",
    "\n",
    "이렇게 전달된 변수 값을 HTML 템플릿 파일에서는 {{ 변수명 }}과 같은 형태로 참조하여 사용할 수 있습니다.\n",
    "\n",
    "Flask는 이러한 변수 참조를 템플릿 엔진에서 처리하여, 최종적으로 동적인 HTML 페이지를 생성하고 클라이언트에게 반환합니다. 이걸 템플릿 렌더링 이라고 합니다.\n"
   ]
  },
  {
   "cell_type": "markdown",
   "id": "6060e89f",
   "metadata": {},
   "source": [
    "---"
   ]
  },
  {
   "cell_type": "markdown",
   "id": "1f475be1",
   "metadata": {},
   "source": [
    "## Form\n",
    "\n",
    "\n",
    "\n",
    "- http://192.168.45.142:8000/\n",
    "\n",
    "```.html\n",
    "        <form>\n",
    "            <input type=\"text\" name=\"keyword\" placeholder=\"Write keyword please\"/>\n",
    "            <button>Search</button>\n",
    "        </form>\n",
    "```\n",
    "- `Search` 버튼 클릭 후, 링크 이동 \n",
    "\n",
    "- http://192.168.45.142:8000/?keyword=python"
   ]
  },
  {
   "cell_type": "markdown",
   "id": "39072307",
   "metadata": {},
   "source": [
    "---"
   ]
  },
  {
   "cell_type": "markdown",
   "id": "b7b62a93",
   "metadata": {},
   "source": [
    "## form action \n",
    "\n",
    "- action 은 url 어디로 가는지 설정\n",
    "\n",
    "\n",
    "- http://192.168.45.142:8000/\n",
    "\n",
    "```.html\n",
    "        <form action = \"/search\">\n",
    "            <input type=\"text\" name=\"keyword\" placeholder=\"Write keyword please\"/>\n",
    "            <button>Search</button>\n",
    "        </form>\n",
    "```\n",
    "\n",
    "- `Search` 버튼 클릭 후, 링크 이동 \n",
    "\n",
    "- http://192.168.45.142:8000/search?keyword=python"
   ]
  },
  {
   "cell_type": "markdown",
   "id": "c370d69e",
   "metadata": {},
   "source": [
    "---"
   ]
  },
  {
   "cell_type": "code",
   "execution_count": 11,
   "id": "e11f6b9a",
   "metadata": {},
   "outputs": [
    {
     "name": "stdout",
     "output_type": "stream",
     "text": [
      " * Serving Flask app 'JobScrapper'\n",
      " * Debug mode: off\n"
     ]
    },
    {
     "name": "stderr",
     "output_type": "stream",
     "text": [
      "\u001b[31m\u001b[1mWARNING: This is a development server. Do not use it in a production deployment. Use a production WSGI server instead.\u001b[0m\n",
      " * Running on all addresses (0.0.0.0)\n",
      " * Running on http://127.0.0.1:8000\n",
      " * Running on http://172.30.1.43:8000\n",
      "\u001b[33mPress CTRL+C to quit\u001b[0m\n",
      "172.30.1.43 - - [24/May/2023 16:35:58] \"GET / HTTP/1.1\" 200 -\n",
      "172.30.1.43 - - [24/May/2023 16:36:01] \"GET /search?keyword=python HTTP/1.1\" 200 -\n"
     ]
    }
   ],
   "source": [
    "# main.py\n",
    "\n",
    "from flask import Flask\n",
    "from flask import render_template\n",
    "\n",
    "\n",
    "# Flask 클래스의 인스턴스를 만들고, \"JobScrapper\"라는 이름을 부여하여 app 변수에 할당합니다\n",
    "app = Flask(\"JobScrapper\")\n",
    "\n",
    "\n",
    "# HTML 리턴하여, 유저에게 HTML을 보낼수 있음.\n",
    "@app.route(\"/\")\n",
    "def home():\n",
    "    return render_template('home.html', name='DAEHEE')\n",
    "\n",
    "\n",
    "# /hello 루트\n",
    "@app.route('/search')\n",
    "def search():\n",
    "    return '/search?keyword=python page'\n",
    "\n",
    "app.run(host='0.0.0.0', port=8000)"
   ]
  },
  {
   "cell_type": "markdown",
   "id": "9ac91d5a",
   "metadata": {},
   "source": [
    "---"
   ]
  },
  {
   "cell_type": "markdown",
   "id": "1b544f98",
   "metadata": {},
   "source": [
    "---"
   ]
  },
  {
   "cell_type": "markdown",
   "id": "486ccabd",
   "metadata": {},
   "source": [
    "## Request \n",
    "\n",
    "request는 브라우저가 웹사이트에 가서 컨텐츠를 요청하는것\n",
    "\n",
    "request 안에는 많은 정보가 있음\n",
    "  \n",
    "   - 요청하고 있는 url 주소가 무엇인지\n",
    "   - ip주소\n",
    "   - 쿠키 를가지고 있는지\n",
    "\n",
    "- Argument\n"
   ]
  },
  {
   "cell_type": "code",
   "execution_count": 13,
   "id": "4adb1ee9",
   "metadata": {},
   "outputs": [
    {
     "name": "stdout",
     "output_type": "stream",
     "text": [
      " * Serving Flask app 'JobScrapper'\n",
      " * Debug mode: off\n"
     ]
    },
    {
     "name": "stderr",
     "output_type": "stream",
     "text": [
      "\u001b[31m\u001b[1mWARNING: This is a development server. Do not use it in a production deployment. Use a production WSGI server instead.\u001b[0m\n",
      " * Running on all addresses (0.0.0.0)\n",
      " * Running on http://127.0.0.1:8000\n",
      " * Running on http://172.30.1.43:8000\n",
      "\u001b[33mPress CTRL+C to quit\u001b[0m\n",
      "172.30.1.43 - - [24/May/2023 16:38:28] \"GET / HTTP/1.1\" 200 -\n",
      "172.30.1.43 - - [24/May/2023 16:38:31] \"GET /search?keyword=next HTTP/1.1\" 200 -\n"
     ]
    },
    {
     "name": "stdout",
     "output_type": "stream",
     "text": [
      "ImmutableMultiDict([('keyword', 'next')])\n",
      "next\n"
     ]
    }
   ],
   "source": [
    "# main.py\n",
    "\n",
    "from flask import Flask\n",
    "from flask import render_template\n",
    "from flask import request\n",
    "\n",
    "\n",
    "# Flask 클래스의 인스턴스를 만들고, \"JobScrapper\"라는 이름을 부여하여 app 변수에 할당합니다\n",
    "app = Flask(\"JobScrapper\")\n",
    "\n",
    "\n",
    "# HTML 리턴하여, 유저에게 HTML을 보낼수 있음.\n",
    "@app.route(\"/\")\n",
    "def home():\n",
    "    return render_template('home.html', name='DAEHEE')\n",
    "\n",
    "\n",
    "# /hello 루트\n",
    "@app.route('/search')\n",
    "def search():\n",
    "    \n",
    "    # main, 백엔드에서 처리 \n",
    "    print(request.args)\n",
    "    print(request.args['keyword'])\n",
    "    \n",
    "\n",
    "    # keyword 를 템플릿으로 보내기\n",
    "    keyword = request.args.get('keyword')     # keyword = request.args['keyword']\n",
    "    return render_template('search.html',keyword = keyword)\n",
    "\n",
    "app.run(host='0.0.0.0', port=8000)"
   ]
  },
  {
   "cell_type": "markdown",
   "id": "c8481182",
   "metadata": {},
   "source": [
    "- request 의 args에서 keyword를 가져와서,\n",
    "- 즉 URL 의 ? 뒤에있는 arguments에서 keyword를 가져와서\n",
    "- 그 keyword를 search.html 로 보내서\n",
    "- {{}} 로 받은 search.html을 생성해서 유저에게 전송 "
   ]
  },
  {
   "cell_type": "markdown",
   "id": "6bdaed24",
   "metadata": {},
   "source": [
    "---"
   ]
  },
  {
   "cell_type": "markdown",
   "id": "5454dd86",
   "metadata": {
    "variables": {
     "job.compnay": {},
     "job.link": {},
     "job.location": {},
     "job.position": {}
    }
   },
   "source": [
    "## Refactoring\n",
    "\n",
    "- 백엔드 main.py 에서 URL 정보 가져와서 이전에 만들었던 함수들 실행 후, jobs 리스트 생성\n",
    "\n",
    "- keyword,jobs 리스트를 search.html로 전송\n",
    "\n",
    "- flask 문법\n",
    "\n",
    "\n",
    "```.html\n",
    "\n",
    "        {% for job in jobs %}\n",
    "        <div>\n",
    "            <span>{{job.position}}</span>\n",
    "            <span>{{job.compnay}}</span>\n",
    "            <span>{{job.location}}</span>\n",
    "            <a href = \"{{job.link}}\" target=\"_blank\">Apply now &rarr;</a>\n",
    "        </div>\n",
    "        {% endfor %}\n",
    "        \n",
    "\n",
    "```"
   ]
  },
  {
   "cell_type": "code",
   "execution_count": null,
   "id": "c5cde688",
   "metadata": {},
   "outputs": [
    {
     "name": "stdout",
     "output_type": "stream",
     "text": [
      " * Serving Flask app 'JobScrapper'\n",
      " * Debug mode: off\n"
     ]
    },
    {
     "name": "stderr",
     "output_type": "stream",
     "text": [
      "\u001b[31m\u001b[1mWARNING: This is a development server. Do not use it in a production deployment. Use a production WSGI server instead.\u001b[0m\n",
      " * Running on all addresses (0.0.0.0)\n",
      " * Running on http://127.0.0.1:8000\n",
      " * Running on http://172.30.1.43:8000\n",
      "\u001b[33mPress CTRL+C to quit\u001b[0m\n",
      "172.30.1.43 - - [25/May/2023 15:45:47] \"GET / HTTP/1.1\" 200 -\n"
     ]
    },
    {
     "name": "stdout",
     "output_type": "stream",
     "text": [
      "Request url : https://kr.indeed.com/jobs?q=python&start=0\n",
      "Request url : https://kr.indeed.com/jobs?q=python&start=10\n",
      "Request url : https://kr.indeed.com/jobs?q=python&start=20\n",
      "Request url : https://kr.indeed.com/jobs?q=python&start=30\n",
      "Request url : https://kr.indeed.com/jobs?q=python&start=40\n"
     ]
    },
    {
     "name": "stderr",
     "output_type": "stream",
     "text": [
      "172.30.1.43 - - [25/May/2023 15:46:15] \"GET /search?keyword=python HTTP/1.1\" 200 -\n"
     ]
    }
   ],
   "source": [
    "from bs4 import BeautifulSoup\n",
    "from selenium import webdriver\n",
    "from selenium.webdriver.chrome.options import Options\n",
    "\n",
    "\n",
    "from extract.indeed import extract_indeed_jobs\n",
    "from extract.wwr import extract_jobs\n",
    "from extract.file import save_to_file\n",
    "\n",
    "# main.py\n",
    "from flask import Flask\n",
    "from flask import render_template\n",
    "from flask import request\n",
    "\n",
    "\n",
    "# Flask 클래스의 인스턴스를 만들고, \"JobScrapper\"라는 이름을 부여하여 app 변수에 할당합니다\n",
    "app = Flask(\"JobScrapper\")\n",
    "\n",
    "\n",
    "# HTML 리턴하여, 유저에게 HTML을 보낼수 있음.\n",
    "@app.route(\"/\")\n",
    "def home():\n",
    "    return render_template('home.html', name='DAEHEE')\n",
    "\n",
    "\n",
    "# /hello 루트\n",
    "@app.route('/search')\n",
    "def search():\n",
    "    \n",
    "    # URL 정보 가져오기\n",
    "    keyword = request.args.get('keyword')     # keyword = request.args['keyword']\n",
    "    \n",
    "    wwr = extract_jobs(keyword)\n",
    "    indeed = extract_indeed_jobs(keyword)\n",
    "    jobs = wwr + indeed\n",
    "    \n",
    "    \n",
    "    # keyword, jobs 리스트 를 템플릿으로 보내기\n",
    "    return render_template('search.html',keyword = keyword, jobs=jobs)\n",
    "\n",
    "app.run(host='0.0.0.0', port=8000)"
   ]
  },
  {
   "cell_type": "markdown",
   "id": "6d979629",
   "metadata": {},
   "source": [
    "---"
   ]
  },
  {
   "cell_type": "markdown",
   "id": "bea3fd5e",
   "metadata": {},
   "source": [
    "## CSS - pico\n",
    "\n",
    "- https://picocss.com/"
   ]
  },
  {
   "cell_type": "markdown",
   "id": "b577414d",
   "metadata": {},
   "source": [
    "---"
   ]
  },
  {
   "cell_type": "markdown",
   "id": "01efa040",
   "metadata": {},
   "source": [
    "## more \n",
    "\n",
    "- wwr Request url\n",
    "\n",
    "- wwr position\n",
    "\n",
    "- \"의 세부 정보\" 데이터 처리"
   ]
  },
  {
   "cell_type": "code",
   "execution_count": 39,
   "id": "875ae5c7",
   "metadata": {},
   "outputs": [],
   "source": [
    "string = \"google의 전체 세부 정보\""
   ]
  },
  {
   "cell_type": "code",
   "execution_count": 40,
   "id": "5ae3883a",
   "metadata": {},
   "outputs": [
    {
     "data": {
      "text/plain": [
       "'google의 전체 세부 정보'"
      ]
     },
     "execution_count": 40,
     "metadata": {},
     "output_type": "execute_result"
    }
   ],
   "source": [
    "string"
   ]
  },
  {
   "cell_type": "code",
   "execution_count": 41,
   "id": "dbef1454",
   "metadata": {},
   "outputs": [],
   "source": [
    "string = string.replace(\"의 전체 세부 정보\", \" \")"
   ]
  },
  {
   "cell_type": "code",
   "execution_count": 42,
   "id": "e499cb79",
   "metadata": {},
   "outputs": [
    {
     "data": {
      "text/plain": [
       "'google '"
      ]
     },
     "execution_count": 42,
     "metadata": {},
     "output_type": "execute_result"
    }
   ],
   "source": [
    "string"
   ]
  },
  {
   "cell_type": "code",
   "execution_count": 54,
   "id": "e5bff6a4",
   "metadata": {},
   "outputs": [
    {
     "data": {
      "text/plain": [
       "'구글의 전체 세부 정보'"
      ]
     },
     "execution_count": 54,
     "metadata": {},
     "output_type": "execute_result"
    }
   ],
   "source": [
    "string = \"구글의 전체 세부 정보\"\n",
    "string"
   ]
  },
  {
   "cell_type": "code",
   "execution_count": 55,
   "id": "ad313b86",
   "metadata": {},
   "outputs": [],
   "source": [
    "string = string.replace(\"구글\", \" \")"
   ]
  },
  {
   "cell_type": "code",
   "execution_count": 56,
   "id": "f015ee03",
   "metadata": {},
   "outputs": [
    {
     "data": {
      "text/plain": [
       "' 의 전체 세부 정보'"
      ]
     },
     "execution_count": 56,
     "metadata": {},
     "output_type": "execute_result"
    }
   ],
   "source": [
    "string"
   ]
  },
  {
   "cell_type": "markdown",
   "id": "1d3a0969",
   "metadata": {},
   "source": [
    "---"
   ]
  },
  {
   "cell_type": "markdown",
   "id": "300a1947",
   "metadata": {},
   "source": [
    "## 정리\n",
    "\n",
    "\n",
    "\n",
    "BeautifulSoup: HTML 및 XML 문서를 파싱하여 데이터를 추출하는 파이썬 라이브러리입니다.\n",
    "\n",
    "selenium: 웹 페이지를 자동으로 조작하고 데이터를 스크래핑하기 위한 라이브러리입니다.\n",
    "\n",
    "webdriver: selenium의 일부로, 웹 드라이버를 제어하여 웹 브라우저를 자동화하는 데 사용됩니다.\n",
    "\n",
    "Options (selenium.webdriver.chrome.options): Chrome 웹 드라이버의 옵션을 설정하기 위한 클래스입니다.\n",
    "\n",
    "extract_indeed_jobs(keyword) 함수는 다음과 같은 주요 단계로 구성되어 있습니다:\n",
    "\n",
    "get_page_count(keyword) 함수를 호출하여 키워드에 해당하는 페이지 수를 가져옵니다.\n",
    "페이지 수만큼 반복하는 루프를 실행합니다.\n",
    "Chrome 웹 드라이버를 생성하고 설정합니다.\n",
    "검색할 키워드와 함께 Indeed.com의 기본 URL에 접속합니다.\n",
    "Selenium을 사용하여 웹 페이지의 소스 코드를 가져와서 BeautifulSoup으로 파싱합니다.\n",
    "job_list에서 공고 정보가 포함된 li 태그를 찾습니다.\n",
    "각각의 공고 정보에 대해 필요한 데이터(제목, 링크, 회사, 위치)를 추출합니다.\n",
    "추출된 데이터를 딕셔너리 형태로 만들어 results 리스트에 추가합니다.\n",
    "results 리스트의 각 항목을 출력합니다.\n",
    "\n",
    "\n",
    "이 코드는 Indeed.com에서 검색한 결과 페이지의 HTML을 가져와서 BeautifulSoup를 사용하여 원하는 정보를 추출하는 방법을 보여줍니다. \n",
    "\n",
    "Selenium을 사용하여 브라우저를 자동화하므로 JavaScript로 렌더링되는 동적 콘텐츠에도 접근할 수 있습니다."
   ]
  },
  {
   "cell_type": "markdown",
   "id": "6447ba1c",
   "metadata": {},
   "source": [
    "---"
   ]
  },
  {
   "cell_type": "markdown",
   "id": "e3d8e96b",
   "metadata": {},
   "source": [
    "\n",
    "\"search.html\" 템플릿을 렌더링하고, 템플릿에 keyword와 jobs 리스트를 전달합니다.\n",
    "\n",
    "app.run()을 호출하여 Flask 애플리케이션을 실행합니다. 서버는 \"0.0.0.0\" 주소와 8000 포트에서 실행됩니다.\n",
    "이를 통해 Flask 웹 애플리케이션을 구성하고, 사용자가 \"/search\" 경로로 요청을 보내면 특정 키워드로 검색한 채용 공고를 템플릿에 표시하여 보여줍니다.\n",
    "\n",
    "Flask는 이러한 변수 참조를 템플릿 엔진에서 처리하여, 최종적으로 동적인 HTML 페이지를 생성하고 클라이언트에게 반환합니다. 이걸 템플릿 렌더링 이라고 합니다\n",
    "\n",
    "템플릿 파일을 렌더링하며, 이 과정에서 변수 값을 전달하여 동적인 웹 페이지를 생성합니다\n",
    "\n",
    "사용자가 입력한 키워드를 받아 데이터를 추출한 후, 템플릿 파일에 키워드와 추출한 작업 리스트를 전달하여 동적인 웹 페이지를 생성"
   ]
  },
  {
   "cell_type": "markdown",
   "id": "eafcf079",
   "metadata": {},
   "source": [
    "---"
   ]
  },
  {
   "cell_type": "markdown",
   "id": "cf278532",
   "metadata": {},
   "source": [
    "해당 프로젝트는 BeautifulSoup, Selenium, 그리고 Flask 프레임워크를 조합하여 개발한 웹 스크래퍼입니다.\n",
    "\n",
    "프로젝트의 목표는 특정 키워드로 검색한 웹 페이지에서 데이터를 추출하고, 추출한 데이터를 동적인 웹 페이지로 렌더링하여 사용자에게 제공하는 것이었습니다. \n",
    "\n",
    "이를 위해 BeautifulSoup 라이브러리를 사용하여 HTML 파싱을 수행하고, Selenium을 활용하여 웹 페이지를 자동으로 탐색하고 데이터를 추출하였습니다.\n",
    "\n",
    "또한, 추출한 데이터를 저장하기 위해 CSV 파일 형식으로 저장하였습니다. 이를 통해 추출한 데이터를 손쉽게 관리하고 활용할 수 있었습니다.\n",
    "\n",
    "뿐만 아니라, Flask 프레임워크를 사용하여 템플릿 렌더링을 구현하였습니다. 동적인 데이터를 적용한 HTML 템플릿을 생성하여 사용자에게 동적인 웹 페이지를 제공할 수 있었습니다. 이를 통해 사용자들은 키워드 검색 결과를 시각적으로 확인하고 필요한 정보를 쉽게 찾을 수 있게 되었습니다.\n",
    "\n",
    "이 프로젝트를 통해 웹 스크래핑, 데이터 추출, 템플릿 렌더링 등의 기술을 실제로 적용하고 학습하였습니다. \n",
    "\n",
    "또한, 프로젝트를 진행하면서 문제를 해결하고 성과를 얻는 과정에서 문제 해결 능력과 창의성을 기를 수 있었습니다.\n",
    "\n"
   ]
  },
  {
   "cell_type": "markdown",
   "id": "a8cff38e",
   "metadata": {},
   "source": [
    "---"
   ]
  }
 ],
 "metadata": {
  "kernelspec": {
   "display_name": "Python 3 (ipykernel)",
   "language": "python",
   "name": "python3"
  },
  "language_info": {
   "codemirror_mode": {
    "name": "ipython",
    "version": 3
   },
   "file_extension": ".py",
   "mimetype": "text/x-python",
   "name": "python",
   "nbconvert_exporter": "python",
   "pygments_lexer": "ipython3",
   "version": "3.8.16"
  },
  "toc": {
   "base_numbering": 1,
   "nav_menu": {},
   "number_sections": true,
   "sideBar": true,
   "skip_h1_title": false,
   "title_cell": "Table of Contents",
   "title_sidebar": "Contents",
   "toc_cell": false,
   "toc_position": {
    "height": "calc(100% - 180px)",
    "left": "10px",
    "top": "150px",
    "width": "262.390625px"
   },
   "toc_section_display": true,
   "toc_window_display": true
  },
  "varInspector": {
   "cols": {
    "lenName": 16,
    "lenType": 16,
    "lenVar": 40
   },
   "kernels_config": {
    "python": {
     "delete_cmd_postfix": "",
     "delete_cmd_prefix": "del ",
     "library": "var_list.py",
     "varRefreshCmd": "print(var_dic_list())"
    },
    "r": {
     "delete_cmd_postfix": ") ",
     "delete_cmd_prefix": "rm(",
     "library": "var_list.r",
     "varRefreshCmd": "cat(var_dic_list()) "
    }
   },
   "types_to_exclude": [
    "module",
    "function",
    "builtin_function_or_method",
    "instance",
    "_Feature"
   ],
   "window_display": false
  }
 },
 "nbformat": 4,
 "nbformat_minor": 5
}
