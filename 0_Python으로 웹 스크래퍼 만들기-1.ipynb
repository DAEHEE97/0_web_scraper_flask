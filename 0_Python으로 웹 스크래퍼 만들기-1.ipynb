{
 "cells": [
  {
   "cell_type": "markdown",
   "id": "78050053",
   "metadata": {},
   "source": [
    "# Python으로 웹 스크래퍼 만들기\n",
    "\n",
    "사이트 운영자들은 웹 스크래핑 매우 싫어한다.\n",
    "\n",
    "그래서 봇 인증 프로그램 등을 만들어 작업을 까다롭게 조치를 해두는 경우가 있다. ( 이용약관에도 기입해 두기도 한다. )\n",
    "\n",
    "민감한 사항이 때문에 스크래핑한 내용을 상업적으로 사용할 경우 법적다툼이 벌어질 가능성도 있다.\n",
    "\n",
    "교육 목적 이외에 상업적인 서비스를 만들 생각이라면 참고하자.\n",
    "\n",
    "- https://wikidocs.net/82607"
   ]
  },
  {
   "cell_type": "markdown",
   "id": "e4cde683",
   "metadata": {},
   "source": [
    "\n",
    "- URL Formatting\n",
    "\n",
    "- Requests\n",
    "\n",
    "- [HTTP Status Codes](https://developer.mozilla.org/ko/docs/Web/HTTP/Status)\n",
    "\n",
    "- dictionary\n",
    "\n",
    "- .startswith\n",
    "\n",
    "- f\"{}\"\n",
    "\n",
    "- find_all : list\n",
    "\n",
    "- find : v"
   ]
  },
  {
   "cell_type": "code",
   "execution_count": 1,
   "id": "cddd07ba",
   "metadata": {},
   "outputs": [
    {
     "name": "stdout",
     "output_type": "stream",
     "text": [
      "{'https://google.com': '2xx / successful', 'https://httpstat.us/502': '5xx / server error', 'https://httpstat.us/404': '4xx / client error', 'https://httpstat.us/300': '3xx / redirection ', 'https://httpstat.us/200': '2xx / successful', 'https://httpstat.us/101': '1xx / informational response'}\n"
     ]
    }
   ],
   "source": [
    "from requests import get\n",
    "\n",
    "websites=[\n",
    "    \"google.com\",\n",
    "    \"https://httpstat.us/502\",\n",
    "    \"https://httpstat.us/404\",\n",
    "    \"https://httpstat.us/300\",\n",
    "    \"https://httpstat.us/200\",\n",
    "    \"https://httpstat.us/101\"\n",
    "]\n",
    "\n",
    "\n",
    "results = {}\n",
    "\n",
    "for website in websites:\n",
    "    \n",
    "    if not website.startswith(\"https://\"):\n",
    "        website = f\"https://{website}\"\n",
    "        \n",
    "    \n",
    "    code = get(website).status_code\n",
    "    \n",
    "    if code >= 500:\n",
    "        results[website] = \"5xx / server error\"\n",
    "    elif code >= 400:\n",
    "        results[website] = \"4xx / client error\"\n",
    "    elif code >= 300:\n",
    "        results[website] = \"3xx / redirection \"\n",
    "    elif code >= 200:\n",
    "        results[website] = \"2xx / successful\"\n",
    "    elif code >= 100:\n",
    "        results[website] = \"1xx / informational response\"\n",
    "\n",
    "print(results)"
   ]
  },
  {
   "cell_type": "markdown",
   "id": "74d11a59",
   "metadata": {},
   "source": [
    "---"
   ]
  },
  {
   "cell_type": "code",
   "execution_count": 2,
   "id": "3383a459",
   "metadata": {},
   "outputs": [
    {
     "name": "stdout",
     "output_type": "stream",
     "text": [
      "<!DOCTYPE html><html><head><meta charset=utf-8 /><script>window.NREUM||(NREUM={});NREUM.info={\"beacon\":\"bam.nr-data.net\",\"errorBeacon\":\"bam.nr-data.net\",\"licenseKey\":\"f7ae79e7ca\",\"applicationID\":\"192262830\",\"transactionName\":\"d1gPFhEMXVVWQxwMDVZEThEGAkNaWw==\",\"queueTime\":2,\"applicationTime\":56,\"agent\":\"\"}</script><script>(window.NREUM||(NREUM={})).init={ajax:{deny_list:[\"bam.nr-data.net\"]}};(window.NREUM||(NREUM={})).loader_config={licenseKey:\"f7ae79e7ca\",applicationID:\"192262830\"};;(()=>{\"use strict\";var e,t,n={8768:(e,t,n)=>{n.d(t,{T:()=>r,p:()=>i});const r=/(iPad|iPhone|iPod)/g.test(navigator.userAgent),i=r&&Boolean(\"undefined\"==typeof SharedWorker)},2919:(e,t,n)=>{n.d(t,{P_:()=>h,Mt:()=>p,C5:()=>c,DL:()=>w,OP:()=>N,lF:()=>C,Yu:()=>A,Dg:()=>v,CX:()=>u,GE:()=>y,sU:()=>I});var r={};n.r(r),n.d(r,{agent:()=>x,match:()=>k,version:()=>_});var i=n(6797),o=n(4286);const a={beacon:i.ce.beacon,errorBeacon:i.ce.errorBeacon,licenseKey:void 0,applicationID:void 0,sa:void 0,queueTime:void 0,applicationTime:void 0,ttGuid:void 0,user:void 0,account:void 0,product:void 0,extra:void 0,jsAttributes:{},userAttributes:void 0,atts:void 0,transactionName:void 0,tNamePlain:void 0},s={};function c(e){if(!e)throw new Error(\"All info objects require an agent identifier!\");if(!s[e])throw new Error(\"Info for \".concat(e,\" was never set\"));return s[e]}function u(e,t){if(!e)throw new Error(\"All info objects require an agent identifier!\");s[e]=new o.I(t,a),(0,i.Qy)(e,s[e],\"info\")}var d=n(2797),f=n(2374);const l={allow_bfcache:!0,privacy:{cookies_enabled:!0},ajax:{deny_list:void 0,enabled:!0,harvestTimeSeconds:10},distributed_tracing:{enabled:void 0,exclude_newrelic_header:void 0,cors_use_newrelic_header:void 0,cors_use_tracecontext_headers:void 0,allowed_origins:void 0},session:{domain:void 0,expiresMs:d.oD,inactiveMs:d.Hb},ssl:void 0,obfuscate:void 0,jserrors:{enabled:!0,harvestTimeSeconds:10},metrics:{enabled:!0},page_action:{enabled:!0,harvestTimeSeconds:30},page_view_event:{enabled:!0},page_view_timing:{enabled:!0,harvestTimeSeconds:30,long_task:!1},session_trace:{enabled:!0,harvestTimeSeconds:10},spa:{enabled:!0,harvestTimeSeconds:10}},g={};function h(e){if(!e)throw new Error(\"All configuration objects require an agent identifier!\");if(!g[e])throw new Error(\"Configuration for \".concat(e,\" was never set\"));return g[e]}function v(e,t){if(!e)throw new Error(\"All configuration objects require an agent identifier!\");g[e]=new o.I(t,l),(0,i.Qy)(e,g[e],\"config\")}function p(e,t){if(!e)throw new Error(\"All configuration objects require an agent identifier!\");var n=h(e);if(n){for(var r=t.split(\".\"),i=0;i<r.length-1;i++)if(\"object\"!=typeof(n=n[r[i]]))return;n=n[r[r.length-1]]}return n}const m={accountID:void 0,trustKey:void 0,agentID:void 0,licenseKey:void 0,applicationID:void 0,xpid:void 0},b={};function w(e){if(!e)throw new Error(\"All loader-config objects require an agent identifier!\");if(!b[e])throw new Error(\"LoaderConfig for \".concat(e,\" was never set\"));return b[e]}function y(e,t){if(!e)throw new Error(\"All loader-config objects require an agent identifier!\");b[e]=new o.I(t,m),(0,i.Qy)(e,b[e],\"loader_config\")}const A=(0,i.mF)().o;var x=null,_=null;const j=/Version\\/(\\S+)\\s+Safari/;if(navigator.userAgent){var D=navigator.userAgent,E=D.match(j);E&&-1===D.indexOf(\"Chrome\")&&-1===D.indexOf(\"Chromium\")&&(x=\"Safari\",_=E[1])}function k(e,t){if(!x)return!1;if(e!==x)return!1;if(!t)return!0;if(!_)return!1;for(var n=_.split(\".\"),r=t.split(\".\"),i=0;i<r.length;i++)if(r[i]!==n[i])return!1;return!0}var S=n(1651);const T={buildEnv:S.Re,bytesSent:{},queryBytesSent:{},customTransaction:void 0,disabled:!1,distMethod:S.gF,isolatedBacklog:!1,loaderType:void 0,maxBytes:3e4,offset:Math.floor(f._A?.performance?.timeOrigin||f._A?.performance?.timing?.navigationStart||Date.now()),onerror:void 0,origin:\"\"+f._A.location,ptid:void 0,releaseIds:{},session:void 0,xhrWrappable:\"function\"==typeof f._A.XMLHttpRequest?.prototype?.addEventListener,userAgent:r,version:S.q4},P={};function N(e){if(!e)throw new Error(\"All runtime objects require an agent identifier!\");if(!P[e])throw new Error(\"Runtime for \".concat(e,\" was never set\"));return P[e]}function I(e,t){if(!e)throw new Error(\"All runtime objects require an agent identifier!\");P[e]=new o.I(t,T),(0,i.Qy)(e,P[e],\"runtime\")}function C(e){return function(e){try{const t=c(e);return!!t.licenseKey&&!!t.errorBeacon&&!!t.applicationID}catch(e){return!1}}(e)}},4286:(e,t,n)=>{n.d(t,{I:()=>o});var r=n(909),i=n(8610);class o{constructor(e,t){Object.assign(this,function(e,t){const n={};try{return e&&\"object\"==typeof e?t&&\"object\"==typeof t?(Object.assign(n,t),Object.entries(e).forEach((e=>{let[o,a]=e;if(!Object.keys(t).includes(o))return;const s=(0,r.q)(o);s.length&&a&&\"object\"==typeof a&&s.forEach((e=>{e in a&&((0,i.Z)('\"'.concat(e,'\" is a protected attribute and can not be changed in feature ').concat(o,\".  It will have no effect.\")),delete a[e])})),n[o]=a})),n):(0,i.Z)(\"Setting a Configurable requires a model to set its initial properties\"):(0,i.Z)(\"New setting a Configurable requires an object as input\")}catch(e){(0,i.Z)(\"An error occured while setting a Configurable\",e)}}(e,t))}}},1651:(e,t,n)=>{n.d(t,{Re:()=>i,gF:()=>o,q4:()=>r});const r=\"1.232.0\",i=\"PROD\",o=\"CDN\"},9557:(e,t,n)=>{n.d(t,{w:()=>o});var r=n(8610);const i={agentIdentifier:\"\",ee:void 0};class o{constructor(e){try{if(\"object\"!=typeof e)return(0,r.Z)(\"shared context requires an object as input\");this.sharedContext={},Object.assign(this.sharedContext,i),Object.entries(e).forEach((e=>{let[t,n]=e;Object.keys(i).includes(t)&&(this.sharedContext[t]=n)}))}catch(e){(0,r.Z)(\"An error occured while setting SharedContext\",e)}}}},4329:(e,t,n)=>{n.d(t,{L:()=>d,R:()=>c});var r=n(3752),i=n(7022),o=n(4045),a=n(2325);const s={};function c(e,t){const n={staged:!1,priority:a.p[t]||0};u(e),s[e].get(t)||s[e].set(t,n)}function u(e){e&&(s[e]||(s[e]=new Map))}function d(){let e=arguments.length>0&&void 0!==arguments[0]?arguments[0]:\"\",t=arguments.length>1&&void 0!==arguments[1]?arguments[1]:\"feature\";if(u(e),!e||!s[e].get(t))return a(t);s[e].get(t).staged=!0;const n=Array.from(s[e]);function a(t){const n=e?r.ee.get(e):r.ee,a=o.X.handlers;if(n.backlog&&a){var s=n.backlog[t],c=a[t];if(c){for(var u=0;s&&u<s.length;++u)f(s[u],c);(0,i.D)(c,(function(e,t){(0,i.D)(t,(function(t,n){n[0].on(e,n[1])}))}))}delete a[t],n.backlog[t]=null,n.emit(\"drain-\"+t,[])}}n.every((e=>{let[t,n]=e;return n.staged}))&&(n.sort(((e,t)=>e[1].priority-t[1].priority)),n.forEach((e=>{let[t]=e;a(t)})))}function f(e,t){var n=e[1];(0,i.D)(t[n],(function(t,n){var r=e[0];if(n[0]===r){var i=n[1],o=e[3],a=e[2];i.apply(o,a)}}))}},3752:(e,t,n)=>{n.d(t,{ee:()=>u});var r=n(6797),i=n(3916),o=n(7022),a=n(2919),s=\"nr@context\";let c=(0,r.fP)();var u;function d(){}function f(){return new d}function l(){u.aborted=!0,u.backlog={}}c.ee?u=c.ee:(u=function e(t,n){var r={},c={},g={},h=!1;try{h=16===n.length&&(0,a.OP)(n).isolatedBacklog}catch(e){}var v={on:b,addEventListener:b,removeEventListener:w,emit:m,get:A,listeners:y,context:p,buffer:x,abort:l,aborted:!1,isBuffering:_,debugId:n,backlog:h?{}:t&&\"object\"==typeof t.backlog?t.backlog:{}};return v;function p(e){return e&&e instanceof d?e:e?(0,i.X)(e,s,f):f()}function m(e,n,r,i,o){if(!1!==o&&(o=!0),!u.aborted||i){t&&o&&t.emit(e,n,r);for(var a=p(r),s=y(e),d=s.length,f=0;f<d;f++)s[f].apply(a,n);var l=j()[c[e]];return l&&l.push([v,e,n,a]),a}}function b(e,t){r[e]=y(e).concat(t)}function w(e,t){var n=r[e];if(n)for(var i=0;i<n.length;i++)n[i]===t&&n.splice(i,1)}function y(e){return r[e]||[]}function A(t){return g[t]=g[t]||e(v,t)}function x(e,t){var n=j();v.aborted||(0,o.D)(e,(function(e,r){t=t||\"feature\",c[r]=t,t in n||(n[t]=[])}))}function _(e){return!!j()[c[e]]}function j(){return v.backlog}}(void 0,\"globalEE\"),c.ee=u)},9252:(e,t,n)=>{n.d(t,{E:()=>r,p:()=>i});var r=n(3752).ee.get(\"handle\");function i(e,t,n,i,o){o?(o.buffer([e],i),o.emit(e,t,n)):(r.buffer([e],i),r.emit(e,t,n))}},4045:(e,t,n)=>{n.d(t,{X:()=>o});var r=n(9252);o.on=a;var i=o.handlers={};function o(e,t,n,o){a(o||r.E,i,e,t,n)}function a(e,t,n,i,o){o||(o=\"feature\"),e||(e=r.E);var a=t[o]=t[o]||{};(a[n]=a[n]||[]).push([e,i])}},8544:(e,t,n)=>{n.d(t,{bP:()=>s,iz:()=>c,m$:()=>a});var r=n(2374);let i=!1,o=!1;try{const e={get passive(){return i=!0,!1},get signal(){return o=!0,!1}};r._A.addEventListener(\"test\",null,e),r._A.removeEventListener(\"test\",null,e)}catch(e){}function a(e,t){return i||o?{capture:!!e,passive:i,signal:t}:!!e}function s(e,t){let n=arguments.length>2&&void 0!==arguments[2]&&arguments[2],r=arguments.length>3?arguments[3]:void 0;window.addEventListener(e,t,a(n,r))}function c(e,t){let n=arguments.length>2&&void 0!==arguments[2]&&arguments[2],r=arguments.length>3?arguments[3]:void 0;document.addEventListener(e,t,a(n,r))}},5526:(e,t,n)=>{n.d(t,{Rl:()=>a,ky:()=>s});var r=n(2374);const i=\"xxxxxxxx-xxxx-4xxx-yxxx-xxxxxxxxxxxx\";function o(e,t){return e?15&e[t]:16*Math.random()|0}function a(){const e=r._A?.crypto||r._A?.msCrypto;let t,n=0;return e&&e.getRandomValues&&(t=e.getRandomValues(new Uint8Array(31))),i.split(\"\").map((e=>\"x\"===e?o(t,++n).toString(16):\"y\"===e?(3&o()|8).toString(16):e)).join(\"\")}function s(e){const t=r._A?.crypto||r._A?.msCrypto;let n,i=0;t&&t.getRandomValues&&(n=t.getRandomValues(new Uint8Array(31)));const a=[];for(var s=0;s<e;s++)a.push(o(n,++i).toString(16));return a.join(\"\")}},2797:(e,t,n)=>{n.d(t,{Bq:()=>r,Hb:()=>o,oD:()=>i});const r=\"NRBA\",i=144e5,o=18e5},2053:(e,t,n)=>{function r(){return Math.round(performance.now())}n.d(t,{z:()=>r})},8610:(e,t,n)=>{function r(e,t){\"function\"==typeof console.warn&&(console.warn(\"New Relic: \".concat(e)),t&&console.warn(t))}n.d(t,{Z:()=>r})},3916:(e,t,n)=>{n.d(t,{X:()=>i});var r=Object.prototype.hasOwnProperty;function i(e,t,n){if(r.call(e,t))return e[t];var i=n();if(Object.defineProperty&&Object.keys)try{return Object.defineProperty(e,t,{value:i,writable:!0,enumerable:!1}),i}catch(e){}return e[t]=i,i}},2374:(e,t,n)=>{n.d(t,{_A:()=>o,il:()=>r,v6:()=>i});const r=Boolean(\"undefined\"!=typeof window&&window.document),i=Boolean(\"undefined\"!=typeof WorkerGlobalScope&&self.navigator instanceof WorkerNavigator);let o=(()=>{if(r)return window;if(i){if(\"undefined\"!=typeof globalThis&&globalThis instanceof WorkerGlobalScope)return globalThis;if(self instanceof WorkerGlobalScope)return self}throw new Error('New Relic browser agent shutting down due to error: Unable to locate global scope. This is possibly due to code redefining browser global variables like \"self\" and \"window\".')})()},7022:(e,t,n)=>{n.d(t,{D:()=>r});const r=(e,t)=>Object.entries(e||{}).map((e=>{let[n,r]=e;return t(n,r)}))},2438:(e,t,n)=>{n.d(t,{P:()=>o});var r=n(3752);const i=()=>{const e=new WeakSet;return(t,n)=>{if(\"object\"==typeof n&&null!==n){if(e.has(n))return;e.add(n)}return n}};function o(e){try{return JSON.stringify(e,i())}catch(e){try{r.ee.emit(\"internal-error\",[e])}catch(e){}}}},2650:(e,t,n)=>{n.d(t,{K:()=>a,b:()=>o});var r=n(8544);function i(){return\"undefined\"==typeof document||\"complete\"===document.readyState}function o(e,t){if(i())return e();(0,r.bP)(\"load\",e,t)}function a(e){if(i())return e();(0,r.iz)(\"DOMContentLoaded\",e)}},6797:(e,t,n)=>{n.d(t,{EZ:()=>u,Qy:()=>c,ce:()=>o,fP:()=>a,gG:()=>d,mF:()=>s});var r=n(2053),i=n(2374);const o={beacon:\"bam.nr-data.net\",errorBeacon:\"bam.nr-data.net\"};function a(){return i._A.NREUM||(i._A.NREUM={}),void 0===i._A.newrelic&&(i._A.newrelic=i._A.NREUM),i._A.NREUM}function s(){let e=a();return e.o||(e.o={ST:i._A.setTimeout,SI:i._A.setImmediate,CT:i._A.clearTimeout,XHR:i._A.XMLHttpRequest,REQ:i._A.Request,EV:i._A.Event,PR:i._A.Promise,MO:i._A.MutationObserver,FETCH:i._A.fetch}),e}function c(e,t,n){let i=a();const o=i.initializedAgents||{},s=o[e]||{};return Object.keys(s).length||(s.initializedAt={ms:(0,r.z)(),date:new Date}),i.initializedAgents={...o,[e]:{...s,[n]:t}},i}function u(e,t){a()[e]=t}function d(){return function(){let e=a();const t=e.info||{};e.info={beacon:o.beacon,errorBeacon:o.errorBeacon,...t}}(),function(){let e=a();const t=e.init||{};e.init={...t}}(),s(),function(){let e=a();const t=e.loader_config||{};e.loader_config={...t}}(),a()}},6998:(e,t,n)=>{n.d(t,{N:()=>i});var r=n(8544);function i(e){let t=arguments.length>1&&void 0!==arguments[1]&&arguments[1],n=arguments.length>2?arguments[2]:void 0,i=arguments.length>3?arguments[3]:void 0;return void(0,r.iz)(\"visibilitychange\",(function(){if(t)return void(\"hidden\"==document.visibilityState&&e());e(document.visibilityState)}),n,i)}},6034:(e,t,n)=>{n.d(t,{gF:()=>o,mY:()=>i,t9:()=>r,vz:()=>s,xS:()=>a});const r=n(2325).D.metrics,i=\"sm\",o=\"cm\",a=\"storeSupportabilityMetrics\",s=\"storeEventMetrics\"},2484:(e,t,n)=>{n.d(t,{Dz:()=>i,OJ:()=>a,qw:()=>o,t9:()=>r});const r=n(2325).D.pageViewEvent,i=\"firstbyte\",o=\"domcontent\",a=\"windowload\"},6382:(e,t,n)=>{n.d(t,{t:()=>r});const r=n(2325).D.pageViewTiming},1509:(e,t,n)=>{n.d(t,{W:()=>s});var r=n(2919),i=n(3752),o=n(2384),a=n(6797);class s{constructor(e,t,n){this.agentIdentifier=e,this.aggregator=t,this.ee=i.ee.get(e,(0,r.OP)(this.agentIdentifier).isolatedBacklog),this.featureName=n,this.blocked=!1,this.checkConfiguration()}checkConfiguration(){if(!(0,r.lF)(this.agentIdentifier)){let e={...(0,a.gG)().info?.jsAttributes};try{e={...e,...(0,r.C5)(this.agentIdentifier)?.jsAttributes}}catch(e){}(0,o.j)(this.agentIdentifier,{...(0,a.gG)(),info:{...(0,a.gG)().info,jsAttributes:e}})}}}},2384:(e,t,n)=>{n.d(t,{j:()=>b});var r=n(2325),i=n(2919),o=n(9252),a=n(3752),s=n(2053),c=n(4329),u=n(2650),d=n(2374),f=n(8610),l=n(6034),g=n(6797);function h(){const e=(0,g.gG)();[\"setErrorHandler\",\"finished\",\"addToTrace\",\"inlineHit\",\"addRelease\",\"addPageAction\",\"setCurrentRouteName\",\"setPageViewName\",\"setCustomAttribute\",\"interaction\",\"noticeError\",\"setUserId\"].forEach((t=>{e[t]=function(){for(var n=arguments.length,r=new Array(n),i=0;i<n;i++)r[i]=arguments[i];return function(t){for(var n=arguments.length,r=new Array(n>1?n-1:0),i=1;i<n;i++)r[i-1]=arguments[i];let o=[];return Object.values(e.initializedAgents).forEach((e=>{e.exposed&&e.api[t]&&o.push(e.api[t](...r))})),o.length>1?o:o[0]}(t,...r)}}))}var v=n(7022);const p={stn:[r.D.sessionTrace],err:[r.D.jserrors,r.D.metrics],ins:[r.D.pageAction],spa:[r.D.spa]};const m={};function b(e){let t=arguments.length>1&&void 0!==arguments[1]?arguments[1]:{},b=arguments.length>2?arguments[2]:void 0,w=arguments.length>3?arguments[3]:void 0,{init:y,info:A,loader_config:x,runtime:_={loaderType:b},exposed:j=!0}=t;const D=(0,g.gG)();A||(y=D.init,A=D.info,x=D.loader_config),A.jsAttributes??={},d.v6&&(A.jsAttributes.isWorker=!0),(0,i.CX)(e,A),(0,i.Dg)(e,y||{}),(0,i.GE)(e,x||{}),(0,i.sU)(e,_),h();const E=function(e,t){t||(0,c.R)(e,\"api\");const g={};var h=a.ee.get(e),v=h.get(\"tracer\"),p=\"api-\",m=p+\"ixn-\";function b(t,n,r,o){const a=(0,i.C5)(e);return null===n?delete a.jsAttributes[t]:(0,i.CX)(e,{...a,jsAttributes:{...a.jsAttributes,[t]:n}}),A(p,r,!0,o||null===n?\"session\":void 0)(t,n)}function w(){}[\"setErrorHandler\",\"finished\",\"addToTrace\",\"inlineHit\",\"addRelease\"].forEach((e=>g[e]=A(p,e,!0,\"api\"))),g.addPageAction=A(p,\"addPageAction\",!0,r.D.pageAction),g.setCurrentRouteName=A(p,\"routeName\",!0,r.D.spa),g.setPageViewName=function(t,n){if(\"string\"==typeof t)return\"/\"!==t.charAt(0)&&(t=\"/\"+t),(0,i.OP)(e).customTransaction=(n||\"http://custom.transaction\")+t,A(p,\"setPageViewName\",!0)()},g.setCustomAttribute=function(e,t){let n=arguments.length>2&&void 0!==arguments[2]&&arguments[2];if(\"string\"==typeof e){if([\"string\",\"number\"].includes(typeof t)||null===t)return b(e,t,\"setCustomAttribute\",n);(0,f.Z)(\"Failed to execute setCustomAttribute.\\nNon-null value must be a string or number type, but a type of <\".concat(typeof t,\"> was provided.\"))}else(0,f.Z)(\"Failed to execute setCustomAttribute.\\nName must be a string type, but a type of <\".concat(typeof e,\"> was provided.\"))},g.setUserId=function(e){if(\"string\"==typeof e||null===e)return b(\"enduser.id\",e,\"setUserId\",!0);(0,f.Z)(\"Failed to execute setUserId.\\nNon-null value must be a string type, but a type of <\".concat(typeof e,\"> was provided.\"))},g.interaction=function(){return(new w).get()};var y=w.prototype={createTracer:function(e,t){var n={},i=this,a=\"function\"==typeof t;return(0,o.p)(m+\"tracer\",[(0,s.z)(),e,n],i,r.D.spa,h),function(){if(v.emit((a?\"\":\"no-\")+\"fn-start\",[(0,s.z)(),i,a],n),a)try{return t.apply(this,arguments)}catch(e){throw v.emit(\"fn-err\",[arguments,this,\"string\"==typeof e?new Error(e):e],n),e}finally{v.emit(\"fn-end\",[(0,s.z)()],n)}}}};function A(e,t,n,i){return function(){return(0,o.p)(l.xS,[\"API/\"+t+\"/called\"],void 0,r.D.metrics,h),i&&(0,o.p)(e+t,[(0,s.z)(),...arguments],n?null:this,i,h),n?void 0:this}}function x(){n.e(439).then(n.bind(n,5692)).then((t=>{let{setAPI:n}=t;n(e),(0,c.L)(e,\"api\")})).catch((()=>(0,f.Z)(\"Downloading runtime APIs failed...\")))}return[\"actionText\",\"setName\",\"setAttribute\",\"save\",\"ignore\",\"onEnd\",\"getContext\",\"end\",\"get\"].forEach((e=>{y[e]=A(m,e,void 0,r.D.spa)})),g.noticeError=function(e,t){\"string\"==typeof e&&(e=new Error(e)),(0,o.p)(l.xS,[\"API/noticeError/called\"],void 0,r.D.metrics,h),(0,o.p)(\"err\",[e,(0,s.z)(),!1,t],void 0,r.D.jserrors,h)},d.v6?x():(0,u.b)((()=>x()),!0),g}(e,w);return(0,g.Qy)(e,E,\"api\"),(0,g.Qy)(e,j,\"exposed\"),(0,g.EZ)(\"activatedFeatures\",m),(0,g.EZ)(\"setToken\",(t=>function(e,t){var n=a.ee.get(t);e&&\"object\"==typeof e&&((0,v.D)(e,(function(e,t){if(!t)return(p[e]||[]).forEach((t=>{(0,o.p)(\"block-\"+e,[],void 0,t,n)}));m[e]||((0,o.p)(\"feat-\"+e,[],void 0,p[e],n),m[e]=!0)})),(0,c.L)(t,r.D.pageViewEvent))}(t,e))),E}},909:(e,t,n)=>{n.d(t,{Z:()=>i,q:()=>o});var r=n(2325);function i(e){switch(e){case r.D.ajax:return[r.D.jserrors];case r.D.sessionTrace:return[r.D.ajax,r.D.pageViewEvent];case r.D.pageViewTiming:return[r.D.pageViewEvent];default:return[]}}function o(e){return e===r.D.jserrors?[]:[\"auto\"]}},2325:(e,t,n)=>{n.d(t,{D:()=>r,p:()=>i});const r={ajax:\"ajax\",jserrors:\"jserrors\",metrics:\"metrics\",pageAction:\"page_action\",pageViewEvent:\"page_view_event\",pageViewTiming:\"page_view_timing\",sessionTrace:\"session_trace\",spa:\"spa\"},i={[r.pageViewEvent]:1,[r.pageViewTiming]:2,[r.metrics]:3,[r.jserrors]:4,[r.ajax]:5,[r.sessionTrace]:6,[r.pageAction]:7,[r.spa]:8}}},r={};function i(e){var t=r[e];if(void 0!==t)return t.exports;var o=r[e]={exports:{}};return n[e](o,o.exports,i),o.exports}i.m=n,i.n=e=>{var t=e&&e.__esModule?()=>e.default:()=>e;return i.d(t,{a:t}),t},i.d=(e,t)=>{for(var n in t)i.o(t,n)&&!i.o(e,n)&&Object.defineProperty(e,n,{enumerable:!0,get:t[n]})},i.f={},i.e=e=>Promise.all(Object.keys(i.f).reduce(((t,n)=>(i.f[n](e,t),t)),[])),i.u=e=>(({78:\"page_action-aggregate\",147:\"metrics-aggregate\",193:\"session_trace-aggregate\",242:\"session-manager\",317:\"jserrors-aggregate\",348:\"page_view_timing-aggregate\",439:\"async-api\",729:\"lazy-loader\",786:\"page_view_event-aggregate\",873:\"spa-aggregate\",898:\"ajax-aggregate\"}[e]||e)+\".\"+{78:\"64dc4751\",147:\"c2ad263a\",193:\"c0ef217a\",242:\"2a8d47d1\",317:\"017d6ea4\",348:\"ddd91465\",439:\"ad3273bd\",729:\"c8cd494b\",786:\"5a238c1f\",873:\"342172b1\",875:\"2c240adb\",898:\"666f66ea\"}[e]+\"-1.232.0.min.js\"),i.o=(e,t)=>Object.prototype.hasOwnProperty.call(e,t),e={},t=\"NRBA:\",i.l=(n,r,o,a)=>{if(e[n])e[n].push(r);else{var s,c;if(void 0!==o)for(var u=document.getElementsByTagName(\"script\"),d=0;d<u.length;d++){var f=u[d];if(f.getAttribute(\"src\")==n||f.getAttribute(\"data-webpack\")==t+o){s=f;break}}s||(c=!0,(s=document.createElement(\"script\")).charset=\"utf-8\",s.timeout=120,i.nc&&s.setAttribute(\"nonce\",i.nc),s.setAttribute(\"data-webpack\",t+o),s.src=n),e[n]=[r];var l=(t,r)=>{s.onerror=s.onload=null,clearTimeout(g);var i=e[n];if(delete e[n],s.parentNode&&s.parentNode.removeChild(s),i&&i.forEach((e=>e(r))),t)return t(r)},g=setTimeout(l.bind(null,void 0,{type:\"timeout\",target:s}),12e4);s.onerror=l.bind(null,s.onerror),s.onload=l.bind(null,s.onload),c&&document.head.appendChild(s)}},i.r=e=>{\"undefined\"!=typeof Symbol&&Symbol.toStringTag&&Object.defineProperty(e,Symbol.toStringTag,{value:\"Module\"}),Object.defineProperty(e,\"__esModule\",{value:!0})},i.j=71,i.p=\"https://js-agent.newrelic.com/\",(()=>{var e={71:0,131:0};i.f.j=(t,n)=>{var r=i.o(e,t)?e[t]:void 0;if(0!==r)if(r)n.push(r[2]);else{var o=new Promise(((n,i)=>r=e[t]=[n,i]));n.push(r[2]=o);var a=i.p+i.u(t),s=new Error;i.l(a,(n=>{if(i.o(e,t)&&(0!==(r=e[t])&&(e[t]=void 0),r)){var o=n&&(\"load\"===n.type?\"missing\":n.type),a=n&&n.target&&n.target.src;s.message=\"Loading chunk \"+t+\" failed.\\n(\"+o+\": \"+a+\")\",s.name=\"ChunkLoadError\",s.type=o,s.request=a,r[1](s)}}),\"chunk-\"+t,t)}};var t=(t,n)=>{var r,o,[a,s,c]=n,u=0;if(a.some((t=>0!==e[t]))){for(r in s)i.o(s,r)&&(i.m[r]=s[r]);if(c)c(i)}for(t&&t(n);u<a.length;u++)o=a[u],i.o(e,o)&&e[o]&&e[o][0](),e[o]=0},n=window.webpackChunkNRBA=window.webpackChunkNRBA||[];n.forEach(t.bind(null,0)),n.push=t.bind(null,n.push.bind(n))})();var o={};(()=>{i.r(o);var e=i(2325),t=i(2919);const n=Object.values(e.D);function r(e){const r={};return n.forEach((n=>{r[n]=function(e,n){return!1!==(0,t.Mt)(n,\"\".concat(e,\".enabled\"))}(n,e)})),r}var a=i(2384),s=i(909),c=i(9252),u=i(8768),d=i(4329),f=i(1509),l=i(2650),g=i(2374),h=i(8610);class v extends f.W{constructor(e,t,n){let r=!(arguments.length>3&&void 0!==arguments[3])||arguments[3];super(e,t,n),this.hasAggregator=!1,this.auto=r,this.abortHandler,r&&(0,d.R)(e,n)}importAggregator(){if(this.hasAggregator||!this.auto)return;this.hasAggregator=!0;const e=async()=>{try{const{setupAgentSession:e}=await i.e(242).then(i.bind(i,2011));e(this.agentIdentifier);const{lazyLoader:t}=await i.e(729).then(i.bind(i,8110)),{Aggregate:n}=await t(this.featureName,\"aggregate\");new n(this.agentIdentifier,this.aggregator)}catch(e){(0,h.Z)(\"Downloading \".concat(this.featureName,\" failed...\"),e),this.abortHandler?.()}};g.v6?e():(0,l.b)((()=>e()),!0)}}var p=i(2484),m=i(2053);class b extends v{static featureName=p.t9;constructor(n,r){let i=!(arguments.length>2&&void 0!==arguments[2])||arguments[2];if(super(n,r,p.t9,i),(\"undefined\"==typeof PerformanceNavigationTiming||u.T)&&\"undefined\"!=typeof PerformanceTiming){const r=(0,t.OP)(n);r[p.Dz]=Math.max(Date.now()-r.offset,0),(0,l.K)((()=>r[p.qw]=Math.max((0,m.z)()-r[p.Dz],0))),(0,l.b)((()=>{const t=(0,m.z)();r[p.OJ]=Math.max(t-r[p.Dz],0),(0,c.p)(\"timing\",[\"load\",t],void 0,e.D.pageViewTiming,this.ee)}))}this.importAggregator()}}var w=i(9557),y=i(7022);class A extends w.w{constructor(e){super(e),this.aggregatedData={}}store(e,t,n,r,i){var o=this.getBucket(e,t,n,i);return o.metrics=function(e,t){t||(t={count:0});return t.count+=1,(0,y.D)(e,(function(e,n){t[e]=x(n,t[e])})),t}(r,o.metrics),o}merge(e,t,n,r,i){var o=this.getBucket(e,t,r,i);if(o.metrics){var a=o.metrics;a.count+=n.count,(0,y.D)(n,(function(e,t){if(\"count\"!==e){var r=a[e],i=n[e];i&&!i.c?a[e]=x(i.t,r):a[e]=function(e,t){if(!t)return e;t.c||(t=_(t.t));return t.min=Math.min(e.min,t.min),t.max=Math.max(e.max,t.max),t.t+=e.t,t.sos+=e.sos,t.c+=e.c,t}(i,a[e])}}))}else o.metrics=n}storeMetric(e,t,n,r){var i=this.getBucket(e,t,n);return i.stats=x(r,i.stats),i}getBucket(e,t,n,r){this.aggregatedData[e]||(this.aggregatedData[e]={});var i=this.aggregatedData[e][t];return i||(i=this.aggregatedData[e][t]={params:n||{}},r&&(i.custom=r)),i}get(e,t){return t?this.aggregatedData[e]&&this.aggregatedData[e][t]:this.aggregatedData[e]}take(e){for(var t={},n=\"\",r=!1,i=0;i<e.length;i++)t[n=e[i]]=j(this.aggregatedData[n]),t[n].length&&(r=!0),delete this.aggregatedData[n];return r?t:null}}function x(e,t){return null==e?function(e){e?e.c++:e={c:1};return e}(t):t?(t.c||(t=_(t.t)),t.c+=1,t.t+=e,t.sos+=e*e,e>t.max&&(t.max=e),e<t.min&&(t.min=e),t):{t:e}}function _(e){return{t:e,min:e,max:e,sos:e*e,c:1}}function j(e){return\"object\"!=typeof e?[]:(0,y.D)(e,D)}function D(e,t){return t}var E=i(6797),k=i(5526),S=i(2438);var T=i(6998),P=i(8544),N=i(6382);class I extends v{static featureName=N.t;constructor(e,n){let r=!(arguments.length>2&&void 0!==arguments[2])||arguments[2];super(e,n,N.t,r),g.il&&((0,t.OP)(e).initHidden=Boolean(\"hidden\"===document.visibilityState),(0,T.N)((()=>(0,c.p)(\"docHidden\",[(0,m.z)()],void 0,N.t,this.ee)),!0),(0,P.bP)(\"pagehide\",(()=>(0,c.p)(\"winPagehide\",[(0,m.z)()],void 0,N.t,this.ee))),this.importAggregator())}}const C=Boolean(g._A?.Worker),O=Boolean(g._A?.SharedWorker),R=Boolean(g._A?.navigator?.serviceWorker);let M,B,z;var q=i(6034);class W extends v{static featureName=q.t9;constructor(t,n){let r=!(arguments.length>2&&void 0!==arguments[2])||arguments[2];super(t,n,q.t9,r),function(e){if(!M){if(C){M=Worker;try{g._A.Worker=n(M,\"Dedicated\")}catch(e){o(e,\"Dedicated\")}if(O){B=SharedWorker;try{g._A.SharedWorker=n(B,\"Shared\")}catch(e){o(e,\"Shared\")}}else r(\"Shared\");if(R){z=navigator.serviceWorker.register;try{g._A.navigator.serviceWorker.register=(t=z,function(){for(var e=arguments.length,n=new Array(e),r=0;r<e;r++)n[r]=arguments[r];return i(\"Service\",n[1]?.type),t.apply(navigator.serviceWorker,n)})}catch(e){o(e,\"Service\")}}else r(\"Service\");var t;return}r(\"All\")}function n(e,t){return\"undefined\"==typeof Proxy?e:new Proxy(e,{construct:(e,n)=>(i(t,n[1]?.type),new e(...n))})}function r(t){g.v6||e(\"Workers/\".concat(t,\"/Unavailable\"))}function i(t,n){e(\"Workers/\".concat(t,\"module\"===n?\"/Module\":\"/Classic\"))}function o(t,n){e(\"Workers/\".concat(n,\"/SM/Unsupported\")),(0,h.Z)(\"NR Agent: Unable to capture \".concat(n,\" workers.\"),t)}}((t=>(0,c.p)(q.xS,[t],void 0,e.D.metrics,this.ee))),this.importAggregator()}}new class{constructor(e){let t=arguments.length>1&&void 0!==arguments[1]?arguments[1]:(0,k.ky)(16);this.agentIdentifier=t,this.sharedAggregator=new A({agentIdentifier:this.agentIdentifier}),this.features={},this.desiredFeatures=new Set(e.features||[]),this.desiredFeatures.add(b),Object.assign(this,(0,a.j)(this.agentIdentifier,e,e.loaderType||\"agent\")),this.start()}get config(){return{info:(0,t.C5)(this.agentIdentifier),init:(0,t.P_)(this.agentIdentifier),loader_config:(0,t.DL)(this.agentIdentifier),runtime:(0,t.OP)(this.agentIdentifier)}}start(){const t=\"features\";try{const n=r(this.agentIdentifier),i=Array.from(this.desiredFeatures);i.sort(((t,n)=>e.p[t.featureName]-e.p[n.featureName])),i.forEach((t=>{if(n[t.featureName]||t.featureName===e.D.pageViewEvent){const e=(0,s.Z)(t.featureName);e.every((e=>n[e]))||(0,h.Z)(\"\".concat(t.featureName,\" is enabled but one or more dependent features has been disabled (\").concat((0,S.P)(e),\"). This may cause unintended consequences or missing data...\")),this.features[t.featureName]=new t(this.agentIdentifier,this.sharedAggregator)}})),(0,E.Qy)(this.agentIdentifier,this.features,t)}catch(e){(0,h.Z)(\"Failed to initialize all enabled instrument classes (agent aborted) -\",e);for(const e in this.features)this.features[e].abortHandler?.();const n=(0,E.fP)();return delete n.initializedAgents[this.agentIdentifier]?.api,delete n.initializedAgents[this.agentIdentifier]?.[t],delete this.sharedAggregator,n.ee?.abort(),delete n.ee?.get(this.agentIdentifier),!1}}}({features:[b,I,W],loaderType:\"lite\"})})(),window.NRBA=o})();</script><meta name=viewport content=\"width=device-width\"><link rel=stylesheet href=\"https://cdnjs.cloudflare.com/ajax/libs/chosen/1.8.7/chosen.min.css\" integrity=\"sha512-yVvxUQV0QESBt1SyZbNJMAwyKvFTLMyXSyBHDO4BG5t7k/Lw34tyqlSDlKIrIENIzCl+RVUNjmCPG+V/GMesRw==\" crossorigin=anonymous /><link rel=stylesheet media=screen href=\"https://weworkremotely.com/assets/application-8614fc0d3bcc1f345a69ecdf7e7d6c2a1abed6cf9a2fa57a2ffa762a8b286220.css\"/><link rel=stylesheet media=print href=\"https://weworkremotely.com/assets/print-10e584452a44db0451511ba6325ac447d59be199e4fb1ad80e873eeb7768ba74.css\"/><title>We Work Remotely: Advanced Remote Job Search</title><meta name=apple-mobile-web-app-title content=\"We Work Remotely\"/><meta name=application-name content=\"We Work Remotely\"/><meta property=\"og:title\" content=\"We Work Remotely: Advanced Remote Job Search\"/><meta property=title content=\"We Work Remotely: Advanced Remote Job Search\"/><meta property=\"og:site_name\" content=\"We Work Remotely\"/><meta name=\"twitter:card\" content=summary /><meta name=\"twitter:site\" content=\"@weworkremotely\"/><meta name=\"twitter:image\" content=\"https://weworkremotely.com/assets/wwr-social-fd7d545c56e975b65fae9cf49346aac95a8cdb4774b2c269af89ac8993141380.png\"><meta name=description content=\"Advanced job search for We Work Remotely, allowing you to search and refine jobs across programming, marketing, customer service, etc. Find your next remote career.\"/><meta property=\"og:description\" content=\"Advanced job search for We Work Remotely, allowing you to search and refine jobs across programming, marketing, customer service, etc. Find your next remote career.\"/><meta property=\"og:image\" content=\"https://weworkremotely.com/assets/wwr-social-fd7d545c56e975b65fae9cf49346aac95a8cdb4774b2c269af89ac8993141380.png\"/><meta property=\"fb:app_id\" content=1639030506338400 /><script type=\"application/ld+json\">\n",
      "{\n",
      "  \"@context\": \"http://schema.org\",\n",
      "  \"@type\": \"Organization\",\n",
      "  \"name\": \"We Work Remotely\",\n",
      "  \"url\": \"https://weworkremotely.com\",\n",
      "  \"logo\": \"https://weworkremotely.com/assets/wwr-social-fd7d545c56e975b65fae9cf49346aac95a8cdb4774b2c269af89ac8993141380.png\",\n",
      "  \"sameAs\": [\n",
      "    \"https://twitter.com/weworkremotely\"\n",
      "  ]\n",
      "}\n",
      "</script><script type=\"application/ld+json\">\n",
      "{\n",
      "  \"@context\": \"http://schema.org\",\n",
      "  \"@type\": \"WebSite\",\n",
      "  \"name\": \"We Work Remotely\",\n",
      "  \"url\": \"https://weworkremotely.com\",\n",
      "  \"potentialAction\": {\n",
      "    \"@type\": \"SearchAction\",\n",
      "    \"target\": \"https://weworkremotely.com/jobs/search?term={search_term_string}\",\n",
      "    \"query-input\": \"required name=search_term_string\"\n",
      "  }\n",
      "}\n",
      "</script><link rel=apple-touch-icon sizes=57x57 href=\"/apple-icon-57x57.png\"><link rel=apple-touch-icon sizes=60x60 href=\"/apple-icon-60x60.png\"><link rel=apple-touch-icon sizes=72x72 href=\"/apple-icon-72x72.png\"><link rel=apple-touch-icon sizes=76x76 href=\"/apple-icon-76x76.png\"><link rel=apple-touch-icon sizes=114x114 href=\"/apple-icon-114x114.png\"><link rel=apple-touch-icon sizes=120x120 href=\"/apple-icon-120x120.png\"><link rel=apple-touch-icon sizes=144x144 href=\"/apple-icon-144x144.png\"><link rel=apple-touch-icon sizes=152x152 href=\"/apple-icon-152x152.png\"><link rel=apple-touch-icon sizes=180x180 href=\"/apple-icon-180x180.png\"><link rel=icon type=\"image/png\" sizes=192x192 href=\"/android-icon-192x192.png\"><link rel=icon type=\"image/png\" sizes=32x32 href=\"/favicon-32x32.png\"><link rel=icon type=\"image/png\" sizes=96x96 href=\"/favicon-96x96.png\"><link rel=icon type=\"image/png\" sizes=16x16 href=\"/favicon-16x16.png\"><link rel=manifest href=\"/manifest.json\"><meta name=msapplication-TileColor content=\"#212529000\"><meta name=msapplication-TileImage content=\"/ms-icon-144x144.png\"><meta name=theme-color content=\"#212529000\"><meta name=csrf-param content=authenticity_token /><meta name=csrf-token content=\"W2svMKmdw0GCu5j5jX3fgPxaVwpp4pk4SDFHMLJR3ojioqoaOJT2Fa67ljwo1vtMQTWVjskWduNeKzJXr3hW6w==\"/><link rel=alternate type=\"application/rss+xml\" title=RSS href=\"https://weworkremotely.com/remote-jobs.rss\"/><link rel=canonical href=\"https://weworkremotely.com/remote-jobs/search\"/><script>\n",
      "  window._tfa = window._tfa || [];\n",
      "  window._tfa.push({notify: 'event', name: 'page_view', id: 1219634});\n",
      "  !function (t, f, a, x) {\n",
      "         if (!document.getElementById(x)) {\n",
      "            t.async = 1;t.src = a;t.id=x;f.parentNode.insertBefore(t, f);\n",
      "         }\n",
      "  }(document.createElement('script'),\n",
      "  document.getElementsByTagName('script')[0],\n",
      "  '//cdn.taboola.com/libtrc/unip/1219634/tfa.js',\n",
      "  'tb_tfa_script');\n",
      "</script><noscript><img src='//trc.taboola.com/1219634/log/3/unip?en=page_view' width=0 height=0 style='display:none'/></noscript><script src=\"https://cdn.onesignal.com/sdks/OneSignalSDK.js\" async=\"\"></script><script>\n",
      "    var OneSignal = window.OneSignal || [];\n",
      "        OneSignal.push([\"init\", {\n",
      "            appId: \"3ac5a7b6-b83c-4a52-aaf2-02be475503c5\",\n",
      "            autoRegister: false,\n",
      "            notifyButton: {\n",
      "                enable: false\n",
      "            },\n",
      "          persistNotification: false\n",
      "        }]);\n",
      "    </script><script>(function(w,r){w._rwq=r;w[r]=w[r]||function(){(w[r].q=w[r].q||[]).push(arguments)}})(window,'rewardful');</script><script async src='https://r.wdfl.co/rw.js' data-rewardful=15c623></script><script>\n",
      "    (function(h,o,t,j,a,r){\n",
      "      h.hj=h.hj||function(){(h.hj.q=h.hj.q||[]).push(arguments)};\n",
      "      h._hjSettings={hjid:2385808,hjsv:6};\n",
      "      a=o.getElementsByTagName('head')[0];\n",
      "      r=o.createElement('script');r.async=1;\n",
      "      r.src=t+h._hjSettings.hjid+j+h._hjSettings.hjsv;\n",
      "      a.appendChild(r);\n",
      "    })(window,document,'https://static.hotjar.com/c/hotjar-','.js?sv=');\n",
      "\t</script><script src=\"https://script.tapfiliate.com/tapfiliate.js\" async></script><script>\n",
      "    (function(t,a,p){t.TapfiliateObject=a;t[a]=t[a]||function(){\n",
      "    (t[a].q=t[a].q||[]).push(arguments)}})(window,'tap');\n",
      "\n",
      "    tap('create', '26060-8d5b8b', { integration: \"stripe\" });\n",
      "    tap('detect');\n",
      "  </script><script>\n",
      "//<![CDATA[\n",
      "(function(i,s,o,g,r,a,m){i['GoogleAnalyticsObject']=r;i[r]=i[r]||function(){\n",
      "    (i[r].q=i[r].q||[]).push(arguments)},i[r].l=1*new Date();a=s.createElement(o),\n",
      "    m=s.getElementsByTagName(o)[0];a.async=1;a.src=g;m.parentNode.insertBefore(a,m)\n",
      "    })(window,document,'script','https://www.google-analytics.com/analytics.js','ga');\n",
      "    ga('create', 'UA-24041469-10', 'auto');\n",
      "    ga('require', 'GTM-WFH9SJ4');\n",
      "    ga('send', 'pageview');\n",
      "//]]>\n",
      "</script><script>\n",
      "//<![CDATA[\n",
      "(function(a,s,y,n,c,h,i,d,e){s.className+=' '+y;h.start=1*new Date;\n",
      "   h.end=i=function(){s.className=s.className.replace(RegExp(' ?'+y),'')};\n",
      "   (a[n]=a[n]||[]).hide=h;setTimeout(function(){i();h.end=null},c);h.timeout=c;\n",
      "   })(window,document.documentElement,'async-hide','dataLayer',4000,\n",
      "   {'GTM-WFH9SJ4':true});\n",
      "//]]>\n",
      "</script><script>\n",
      "//<![CDATA[\n",
      "if(window.ga != undefined){ga('send', 'pageview');}\n",
      "//]]>\n",
      "</script><script src=\"https://kit.fontawesome.com/db1101d7e0.js\" crossorigin=anonymous></script><script src=\"https://js.stripe.com/v3/\"></script></head><body class=home><div class=container><header id=nav-header><section id=header-top-bar><a href=\"/\"><img alt=\"we work remotely\" id=logo src=\"https://weworkremotely.com/assets/IsotypeV2-1ebe3dd57673f3e8d02b7490bc0faaef55d6a95d3a4aaf17298bd3ed503ae7fe.svg\"/></a><nav class=top><div class=dropdownBackground><span class=arrow></span></div><ul class=wwr__nav><li class=magic__nav><a href=\"#\">Categories</a><ul class=\"dropdown categories\"><li class=dropdown-programming><a href=\"#\" id=programming-active>Programming <i class=\"fa fa-chevron-down\"></i></li><div class=dropdown-container><li><a href=\"/categories/remote-full-stack-programming-jobs#job-listings\">Full-Stack Programming</a></li><li><a href=\"/categories/remote-front-end-programming-jobs#job-listings\">Front-End Programming</a></li><li><a href=\"/categories/remote-back-end-programming-jobs#job-listings\">Back-End Programming</a></li></div><li><a href=\"/categories/remote-design-jobs#job-listings\">Design</a></li><li><a href=\"/categories/remote-devops-sysadmin-jobs#job-listings\">Devops and Sysadmin</a></li><li><a href=\"/categories/remote-management-and-finance-jobs#job-listings\">Management and Finance</a></li><li><a href=\"/categories/remote-product-jobs\">Product</a></li><li><a href=\"/categories/remote-customer-support-jobs#job-listings\">Customer Support</a></li><li><a href=\"/categories/remote-sales-and-marketing-jobs#job-listings\">Sales and Marketing</a></li><li><a href=\"/remote-full-time-jobs#job-listings\">Full-Time</a></li><li><a href=\"/remote-contract-jobs#job-listings\">Contract</a></li><li><a href=\"/categories/all-other-remote-jobs#job-listings\">All Other</a></li></ul></li><li class=magic__nav><a href=\"#\">Community</a><ul class=\"dropdown community\"><li><a href=\"/blog\">Blog</a></li><li><a href=\"/the-remote-show-podcast\">Podcast</a></li><hr><li><a href=\"https://mailchi.mp/weworkremotely/newsletter\" target=_blank>Newsletter</a></li><li><a href=\"https://bit.ly/wwrslack2021\" target=_blank>Slack</a></li><li><a href=\"/blog-categories/events\" target=_blank>Events</a></li><hr><li><a href=\"https://twitter.com/weworkremotely/?utm_content=nav-network&utm_source=we-work-remotely&utm_campaign=nav-network-twitter&utm_medium=nav-network-twitter\" target=_blank>Twitter</a></li><li><a href=\"https://www.instagram.com/weworkremotelycom/?utm_content=nav-network&utm_source=we-work-remotely&utm_campaign=nav-network-fb&utm_medium=nav-network-fb\" target=_blank>Instagram</a></li><li><a href=\"https://www.linkedin.com/company/18527028/?utm_content=nav-network&utm_source=we-work-remotely&utm_campaign=nav-network-linkedin&utm_medium=nav-network-linkedin\" target=_blank>Linkedin</a></li><li><a href=\"https://www.facebook.com/weworkremotely/?utm_content=nav-network&utm_source=we-work-remotely&utm_campaign=nav-network-fb&utm_medium=nav-network-fb\" target=_blank>Facebook</a></li></ul></li><li class=magic__nav><a href=\"#\">Job Seekers</a><ul class=\"dropdown resources\"><li><a href=\"/remote-jobs/search\">Advanced Job Search <span class=new>New!</span></a></li><li><a href=\"/top-trending-remote-jobs\"> Top Trending Remote Jobs <span class=new>New!</span></a></a></li><li><a href=\"/top-remote-job-searches\">Top Remote Job Searches</a></li><li><a href=\"/job-seeker-faq\">FAQ - Job Seekers</a></li><hr><li><a href=\"/top-remote-companies\">Top 100 Remote Companies</a></li><li><a href=\"/remote-companies\">All Remote Companies</a></li><hr><li><a href=\"https://learn.weworkremotely.com?utm_source=wwr-nav\" target=_blank>Learning Portal</a></li><li><a href=\"/blog-categories/remote-work-resources\">Remote Work Resources</a></li><li><a href=\"/remote-job-rss-feed\">RSS Feed</a></li><hr><li><a href=\"/job-seekers/account/register\"> Create Account <span class=new>New!</span></a></li><li><a href=\"/job-seekers/account/login\">Sign in</a></li></ul></li><li class=magic__nav><a href=\"#\">Employers</a><ul class=\"dropdown resources\" id=nav><li><a href=\"/remote-jobs/new\">Post a Job</a></li><li><a href=\"/remote-job-description-template\">Remote Job Description Template</a></li><li><a href=\"/remote-work-trends\">Remote Work Trends</a></li><li><a href=\"/remote-work-hiring-guide\">Remote Hiring Guide</a></li><li><a href=\"/hire-remote-software-developers\">Hiring Remote Software Developers</a></li><li><a href=\"/post-a-remote-job\">Why Choose WWR?</a></li><li><a href=\"/bundles?utm_source=wwr-nav\" target=_blank onclick=\"applyForPromotion()\">Bundle Pricing</a></li><li><a href=\"/frequently-asked-questions\">FAQ - Employers</a></li><hr><li><a href=\"/account/register\"> Create Employer Account <span class=new>New!</span></a></li><li><a href=\"/account/login\">Sign into Employer Account</a></li></ul></li><li class=magic__nav><li><a id=post-job-cta-nav href=\"/remote-jobs/new\">Post a job</a></li></ul></nav></section><span id=index-search-bar class=hidden><form id=wwr_search_form action=\"/remote-jobs/search\" accept-charset=UTF-8 method=get><input name=utf8 type=hidden value=\"✓\"><input name=term id=search_term placeholder=\"Search for contract, location, time zone, javascript…\" autofocus></form></span></header><header id=mobile_header><div class=topnav><a href=\"#\" class=active></a><div id=myLinks style=\"margin-top: 80px; margin-left: 32px;\"><form class=search_form action=\"/remote-jobs/search\" accept-charset=UTF-8 method=get><input name=term id=term value=python class=search_term placeholder=\"Search job titles and descriptions by entering your keyword and pressing &#39;Enter&#39;\" style=\"width: 96%; padding-top: 20px; padding-bottom: 20px; -webkit-box-sizing: border-box; box-sizing: border-box;\"/></form><button class=accordion>Categories</button><div class=panel><ul><li id=programming-li><button class=accordion id=programming-accordion>Programming</button><div class=panel><a href=\"/categories/remote-full-stack-programming-jobs#job-listings\">Full-Stack Programming</a><a href=\"/categories/remote-front-end-programming-jobs#job-listings\">Front-End Programming</a><a href=\"/categories/remote-back-end-programming-jobs#job-listings\">Back-End Programming</a></div></li><li><a href=\"/categories/remote-design-jobs\">Design</a></li><li><a href=\"/categories/remote-devops-sysadmin-jobs\">DevOps and Sysadmin</a></li><li><a href=\"/categories/remote-management-and-finance-jobs\">Management and Finance</a></li><li><a href=\"/categories/remote-product-jobs\">Product</a></li><li><a href=\"/categories/remote-customer-support-jobs\">Customer Support</a></li><li><a href=\"/categories/remote-sales-and-marketing-jobs\">Sales and Marketing</a></li><li><a href=\"/remote-full-time-jobs\">Full-Time</a></li><li><a href=\"/remote-contract-jobs\">Contract</a></li><li><a href=\"/categories/all-other-remote-jobs\">All Other</a></li></ul></div><button class=accordion>Community</button><div class=panel><ul><li><a href=\"/blog\">Blog</a></li><li><a href=\"/the-remote-show-podcast\">Podcast</a></li><hr><li><a href=\"https://mailchi.mp/weworkremotely/newsletter\" target=_blank>Newsletter</a></li><li><a href=\"https://bit.ly/wwrslack2021\" target=_blank>Slack</a></li><li><a href=\"/blog-categories/events\" target=_blank>Events</a></li><hr><li><a href=\"https://twitter.com/weworkremotely/?utm_content=nav-network&utm_source=we-work-remotely&utm_campaign=nav-network-twitter&utm_medium=nav-network-twitter\" target=_blank>Twitter</a></li><li><a href=\"https://www.instagram.com/weworkremotelycom/?utm_content=nav-network&utm_source=we-work-remotely&utm_campaign=nav-network-fb&utm_medium=nav-network-fb\" target=_blank>Instagram</a></li><li><a href=\"https://www.linkedin.com/company/18527028/?utm_content=nav-network&utm_source=we-work-remotely&utm_campaign=nav-network-linkedin&utm_medium=nav-network-linkedin\" target=_blank>Linkedin</a></li><li><a href=\"https://www.facebook.com/weworkremotely/?utm_content=nav-network&utm_source=we-work-remotely&utm_campaign=nav-network-fb&utm_medium=nav-network-fb\" target=_blank>Facebook</a></li></ul></div><button class=accordion>Job Seekers</button><div class=panel><ul><li><a href=\"/remote-jobs/search\">Advanced Job Search <span class=new>New!</span></a></li><li><a href=\"/top-trending-remote-jobs\"> Top Trending Remote Jobs <span class=new>New!</span></a></a></li><li><a href=\"/top-remote-job-searches\">Top Remote Job Searches</a></li><li><a href=\"/job-seeker-faq\">FAQ - Job Seekers</a></li><hr><li><a href=\"/top-remote-companies\">Top 100 Remote Companies</a></li><li><a href=\"/remote-companies\">All Remote Companies</a></li><hr><li><a href=\"https://learn.weworkremotely.com?utm_source=wwr-nav\" target=_blank>Learning Portal</a></li><li><a href=\"/blog-categories/remote-work-resources\">Remote Work Resources</a></li><li><a href=\"/remote-job-rss-feed\">RSS Feed</a></li><hr><li><a href=\"/job-seekers/account/register\"> Create Account <span class=new>New!</span></a></li><li><a href=\"/job-seekers/account/login\">Sign in</a></li></ul></div><button class=accordion>Employers</button><div class=panel><ul><li><a href=\"/remote-jobs/new\">Post a Job</a></li><li><a href=\"/remote-job-description-template\">Remote Job Description Template</a></li><li><a href=\"/remote-work-trends\">Remote Work Trends</a></li><li><a href=\"/remote-work-hiring-guide\">Remote Hiring Guide</a></li><li><a href=\"/hire-remote-software-developers\">Hiring Remote Software Developers</a></li><li><a href=\"/post-a-remote-job\">Why Choose WWR?</a></li><li><a href=\"/bundles?utm_source=wwr-nav\" target=_blank onclick=\"applyForPromotion()\">Bundle Pricing</a></li><li><a href=\"/frequently-asked-questions\">FAQ - Employers</a></li><hr><li><a href=\"/account/register\"> Create Account <span class=new>New!</span></a></li><li><a href=\"/account/login\">Sign In</a></li></ul></div><button class=accordion>Daily Digest</button><div class=panel><div class=\"digest-container content-wrap\" id=mobile-digest><div class=inline_signup><div class=errors></div><form class=inline id=email-subscription-form action=\"/digest\" accept-charset=UTF-8 data-remote=true method=post><input type=hidden name=form value=\"\"/><div class=inline-email-subscription-main> Get new <button name=button type=button class=inline-categories-toggle>Customer Support</button> listings sent to <input placeholder=\"you@youremail.com\" style=\"margin-bottom: 0px !important;\" required=required type=email name=\"digest_subscription[email]\" id=digest_subscription_email /> every day!<br><input type=submit name=commit value=Subscribe id=digest-mobile-btn data-disable-with=Subscribe /></div><div class=email-subscription-categories><label><input type=checkbox name=\"categories[]\" id=categories_ value=1 data-label=Design /><span>Design</span></label><label><input type=checkbox name=\"categories[]\" id=categories_ value=2 data-label=\"Full-Stack Programming\"/><span>Full-Stack Programming</span></label><label><input type=checkbox name=\"categories[]\" id=categories_ value=17 data-label=\"Front-End Programming\"/><span>Front-End Programming</span></label><label><input type=checkbox name=\"categories[]\" id=categories_ value=18 data-label=\"Back-End Programming\"/><span>Back-End Programming</span></label><label><input type=checkbox name=\"categories[]\" id=categories_ value=7 data-label=\"Customer Support\" checked/><span>Customer Support</span></label><label><input type=checkbox name=\"categories[]\" id=categories_ value=6 data-label=\"DevOps and Sysadmin\"/><span>DevOps and Sysadmin</span></label><label><input type=checkbox name=\"categories[]\" id=categories_ value=9 data-label=\"Sales and Marketing\"/><span>Sales and Marketing</span></label><label><input type=checkbox name=\"categories[]\" id=categories_ value=3 data-label=\"Management and Finance\"/><span>Management and Finance</span></label><label><input type=checkbox name=\"categories[]\" id=categories_ value=11 data-label=Product /><span>Product</span></label><label><input type=checkbox name=\"categories[]\" id=categories_ value=4 data-label=\"All Other Remote\"/><span>All Other Remote</span></label></div></form><br><br><br><br><br><br><br><br><br><br><br><br></div></div></div><br><br><br><br></div><a href=\"javascript:void(0);\" class=icon onclick=\"myFunction()\"><div=\"#nav\" id=toggle-nav></div></a></div><br/></header><div id=userModal class=user-modal><div class=user-modal-content><span class=close>&times;</span><h1>Sign in to WWR</h1><br><br><form class=new_user id=new_user action=\"/account/login\" accept-charset=UTF-8 method=post><input type=hidden name=authenticity_token value=\"I3LkeTMoyxtzxoQ7bFgFSqh04Zs8uvrcUXkbEKsF4rJukDKLeFTk3tImu3ONOPBrOJsFflvGgMp3LmNNoMP8Fw==\"/><div class=field><label for=user_email>Email</label><br/><input autofocus=autofocus autocomplete=email style=\"width: 94%;\" type=email value=\"\" name=\"user[email]\" id=user_email /></div><br><div class=field><label for=user_password>Password</label><br/><input autocomplete=current-password style=\"width: 94%;\" type=password name=\"user[password]\" id=user_password /></div><br><div class=field id=remember_me_modal><input name=\"user[remember_me]\" type=hidden value=0 /><input type=checkbox value=1 name=\"user[remember_me]\" id=user_remember_me /><label for=user_remember_me>Remember me</label></div><br><div class=actions><input type=submit name=commit value=\"Sign in\" id=sign-up-cta data-disable-with=\"Sign in\"/></div></form><br><br><a id=a-href-shared href=\"/account/password/new\">Forgot your password?</a><br/><br></div></div><div class=content><div class=header-flash></div><script>\n",
      "document.cookie = \"state=; expires=Thu, 01 Jan 1970 00:00:00 UTC\" + \";domain=\" + window.location.hostname + \";path=/;\"\n",
      "\n",
      "</script><header id=main-header title=\"We Work Remotely: Remote jobs in design, programming, marketing and more.\" alt=\"We Work Remotely: Remote jobs in design, programming, marketing and more\" description=\"Find the most qualified people in the most unexpected places: Hire remote! We Work Remotely is the best place to find and list remote jobs that aren't restricted by commutes or a particular geographic area. Browse thousands of remote work jobs today.\"><div class=header-flash><script>\n",
      "  function closeButton() {\n",
      "    document.getElementById('close_flash').style.display = 'none';\n",
      "  }\n",
      "  function closeButtonError() {\n",
      "    document.getElementById('error_explanation').style.display = 'none';\n",
      "  }\n",
      "  function closeButtonFlashError() {\n",
      "    document.getElementById('close_error').style.display = 'none';\n",
      "  }\n",
      "</script></div><script>\n",
      "  function ResetFilters() {\n",
      "    var url = window.location.href.split('?')[0];\n",
      "    setTimeout(function(){\n",
      "      window.location.href = url;\n",
      "    }, 100);\n",
      "  }\n",
      "</script></header><div class=jobs-container id=job_list><header id=main-header><div class=content-wrap><h1 class=categories-header style=\"margin-top: 132px; height: auto !important;\"><a href=\"/remote-jobs/search\"> Remote python Jobs </a></h1></div><section id=intro class=content-wrap style=\"max-width: 950px;\"><p class=secondary-feature style=\"margin-top: -18px; margin-bottom: 40px;\">Find your next career at one of the best remote companies in the world 🌎</p><form id=search--form action=\"/remote-jobs/search\" accept-charset=UTF-8 method=get><div class=search-input><svg xmlns=\"http://www.w3.org/2000/svg\" class=\"icon icon-tabler icon-tabler-search\" style=\"transition: color 0.2s ease; margin: 0px 10px 0px 10px; cursor: default;\" width=22 height=56 viewBox=\"0 0 24 24\" stroke-width=3 stroke=\"#212529\" fill=none stroke-linecap=round stroke-linejoin=round><path stroke=none d=\"M0 0h24v24H0z\"/><circle cx=10 cy=10 r=7 /><line x1=21 y1=21 x2=15 y2=15 /></svg><input name=term id=search--input value=python placeholder=\"Enter job title or keyword and use the filters below to get best results\" style=\"color: #212529;\"/><button name=button type=submit data-disable-with=\"Searching...\" id=post-job-cta>Search</button></div></section></header><div class=row><div class=side_filter_column><div id=advanced_search_filters><div class=\"\"><div class=\"\"><h2>Advanced Search Filters <span class=clear-btn onclick=\"ResetFilters()\">Clear all</span></h2><h2 style=\"color: #4d5154;font-family: 'Neufile Grotesk Light', sans-serif;\">5 jobs found</h2></div><div class=outsider-select><br><br><label for=categories_chosen>Sort By</label><br><br><select name=sort id=categories_chosen class=\"custom-dropdown chosen chosen-outsider\" style=\"width: 97%;\" data-placeholder=\"Date Posted\" onchange=\"this.form.submit()\"><option value=any_time>Any Time</option><option value=past_24_hours>Past 24 Hours</option><option value=past_week>Past Week</option><option value=past_2_weeks>Past 2 Weeks</option></select><span class=time_zone_chevron><i class=\"fal fa-chevron-down form-chevron\" style=\"right: 35px;\"></i></span></div><div class=outsider-select><br><br><label for=categories_chosen>Job Categories</label><br><br><select name=\"categories[]\" id=categories_chosen class=\"custom-dropdown chosen chosen-outsider\" data-placeholder=\"e.g., Product, Design\" multiple=multiple onchange=\"this.form.submit()\"><option value=1>Design</option><option value=2>Full-Stack Programming</option><option value=17>Front-End Programming</option><option value=18>Back-End Programming</option><option value=7>Customer Support</option><option value=6>DevOps and Sysadmin</option><option value=9>Sales and Marketing</option><option value=3>Management and Finance</option><option value=11>Product</option><option value=4>All Other Remote</option></select><span class=time_zone_chevron style=\"margin-top: 17px;\"><i class=\"fal fa-chevron-down form-chevron\" style=\"right: 35px;\"></i></span></div><div class=outsider-select><br><br><label for=\"\">Regions</label><br><br><select name=\"region[]\" id=region data-placeholder=\"e.g., North America Only, USA Only.\" class=\"custom-dropdown chosen chosen-outsider\" multiple=multiple onchange=\"this.form.submit()\"><option value=0>Anywhere in the World</option><option value=1>USA Only</option><option value=2>North America Only</option><option value=3>Latin America Only</option><option value=4>Americas Only</option><option value=5>Europe Only</option><option value=6>UK Only</option><option value=7>Canada Only</option><option value=8>EMEA Only</option><option value=9>Asia Only</option><option value=10>Africa Only</option><option value=11>Oceania Only</option><option value=12>Other (don’t specify)</option></select><span class=time_zone_chevron style=\"margin-top: 17px;\"><i class=\"fal fa-chevron-down form-chevron\" style=\"right: 35px;\"></i></span></div><div class=outsider-select><br><br><label for=\"\">Time Zones</label><br><br><select name=\"time_zone_indexes[]\" id=time_zone_indexes data-placeholder=\"e.g., PST (UTC -8)\" class=\"custom-dropdown chosen chosen-outsider\" multiple=multiple onchange=\"this.form.submit()\"><option value=0>EST (UTC -5)</option><option value=1>CST (UTC -6)</option><option value=2>MST (UTC -7)</option><option value=3>PST (UTC -8)</option><option value=4>AKST (UTC -9)</option><option value=5>HST (UTC -10)</option><option value=6>ART (UTC -3)</option><option value=7>UTC -4</option><option value=8>UTC -4:30</option><option value=9>UTC -3</option><option value=10>UTC -2</option><option value=11>SBT (UTC +11)</option><option value=12>GMT (UTC +0)</option><option value=13>CET (UTC +1)</option><option value=14>EET (UTC +2)</option><option value=15>MSK (UTC +3)</option><option value=16>AST (UTC -4)</option><option value=17>FKST (UTC -3)</option><option value=18>NST (UTC -3:30)</option><option value=19>CEST (UTC +2)</option><option value=20>BST (UTC +1)</option><option value=21>JST (UTC +9)</option><option value=22>CST (UTC +8)</option><option value=23>WIB (UTC +7)</option><option value=24>MMT (UTC +6:30)</option><option value=25>BST (UTC +6)</option><option value=26>NPT (UTC +5:45)</option><option value=27>IST (UTC +5:30)</option><option value=28>UZT (UTC +5)</option><option value=29>IRDT (UTC +4:30)</option><option value=30>GST (UTC +4)</option><option value=31>CVT (UTC -1)</option><option value=32>WAT (UTC +1)</option><option value=33>SAST (UTC +2)</option><option value=34>EAT (UTC +3)</option><option value=35>LINT (UTC +14)</option><option value=36>TOT (UTC +13)</option><option value=37>CHAST (UTC +12:45)</option><option value=38>LHST (UTC +10:30)</option><option value=39>AEST (UTC +10)</option><option value=40>ACST (UTC +9:30)</option><option value=41>ACWST (UTC +8:45)</option><option value=42>MART (UTC -9:30)</option><option value=43>NUT (UTC -11)</option></select><span class=time_zone_chevron style=\"margin-top: 17px;\"><i class=\"fal fa-chevron-down form-chevron\" style=\"right: 35px;\"></i></span></div><div class=outsider-select><br><br><label for=\"\">Companies</label><br><br><select name=\"company[]\" id=chosen-company data-placeholder=\"e.g., MetaLab, Dribbble\" class=\"custom-dropdown chosen chosen-outsider\" multiple=multiple onchange=\"this.form.submit()\"><option value=\"0xPARC Foundation\">0xPARC Foundation</option><option value=\"6 Figure Creative\">6 Figure Creative</option><option value=\"A.Team\">A.Team</option><option value=\"Acadoro GmbH\">Acadoro GmbH</option><option value=\"Action Jackson Promotions\">Action Jackson Promotions</option><option value=AgencyAnalytics>AgencyAnalytics</option><option value=AgentMethods>AgentMethods</option><option value=\"Aha!\">Aha!</option><option value=AlphaSights>AlphaSights</option><option value=\"amazee.io\">amazee.io</option><option value=AmpiFire>AmpiFire</option><option value=\"AR Workflow\">AR Workflow</option><option value=aThemes>aThemes</option><option value=\"Attic Pros\">Attic Pros</option><option value=\"Aurora Solar\">Aurora Solar</option><option value=\"Awesome Motive\">Awesome Motive</option><option value=\"Badass Software\">Badass Software</option><option value=Banzai>Banzai</option><option value=Batch>Batch</option><option value=\"BBE Marketing Inc\">BBE Marketing Inc</option><option value=\"Beth Jacob Atlanta\">Beth Jacob Atlanta</option><option value=BlackHyve>BlackHyve</option><option value=BookedoutDentist>BookedoutDentist</option><option value=\"Booster SEO\">Booster SEO</option><option value=Bottomless>Bottomless</option><option value=Breef>Breef</option><option value=\"Carb Manager\">Carb Manager</option><option value=\"Cere Network\">Cere Network</option><option value=\"Chapter One\">Chapter One</option><option value=ChocZero>ChocZero</option><option value=\"Chorus One\">Chorus One</option><option value=Close>Close</option><option value=CobbleWeb>CobbleWeb</option><option value=Constructive>Constructive</option><option value=Contra>Contra</option><option value=\"Conversion Rate Experts (CRE)\">Conversion Rate Experts (CRE)</option><option value=\"Covariant AI \">Covariant AI </option><option value=\"CoW Protocol\">CoW Protocol</option><option value=\"CreateApe, inc.\">CreateApe, inc.</option><option value=\"Credit Wellness\">Credit Wellness</option><option value=DEON>DEON</option><option value=Deskpro>Deskpro</option><option value=\"dofollow.io\">dofollow.io</option><option value=Doximity>Doximity</option><option value=\"Draft.dev\">Draft.dev</option><option value=EasyPractice>EasyPractice</option><option value=\"EdReports.org\">EdReports.org</option><option value=EDUopinions>EDUopinions</option><option value=\"EG Publishing\">EG Publishing</option><option value=\"Ellipsis®\">Ellipsis®</option><option value=EngagedMD>EngagedMD</option><option value=\"ev.energy\">ev.energy</option><option value=Fearless>Fearless</option><option value=\"Files.com\">Files.com</option><option value=\"FinDox Inc\">FinDox Inc</option><option value=\"FragranceX.com\">FragranceX.com</option><option value=Frost>Frost</option><option value=Givebutter>Givebutter</option><option value=\"Glopal SAS\">Glopal SAS</option><option value=\"Gravity Forms\">Gravity Forms</option><option value=\"Growth Cave\">Growth Cave</option><option value=\"Growth Tools\">Growth Tools</option><option value=Hashlist>Hashlist</option><option value=\"HelloChakra LLC\">HelloChakra LLC</option><option value=\"hey contact heroes GmbH\">hey contact heroes GmbH</option><option value=HiveMQ>HiveMQ</option><option value=Hubly>Hubly</option><option value=Hygraph>Hygraph</option><option value=Hypergen>Hypergen</option><option value=IAPWE>IAPWE</option><option value=IFTTT>IFTTT</option><option value=\"Illumix, Inc \">Illumix, Inc </option><option value=\"Interaction Design Foundation\">Interaction Design Foundation</option><option value=\"Internet Projects Ltd\">Internet Projects Ltd</option><option value=IVPN>IVPN</option><option value=Ivy>Ivy</option><option value=\"Jam.gg\">Jam.gg</option><option value=Just>Just</option><option value=Kisi>Kisi</option><option value=Knack>Knack</option><option value=Labelbox>Labelbox</option><option value=\"LeadSimple, Inc.\">LeadSimple, Inc.</option><option value=\"Lemon.io\">Lemon.io</option><option value=Lifetimely>Lifetimely</option><option value=LingoAce>LingoAce</option><option value=LitCharts>LitCharts</option><option value=Livelines>Livelines</option><option value=\"Livingston Research\">Livingston Research</option><option value=LocalVR>LocalVR</option><option value=Lumerate>Lumerate</option><option value=\"Magnolia International Ltd.\">Magnolia International Ltd.</option><option value=\"Maharishi Foundation International\">Maharishi Foundation International</option><option value=Mainmatter>Mainmatter</option><option value=\"Matter Neuroscience\">Matter Neuroscience</option><option value=Merchstack>Merchstack</option><option value=MightyDigits>MightyDigits</option><option value=\"Mini Katana\">Mini Katana</option><option value=\"moveBuddha.com\">moveBuddha.com</option><option value=much>much</option><option value=\"Nagarro Digital Ventures\">Nagarro Digital Ventures</option><option value=NationBuilder>NationBuilder</option><option value=\"Native Camp\">Native Camp</option><option value=Nearcut>Nearcut</option><option value=\"Neighborhood Hosts, Inc\">Neighborhood Hosts, Inc</option><option value=\"New Law Business Model\">New Law Business Model</option><option value=\"OfficeSupply.com\">OfficeSupply.com</option><option value=\"Ollie Health\">Ollie Health</option><option value=OnTheGoSystems>OnTheGoSystems</option><option value=OpenCraft>OpenCraft</option><option value=OpenPlay>OpenPlay</option><option value=OperateBeyond>OperateBeyond</option><option value=\"Orbis Education\">Orbis Education</option><option value=Paymentology>Paymentology</option><option value=\"Phillips Law Firm\">Phillips Law Firm</option><option value=\"Pictureworks Group Pty. Ltd.\">Pictureworks Group Pty. Ltd.</option><option value=Pixellu>Pixellu</option><option value=\"Planning Center\">Planning Center</option><option value=\"Popcorn Growth\">Popcorn Growth</option><option value=\"Portal Fantasy\">Portal Fantasy</option><option value=\"Positive Intelligence\">Positive Intelligence</option><option value=\"ProjectDiscovery.io\">ProjectDiscovery.io</option><option value=\"Proxify AB\">Proxify AB</option><option value=QuickMail>QuickMail</option><option value=\"R.O.M. logicware GmbH\">R.O.M. logicware GmbH</option><option value=\"RapidSeedbox Ltd\">RapidSeedbox Ltd</option><option value=\"Rarely Decaf\">Rarely Decaf</option><option value=\"Rehab Media Network\">Rehab Media Network</option><option value=Remotasks>Remotasks</option><option value=RemoteMore>RemoteMore</option><option value=\"Rent Butter\">Rent Butter</option><option value=\"Rivo Commerce\">Rivo Commerce</option><option value=RoasterTools>RoasterTools</option><option value=\"Rocket Conversions\">Rocket Conversions</option><option value=SafetyWing>SafetyWing</option><option value=\"Salesflow.io\">Salesflow.io</option><option value=\"SEO Sherpa\">SEO Sherpa</option><option value=ShoutVox>ShoutVox</option><option value=\"Sidekick Therapy Partners\">Sidekick Therapy Partners</option><option value=silverorange>silverorange</option><option value=SimpleTexting>SimpleTexting</option><option value=Simvoly>Simvoly</option><option value=\"Sked Social\">Sked Social</option><option value=\"Skynova Inc\">Skynova Inc</option><option value=Soar>Soar</option><option value=Springboard>Springboard</option><option value=Stacker>Stacker</option><option value=\"Sticker Mule\">Sticker Mule</option><option value=Stimulus>Stimulus</option><option value=Storetasker>Storetasker</option><option value=\"Support Adventure\">Support Adventure</option><option value=\"SystemOne, LLC\">SystemOne, LLC</option><option value=Tawkify>Tawkify</option><option value=Teal>Teal</option><option value=Teamworks>Teamworks</option><option value=\"TELUS International\">TELUS International</option><option value=\"The Dyrt\">The Dyrt</option><option value=\"The Sales Connection \">The Sales Connection </option><option value=\"The Speaker Lab\">The Speaker Lab</option><option value=\"The Urban Writers\">The Urban Writers</option><option value=\"The Vaan Group\">The Vaan Group</option><option value=ThinkReservations>ThinkReservations</option><option value=Threecolts>Threecolts</option><option value=TimeZest>TimeZest</option><option value=Tixel>Tixel</option><option value=Toggl>Toggl</option><option value=\"Topflight Apps\">Topflight Apps</option><option value=Township>Township</option><option value=\"Trifecta Retail Ventures\">Trifecta Retail Ventures</option><option value=TrustedHousesitters>TrustedHousesitters</option><option value=\"ttt246 llc\">ttt246 llc</option><option value=\"Underdog Games\">Underdog Games</option><option value=Universiscapitalpartner>Universiscapitalpartner</option><option value=\"University of Virginia\">University of Virginia</option><option value=VetSnap>VetSnap</option><option value=\"Visionary Global Solution LLC\">Visionary Global Solution LLC</option><option value=Vortala>Vortala</option><option value=\"WagerLab - Social Sports Betting\">WagerLab - Social Sports Betting</option><option value=WalletConnect>WalletConnect</option><option value=WeatherWorks>WeatherWorks</option><option value=XM>XM</option><option value=\"Yoko Co\">Yoko Co</option><option value=Ziprent>Ziprent</option></select><span class=time_zone_chevron style=\"margin-top: 17px;\"><i class=\"fal fa-chevron-down form-chevron\" style=\"right: 35px;\"></i></span></div><div class=outsider-select><br><br><label for=\"\">Job Types</label><br><br><select name=\"job_listing_type[]\" id=job_listing_type data-placeholder=\"e.g., Contract vs. Full-Time\" class=\"custom-dropdown chosen chosen-outsider\" multiple=multiple onchange=\"this.form.submit()\"><option value=Contract>Contract</option><option value=Full-Time>Full-Time</option></select><span class=time_zone_chevron style=\"margin-top: 17px;\"><i class=\"fal fa-chevron-down form-chevron\" style=\"right: 35px;\"></i></span></div><div class=outsider-select><br><br><label for=\"\">Company Size</label><br><br><select name=\"company_size[]\" id=company_size data-placeholder=\"e.g., 1-10\" class=\"custom-dropdown chosen chosen-outsider\" multiple=multiple onchange=\"this.form.submit()\"><option value=\"1 - 10\">1 - 10</option><option value=\"11 - 50\">11 - 50</option><option value=\"51 - 250\">51 - 250</option><option value=\"251 - 1k\">251 - 1k</option><option value=\"1k - 10k\">1k - 10k</option><option value=\"10k - 50k\">10k - 50k</option><option value=\"50 - 100k\">50 - 100k</option><option value=\"100k+\">100k+</option></select><span class=time_zone_chevron style=\"margin-top: 17px;\"><i class=\"fal fa-chevron-down form-chevron\" style=\"right: 35px;\"></i></span></div><div class=outsider-select><br><br><label for=\"\">Industry</label><br><br><select name=\"industry[]\" id=industry data-placeholder=\"e.g., Engineering\" class=\"custom-dropdown chosen chosen-outsider\" multiple=multiple onchange=\"this.form.submit()\"><option value=Advertising>Advertising</option><option value=Accounting>Accounting</option><option value=Engineering>Engineering</option><option value=\"Consumer Goods\">Consumer Goods</option><option value=Education>Education</option><option value=\"Health care\">Health care</option><option value=\"Health &amp; Wellness\">Health &amp; Wellness</option><option value=\"Integrated Telecommunication Services\">Integrated Telecommunication Services</option><option value=\"Internet Software &amp; Services\">Internet Software &amp; Services</option><option value=\"Legal Services\">Legal Services</option><option value=Media>Media</option><option value=\"Real Estate\">Real Estate</option><option value=Retailing>Retailing</option><option value=\"Specialized Consumer Services\">Specialized Consumer Services</option></select><span class=time_zone_chevron style=\"margin-top: 17px;\"><i class=\"fal fa-chevron-down form-chevron\" style=\"right: 35px;\"></i></span></div><div class=outsider-select><br><br><label for=\"\">Years Remote</label><br><br><select name=\"years_remote[]\" id=years_remote data-placeholder=\"e.g., 1-3 years\" class=\"custom-dropdown chosen chosen-outsider\" multiple=multiple onchange=\"this.form.submit()\"><option value=\"Under 1 year\">Under 1 year</option><option value=\"1 - 3 years\">1 - 3 years</option><option value=\"3 - 5 years\">3 - 5 years</option><option value=\"5 - 10 years\">5 - 10 years</option><option value=\"10+ years\">10+ years</option></select><span class=time_zone_chevron style=\"margin-top: 17px;\"><i class=\"fal fa-chevron-down form-chevron\" style=\"right: 35px;\"></i></span></div></div></form></div></div><div class=listing_column id=listing__column><a id=job-listings class=anchor-offset>・</a><section class=jobs id=category-2><article><h2><a href=\"/categories/remote-full-stack-programming-jobs\">Full-Stack Programming Jobs</a><span class=latest_post>Latest post 12 days ago</span><a href=\"/categories/remote-full-stack-programming-jobs.rss\"><img class=feed src=\"https://weworkremotely.com/assets/rss-feed-bac611a39b717b45766a28c96e549e1879df2786844a54f9c888ed89d64891a7.svg\" width=16 height=16 /></a></h2><ul><section class=content-wrap id=desktop-digest><div class=inline_signup0><div class=errors0></div><form class=inline id=email-subscription-form action=\"/digest\" accept-charset=UTF-8 data-remote=true method=post><input type=hidden name=form value=0 /><div class=inline-email-subscription-main> Get new <button name=button type=button class=inline-categories-toggle>Full-Stack Programming</button> listings sent to <input placeholder=\"you@youremail.com\" type=email name=\"digest_subscription[email]\" id=digest_subscription_email /> every day! <input type=submit name=commit value=Subscribe class=inline data-disable-with=Subscribe /></div><div class=email-subscription-categories><label><input type=checkbox name=\"categories[]\" id=categories_ value=1 data-label=Design /><span>Design</span></label><label><input type=checkbox name=\"categories[]\" id=categories_ value=2 data-label=\"Full-Stack Programming\" checked/><span>Full-Stack Programming</span></label><label><input type=checkbox name=\"categories[]\" id=categories_ value=17 data-label=\"Front-End Programming\"/><span>Front-End Programming</span></label><label><input type=checkbox name=\"categories[]\" id=categories_ value=18 data-label=\"Back-End Programming\"/><span>Back-End Programming</span></label><label><input type=checkbox name=\"categories[]\" id=categories_ value=7 data-label=\"Customer Support\"/><span>Customer Support</span></label><label><input type=checkbox name=\"categories[]\" id=categories_ value=6 data-label=\"DevOps and Sysadmin\"/><span>DevOps and Sysadmin</span></label><label><input type=checkbox name=\"categories[]\" id=categories_ value=9 data-label=\"Sales and Marketing\"/><span>Sales and Marketing</span></label><label><input type=checkbox name=\"categories[]\" id=categories_ value=3 data-label=\"Management and Finance\"/><span>Management and Finance</span></label><label><input type=checkbox name=\"categories[]\" id=categories_ value=11 data-label=Product /><span>Product</span></label><label><input type=checkbox name=\"categories[]\" id=categories_ value=4 data-label=\"All Other Remote\"/><span>All Other Remote</span></label></div></form></div></section><li class=feature><div class=highlight-bar></div><div class=tooltip><a href=\"/company/opencraft\"><div class=flag-logo style=\"background-image:url(https://we-work-remotely.imgix.net/logos/0018/2699/logo.gif?ixlib=rails-4.0.0&w=50&h=50&dpr=2&fit=fill&auto=compress)\" loading=lazy alt=\"OpenCraft is hiring a remote Senior Open Source Developer &amp; DevOps (Python, Django, React, AWS/OpenStack) at We Work Remotely.\"></div><span class=tooltiptext>View Company Profile</span></a></div><a href=\"/remote-jobs/opencraft-senior-open-source-developer-devops-python-django-react-aws-openstack\"><span class=company>OpenCraft</span><br><span class=title>Senior Open Source Developer &amp; DevOps (Python, Django, React, AWS/OpenStack)</span><span class=featured>featured</span><br><span class=company>Full-Time</span><span>/</span><span class=\"region company\">Anywhere in the World</span></a></li><li class=feature><div class=highlight-bar></div><div class=tooltip><a href=\"/company/proxify-ab\"><div class=flag-logo style=\"background-image:url(https://we-work-remotely.imgix.net/logos/0084/0935/logo.gif?ixlib=rails-4.0.0&w=50&h=50&dpr=2&fit=fill&auto=compress)\" loading=lazy alt=\"Proxify AB is hiring a remote Senior Python Engineer: Long-term job - 100% remote at We Work Remotely.\"></div><span class=tooltiptext>View Company Profile</span></a></div><a href=\"/remote-jobs/proxify-ab-senior-python-engineer-long-term-job-100-remote\"><span class=company>Proxify AB</span><br><span class=title>Senior Python Engineer: Long-term job - 100% remote</span><span class=date><time datetime=\"2023-04-24T09:27:26Z\" data-local=time data-format=\"%b %e\">Apr 24</time></span><br><span class=company>Full-Time</span><span>/</span><span class=\"region company\">Anywhere in the World</span></a></li><li class=feature><div class=highlight-bar></div><div class=tooltip><a href=\"/company/lemon-io\"><div class=flag-logo style=\"background-image:url(https://we-work-remotely.imgix.net/logos/0084/2245/logo.gif?ixlib=rails-4.0.0&w=50&h=50&dpr=2&fit=fill&auto=compress)\" loading=lazy alt=\"Lemon.io is hiring a remote Full-stack Python Developer at We Work Remotely.\"></div><span class=tooltiptext>View Company Profile</span></a></div><a href=\"/remote-jobs/lemon-io-full-stack-python-developer\"><span class=company>Lemon.io</span><br><span class=title>Full-stack Python Developer </span><span class=featured>featured</span><br><span class=company>Full-Time</span><span>/</span><span class=\"region company\">Latin America Only/Europe Only/UK Only/Canada Only</span></a></li><li class=view-all><a href=\"/categories/remote-full-stack-programming-jobs\">View all 65 Full-Stack Programming jobs</a></li></ul></article></section><a id=job-listings class=anchor-offset>・</a><section class=jobs id=category-18><article><h2><a href=\"/categories/remote-back-end-programming-jobs\">Back-End Programming Jobs</a><span class=latest_post>Latest post 15 days ago</span><a href=\"/categories/remote-back-end-programming-jobs.rss\"><img class=feed src=\"https://weworkremotely.com/assets/rss-feed-bac611a39b717b45766a28c96e549e1879df2786844a54f9c888ed89d64891a7.svg\" width=16 height=16 /></a></h2><ul><section class=content-wrap id=desktop-digest><div class=inline_signup1><div class=errors1></div><form class=inline id=email-subscription-form action=\"/digest\" accept-charset=UTF-8 data-remote=true method=post><input type=hidden name=form value=1 /><div class=inline-email-subscription-main> Get new <button name=button type=button class=inline-categories-toggle>Back-End Programming</button> listings sent to <input placeholder=\"you@youremail.com\" type=email name=\"digest_subscription[email]\" id=digest_subscription_email /> every day! <input type=submit name=commit value=Subscribe class=inline data-disable-with=Subscribe /></div><div class=email-subscription-categories><label><input type=checkbox name=\"categories[]\" id=categories_ value=1 data-label=Design /><span>Design</span></label><label><input type=checkbox name=\"categories[]\" id=categories_ value=2 data-label=\"Full-Stack Programming\"/><span>Full-Stack Programming</span></label><label><input type=checkbox name=\"categories[]\" id=categories_ value=17 data-label=\"Front-End Programming\"/><span>Front-End Programming</span></label><label><input type=checkbox name=\"categories[]\" id=categories_ value=18 data-label=\"Back-End Programming\" checked/><span>Back-End Programming</span></label><label><input type=checkbox name=\"categories[]\" id=categories_ value=7 data-label=\"Customer Support\"/><span>Customer Support</span></label><label><input type=checkbox name=\"categories[]\" id=categories_ value=6 data-label=\"DevOps and Sysadmin\"/><span>DevOps and Sysadmin</span></label><label><input type=checkbox name=\"categories[]\" id=categories_ value=9 data-label=\"Sales and Marketing\"/><span>Sales and Marketing</span></label><label><input type=checkbox name=\"categories[]\" id=categories_ value=3 data-label=\"Management and Finance\"/><span>Management and Finance</span></label><label><input type=checkbox name=\"categories[]\" id=categories_ value=11 data-label=Product /><span>Product</span></label><label><input type=checkbox name=\"categories[]\" id=categories_ value=4 data-label=\"All Other Remote\"/><span>All Other Remote</span></label></div></form></div></section><li class=feature><div class=highlight-bar></div><div class=tooltip><a href=\"/company/onthegosystems\"><div class=flag-logo style=\"background-image:url(https://we-work-remotely.imgix.net/logos/0076/2990/logo.gif?ixlib=rails-4.0.0&w=50&h=50&dpr=2&fit=fill&auto=compress)\" loading=lazy alt=\"OnTheGoSystems is hiring a remote Senior Backend Developers for Mass-Market Project (RoR / Python are a plus!) at We Work Remotely.\"></div><span class=tooltiptext>View Company Profile</span></a></div><a href=\"/remote-jobs/onthegosystems-senior-backend-developers-for-mass-market-project-ror-python-are-a-plus\"><span class=company>OnTheGoSystems</span><object><a href=\"/top-remote-companies\" style=\"display: inline-block;\"><span class=listing-pill style=\"background: #dde0f4;\">Top 100</span></a></object><br><span class=title>Senior Backend Developers for Mass-Market Project (RoR / Python are a plus!)</span><span class=date><time datetime=\"2023-04-27T13:01:49Z\" data-local=time data-format=\"%b %e\">Apr 27</time></span><br><span class=company>Full-Time</span><span>/</span><span class=\"region company\">Anywhere in the World</span></a></li><li class=feature><div class=highlight-bar></div><div class=tooltip><a href=\"/company/close\"><div class=flag-logo style=\"background-image:url(https://we-work-remotely.imgix.net/logos/0081/7220/logo.gif?ixlib=rails-4.0.0&w=50&h=50&dpr=2&fit=fill&auto=compress)\" loading=lazy alt=\"Close is hiring a remote Senior/Staff Software Engineer - Backend/Python - USA (100% Remote) at We Work Remotely.\"></div><span class=tooltiptext>View Company Profile</span></a></div><a href=\"/remote-jobs/close-senior-staff-software-engineer-backend-python-usa-100-remote\"><span class=company>Close</span><object><a href=\"/top-remote-companies\" style=\"display: inline-block;\"><span class=listing-pill style=\"background: #dde0f4;\">Top 100</span></a></object><br><span class=title>Senior/Staff Software Engineer - Backend/Python - USA (100% Remote)</span><span class=featured>featured</span><br><span class=company>Full-Time</span><span>/</span><span class=\"region company\">USA Only</span></a></li><li class=view-all><a href=\"/categories/remote-back-end-programming-jobs\">View all 33 Back-End Programming jobs</a></li></ul></article></section></div></div></div><br style=\"clear:both\"/><script>\n",
      "  if ( document.getElementById('error_explanation')){\n",
      "    document.getElementById('error_explanation').style.display = 'none';\n",
      "  }\n",
      "  if ( document.getElementById('successExplanation')){\n",
      "    document.getElementById('successExplanation').style.display = 'none';\n",
      "  }\n",
      "</script></div></div><footer><section><div id=footer-left><br/><br/><img id=footer-logo-v2 src=\"https://weworkremotely.com/assets/LogoV2@2x-c7383b87d7cedb4e1fd443d9ff70bd2577ac054064ccf3089fb0c7c1564f3788.png\"/><br/><br/><p id=footer-network> We strongly encourage employers to embrace diversity, equity, and inclusion as fundamental values when hiring through We Work Remotely. <a id=contact href=\"mailto:hello@weworkremotely.com\">Get in touch <img class=paperplane src=\"https://weworkremotely.com/assets/paperplane-814cd53ee02cfa703906004965e214c2c78455acfda7e95c156f825cc00df3dd.svg\"/></a><br/><br><div id=mobile-footer><a href=\"/top-remote-companies\">Top 100 Companies</a><br/><a href=\"/remote-companies\">All Remote Companies</a><br/><a href=\"/frequently-asked-questions\">FAQ - Employers</a><br/><a href=\"https://mailchi.mp/weworkremotely/newsletter\" target=_blank>Newsletter</a><br/><a href=\"/blog\">Blog</a><br/><a href=\"https://learn.weworkremotely.com/?utm_source=wwr-footer\" target=_blank>Learning Portal</a><br><a href=\"/blog-categories/events\" target=_blank>Events</a><br><a href=\"/remote-job-rss-feed\">RSS</a><br><a href=\"/terms-and-conditions\">Terms</a><br><a href=\"/privacy\">Privacy</a><br><a href=\"/community-guidelines\">Guidelines</a><br><a href=\"/post-a-remote-job\">Why Choose WWR?</a><br><br><b id=total>30,618</b><b id=jobs-posted> Remote jobs posted</b><br><br><br><li><a class=footer-icons href=\"https://www.facebook.com/weworkremotely/?utm_content=footer-network&utm_source=we-work-remotely&utm_campaign=footer-network-fb&utm_medium=footer-network-fb\" target=_blank><img src=\"https://weworkremotely.com/assets/facebook-531b7d41f88457036d693d70cee1998c8b7b115b52e1781fc4428a9a4f5121b5.svg\"/></a><a class=footer-icons href=\"https://www.linkedin.com/company/18527028/?utm_content=footer-network&utm_source=we-work-remotely&utm_campaign=footer-network-linkedin&utm_medium=footer-network-linkedin\" target=_blank><img src=\"https://weworkremotely.com/assets/linkedin-23a8cd96172f54a738a48100b505c83df01f4b7da7e76da6fecf879c8f04bbc3.svg\"/></a><a class=footer-icons href=\"https://www.instagram.com/weworkremotelycom/?hl=en&utm_campaign=footer-network-ig&utm_medium=footer-network-ig\" target=_blank><img src=\"https://weworkremotely.com/assets/instagram-6c8dd853a0bc5b5deae9f1dddc4c58ada52dbde23142a57a0d466f42661a8af3.svg\"/></a><a class=footer-icons href=\"https://twitter.com/weworkremotely/?utm_content=footer-network&utm_source=we-work-remotely&utm_campaign=footer-network-twitter&utm_medium=footer-network-twitter\" target=_blank><img src=\"https://weworkremotely.com/assets/twitter-80a6bef32a881252b35f7bd488d3f7d3d87a44ff6540b62d4fe44269ff350585.svg\"/></a><a class=footer-icons href=\"https://bit.ly/wwrslack2021\" target=_blank><img src=\"https://weworkremotely.com/assets/slack-4341aece3e5f2e7355d24ea1511138358d2d179930af8a4b589fdc5a4cc66ec7.svg\"/></a></li><br><br><li id=copyright> Copyright &copy; 2023 <span id=mobile-break><br><br></span><span id=mobile-bull></span></li></div></div><div id=footer-right><p id=listings-total><b id=total>30,618</b><br/><b id=jobs-posted>Remote jobs posted<br/></b><a href=\"/remote-jobs/new\" id=job-cta-alt>Post a job for $299</a><br/><br/><br/><br/><br/><a href=\"#\" style=\"color: #FFFFFF;font-size: 1em;\">Back to top ↑</a></p></div><div id=footer-right style=\"margin-right: 42px;\"></div></section><div id=resource-banner><div><ul><li><a href=\"/top-remote-companies\">Top 100 Companies</a></li><span>&#8226;</span><li><a href=\"/remote-companies\">All Remote Companies<a/></li><span>&#8226;</span><li><a href=\"/frequently-asked-questions\">FAQ - Employers</a></li><span>&#8226;</span><li><a href=\"https://learn.weworkremotely.com/?utm_source=wwr-footer\" target=_blank>Learning Portal</a></li><span>&#8226;</span><li><a href=\"https://mailchi.mp/weworkremotely/newsletter\" target=_blank>Newsletter</a></li><span>&#8226;</span><li><a href=\"/blog\">Blog</a></li><span>&#8226;</span><li><a href=\"/blog-categories/events\" target=_blank>Events</a></li><span>&#8226;</span><li><a href=\"/remote-job-rss-feed\">RSS</a></li></ul></div></div><div id=copyright-banner><div><ul><li> Copyright &copy; 2023 <span id=mobile-break><br><br></span><span id=mobile-bull></span></li><li><a href=\"/terms-and-conditions\"><span>&#8226;</span>Terms</a></li><li><a href=\"/privacy\"><span>&#8226;</span>Privacy</a></li><li><a href=\"/community-guidelines\"><span>&#8226;</span>Guidelines</a></li><li><a href=\"/post-a-remote-job\"><span>&#8226;</span>Why Choose WWR?</a></li><li><a class=footer-icons href=\"https://www.facebook.com/weworkremotely/?utm_content=footer-network&utm_source=we-work-remotely&utm_campaign=footer-network-fb&utm_medium=footer-network-fb\" target=_blank><img src=\"https://weworkremotely.com/assets/facebook-531b7d41f88457036d693d70cee1998c8b7b115b52e1781fc4428a9a4f5121b5.svg\"/></a><a class=footer-icons href=\"https://www.linkedin.com/company/18527028/?utm_content=footer-network&utm_source=we-work-remotely&utm_campaign=footer-network-linkedin&utm_medium=footer-network-linkedin\" target=_blank><img src=\"https://weworkremotely.com/assets/linkedin-23a8cd96172f54a738a48100b505c83df01f4b7da7e76da6fecf879c8f04bbc3.svg\"/></a><a class=footer-icons href=\"https://www.instagram.com/weworkremotelycom/?hl=en&utm_campaign=footer-network-ig&utm_medium=footer-network-ig\" target=_blank><img src=\"https://weworkremotely.com/assets/instagram-6c8dd853a0bc5b5deae9f1dddc4c58ada52dbde23142a57a0d466f42661a8af3.svg\"/></a><a class=footer-icons href=\"https://twitter.com/weworkremotely/?utm_content=footer-network&utm_source=we-work-remotely&utm_campaign=footer-network-twitter&utm_medium=footer-network-twitter\" target=_blank><img src=\"https://weworkremotely.com/assets/twitter-80a6bef32a881252b35f7bd488d3f7d3d87a44ff6540b62d4fe44269ff350585.svg\"/></a><a class=footer-icons href=\"https://bit.ly/wwrslack2021\" target=_blank><img src=\"https://weworkremotely.com/assets/slack-4341aece3e5f2e7355d24ea1511138358d2d179930af8a4b589fdc5a4cc66ec7.svg\"/></a></li></ul></div></div></footer><script src=\"https://code.jquery.com/jquery-3.5.1.min.js\"></script><script src=\"https://cdnjs.cloudflare.com/ajax/libs/jquery-ujs/1.2.2/rails.js\"></script><script src=\"https://cdnjs.cloudflare.com/ajax/libs/fixto/0.5.0/fixto.min.js\"></script><script src=\"https://unpkg.com/@popperjs/core@2\"></script><script src=\"https://unpkg.com/tippy.js@6\"></script><script>\n",
      "  tippy('.clip-btn', {\n",
      "    content: \"Email Copied to Clipboard!\",\n",
      "    placement: 'top',\n",
      "    animation: 'fade',\n",
      "    trigger: 'click',\n",
      "    delay: 50,\n",
      "    // onShow(instance) {\n",
      "    //   setTimeout(() => {\n",
      "    //     instance.hide();\n",
      "    //   }, 5000);\n",
      "    // }\n",
      "  });\n",
      "</script><script src=\"https://weworkremotely.com/assets/application-3c5b2f43390b453221e1e867be40c0bac0bc284e2ba6663462a9d5c71551f9d3.js\"></script><script async>adroll_adv_id=\"ACJ6YJHXKNBNJBSFTNFVOF\",adroll_pix_id=\"W4DPE7ODW5E3BKBBL3VPMG\",adroll_email=\"matt@tinyboards.co\",function(){var t=function(){if(!document.readyState||/loaded|complete/.test(document.readyState)){if(!window.__adroll_loaded)return __adroll_loaded=!0,void setTimeout(t,50);var e=document.createElement(\"script\"),d=\"https:\"==document.location.protocol?\"https://s.adroll.com\":\"http://a.adroll.com\";e.setAttribute(\"async\",\"true\"),e.type=\"text/javascript\",e.src=d+\"/j/roundtrip.js\",((document.getElementsByTagName(\"head\")||[null])[0]||document.getElementsByTagName(\"script\")[0].parentNode).appendChild(e)}else setTimeout(t,10)};window.addEventListener?window.addEventListener(\"load\",t,!1):window.attachEvent(\"onload\",t)}();</script><script async>\n",
      "!function(e,t,n,s,u,a){e.twq||(s=e.twq=function(){s.exe?s.exe.apply(s,arguments):s.queue.push(arguments);\n",
      "},s.version='1.1',s.queue=[],u=t.createElement(n),u.async=!0,u.src='//static.ads-twitter.com/uwt.js',\n",
      "a=t.getElementsByTagName(n)[0],a.parentNode.insertBefore(u,a))}(window,document,'script');\n",
      "// Insert Twitter Pixel ID and Standard Event data below\n",
      "twq('init','nzx8k');\n",
      "twq('track','PageView');\n",
      "</script><script> _linkedin_partner_id = \"663722\"; window._linkedin_data_partner_ids = window._linkedin_data_partner_ids || []; window._linkedin_data_partner_ids.push(_linkedin_partner_id); </script><script> (function(){var s = document.getElementsByTagName(\"script\")[0]; var b = document.createElement(\"script\"); b.type = \"text/javascript\";b.async = true; b.src = \"https://snap.licdn.com/li.lms-analytics/insight.min.js\"; s.parentNode.insertBefore(b, s);})(); </script><noscript><img height=1 width=1 style=\"display:none;\" alt=\"\" src=\"https://dc.ads.linkedin.com/collect/?pid=663722&fmt=gif\"/></noscript><script src=\"https://cdnjs.cloudflare.com/ajax/libs/chosen/1.8.7/chosen.jquery.min.js\" integrity=\"sha512-rMGGF4wg1R73ehtnxXBt5mbUfN9JUJwbk21KMlnLZDJh7BkPmeovBuddZCENJddHYYMkCh9hPFnPmS9sspki8g==\" crossorigin=anonymous></script><script>\n",
      "  jQuery(document).ready(function () {\n",
      "    var chosenOpen = false;\n",
      "    jQuery(\".chosen\").chosen();\n",
      "    jQuery('.outsider-select').append('<span class=\"closeChosen\"></span>');\n",
      "    jQuery(document).on('click', '.closeChosen', function (e) {\n",
      "      var chosenEle = jQuery(this).parents('.outsider-select').find('.chosen-container');\n",
      "      if (chosenEle.hasClass('chosen-with-drop') && chosenEle.hasClass('chosen-container-active')) {\n",
      "        jQuery(this).parents('.outsider-select').find('select').trigger('chosen:close');\n",
      "      } else {\n",
      "        jQuery(this).parents('.outsider-select').find('select').trigger('chosen:open');\n",
      "      }\n",
      "    });\n",
      "\n",
      "    // Warning - Library is no longer maintained, refer: https://github.com/bbarakaci/fixto\n",
      "    // Update Library to https://cdnjs.com/libraries/stickybits\n",
      "    var stickyEl = jQuery('#advanced_search_filters').fixTo('#side_filter_column', {\n",
      "      top: 100,\n",
      "      mindBottomPadding: true\n",
      "    });\n",
      "  });\n",
      "</script></body></html>\n"
     ]
    }
   ],
   "source": [
    "from requests import get \n",
    "\n",
    "base_url = \"https://weworkremotely.com/remote-jobs/search?utf8=✓&term=\"\n",
    "\n",
    "search_term = \"python\"\n",
    "\n",
    "response = get(f\"{base_url}{search_term}\")\n",
    "\n",
    "print(response.text)"
   ]
  },
  {
   "cell_type": "code",
   "execution_count": 10,
   "id": "177996e0",
   "metadata": {},
   "outputs": [
    {
     "name": "stdout",
     "output_type": "stream",
     "text": [
      "<class 'str'>\n"
     ]
    }
   ],
   "source": [
    "print(type(response.text))"
   ]
  },
  {
   "cell_type": "markdown",
   "id": "8ae93983",
   "metadata": {},
   "source": [
    "---"
   ]
  },
  {
   "cell_type": "markdown",
   "id": "78d28c53",
   "metadata": {},
   "source": [
    "## BeautifulSoup\n",
    "\n",
    "- request.text를 이용해 가져온 데이터는 str 형태의 html\n",
    "\n",
    "- str 형태의 html 데이터에서 원하는 html 태그를 추출 할수 있도록 도와주는 라이브러리\n",
    "\n",
    "\n",
    "\n",
    "- https://www.crummy.com/software/BeautifulSoup/bs4/doc/\n",
    "\n",
    "- https://weworkremotely.com/remote-jobs/search?utf8=%E2%9C%93&term=python\n",
    "\n",
    "- `pip3 install bs4`\n",
    "\n",
    "- find_all"
   ]
  },
  {
   "cell_type": "code",
   "execution_count": 29,
   "id": "5210a2d3",
   "metadata": {},
   "outputs": [
    {
     "name": "stdout",
     "output_type": "stream",
     "text": [
      "2\n",
      "\n",
      "<li class=\"feature\"><div class=\"highlight-bar\"></div><div class=\"tooltip\"><a href=\"/company/opencraft\"><div alt=\"OpenCraft is hiring a remote Senior Open Source Developer &amp; DevOps (Python, Django, React, AWS/OpenStack) at We Work Remotely.\" class=\"flag-logo\" loading=\"lazy\" style=\"background-image:url(https://we-work-remotely.imgix.net/logos/0018/2699/logo.gif?ixlib=rails-4.0.0&amp;w=50&amp;h=50&amp;dpr=2&amp;fit=fill&amp;auto=compress)\"></div><span class=\"tooltiptext\">View Company Profile</span></a></div><a href=\"/remote-jobs/opencraft-senior-open-source-developer-devops-python-django-react-aws-openstack\"><span class=\"company\">OpenCraft</span><br/><span class=\"title\">Senior Open Source Developer &amp; DevOps (Python, Django, React, AWS/OpenStack)</span><span class=\"featured\">featured</span><br/><span class=\"company\">Full-Time</span><span>/</span><span class=\"region company\">Anywhere in the World</span></a></li>\n",
      "\n",
      "<li class=\"feature\"><div class=\"highlight-bar\"></div><div class=\"tooltip\"><a href=\"/company/proxify-ab\"><div alt=\"Proxify AB is hiring a remote Senior Python Engineer: Long-term job - 100% remote at We Work Remotely.\" class=\"flag-logo\" loading=\"lazy\" style=\"background-image:url(https://we-work-remotely.imgix.net/logos/0084/0935/logo.gif?ixlib=rails-4.0.0&amp;w=50&amp;h=50&amp;dpr=2&amp;fit=fill&amp;auto=compress)\"></div><span class=\"tooltiptext\">View Company Profile</span></a></div><a href=\"/remote-jobs/proxify-ab-senior-python-engineer-long-term-job-100-remote\"><span class=\"company\">Proxify AB</span><br/><span class=\"title\">Senior Python Engineer: Long-term job - 100% remote</span><span class=\"date\"><time data-format=\"%b %e\" data-local=\"time\" datetime=\"2023-04-24T09:27:26Z\">Apr 24</time></span><br/><span class=\"company\">Full-Time</span><span>/</span><span class=\"region company\">Anywhere in the World</span></a></li>\n",
      "\n",
      "<li class=\"feature\"><div class=\"highlight-bar\"></div><div class=\"tooltip\"><a href=\"/company/lemon-io\"><div alt=\"Lemon.io is hiring a remote Full-stack Python Developer at We Work Remotely.\" class=\"flag-logo\" loading=\"lazy\" style=\"background-image:url(https://we-work-remotely.imgix.net/logos/0084/2245/logo.gif?ixlib=rails-4.0.0&amp;w=50&amp;h=50&amp;dpr=2&amp;fit=fill&amp;auto=compress)\"></div><span class=\"tooltiptext\">View Company Profile</span></a></div><a href=\"/remote-jobs/lemon-io-full-stack-python-developer\"><span class=\"company\">Lemon.io</span><br/><span class=\"title\">Full-stack Python Developer </span><span class=\"featured\">featured</span><br/><span class=\"company\">Full-Time</span><span>/</span><span class=\"region company\">Latin America Only/Europe Only/UK Only/Canada Only</span></a></li>\n",
      "\n",
      "<li class=\"feature\"><div class=\"highlight-bar\"></div><div class=\"tooltip\"><a href=\"/company/onthegosystems\"><div alt=\"OnTheGoSystems is hiring a remote Senior Backend Developers for Mass-Market Project (RoR / Python are a plus!) at We Work Remotely.\" class=\"flag-logo\" loading=\"lazy\" style=\"background-image:url(https://we-work-remotely.imgix.net/logos/0076/2990/logo.gif?ixlib=rails-4.0.0&amp;w=50&amp;h=50&amp;dpr=2&amp;fit=fill&amp;auto=compress)\"></div><span class=\"tooltiptext\">View Company Profile</span></a></div><a href=\"/remote-jobs/onthegosystems-senior-backend-developers-for-mass-market-project-ror-python-are-a-plus\"><span class=\"company\">OnTheGoSystems</span><object><a href=\"/top-remote-companies\" style=\"display: inline-block;\"><span class=\"listing-pill\" style=\"background: #dde0f4;\">Top 100</span></a></object><br/><span class=\"title\">Senior Backend Developers for Mass-Market Project (RoR / Python are a plus!)</span><span class=\"date\"><time data-format=\"%b %e\" data-local=\"time\" datetime=\"2023-04-27T13:01:49Z\">Apr 27</time></span><br/><span class=\"company\">Full-Time</span><span>/</span><span class=\"region company\">Anywhere in the World</span></a></li>\n",
      "\n",
      "<li class=\"feature\"><div class=\"highlight-bar\"></div><div class=\"tooltip\"><a href=\"/company/close\"><div alt=\"Close is hiring a remote Senior/Staff Software Engineer - Backend/Python - USA (100% Remote) at We Work Remotely.\" class=\"flag-logo\" loading=\"lazy\" style=\"background-image:url(https://we-work-remotely.imgix.net/logos/0081/7220/logo.gif?ixlib=rails-4.0.0&amp;w=50&amp;h=50&amp;dpr=2&amp;fit=fill&amp;auto=compress)\"></div><span class=\"tooltiptext\">View Company Profile</span></a></div><a href=\"/remote-jobs/close-senior-staff-software-engineer-backend-python-usa-100-remote\"><span class=\"company\">Close</span><object><a href=\"/top-remote-companies\" style=\"display: inline-block;\"><span class=\"listing-pill\" style=\"background: #dde0f4;\">Top 100</span></a></object><br/><span class=\"title\">Senior/Staff Software Engineer - Backend/Python - USA (100% Remote)</span><span class=\"featured\">featured</span><br/><span class=\"company\">Full-Time</span><span>/</span><span class=\"region company\">USA Only</span></a></li>\n",
      "\n"
     ]
    }
   ],
   "source": [
    "from requests import get \n",
    "\n",
    "from bs4 import BeautifulSoup\n",
    "\n",
    "\n",
    "base_url = \"https://weworkremotely.com/remote-jobs/search?utf8=✓&term=\"\n",
    "\n",
    "search_term = \"python\"\n",
    "\n",
    "response = get(f\"{base_url}{search_term}\")\n",
    "\n",
    "    \n",
    "if response.status_code != 200:\n",
    "    print(\"Can't request website\")\n",
    "else:\n",
    "    \n",
    "    # str 형태의 html 데이터 를 받아와 soup 객체로 변환\n",
    "    soup = BeautifulSoup(response.text,\"html.parser\")  \n",
    "    \n",
    "    # print(soup.find_all('title'))\n",
    "    \n",
    "    # class 네임이 jobs 인 section 태그 데이터를 <class 'bs4.element.ResultSet'> 데이터 로 반환 \n",
    "    # 리스트 호환\n",
    "    \n",
    "    jobs = soup.find_all('section', class_=\"jobs\")\n",
    "    print(len(jobs))\n",
    "    print()\n",
    "    \n",
    "    for job_section in jobs:\n",
    "    \n",
    "        # li tag 모두 리스트 호환 형으로 반환\n",
    "        job_posts = job_section.find_all('li') \n",
    "    \n",
    "#         for post in job_posts:\n",
    "#             print(post)\n",
    "#             print()\n",
    "        \n",
    "        # --- 필터링 해줘야 함 (view-all 클래스)\n",
    "        \n",
    "        # 리스트 컴프리헨션으로 li tag 중 class 네임 view-all 클래스 제외 (버튼)\n",
    "        # 리스트 형으로, pop 도 가능\n",
    "        job_posts = [ post for post in job_section.find_all('li') if 'view-all' not in post['class'] ]\n",
    "        #job_posts = [ post for post in job_section.find_all('li') if 'feature' in post['class'] ]\n",
    "\n",
    "        for post in job_posts:\n",
    "            print(post)\n",
    "            print()\n",
    "            "
   ]
  },
  {
   "cell_type": "markdown",
   "id": "ea26bd71",
   "metadata": {},
   "source": [
    "- jobs 클래스 인 모든 section 에 접근 가능\n",
    "\n",
    "- 'class_' argument 로 사용해야 함 \n",
    "\n",
    "- li 안에 있는 각 항목"
   ]
  },
  {
   "cell_type": "markdown",
   "id": "d97ef88a",
   "metadata": {},
   "source": [
    "---"
   ]
  },
  {
   "cell_type": "code",
   "execution_count": 16,
   "id": "1c4ad078",
   "metadata": {},
   "outputs": [
    {
     "name": "stdout",
     "output_type": "stream",
     "text": [
      "[<a href=\"/company/opencraft\"><div alt=\"OpenCraft is hiring a remote Senior Open Source Developer &amp; DevOps (Python, Django, React, AWS/OpenStack) at We Work Remotely.\" class=\"flag-logo\" loading=\"lazy\" style=\"background-image:url(https://we-work-remotely.imgix.net/logos/0018/2699/logo.gif?ixlib=rails-4.0.0&amp;w=50&amp;h=50&amp;dpr=2&amp;fit=fill&amp;auto=compress)\"></div><span class=\"tooltiptext\">View Company Profile</span></a>, <a href=\"/remote-jobs/opencraft-senior-open-source-developer-devops-python-django-react-aws-openstack\"><span class=\"company\">OpenCraft</span><br/><span class=\"title\">Senior Open Source Developer &amp; DevOps (Python, Django, React, AWS/OpenStack)</span><span class=\"date\"><time data-format=\"%b %e\" data-local=\"time\" datetime=\"2023-04-29T20:46:50Z\">Apr 29</time></span><br/><span class=\"company\">Full-Time</span><span>/</span><span class=\"region company\">Anywhere in the World</span></a>]\n",
      "\n",
      "[<a href=\"/company/proxify-ab\"><div alt=\"Proxify AB is hiring a remote Senior Python Engineer: Long-term job - 100% remote at We Work Remotely.\" class=\"flag-logo\" loading=\"lazy\" style=\"background-image:url(https://we-work-remotely.imgix.net/logos/0084/0935/logo.gif?ixlib=rails-4.0.0&amp;w=50&amp;h=50&amp;dpr=2&amp;fit=fill&amp;auto=compress)\"></div><span class=\"tooltiptext\">View Company Profile</span></a>, <a href=\"/remote-jobs/proxify-ab-senior-python-engineer-long-term-job-100-remote\"><span class=\"company\">Proxify AB</span><br/><span class=\"title\">Senior Python Engineer: Long-term job - 100% remote</span><span class=\"date\"><time data-format=\"%b %e\" data-local=\"time\" datetime=\"2023-04-24T09:27:26Z\">Apr 24</time></span><br/><span class=\"company\">Full-Time</span><span>/</span><span class=\"region company\">Anywhere in the World</span></a>]\n",
      "\n",
      "[<a href=\"/company/lemon-io\"><div alt=\"Lemon.io is hiring a remote Full-stack Python Developer at We Work Remotely.\" class=\"flag-logo\" loading=\"lazy\" style=\"background-image:url(https://we-work-remotely.imgix.net/logos/0084/2245/logo.gif?ixlib=rails-4.0.0&amp;w=50&amp;h=50&amp;dpr=2&amp;fit=fill&amp;auto=compress)\"></div><span class=\"tooltiptext\">View Company Profile</span></a>, <a href=\"/remote-jobs/lemon-io-full-stack-python-developer\"><span class=\"company\">Lemon.io</span><br/><span class=\"title\">Full-stack Python Developer </span><span class=\"featured\">featured</span><br/><span class=\"company\">Full-Time</span><span>/</span><span class=\"region company\">Latin America Only/Europe Only/UK Only/Canada Only</span></a>]\n",
      "\n",
      "[<a href=\"/company/onthegosystems\"><div alt=\"OnTheGoSystems is hiring a remote Senior Backend Developers for Mass-Market Project (RoR / Python are a plus!) at We Work Remotely.\" class=\"flag-logo\" loading=\"lazy\" style=\"background-image:url(https://we-work-remotely.imgix.net/logos/0076/2990/logo.gif?ixlib=rails-4.0.0&amp;w=50&amp;h=50&amp;dpr=2&amp;fit=fill&amp;auto=compress)\"></div><span class=\"tooltiptext\">View Company Profile</span></a>, <a href=\"/remote-jobs/onthegosystems-senior-backend-developers-for-mass-market-project-ror-python-are-a-plus\"><span class=\"company\">OnTheGoSystems</span><object><a href=\"/top-remote-companies\" style=\"display: inline-block;\"><span class=\"listing-pill\" style=\"background: #dde0f4;\">Top 100</span></a></object><br/><span class=\"title\">Senior Backend Developers for Mass-Market Project (RoR / Python are a plus!)</span><span class=\"date\"><time data-format=\"%b %e\" data-local=\"time\" datetime=\"2023-04-27T13:01:49Z\">Apr 27</time></span><br/><span class=\"company\">Full-Time</span><span>/</span><span class=\"region company\">Anywhere in the World</span></a>, <a href=\"/top-remote-companies\" style=\"display: inline-block;\"><span class=\"listing-pill\" style=\"background: #dde0f4;\">Top 100</span></a>]\n",
      "\n",
      "[<a href=\"/company/close\"><div alt=\"Close is hiring a remote Senior/Staff Software Engineer - Backend/Python - USA (100% Remote) at We Work Remotely.\" class=\"flag-logo\" loading=\"lazy\" style=\"background-image:url(https://we-work-remotely.imgix.net/logos/0081/7220/logo.gif?ixlib=rails-4.0.0&amp;w=50&amp;h=50&amp;dpr=2&amp;fit=fill&amp;auto=compress)\"></div><span class=\"tooltiptext\">View Company Profile</span></a>, <a href=\"/remote-jobs/close-senior-staff-software-engineer-backend-python-usa-100-remote\"><span class=\"company\">Close</span><object><a href=\"/top-remote-companies\" style=\"display: inline-block;\"><span class=\"listing-pill\" style=\"background: #dde0f4;\">Top 100</span></a></object><br/><span class=\"title\">Senior/Staff Software Engineer - Backend/Python - USA (100% Remote)</span><span class=\"featured\">featured</span><br/><span class=\"company\">Full-Time</span><span>/</span><span class=\"region company\">USA Only</span></a>, <a href=\"/top-remote-companies\" style=\"display: inline-block;\"><span class=\"listing-pill\" style=\"background: #dde0f4;\">Top 100</span></a>]\n",
      "\n"
     ]
    }
   ],
   "source": [
    "from requests import get \n",
    "\n",
    "from bs4 import BeautifulSoup\n",
    "\n",
    "\n",
    "base_url = \"https://weworkremotely.com/remote-jobs/search?utf8=✓&term=\"\n",
    "\n",
    "search_term = \"python\"\n",
    "\n",
    "response = get(f\"{base_url}{search_term}\")\n",
    "\n",
    "    \n",
    "if response.status_code != 200:\n",
    "    print(\"Can't request website\")\n",
    "else:\n",
    "    soup = BeautifulSoup(response.text,\"html.parser\")\n",
    "    \n",
    "    # print(soup.find_all('title'))\n",
    "\n",
    "    jobs = soup.find_all('section', class_=\"jobs\")\n",
    "    # print(soup.find_all('section', class_=\"jobs\"))    \n",
    "    # print(len(jobs))\n",
    "    \n",
    "    for job_section in jobs:\n",
    "    \n",
    "        # print(job_section.find_all('li')) \n",
    "        job_posts = job_section.find_all('li')\n",
    "        \n",
    "        # 리스트 컴프리헨션으로 view-all 클래스 제외 (버튼)\n",
    "        job_posts = [post for post in job_section.find_all('li') if 'view-all' not in post['class']]\n",
    "\n",
    "        # 그중 'a' 태그 추출 \n",
    "        for post in job_posts:\n",
    "            \n",
    "            anchors = post.find_all('a')\n",
    "            \n",
    "            print(anchors)\n",
    "            print()\n",
    "            "
   ]
  },
  {
   "cell_type": "markdown",
   "id": "c0e701f5",
   "metadata": {},
   "source": [
    "---"
   ]
  },
  {
   "cell_type": "code",
   "execution_count": 39,
   "id": "afbdcdb9",
   "metadata": {},
   "outputs": [
    {
     "name": "stdout",
     "output_type": "stream",
     "text": [
      "<a href=\"/remote-jobs/opencraft-senior-open-source-developer-devops-python-django-react-aws-openstack\"><span class=\"company\">OpenCraft</span><br/><span class=\"title\">Senior Open Source Developer &amp; DevOps (Python, Django, React, AWS/OpenStack)</span><span class=\"featured\">featured</span><br/><span class=\"company\">Full-Time</span><span>/</span><span class=\"region company\">Anywhere in the World</span></a>\n",
      "\n",
      "<a href=\"/remote-jobs/proxify-ab-senior-python-engineer-long-term-job-100-remote\"><span class=\"company\">Proxify AB</span><br/><span class=\"title\">Senior Python Engineer: Long-term job - 100% remote</span><span class=\"date\"><time data-format=\"%b %e\" data-local=\"time\" datetime=\"2023-04-24T09:27:26Z\">Apr 24</time></span><br/><span class=\"company\">Full-Time</span><span>/</span><span class=\"region company\">Anywhere in the World</span></a>\n",
      "\n",
      "<a href=\"/remote-jobs/lemon-io-full-stack-python-developer\"><span class=\"company\">Lemon.io</span><br/><span class=\"title\">Full-stack Python Developer </span><span class=\"featured\">featured</span><br/><span class=\"company\">Full-Time</span><span>/</span><span class=\"region company\">Latin America Only/Europe Only/UK Only/Canada Only</span></a>\n",
      "\n",
      "<a href=\"/remote-jobs/onthegosystems-senior-backend-developers-for-mass-market-project-ror-python-are-a-plus\"><span class=\"company\">OnTheGoSystems</span><object><a href=\"/top-remote-companies\" style=\"display: inline-block;\"><span class=\"listing-pill\" style=\"background: #dde0f4;\">Top 100</span></a></object><br/><span class=\"title\">Senior Backend Developers for Mass-Market Project (RoR / Python are a plus!)</span><span class=\"date\"><time data-format=\"%b %e\" data-local=\"time\" datetime=\"2023-04-27T13:01:49Z\">Apr 27</time></span><br/><span class=\"company\">Full-Time</span><span>/</span><span class=\"region company\">Anywhere in the World</span></a>\n",
      "\n",
      "<a href=\"/remote-jobs/close-senior-staff-software-engineer-backend-python-usa-100-remote\"><span class=\"company\">Close</span><object><a href=\"/top-remote-companies\" style=\"display: inline-block;\"><span class=\"listing-pill\" style=\"background: #dde0f4;\">Top 100</span></a></object><br/><span class=\"title\">Senior/Staff Software Engineer - Backend/Python - USA (100% Remote)</span><span class=\"featured\">featured</span><br/><span class=\"company\">Full-Time</span><span>/</span><span class=\"region company\">USA Only</span></a>\n",
      "\n"
     ]
    }
   ],
   "source": [
    "from requests import get \n",
    "\n",
    "from bs4 import BeautifulSoup\n",
    "\n",
    "\n",
    "base_url = \"https://weworkremotely.com/remote-jobs/search?utf8=✓&term=\"\n",
    "\n",
    "search_term = \"python\"\n",
    "\n",
    "response = get(f\"{base_url}{search_term}\")\n",
    "\n",
    "    \n",
    "if response.status_code != 200:\n",
    "    print(\"Can't request website\")\n",
    "else:\n",
    "    soup = BeautifulSoup(response.text,\"html.parser\")\n",
    "    \n",
    "    # print(soup.find_all('title'))\n",
    "\n",
    "    jobs = soup.find_all('section', class_=\"jobs\")\n",
    "    # print(soup.find_all('section', class_=\"jobs\"))    \n",
    "    # print(len(jobs))\n",
    "    \n",
    "    for job_section in jobs:\n",
    "    \n",
    "        # print(job_section.find_all('li')) \n",
    "        job_posts = job_section.find_all('li')\n",
    "        \n",
    "        # 리스트 컴프리헨션으로 view-all 클래스 제외 (버튼)\n",
    "        job_posts = [post for post in job_section.find_all('li') if 'view-all' not in post['class']]\n",
    "\n",
    "        for post in job_posts:\n",
    "            anchors = post.find_all('a')\n",
    "            \n",
    "            # 'a' 태그중 필요한 정보가 있는 곳 인덱싱\n",
    "            anchor = anchors[1] \n",
    "            print(anchor)\n",
    "            print()\n",
    "            "
   ]
  },
  {
   "cell_type": "markdown",
   "id": "aa8247f6",
   "metadata": {},
   "source": [
    "<img src = '1.png' >"
   ]
  },
  {
   "cell_type": "markdown",
   "id": "0e904042",
   "metadata": {},
   "source": [
    "---"
   ]
  },
  {
   "cell_type": "code",
   "execution_count": 42,
   "id": "512eae27",
   "metadata": {},
   "outputs": [
    {
     "name": "stdout",
     "output_type": "stream",
     "text": [
      "/remote-jobs/opencraft-senior-open-source-developer-devops-python-django-react-aws-openstack\n",
      "\n",
      "/remote-jobs/proxify-ab-senior-python-engineer-long-term-job-100-remote\n",
      "\n",
      "/remote-jobs/lemon-io-full-stack-python-developer\n",
      "\n",
      "/remote-jobs/onthegosystems-senior-backend-developers-for-mass-market-project-ror-python-are-a-plus\n",
      "\n",
      "/remote-jobs/close-senior-staff-software-engineer-backend-python-usa-100-remote\n",
      "\n"
     ]
    }
   ],
   "source": [
    "from requests import get \n",
    "\n",
    "from bs4 import BeautifulSoup\n",
    "\n",
    "\n",
    "base_url = \"https://weworkremotely.com/remote-jobs/search?utf8=✓&term=\"\n",
    "\n",
    "search_term = \"python\"\n",
    "\n",
    "response = get(f\"{base_url}{search_term}\")\n",
    "\n",
    "    \n",
    "if response.status_code != 200:\n",
    "    print(\"Can't request website\")\n",
    "else:\n",
    "    soup = BeautifulSoup(response.text,\"html.parser\")\n",
    "    \n",
    "    # print(soup.find_all('title'))\n",
    "\n",
    "    jobs = soup.find_all('section', class_=\"jobs\")\n",
    "    # print(soup.find_all('section', class_=\"jobs\"))    \n",
    "    # print(len(jobs))\n",
    "    \n",
    "    for job_section in jobs:\n",
    "    \n",
    "        # print(job_section.find_all('li')) \n",
    "        job_posts = job_section.find_all('li')\n",
    "        \n",
    "        # 리스트 컴프리헨션으로 view-all 클래스 제외 (버튼)\n",
    "        job_posts = [post for post in job_section.find_all('li') if 'view-all' not in post['class']]\n",
    "\n",
    "        for post in job_posts:\n",
    "            anchors = post.find_all('a')\n",
    "            \n",
    "            anchor = anchors[1]\n",
    "            \n",
    "            # 'a'태그중 href 링크 추출\n",
    "            print(anchor['href'])\n",
    "            print()\n",
    "            "
   ]
  },
  {
   "cell_type": "markdown",
   "id": "3fab8b83",
   "metadata": {},
   "source": [
    "---"
   ]
  },
  {
   "cell_type": "markdown",
   "id": "9e27a16e",
   "metadata": {},
   "source": [
    "- span 내 데이터 가져오기"
   ]
  },
  {
   "cell_type": "code",
   "execution_count": 22,
   "id": "5cf906d5",
   "metadata": {},
   "outputs": [
    {
     "name": "stdout",
     "output_type": "stream",
     "text": [
      "<span class=\"company\">OpenCraft</span> <span class=\"company\">Full-Time</span> <span class=\"region company\">Anywhere in the World</span> <span class=\"title\">Senior Open Source Developer &amp; DevOps (Python, Django, React, AWS/OpenStack)</span>\n",
      "\n",
      "<span class=\"company\">Proxify AB</span> <span class=\"company\">Full-Time</span> <span class=\"region company\">Anywhere in the World</span> <span class=\"title\">Senior Python Engineer: Long-term job - 100% remote</span>\n",
      "\n",
      "<span class=\"company\">Lemon.io</span> <span class=\"company\">Full-Time</span> <span class=\"region company\">Latin America Only/Europe Only/UK Only/Canada Only</span> <span class=\"title\">Full-stack Python Developer </span>\n",
      "\n",
      "<span class=\"company\">OnTheGoSystems</span> <span class=\"company\">Full-Time</span> <span class=\"region company\">Anywhere in the World</span> <span class=\"title\">Senior Backend Developers for Mass-Market Project (RoR / Python are a plus!)</span>\n",
      "\n",
      "<span class=\"company\">Close</span> <span class=\"company\">Full-Time</span> <span class=\"region company\">USA Only</span> <span class=\"title\">Senior/Staff Software Engineer - Backend/Python - USA (100% Remote)</span>\n",
      "\n"
     ]
    }
   ],
   "source": [
    "from requests import get \n",
    "\n",
    "from bs4 import BeautifulSoup\n",
    "\n",
    "\n",
    "base_url = \"https://weworkremotely.com/remote-jobs/search?utf8=✓&term=\"\n",
    "\n",
    "search_term = \"python\"\n",
    "\n",
    "response = get(f\"{base_url}{search_term}\")\n",
    "\n",
    "    \n",
    "if response.status_code != 200:\n",
    "    print(\"Can't request website\")\n",
    "else:\n",
    "    soup = BeautifulSoup(response.text,\"html.parser\")\n",
    "    \n",
    "    # print(soup.find_all('title'))\n",
    "\n",
    "    jobs = soup.find_all('section', class_=\"jobs\")\n",
    "    # print(soup.find_all('section', class_=\"jobs\"))    \n",
    "    # print(len(jobs))\n",
    "    \n",
    "    for job_section in jobs:\n",
    "    \n",
    "        # print(job_section.find_all('li')) \n",
    "        job_posts = job_section.find_all('li')\n",
    "        \n",
    "        # 리스트 컴프리헨션으로 view-all 클래스 제외 (버튼)\n",
    "        job_posts = [post for post in job_section.find_all('li') if 'view-all' not in post['class']]\n",
    "\n",
    "        for post in job_posts:\n",
    "            anchors = post.find_all('a')\n",
    "            \n",
    "            anchor = anchors[1]\n",
    "            link = anchor['href']\n",
    "            \n",
    "            company, position, region = anchor.find_all('span',class_='company')\n",
    "            \n",
    "            title = anchor.find('span', class_='title')\n",
    "            \n",
    "            print(company,position,region,title)\n",
    "            print()\n",
    "            "
   ]
  },
  {
   "cell_type": "markdown",
   "id": "de1384b7",
   "metadata": {},
   "source": [
    "---"
   ]
  },
  {
   "cell_type": "markdown",
   "id": "94bf54df",
   "metadata": {},
   "source": [
    "- 태그 제거 text 형태만 추출 `.string`"
   ]
  },
  {
   "cell_type": "code",
   "execution_count": 23,
   "id": "35ec4cbf",
   "metadata": {},
   "outputs": [
    {
     "name": "stdout",
     "output_type": "stream",
     "text": [
      "OpenCraft Full-Time Anywhere in the World Senior Open Source Developer & DevOps (Python, Django, React, AWS/OpenStack)\n",
      "\n",
      "Proxify AB Full-Time Anywhere in the World Senior Python Engineer: Long-term job - 100% remote\n",
      "\n",
      "Lemon.io Full-Time Latin America Only/Europe Only/UK Only/Canada Only Full-stack Python Developer \n",
      "\n",
      "OnTheGoSystems Full-Time Anywhere in the World Senior Backend Developers for Mass-Market Project (RoR / Python are a plus!)\n",
      "\n",
      "Close Full-Time USA Only Senior/Staff Software Engineer - Backend/Python - USA (100% Remote)\n",
      "\n"
     ]
    }
   ],
   "source": [
    "from requests import get \n",
    "\n",
    "from bs4 import BeautifulSoup\n",
    "\n",
    "\n",
    "base_url = \"https://weworkremotely.com/remote-jobs/search?utf8=✓&term=\"\n",
    "\n",
    "search_term = \"python\"\n",
    "\n",
    "response = get(f\"{base_url}{search_term}\")\n",
    "\n",
    "    \n",
    "if response.status_code != 200:\n",
    "    print(\"Can't request website\")\n",
    "else:\n",
    "    soup = BeautifulSoup(response.text,\"html.parser\")\n",
    "    \n",
    "    # print(soup.find_all('title'))\n",
    "\n",
    "    jobs = soup.find_all('section', class_=\"jobs\")\n",
    "    # print(soup.find_all('section', class_=\"jobs\"))    \n",
    "    # print(len(jobs))\n",
    "    \n",
    "    for job_section in jobs:\n",
    "    \n",
    "        # print(job_section.find_all('li')) \n",
    "        job_posts = job_section.find_all('li')\n",
    "        \n",
    "        # 리스트 컴프리헨션으로 view-all 클래스 제외 (버튼)\n",
    "        job_posts = [post for post in job_section.find_all('li') if 'view-all' not in post['class']]\n",
    "\n",
    "        for post in job_posts:\n",
    "            anchors = post.find_all('a')\n",
    "            \n",
    "            anchor = anchors[1]\n",
    "            link = anchor['href']\n",
    "            \n",
    "            company, position, region = anchor.find_all('span',class_='company')\n",
    "            \n",
    "            title = anchor.find('span', class_='title')\n",
    "            \n",
    "            print(company.string,position.string,region.string,title.string)\n",
    "            print()\n",
    "            "
   ]
  },
  {
   "cell_type": "markdown",
   "id": "6ef58325",
   "metadata": {},
   "source": [
    "---"
   ]
  },
  {
   "cell_type": "markdown",
   "id": "c738c7f9",
   "metadata": {},
   "source": [
    "- dict "
   ]
  },
  {
   "cell_type": "code",
   "execution_count": 27,
   "id": "1932951a",
   "metadata": {},
   "outputs": [
    {
     "name": "stdout",
     "output_type": "stream",
     "text": [
      "[{'title': 'Senior Open Source Developer & DevOps (Python, Django, React, AWS/OpenStack)', 'company': 'OpenCraft', 'position': 'Full-Time', 'region': 'Anywhere in the World'}, {'title': 'Senior Python Engineer: Long-term job - 100% remote', 'company': 'Proxify AB', 'position': 'Full-Time', 'region': 'Anywhere in the World'}, {'title': 'Full-stack Python Developer ', 'company': 'Lemon.io', 'position': 'Full-Time', 'region': 'Latin America Only/Europe Only/UK Only/Canada Only'}, {'title': 'Senior Backend Developers for Mass-Market Project (RoR / Python are a plus!)', 'company': 'OnTheGoSystems', 'position': 'Full-Time', 'region': 'Anywhere in the World'}, {'title': 'Senior/Staff Software Engineer - Backend/Python - USA (100% Remote)', 'company': 'Close', 'position': 'Full-Time', 'region': 'USA Only'}]\n"
     ]
    }
   ],
   "source": [
    "from requests import get \n",
    "\n",
    "from bs4 import BeautifulSoup\n",
    "\n",
    "\n",
    "base_url = \"https://weworkremotely.com/remote-jobs/search?utf8=✓&term=\"\n",
    "\n",
    "search_term = \"python\"\n",
    "\n",
    "response = get(f\"{base_url}{search_term}\")\n",
    "\n",
    "    \n",
    "if response.status_code != 200:\n",
    "    print(\"Can't request website\")\n",
    "else:\n",
    "    soup = BeautifulSoup(response.text,\"html.parser\")\n",
    "    \n",
    "    # print(soup.find_all('title'))\n",
    "\n",
    "    jobs = soup.find_all('section', class_=\"jobs\")\n",
    "    # print(soup.find_all('section', class_=\"jobs\"))    \n",
    "    # print(len(jobs))\n",
    "    \n",
    "    results = []\n",
    "    \n",
    "    for job_section in jobs:\n",
    "    \n",
    "        # print(job_section.find_all('li')) \n",
    "        job_posts = job_section.find_all('li')\n",
    "        \n",
    "        # 리스트 컴프리헨션으로 view-all 클래스 제외 (버튼)\n",
    "        job_posts = [post for post in job_section.find_all('li') if 'view-all' not in post['class']]\n",
    "\n",
    "        for post in job_posts:\n",
    "            anchors = post.find_all('a')\n",
    "            \n",
    "            anchor = anchors[1]\n",
    "            link = anchor['href']\n",
    "            \n",
    "            company, position, region = anchor.find_all('span',class_='company')\n",
    "            \n",
    "            title = anchor.find('span', class_='title')\n",
    "            \n",
    "            data_result = {\n",
    "                'title': title.string,\n",
    "                'company' : company.string,\n",
    "                'position' : position.string,\n",
    "                'region' : region.string\n",
    "                }\n",
    "            \n",
    "            results.append(data_result)\n",
    "        \n",
    "    \n",
    "    print(results)\n",
    "\n",
    "            "
   ]
  },
  {
   "cell_type": "markdown",
   "id": "db3336de",
   "metadata": {},
   "source": [
    "---"
   ]
  },
  {
   "cell_type": "markdown",
   "id": "2d9c464b",
   "metadata": {},
   "source": [
    "## ~ 5.9"
   ]
  },
  {
   "cell_type": "code",
   "execution_count": 33,
   "id": "7c0fac88",
   "metadata": {},
   "outputs": [
    {
     "name": "stdout",
     "output_type": "stream",
     "text": [
      "{'title': 'Java Developer (Full-Stack)', 'company': 'Simvoly', 'position': 'Full-Time', 'region': 'Anywhere in the World', 'link': 'https://weworkremotely.com/remote-jobs/simvoly-java-developer-full-stack-6'}\n",
      "{'title': 'Backend Javascript / Node.js Developer - Remote/SaaS (m/f/d)', 'company': 'SocialHub', 'position': 'Full-Time', 'region': 'Anywhere in the World', 'link': 'https://weworkremotely.com/remote-jobs/socialhub-backend-javascript-node-js-developer-remote-saas-m-f-d-2'}\n",
      "{'title': 'Full Stack JavaScript/TypeScript Engineer', 'company': 'WeatherWorks', 'position': 'Full-Time', 'region': 'North America Only/Latin America Only/Europe Only/Africa Only', 'link': 'https://weworkremotely.com/remote-jobs/weatherworks-full-stack-javascript-typescript-engineer'}\n",
      "{'title': 'Software Developer (PHP, Javascript, AWS) ', 'company': 'Tixel', 'position': 'Full-Time', 'region': 'Europe Only/UK Only', 'link': 'https://weworkremotely.com/remote-jobs/tixel-software-developer-php-javascript-aws'}\n",
      "{'title': 'Senior QA Software Test Automation Engineer (Java) – Cyprus, Greece or Remote', 'company': 'XM', 'position': 'Full-Time', 'region': 'Anywhere in the World', 'link': 'https://weworkremotely.com/remote-jobs/xm-senior-qa-software-test-automation-engineer-java-cyprus-greece-or-remote'}\n"
     ]
    }
   ],
   "source": [
    "from requests import get \n",
    "\n",
    "from bs4 import BeautifulSoup\n",
    "\n",
    "\n",
    "base_url = \"https://weworkremotely.com/remote-jobs/search?utf8=✓&term=\"\n",
    "\n",
    "search_term = \"java\"\n",
    "\n",
    "response = get(f\"{base_url}{search_term}\")\n",
    "\n",
    "    \n",
    "if response.status_code != 200:\n",
    "    print(\"Can't request website\")\n",
    "else:\n",
    "    soup = BeautifulSoup(response.text,\"html.parser\")\n",
    "    \n",
    "    # print(soup.find_all('title'))\n",
    "\n",
    "    jobs = soup.find_all('section', class_=\"jobs\")\n",
    "    # print(soup.find_all('section', class_=\"jobs\"))    \n",
    "    # print(len(jobs))\n",
    "    \n",
    "    results = []\n",
    "    \n",
    "    for job_section in jobs:\n",
    "    \n",
    "        # print(job_section.find_all('li')) \n",
    "        job_posts = job_section.find_all('li')\n",
    "        \n",
    "        # 리스트 컴프리헨션으로 view-all 클래스 제외 (버튼)\n",
    "        job_posts = [post for post in job_section.find_all('li') if 'view-all' not in post['class']]\n",
    "\n",
    "        for post in job_posts:\n",
    "            \n",
    "            \n",
    "            anchors = post.find_all('a') # list\n",
    "            \n",
    "            anchor = anchors[1] # dictionary in list\n",
    "            \n",
    "            link = anchor['href'] # value in dictionary\n",
    "            \n",
    "            # anchor('a') 내 span tag (class = company)추출, list\n",
    "            company, position, region = anchor.find_all('span',class_='company')\n",
    "            \n",
    "            title = anchor.find('span', class_='title')\n",
    "            \n",
    "            # html tag 제외 후, dictionary 데이터 생성 후, list append\n",
    "            data_result = {\n",
    "                'title': title.string,\n",
    "                'company' : company.string,\n",
    "                'position' : position.string,\n",
    "                'region' : region.string,\n",
    "                'link' : f'https://weworkremotely.com{link}'\n",
    "                }\n",
    "            \n",
    "            results.append(data_result)\n",
    "        \n",
    "    \n",
    "    for result in results:\n",
    "        print(result)\n",
    "\n",
    "            "
   ]
  },
  {
   "cell_type": "markdown",
   "id": "2f9812d9",
   "metadata": {},
   "source": [
    "---"
   ]
  },
  {
   "cell_type": "markdown",
   "id": "7397d657",
   "metadata": {},
   "source": [
    "## Refactoring\n",
    "\n",
    "- search_term 을 parameter 로 받고, dictionary results 를 return 하는\n",
    "함수 생성"
   ]
  },
  {
   "cell_type": "code",
   "execution_count": 2,
   "id": "f39fd948",
   "metadata": {},
   "outputs": [
    {
     "name": "stdout",
     "output_type": "stream",
     "text": [
      "[{'title': 'Senior Open Source Developer & DevOps (Python, Django, React, AWS/OpenStack)', 'company': 'OpenCraft', 'position': 'Full-Time', 'region': 'Anywhere in the World', 'link': 'https://weworkremotely.com/remote-jobs/opencraft-senior-open-source-developer-devops-python-django-react-aws-openstack'}, {'title': 'Senior Python Engineer: Long-term job - 100% remote', 'company': 'Proxify AB', 'position': 'Full-Time', 'region': 'Anywhere in the World', 'link': 'https://weworkremotely.com/remote-jobs/proxify-ab-senior-python-engineer-long-term-job-100-remote'}, {'title': 'Full-stack Python Developer ', 'company': 'Lemon.io', 'position': 'Full-Time', 'region': 'Latin America Only/Europe Only/UK Only/Canada Only', 'link': 'https://weworkremotely.com/remote-jobs/lemon-io-full-stack-python-developer'}, {'title': 'Senior Backend Developers for Mass-Market Project (RoR / Python are a plus!)', 'company': 'OnTheGoSystems', 'position': 'Full-Time', 'region': 'Anywhere in the World', 'link': 'https://weworkremotely.com/remote-jobs/onthegosystems-senior-backend-developers-for-mass-market-project-ror-python-are-a-plus'}, {'title': 'Senior/Staff Software Engineer - Backend/Python - USA (100% Remote)', 'company': 'Close', 'position': 'Full-Time', 'region': 'USA Only', 'link': 'https://weworkremotely.com/remote-jobs/close-senior-staff-software-engineer-backend-python-usa-100-remote'}]\n"
     ]
    }
   ],
   "source": [
    "from requests import get \n",
    "\n",
    "from bs4 import BeautifulSoup\n",
    "\n",
    "from extract.wwr import extract_jobs\n",
    "\n",
    "jobs = extract_jobs('python')\n",
    "print(jobs)"
   ]
  },
  {
   "cell_type": "markdown",
   "id": "ba2c2fd9",
   "metadata": {},
   "source": [
    "---"
   ]
  }
 ],
 "metadata": {
  "kernelspec": {
   "display_name": "Python 3 (ipykernel)",
   "language": "python",
   "name": "python3"
  },
  "language_info": {
   "codemirror_mode": {
    "name": "ipython",
    "version": 3
   },
   "file_extension": ".py",
   "mimetype": "text/x-python",
   "name": "python",
   "nbconvert_exporter": "python",
   "pygments_lexer": "ipython3",
   "version": "3.8.16"
  },
  "toc": {
   "base_numbering": 1,
   "nav_menu": {},
   "number_sections": true,
   "sideBar": true,
   "skip_h1_title": false,
   "title_cell": "Table of Contents",
   "title_sidebar": "Contents",
   "toc_cell": false,
   "toc_position": {},
   "toc_section_display": true,
   "toc_window_display": false
  },
  "varInspector": {
   "cols": {
    "lenName": 16,
    "lenType": 16,
    "lenVar": 40
   },
   "kernels_config": {
    "python": {
     "delete_cmd_postfix": "",
     "delete_cmd_prefix": "del ",
     "library": "var_list.py",
     "varRefreshCmd": "print(var_dic_list())"
    },
    "r": {
     "delete_cmd_postfix": ") ",
     "delete_cmd_prefix": "rm(",
     "library": "var_list.r",
     "varRefreshCmd": "cat(var_dic_list()) "
    }
   },
   "types_to_exclude": [
    "module",
    "function",
    "builtin_function_or_method",
    "instance",
    "_Feature"
   ],
   "window_display": false
  }
 },
 "nbformat": 4,
 "nbformat_minor": 5
}
