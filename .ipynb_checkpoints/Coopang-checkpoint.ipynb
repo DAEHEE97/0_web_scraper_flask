{
 "cells": [
  {
   "cell_type": "markdown",
   "id": "2de4be19",
   "metadata": {},
   "source": [
    "---"
   ]
  },
  {
   "cell_type": "markdown",
   "id": "c13186d0",
   "metadata": {},
   "source": [
    "# Coopang 광고 데이터 처리"
   ]
  },
  {
   "cell_type": "markdown",
   "id": "c5ef5c03",
   "metadata": {},
   "source": [
    "1. `from requests import get ` 로 처리 안됨, selenium 으로 다이내믹 처리\n"
   ]
  },
  {
   "cell_type": "markdown",
   "id": "b68be33a",
   "metadata": {},
   "source": [
    "## html parsing"
   ]
  },
  {
   "cell_type": "code",
   "execution_count": null,
   "id": "cd06e9a4",
   "metadata": {},
   "outputs": [],
   "source": [
    "from bs4 import BeautifulSoup\n",
    "\n",
    "from selenium import webdriver\n",
    "from selenium.webdriver.chrome.options import Options\n",
    "\n",
    "options = Options()\n",
    "\n",
    "browser = webdriver.Chrome(options=options)\n",
    "\n",
    "base_url = \"https://www.coupang.com/np/search?component\"\n",
    "search_term = \"썬크림\"\n",
    "\n",
    "browser.get(f\"{base_url}=&q={search_term}&channel=user\")\n",
    "\n",
    "\n",
    "print(browser.page_source) # html source code 추출"
   ]
  },
  {
   "cell_type": "code",
   "execution_count": null,
   "id": "9ee67f4d",
   "metadata": {},
   "outputs": [],
   "source": [
    "# --- bs4 처리 \n",
    "\n",
    "soup = BeautifulSoup(browser.page_source, \"html.parser\")\n",
    "\n",
    "search_product_list = soup.find(\"ul\", class_=\"search-product-list\")\n",
    "\n",
    "# ul 태그 내부, li 태그 (1 level)\n",
    "products = search_product_list.find_all('li', recursive=False)\n",
    "\n",
    "\n",
    "# 페이지 총 제품 의 개수 36\n",
    "print(len(products))\n",
    "print()\n",
    "\n",
    "# product\n",
    "for product in products:\n",
    "    print(product)\n",
    "    print()"
   ]
  },
  {
   "cell_type": "markdown",
   "id": "44bf61d9",
   "metadata": {},
   "source": [
    "- 이전 프로젝트에서 중간에 아예 다른 태그 가 있었는데, 지금은 같은 li태그중에 이름만 다른경우 같다.\n",
    "\n",
    "```\n",
    "# li 태그 중 class 네임에 따라 출력, # find, none 논리로 출력 \n",
    "\n",
    "cnt = 0\n",
    "for product in products:\n",
    "    \n",
    "    if product.find(\"li\", class_=\"__ad-badge\"):\n",
    "        print('ad')\n",
    "\n",
    "    \n",
    "```"
   ]
  },
  {
   "cell_type": "markdown",
   "id": "9877c53c",
   "metadata": {},
   "source": [
    "---"
   ]
  },
  {
   "cell_type": "markdown",
   "id": "2e38a729",
   "metadata": {},
   "source": [
    "## ad 제거\n",
    "\n",
    "- html source 코드 확인 후, ad 제품 'search-product__ad-badge' 필터링\n"
   ]
  },
  {
   "cell_type": "code",
   "execution_count": 1,
   "id": "902e4bd1",
   "metadata": {},
   "outputs": [],
   "source": [
    "from bs4 import BeautifulSoup\n",
    "\n",
    "from selenium import webdriver\n",
    "from selenium.webdriver.chrome.options import Options\n",
    "\n",
    "options = Options()\n",
    "\n",
    "browser = webdriver.Chrome(options=options)\n",
    "\n",
    "base_url = \"https://www.coupang.com/np/search?component\"\n",
    "search_term = \"썬크림\"\n",
    "\n",
    "\n",
    "browser.get(f\"{base_url}=&q={search_term}&channel=user\")\n",
    "\n",
    "soup = BeautifulSoup(browser.page_source, \"html.parser\")\n",
    "\n",
    "search_product_list = soup.find(\"ul\", class_=\"search-product-list\")\n",
    "\n",
    "filtered_products = [ product for product in search_product_list.find_all('li', recursive=False) if 'search-product__ad-badge' not in product['class'] ]\n"
   ]
  },
  {
   "cell_type": "code",
   "execution_count": 2,
   "id": "958d6f6a",
   "metadata": {},
   "outputs": [
    {
     "data": {
      "text/plain": [
       "27"
      ]
     },
     "execution_count": 2,
     "metadata": {},
     "output_type": "execute_result"
    }
   ],
   "source": [
    "len(filtered_products)"
   ]
  },
  {
   "cell_type": "code",
   "execution_count": 3,
   "id": "63f9d76f",
   "metadata": {},
   "outputs": [
    {
     "name": "stdout",
     "output_type": "stream",
     "text": [
      "<li class=\"search-product\" data-coupon-nudge-text=\"\" data-coupon-tag-area=\"true\" data-is-rocket=\"true\" data-product-id=\"4583248357\" data-vendor-item-id=\"4498803481\" data-winner-vendor-item-id=\"4498803481\" id=\"4583248357\" style=\"height: auto;\"><a class=\"search-product-link\" data-is-soldout=\"\" data-item-id=\"5620780687\" data-product-id=\"4583248357\" data-srp-log='{\"group\":\"PRODUCT\", \"itemId\":\"5620780687\", \"productId\":\"4583248357\", \"vendorItemId\":\"4498803481\", \"page\":\"1\", \"listSize\":\"36\", \"isCcidEligible\":false, \"displayCcidBadge\":false, \"wowOnlyInstantDiscountRate\": -1, \"snsDiscountRate\" : -1, \"isLoyaltyMember\": false }' data-vendor-item-id=\"4498803481\" href=\"/vp/products/4583248357?itemId=5620780687&amp;vendorItemId=4498803481&amp;q=%EC%8D%AC%ED%81%AC%EB%A6%BC&amp;itemsCount=36&amp;searchId=5c088b1d5cff448eb352727dbcf6b6fe&amp;rank=1\" style=\"height: 506px;\" target=\"_blank\"><dl class=\"search-product-wrap\" style=\"height: 506px;\"><dt class=\"image\"> <img alt=\"본트리 베리 에센스 선블럭 SPF50+ PA++++, 50ml, 2개\" class=\"search-product-wrap-img\" data-load-time=\"1370\" data-load-time-end=\"1222.1000000000931\" data-load-time-start=\"1060.7000000001863\" data-src=\"data:image/gif;base64,R0lGODlhAQABAAAAACH5BAEKAAEALAAAAAABAAEAAAICTAEAOw==\" height=\"230\" onerror=\"this.src='//img2a.coupangcdn.com/image/coupang/common/no_img_1000_1000.png'\" onload=\"logTime(this);logImageLoadTime(this);\" src=\"//thumbnail7.coupangcdn.com/thumbnails/remote/230x230ex/image/retail/images/9025411721674794-e1d8b144-b1ff-4df5-9fd7-cafba8ec655f.png\" width=\"230\"/> </dt><dd class=\"descriptions\"><div class=\"descriptions-inner\"><div class=\"badges\"> </div><div class=\"name\">본트리 베리 에센스 선블럭 SPF50+ PA++++, 50ml, 2개</div> <div class=\"price-area\"> <div class=\"price-wrap\"><div class=\"price\"> <span class=\"price-info\"> <span class=\"instant-discount-rate\">62%</span> <del class=\"base-price\"> 40,000  </del> </span> <em class=\"sale\"> <strong class=\"price-value\">15,000</strong>원    <span class=\"badge rocket\"> <img alt=\"로켓배송\" height=\"16\" src=\"//image6.coupangcdn.com/image/cmg/icon/ios/logo_rocket_large@3x.png\"/> </span> </em> <span class=\"unit-price\">(<em>10</em>ml당 <em>1,500</em>원) </span> </div>\n",
      "<div class=\"coupon-wot-nudge-row\">\n",
      "<div class=\"coupon-wot-nudge-ticket\">\n",
      "<div class=\"coupon-wot-nudge-ticket_left_border\">\n",
      "<span class=\"coupon-wot-nudge-ticket_left_border_amount\">1,600</span>원\n",
      "        </div>\n",
      "<div class=\"coupon-wot-nudge-ticket_right_border\"></div>\n",
      "</div>\n",
      "<div class=\"coupon-wot-nudge-text\">와우회원 추가 쿠폰</div>\n",
      "</div>\n",
      "<!-- Free Shipping Badge -->\n",
      "<div class=\"delivery\"><span class=\"arrival-info\"> <em style=\"color:#008C00\">내일(목)  </em> <em style=\"color:#008C00\">도착 보장 </em> </span></div> </div> </div><div class=\"other-info\"><div class=\"rating-star\"><span class=\"star\"><em class=\"rating\" style=\"width:90%\">4.5</em></span> <span class=\"rating-total-count\">(32038)</span></div></div><div class=\"benefit-badges\"> <div class=\"reward-cash-badge\"><div class=\"reward-cash-badge__inr\"><img alt=\"\" class=\"reward-cash-ico\" src=\"//image6.coupangcdn.com/image/badges/cashback/web/list-cash-icon@2x.png\"/> <span class=\"reward-cash-txt\">최대 670원 적립</span></div></div></div> </div></dd></dl> <span class=\"number no-1\">1 </span><div class=\"mask\"></div></a></li>\n",
      "<li class=\"search-product\" data-coupon-nudge-text=\"\" data-coupon-tag-area=\"\" data-is-rocket=\"true\" data-product-id=\"7232964619\" data-vendor-item-id=\"70531086974\" data-winner-vendor-item-id=\"70531086974\" id=\"7232964619\" style=\"height: auto;\"><a class=\"search-product-link\" data-is-soldout=\"\" data-item-id=\"3089969015\" data-product-id=\"7232964619\" data-srp-log='{\"group\":\"PRODUCT\", \"itemId\":\"3089969015\", \"productId\":\"7232964619\", \"vendorItemId\":\"70531086974\", \"page\":\"1\", \"listSize\":\"36\", \"isCcidEligible\":false, \"displayCcidBadge\":false, \"wowOnlyInstantDiscountRate\": -1, \"snsDiscountRate\" : -1, \"isLoyaltyMember\": false }' data-vendor-item-id=\"70531086974\" href=\"/vp/products/7232964619?itemId=3089969015&amp;vendorItemId=70531086974&amp;pickType=COU_PICK&amp;q=%EC%8D%AC%ED%81%AC%EB%A6%BC&amp;itemsCount=36&amp;searchId=5c088b1d5cff448eb352727dbcf6b6fe&amp;rank=2\" style=\"height: 506px;\" target=\"_blank\"><dl class=\"search-product-wrap\" style=\"height: 506px;\"><dt class=\"image\"> <img alt=\"헤라 선 메이트 데일리 선블록 SPF35 PA+++, 70ml, 1개\" class=\"search-product-wrap-img\" data-load-time=\"1368.9000000003725\" data-load-time-end=\"1217.3000000002794\" data-load-time-start=\"1060.8000000002794\" data-src=\"data:image/gif;base64,R0lGODlhAQABAAAAACH5BAEKAAEALAAAAAABAAEAAAICTAEAOw==\" height=\"230\" onerror=\"this.src='//img2a.coupangcdn.com/image/coupang/common/no_img_1000_1000.png'\" onload=\"logTime(this);logImageLoadTime(this);\" src=\"//thumbnail7.coupangcdn.com/thumbnails/remote/230x230ex/image/retail/images/4583290751164806-872ed467-d261-408d-8269-6a6f5e189e66.jpg\" width=\"230\"/> </dt><dd class=\"descriptions\"><div class=\"descriptions-inner\"><div class=\"badges\"> <img alt=\"쿠팡추천\" class=\"badge-ico badge-coupick\" src=\"//image8.coupangcdn.com/image/badges/cou_pick/web/coupick@2x.png\"/> <img alt=\"탑 브랜드\" class=\"badge-ico top-brand\" src=\"//image6.coupangcdn.com/image/badges/top_brand/c-avenue.svg\"/> </div><div class=\"name\">헤라 선 메이트 데일리 선블록 SPF35 PA+++, 70ml, 1개</div> <div class=\"price-area\"> <div class=\"price-wrap\"><div class=\"price\"> <span class=\"price-info\"> <span class=\"instant-discount-rate\">42%</span> <del class=\"base-price\"> 32,000  </del> </span> <em class=\"sale\"> <strong class=\"price-value\">18,440</strong>원    <span class=\"badge rocket\"> <img alt=\"로켓배송\" height=\"16\" src=\"//image6.coupangcdn.com/image/cmg/icon/ios/logo_rocket_large@3x.png\"/> </span> </em> <span class=\"unit-price\">(<em>10</em>ml당 <em>2,634</em>원) </span> </div>\n",
      "<!-- Free Shipping Badge -->\n",
      "<div class=\"delivery\"><span class=\"arrival-info\"> <em style=\"color:#008C00\">내일(목)  </em> <em style=\"color:#008C00\">도착 보장 </em> </span></div> </div> </div><div class=\"other-info\"><div class=\"rating-star\"><span class=\"star\"><em class=\"rating\" style=\"width:100%\">5.0</em></span> <span class=\"rating-total-count\">(20801)</span></div></div><div class=\"benefit-badges\"> <div class=\"reward-cash-badge\"><div class=\"reward-cash-badge__inr\"><img alt=\"\" class=\"reward-cash-ico\" src=\"//image6.coupangcdn.com/image/badges/cashback/web/list-cash-icon@2x.png\"/> <span class=\"reward-cash-txt\">최대 922원 적립</span></div></div></div> </div></dd></dl> <span class=\"number no-2\">2 </span><div class=\"mask\"></div></a></li>\n",
      "<li class=\"search-product\" data-coupon-nudge-text=\"\" data-coupon-tag-area=\"\" data-is-rocket=\"true\" data-product-id=\"6308000802\" data-vendor-item-id=\"80339552883\" data-winner-vendor-item-id=\"80339552883\" id=\"6308000802\" style=\"height: auto;\"><a class=\"search-product-link\" data-is-soldout=\"\" data-item-id=\"13077916435\" data-product-id=\"6308000802\" data-srp-log='{\"group\":\"PRODUCT\", \"itemId\":\"13077916435\", \"productId\":\"6308000802\", \"vendorItemId\":\"80339552883\", \"page\":\"1\", \"listSize\":\"36\", \"isCcidEligible\":false, \"displayCcidBadge\":false, \"wowOnlyInstantDiscountRate\": -1, \"snsDiscountRate\" : -1, \"isLoyaltyMember\": false }' data-vendor-item-id=\"80339552883\" href=\"/vp/products/6308000802?itemId=13077916435&amp;vendorItemId=80339552883&amp;q=%EC%8D%AC%ED%81%AC%EB%A6%BC&amp;itemsCount=36&amp;searchId=5c088b1d5cff448eb352727dbcf6b6fe&amp;rank=3\" style=\"height: 505px;\" target=\"_blank\"><dl class=\"search-product-wrap\" style=\"height: 505px;\"><dt class=\"image\"> <img alt=\"이니스프리 톤업 노세범 선스크린 SPF50+ PA++++, 50ml, 1개\" class=\"search-product-wrap-img\" data-load-time=\"1374.6000000000931\" data-load-time-end=\"1263.6000000000931\" data-load-time-start=\"1061\" data-src=\"data:image/gif;base64,R0lGODlhAQABAAAAACH5BAEKAAEALAAAAAABAAEAAAICTAEAOw==\" height=\"230\" onerror=\"this.src='//img2a.coupangcdn.com/image/coupang/common/no_img_1000_1000.png'\" onload=\"logTime(this);logImageLoadTime(this);\" src=\"//thumbnail8.coupangcdn.com/thumbnails/remote/230x230ex/image/retail/images/8044217797826954-64922d96-61b7-4fc5-9f83-9d32b3e75239.jpg\" width=\"230\"/> </dt><dd class=\"descriptions\"><div class=\"descriptions-inner\"><div class=\"badges\"> </div><div class=\"name\">이니스프리 톤업 노세범 선스크린 SPF50+ PA++++, 50ml, 1개</div> <div class=\"price-area\"> <div class=\"price-wrap\"><div class=\"price\"> <span class=\"price-info\"> <span class=\"instant-discount-rate\">34%</span> <del class=\"base-price\"> 16,000  </del> </span> <em class=\"sale\"> <strong class=\"price-value\">10,440</strong>원    <span class=\"badge rocket\"> <img alt=\"로켓배송\" height=\"16\" src=\"//image6.coupangcdn.com/image/cmg/icon/ios/logo_rocket_large@3x.png\"/> </span> </em> <span class=\"unit-price\">(<em>10</em>ml당 <em>2,088</em>원) </span> </div>\n",
      "<!-- Free Shipping Badge -->\n",
      "<div class=\"delivery\"><span class=\"arrival-info\"> <em style=\"color:#008C00\">내일(목)  </em> <em style=\"color:#008C00\">도착 보장 </em> </span></div> </div> </div><div class=\"other-info\"><div class=\"rating-star\"><span class=\"star\"><em class=\"rating\" style=\"width:90%\">4.5</em></span> <span class=\"rating-total-count\">(26807)</span></div></div><div class=\"benefit-badges\"> <div class=\"reward-cash-badge\"><div class=\"reward-cash-badge__inr\"><img alt=\"\" class=\"reward-cash-ico\" src=\"//image6.coupangcdn.com/image/badges/cashback/web/list-cash-icon@2x.png\"/> <span class=\"reward-cash-txt\">최대 522원 적립</span></div></div></div> </div></dd></dl> <span class=\"number no-3\">3 </span><div class=\"mask\"></div></a></li>\n",
      "<li class=\"search-product\" data-coupon-nudge-text=\"\" data-coupon-tag-area=\"\" data-is-rocket=\"true\" data-product-id=\"1550885333\" data-vendor-item-id=\"70644483758\" data-winner-vendor-item-id=\"70644483758\" id=\"1550885333\" style=\"height: auto;\"><a class=\"search-product-link\" data-is-soldout=\"\" data-item-id=\"2653722704\" data-product-id=\"1550885333\" data-srp-log='{\"group\":\"PRODUCT\", \"itemId\":\"2653722704\", \"productId\":\"1550885333\", \"vendorItemId\":\"70644483758\", \"page\":\"1\", \"listSize\":\"36\", \"isCcidEligible\":false, \"displayCcidBadge\":false, \"wowOnlyInstantDiscountRate\": -1, \"snsDiscountRate\" : -1, \"isLoyaltyMember\": false }' data-vendor-item-id=\"70644483758\" href=\"/vp/products/1550885333?itemId=2653722704&amp;vendorItemId=70644483758&amp;q=%EC%8D%AC%ED%81%AC%EB%A6%BC&amp;itemsCount=36&amp;searchId=5c088b1d5cff448eb352727dbcf6b6fe&amp;rank=6\" style=\"height: 505px;\" target=\"_blank\"><dl class=\"search-product-wrap\" style=\"height: 505px;\"><dt class=\"image\"> <img alt=\"AHC 더블쉴드 선스틱 SPF50+ PA++++ 14g x 3p + 선크림 50ml 세트, 1세트\" class=\"search-product-wrap-img\" data-load-time=\"1374.3000000002794\" data-load-time-end=\"1256.4000000003725\" data-load-time-start=\"1061.1000000000931\" data-src=\"data:image/gif;base64,R0lGODlhAQABAAAAACH5BAEKAAEALAAAAAABAAEAAAICTAEAOw==\" height=\"230\" onerror=\"this.src='//img2a.coupangcdn.com/image/coupang/common/no_img_1000_1000.png'\" onload=\"logTime(this);logImageLoadTime(this);\" src=\"//thumbnail6.coupangcdn.com/thumbnails/remote/230x230ex/image/retail/images/1053631093804718-e1c4555b-d56e-4350-b0d4-bacd28f7bc7d.jpg\" width=\"230\"/> </dt><dd class=\"descriptions\"><div class=\"descriptions-inner\"><div class=\"badges\"> </div><div class=\"name\">AHC 더블쉴드 선스틱 SPF50+ PA++++ 14g x 3p + 선크림 50ml 세트, 1세트</div> <div class=\"price-area\"> <div class=\"price-wrap\"><div class=\"price\"> <span class=\"price-info\"> <span class=\"instant-discount-rate\">67%</span> <del class=\"base-price\"> 92,000  </del> </span> <em class=\"sale\"> <strong class=\"price-value\">29,800</strong>원    <span class=\"badge rocket\"> <img alt=\"로켓배송\" height=\"16\" src=\"//image6.coupangcdn.com/image/cmg/icon/ios/logo_rocket_large@3x.png\"/> </span> </em> </div>\n",
      "<!-- Free Shipping Badge -->\n",
      "<div class=\"delivery\"><span class=\"arrival-info\"> <em style=\"color:#008C00\">내일(목)  </em> <em style=\"color:#008C00\">도착 보장 </em> </span></div> </div> </div><div class=\"other-info\"><div class=\"rating-star\"><span class=\"star\"><em class=\"rating\" style=\"width:90%\">4.5</em></span> <span class=\"rating-total-count\">(4421)</span></div></div><div class=\"benefit-badges\"> <div class=\"reward-cash-badge\"><div class=\"reward-cash-badge__inr\"><img alt=\"\" class=\"reward-cash-ico\" src=\"//image6.coupangcdn.com/image/badges/cashback/web/list-cash-icon@2x.png\"/> <span class=\"reward-cash-txt\">최대 1,490원 적립</span></div></div></div> </div></dd></dl> <span class=\"number no-4\">4 </span><div class=\"mask\"></div></a></li>\n",
      "<li class=\"search-product\" data-coupon-nudge-text=\"\" data-coupon-tag-area=\"\" data-is-rocket=\"true\" data-product-id=\"5231217226\" data-vendor-item-id=\"74657411155\" data-winner-vendor-item-id=\"74657411155\" id=\"5231217226\" style=\"height: auto;\"><a class=\"search-product-link\" data-is-soldout=\"\" data-item-id=\"7366240361\" data-product-id=\"5231217226\" data-srp-log='{\"group\":\"PRODUCT\", \"itemId\":\"7366240361\", \"productId\":\"5231217226\", \"vendorItemId\":\"74657411155\", \"page\":\"1\", \"listSize\":\"36\", \"isCcidEligible\":false, \"displayCcidBadge\":false, \"wowOnlyInstantDiscountRate\": -1, \"snsDiscountRate\" : -1, \"isLoyaltyMember\": false }' data-vendor-item-id=\"74657411155\" href=\"/vp/products/5231217226?itemId=7366240361&amp;vendorItemId=74657411155&amp;q=%EC%8D%AC%ED%81%AC%EB%A6%BC&amp;itemsCount=36&amp;searchId=5c088b1d5cff448eb352727dbcf6b6fe&amp;rank=7\" style=\"height: 505px;\" target=\"_blank\"><dl class=\"search-product-wrap\" style=\"height: 505px;\"><dt class=\"image\"> <img alt=\"일리윤 저자극 이지워시 선크림 SPF50+ PA++++, 150ml, 1개\" class=\"search-product-wrap-img\" data-load-time=\"1369.8000000002794\" data-load-time-end=\"1218.7000000001863\" data-load-time-start=\"1061.3000000002794\" data-src=\"data:image/gif;base64,R0lGODlhAQABAAAAACH5BAEKAAEALAAAAAABAAEAAAICTAEAOw==\" height=\"230\" onerror=\"this.src='//img2a.coupangcdn.com/image/coupang/common/no_img_1000_1000.png'\" onload=\"logTime(this);logImageLoadTime(this);\" src=\"//thumbnail9.coupangcdn.com/thumbnails/remote/230x230ex/image/retail/images/305696652978866-fef857ed-8608-48ce-be31-16dad0aabfa7.jpg\" width=\"230\"/> </dt><dd class=\"descriptions\"><div class=\"descriptions-inner\"><div class=\"badges\"> </div><div class=\"name\">일리윤 저자극 이지워시 선크림 SPF50+ PA++++, 150ml, 1개</div> <div class=\"price-area\"> <div class=\"price-wrap\"><div class=\"price\"> <span class=\"price-info\"> <span class=\"instant-discount-rate\">42%</span> <del class=\"base-price\"> 29,900  </del> </span> <em class=\"sale\"> <strong class=\"price-value\">17,170</strong>원    <span class=\"badge rocket\"> <img alt=\"로켓배송\" height=\"16\" src=\"//image6.coupangcdn.com/image/cmg/icon/ios/logo_rocket_large@3x.png\"/> </span> </em> <span class=\"unit-price\">(<em>10</em>ml당 <em>1,145</em>원) </span> </div>\n",
      "<!-- Free Shipping Badge -->\n",
      "<div class=\"delivery\"><span class=\"arrival-info\"> <em style=\"color:#008C00\">내일(목)  </em> <em style=\"color:#008C00\">도착 보장 </em> </span></div> </div> </div><div class=\"other-info\"><div class=\"rating-star\"><span class=\"star\"><em class=\"rating\" style=\"width:90%\">4.5</em></span> <span class=\"rating-total-count\">(3942)</span></div></div><div class=\"benefit-badges\"> <div class=\"reward-cash-badge\"><div class=\"reward-cash-badge__inr\"><img alt=\"\" class=\"reward-cash-ico\" src=\"//image6.coupangcdn.com/image/badges/cashback/web/list-cash-icon@2x.png\"/> <span class=\"reward-cash-txt\">최대 859원 적립</span></div></div></div> </div></dd></dl> <span class=\"number no-5\">5 </span><div class=\"mask\"></div></a></li>\n",
      "<li class=\"search-product\" data-coupon-nudge-text=\"\" data-coupon-tag-area=\"\" data-is-rocket=\"true\" data-product-id=\"6236837639\" data-vendor-item-id=\"79833389298\" data-winner-vendor-item-id=\"79833389298\" id=\"6236837639\" style=\"height: auto;\"><a class=\"search-product-link\" data-is-soldout=\"\" data-item-id=\"12565178307\" data-product-id=\"6236837639\" data-srp-log='{\"group\":\"PRODUCT\", \"itemId\":\"12565178307\", \"productId\":\"6236837639\", \"vendorItemId\":\"79833389298\", \"page\":\"1\", \"listSize\":\"36\", \"isCcidEligible\":false, \"displayCcidBadge\":false, \"wowOnlyInstantDiscountRate\": -1, \"snsDiscountRate\" : -1, \"isLoyaltyMember\": false }' data-vendor-item-id=\"79833389298\" href=\"/vp/products/6236837639?itemId=12565178307&amp;vendorItemId=79833389298&amp;q=%EC%8D%AC%ED%81%AC%EB%A6%BC&amp;itemsCount=36&amp;searchId=5c088b1d5cff448eb352727dbcf6b6fe&amp;rank=9\" style=\"height: 531px;\" target=\"_blank\"><dl class=\"search-product-wrap\" style=\"height: 531px;\"><dt class=\"image\"> <img alt=\"닥터문 프리미엄 대용량 알로에베라 선크림 SPF50+ PA+++, 500ml, 1개\" class=\"search-product-wrap-img\" data-img-src=\"//thumbnail6.coupangcdn.com/thumbnails/remote/230x230ex/image/retail/images/5282432059184983-0c065452-821b-4f91-b7a7-9f4d039910a6.JPG\" data-src=\"data:image/gif;base64,R0lGODlhAQABAAAAACH5BAEKAAEALAAAAAABAAEAAAICTAEAOw==\" height=\"230\" onerror=\"this.src='//img2a.coupangcdn.com/image/coupang/common/no_img_1000_1000.png'\" src=\"//thumbnail6.coupangcdn.com/thumbnails/remote/230x230ex/image/retail/images/5282432059184983-0c065452-821b-4f91-b7a7-9f4d039910a6.JPG\" width=\"230\"/> </dt><dd class=\"descriptions\"><div class=\"descriptions-inner\"><div class=\"badges\"> </div><div class=\"name\">닥터문 프리미엄 대용량 알로에베라 선크림 SPF50+ PA+++, 500ml, 1개</div> <div class=\"price-area\"> <div class=\"price-wrap\"><div class=\"price\"> <span class=\"price-info\"> <span class=\"instant-discount-rate\">3%</span> <del class=\"base-price\"> 12,900  </del> </span> <em class=\"sale\"> <strong class=\"price-value\">12,400</strong>원    <span class=\"badge rocket\"> <img alt=\"로켓배송\" height=\"16\" src=\"//image6.coupangcdn.com/image/cmg/icon/ios/logo_rocket_large@3x.png\"/> </span> </em> <span class=\"unit-price\">(<em>10</em>ml당 <em>248</em>원) </span> </div>\n",
      "<!-- Free Shipping Badge -->\n",
      "<div class=\"delivery\"><span class=\"arrival-info\"> <em style=\"color:#008C00\">내일(목)  </em> <em style=\"color:#008C00\">도착 보장 </em> </span></div> </div> <div class=\"used-product-info\"><span>새 상품</span><span>, </span><span>반품</span><strong> (8)</strong> </div> </div><div class=\"other-info\"><div class=\"rating-star\"><span class=\"star\"><em class=\"rating\" style=\"width:90%\">4.5</em></span> <span class=\"rating-total-count\">(1786)</span></div></div><div class=\"benefit-badges\"> <div class=\"reward-cash-badge\"><div class=\"reward-cash-badge__inr\"><img alt=\"\" class=\"reward-cash-ico\" src=\"//image6.coupangcdn.com/image/badges/cashback/web/list-cash-icon@2x.png\"/> <span class=\"reward-cash-txt\">최대 620원 적립</span></div></div></div> </div></dd></dl> <span class=\"number no-6\">6 </span><div class=\"mask\"></div></a></li>\n",
      "<li class=\"search-product\" data-coupon-nudge-text=\"\" data-coupon-tag-area=\"\" data-is-rocket=\"true\" data-product-id=\"1514766006\" data-vendor-item-id=\"80265071820\" data-winner-vendor-item-id=\"80265071820\" id=\"1514766006\" style=\"height: auto;\"><a class=\"search-product-link\" data-is-soldout=\"\" data-item-id=\"2600030732\" data-product-id=\"1514766006\" data-srp-log='{\"group\":\"PRODUCT\", \"itemId\":\"2600030732\", \"productId\":\"1514766006\", \"vendorItemId\":\"80265071820\", \"page\":\"1\", \"listSize\":\"36\", \"isCcidEligible\":false, \"displayCcidBadge\":false, \"wowOnlyInstantDiscountRate\": -1, \"snsDiscountRate\" : -1, \"isLoyaltyMember\": false }' data-vendor-item-id=\"80265071820\" href=\"/vp/products/1514766006?itemId=2600030732&amp;vendorItemId=80265071820&amp;q=%EC%8D%AC%ED%81%AC%EB%A6%BC&amp;itemsCount=36&amp;searchId=5c088b1d5cff448eb352727dbcf6b6fe&amp;rank=12\" style=\"height: 475px;\" target=\"_blank\"><dl class=\"search-product-wrap\" style=\"height: 475px;\"><dt class=\"image\"> <img alt=\"닥터지 그린 마일드 업 선 플러스 SPF50+ PA++++ 35ml x 2p, 2개\" class=\"search-product-wrap-img\" data-img-src=\"//thumbnail9.coupangcdn.com/thumbnails/remote/230x230ex/image/retail/images/3643095263445291-a7511299-6565-4fec-a16d-6751e24beab6.png\" data-src=\"data:image/gif;base64,R0lGODlhAQABAAAAACH5BAEKAAEALAAAAAABAAEAAAICTAEAOw==\" height=\"230\" onerror=\"this.src='//img2a.coupangcdn.com/image/coupang/common/no_img_1000_1000.png'\" src=\"//thumbnail9.coupangcdn.com/thumbnails/remote/230x230ex/image/retail/images/3643095263445291-a7511299-6565-4fec-a16d-6751e24beab6.png\" width=\"230\"/> </dt><dd class=\"descriptions\"><div class=\"descriptions-inner\"><div class=\"badges\"> </div><div class=\"name\">닥터지 그린 마일드 업 선 플러스 SPF50+ PA++++ 35ml x 2p, 2개</div> <div class=\"price-area\"> <div class=\"price-wrap\"><div class=\"price\"> <span class=\"price-info\"> <span class=\"instant-discount-rate\">55%</span> <del class=\"base-price\"> 48,000  </del> </span> <em class=\"sale\"> <strong class=\"price-value\">21,500</strong>원    <span class=\"badge rocket\"> <img alt=\"로켓배송\" height=\"16\" src=\"//image6.coupangcdn.com/image/cmg/icon/ios/logo_rocket_large@3x.png\"/> </span> </em> <span class=\"unit-price\">(<em>10</em>ml당 <em>3,071</em>원) </span> </div>\n",
      "<!-- Free Shipping Badge -->\n",
      "<div class=\"delivery\"><span class=\"arrival-info\"> <em style=\"color:#008C00\">내일(목)  </em> <em style=\"color:#008C00\">도착 보장 </em> </span></div> </div> </div><div class=\"other-info\"><div class=\"rating-star\"><span class=\"star\"><em class=\"rating\" style=\"width:100%\">5.0</em></span> <span class=\"rating-total-count\">(19515)</span></div></div><div class=\"benefit-badges\"> <div class=\"reward-cash-badge\"><div class=\"reward-cash-badge__inr\"><img alt=\"\" class=\"reward-cash-ico\" src=\"//image6.coupangcdn.com/image/badges/cashback/web/list-cash-icon@2x.png\"/> <span class=\"reward-cash-txt\">최대 1,075원 적립</span></div></div></div> </div></dd></dl> <span class=\"number no-7\">7 </span><div class=\"mask\"></div></a></li>\n",
      "<li class=\"search-product\" data-coupon-nudge-text=\"\" data-coupon-tag-area=\"\" data-is-rocket=\"true\" data-product-id=\"7217026798\" data-vendor-item-id=\"70285905898\" data-winner-vendor-item-id=\"70285905898\" id=\"7217026798\" style=\"height: auto;\"><a class=\"search-product-link\" data-is-soldout=\"\" data-item-id=\"18278997754\" data-product-id=\"7217026798\" data-srp-log='{\"group\":\"PRODUCT\", \"itemId\":\"18278997754\", \"productId\":\"7217026798\", \"vendorItemId\":\"70285905898\", \"page\":\"1\", \"listSize\":\"36\", \"isCcidEligible\":false, \"displayCcidBadge\":false, \"wowOnlyInstantDiscountRate\": -1, \"snsDiscountRate\" : -1, \"isLoyaltyMember\": false }' data-vendor-item-id=\"70285905898\" href=\"/vp/products/7217026798?itemId=18278997754&amp;vendorItemId=70285905898&amp;q=%EC%8D%AC%ED%81%AC%EB%A6%BC&amp;itemsCount=36&amp;searchId=5c088b1d5cff448eb352727dbcf6b6fe&amp;rank=13\" style=\"height: 475px;\" target=\"_blank\"><dl class=\"search-product-wrap\" style=\"height: 475px;\"><dt class=\"image\"> <img alt=\"아이오페 UV쉴드 선 프로텍터 XP SPF50+ PA++++, 60ml, 1개\" class=\"search-product-wrap-img\" data-img-src=\"//thumbnail9.coupangcdn.com/thumbnails/remote/230x230ex/image/retail/images/9284222472201189-db33129f-a346-4954-921b-ac7b33dbeaa5.jpg\" data-src=\"data:image/gif;base64,R0lGODlhAQABAAAAACH5BAEKAAEALAAAAAABAAEAAAICTAEAOw==\" height=\"230\" onerror=\"this.src='//img2a.coupangcdn.com/image/coupang/common/no_img_1000_1000.png'\" src=\"//thumbnail9.coupangcdn.com/thumbnails/remote/230x230ex/image/retail/images/9284222472201189-db33129f-a346-4954-921b-ac7b33dbeaa5.jpg\" width=\"230\"/> </dt><dd class=\"descriptions\"><div class=\"descriptions-inner\"><div class=\"badges\"> </div><div class=\"name\">아이오페 UV쉴드 선 프로텍터 XP SPF50+ PA++++, 60ml, 1개</div> <div class=\"price-area\"> <div class=\"price-wrap\"><div class=\"price\"> <span class=\"price-info\"> <span class=\"instant-discount-rate\">49%</span> <del class=\"base-price\"> 32,000  </del> </span> <em class=\"sale\"> <strong class=\"price-value\">16,170</strong>원    <span class=\"badge rocket\"> <img alt=\"로켓배송\" height=\"16\" src=\"//image6.coupangcdn.com/image/cmg/icon/ios/logo_rocket_large@3x.png\"/> </span> </em> <span class=\"unit-price\">(<em>10</em>ml당 <em>2,695</em>원) </span> </div>\n",
      "<!-- Free Shipping Badge -->\n",
      "<div class=\"delivery\"><span class=\"arrival-info\"> <em style=\"color:#008C00\">내일(목)  </em> <em style=\"color:#008C00\">도착 보장 </em> </span></div> </div> </div><div class=\"other-info\"><div class=\"rating-star\"><span class=\"star\"><em class=\"rating\" style=\"width:100%\">5.0</em></span> <span class=\"rating-total-count\">(9257)</span></div></div><div class=\"benefit-badges\"> <div class=\"reward-cash-badge\"><div class=\"reward-cash-badge__inr\"><img alt=\"\" class=\"reward-cash-ico\" src=\"//image6.coupangcdn.com/image/badges/cashback/web/list-cash-icon@2x.png\"/> <span class=\"reward-cash-txt\">최대 809원 적립</span></div></div></div> </div></dd></dl> <span class=\"number no-8\">8 </span><div class=\"mask\"></div></a></li>\n",
      "<li class=\"search-product\" data-coupon-nudge-text=\"\" data-coupon-tag-area=\"\" data-is-rocket=\"true\" data-product-id=\"7086181945\" data-vendor-item-id=\"84811642454\" data-winner-vendor-item-id=\"84811642454\" id=\"7086181945\" style=\"height: auto;\"><a class=\"search-product-link\" data-is-soldout=\"\" data-item-id=\"17646024182\" data-product-id=\"7086181945\" data-srp-log='{\"group\":\"PRODUCT\", \"itemId\":\"17646024182\", \"productId\":\"7086181945\", \"vendorItemId\":\"84811642454\", \"page\":\"1\", \"listSize\":\"36\", \"isCcidEligible\":false, \"displayCcidBadge\":false, \"wowOnlyInstantDiscountRate\": -1, \"snsDiscountRate\" : -1, \"isLoyaltyMember\": false }' data-vendor-item-id=\"84811642454\" href=\"/vp/products/7086181945?itemId=17646024182&amp;vendorItemId=84811642454&amp;q=%EC%8D%AC%ED%81%AC%EB%A6%BC&amp;itemsCount=36&amp;searchId=5c088b1d5cff448eb352727dbcf6b6fe&amp;rank=14\" style=\"height: 475px;\" target=\"_blank\"><dl class=\"search-product-wrap\" style=\"height: 475px;\"><dt class=\"image\"> <img alt=\"에스쁘아 워터 스플래쉬 세라마이드 선크림 SPF50+ PA++++, 60ml, 1개\" class=\"search-product-wrap-img\" data-img-src=\"//thumbnail8.coupangcdn.com/thumbnails/remote/230x230ex/image/retail/images/2023/01/24/9/0/c0f3cb67-27d6-4b4a-bf3a-0110fae03475.jpg\" data-src=\"data:image/gif;base64,R0lGODlhAQABAAAAACH5BAEKAAEALAAAAAABAAEAAAICTAEAOw==\" height=\"230\" onerror=\"this.src='//img2a.coupangcdn.com/image/coupang/common/no_img_1000_1000.png'\" src=\"//thumbnail8.coupangcdn.com/thumbnails/remote/230x230ex/image/retail/images/2023/01/24/9/0/c0f3cb67-27d6-4b4a-bf3a-0110fae03475.jpg\" width=\"230\"/> </dt><dd class=\"descriptions\"><div class=\"descriptions-inner\"><div class=\"badges\"> </div><div class=\"name\">에스쁘아 워터 스플래쉬 세라마이드 선크림 SPF50+ PA++++, 60ml, 1개</div> <div class=\"price-area\"> <div class=\"price-wrap\"><div class=\"price\"> <span class=\"price-info\"> <span class=\"instant-discount-rate\">42%</span> <del class=\"base-price\"> 22,000  </del> </span> <em class=\"sale\"> <strong class=\"price-value\">12,610</strong>원    <span class=\"badge rocket\"> <img alt=\"로켓배송\" height=\"16\" src=\"//image6.coupangcdn.com/image/cmg/icon/ios/logo_rocket_large@3x.png\"/> </span> </em> <span class=\"unit-price\">(<em>10</em>ml당 <em>2,102</em>원) </span> </div>\n",
      "<!-- Free Shipping Badge -->\n",
      "<div class=\"delivery\"><span class=\"arrival-info\"> <em style=\"color:#008C00\">내일(목)  </em> <em style=\"color:#008C00\">도착 보장 </em> </span></div> </div> </div><div class=\"other-info\"><div class=\"rating-star\"><span class=\"star\"><em class=\"rating\" style=\"width:100%\">5.0</em></span> <span class=\"rating-total-count\">(544)</span></div></div><div class=\"benefit-badges\"> <div class=\"reward-cash-badge\"><div class=\"reward-cash-badge__inr\"><img alt=\"\" class=\"reward-cash-ico\" src=\"//image6.coupangcdn.com/image/badges/cashback/web/list-cash-icon@2x.png\"/> <span class=\"reward-cash-txt\">최대 630원 적립</span></div></div></div> </div></dd></dl> <span class=\"number no-9\">9 </span><div class=\"mask\"></div></a></li>\n",
      "<li class=\"search-product\" data-coupon-nudge-text=\"\" data-coupon-tag-area=\"\" data-is-rocket=\"true\" data-product-id=\"5774176841\" data-vendor-item-id=\"77103637248\" data-winner-vendor-item-id=\"77103637248\" id=\"5774176841\" style=\"height: auto;\"><a class=\"search-product-link\" data-is-soldout=\"\" data-item-id=\"9820108377\" data-product-id=\"5774176841\" data-srp-log='{\"group\":\"PRODUCT\", \"itemId\":\"9820108377\", \"productId\":\"5774176841\", \"vendorItemId\":\"77103637248\", \"page\":\"1\", \"listSize\":\"36\", \"isCcidEligible\":false, \"displayCcidBadge\":false, \"wowOnlyInstantDiscountRate\": 52, \"snsDiscountRate\" : -1, \"isLoyaltyMember\": false }' data-vendor-item-id=\"77103637248\" href=\"/vp/products/5774176841?itemId=9820108377&amp;vendorItemId=77103637248&amp;q=%EC%8D%AC%ED%81%AC%EB%A6%BC&amp;itemsCount=36&amp;searchId=5c088b1d5cff448eb352727dbcf6b6fe&amp;rank=15\" style=\"height: 475px;\" target=\"_blank\"><dl class=\"search-product-wrap\" style=\"height: 475px;\"><dt class=\"image\"> <img alt=\"토니모리 더 촉촉 그린티 수분 선크림 SPF50+ PA+++, 50ml, 2개\" class=\"search-product-wrap-img\" data-img-src=\"//thumbnail9.coupangcdn.com/thumbnails/remote/230x230ex/image/retail/images/200538996830630-fa3ad3cd-e354-4f61-a3e7-1db4009b9ac1.jpg\" data-src=\"data:image/gif;base64,R0lGODlhAQABAAAAACH5BAEKAAEALAAAAAABAAEAAAICTAEAOw==\" height=\"230\" onerror=\"this.src='//img2a.coupangcdn.com/image/coupang/common/no_img_1000_1000.png'\" src=\"//thumbnail9.coupangcdn.com/thumbnails/remote/230x230ex/image/retail/images/200538996830630-fa3ad3cd-e354-4f61-a3e7-1db4009b9ac1.jpg\" width=\"230\"/> </dt><dd class=\"descriptions\"><div class=\"descriptions-inner\"><div class=\"badges\"> </div><div class=\"name\">토니모리 더 촉촉 그린티 수분 선크림 SPF50+ PA+++, 50ml, 2개</div> <div class=\"price-area\"> <div class=\"price-wrap\"><div class=\"price\"> <span class=\"price-info\"> <span class=\"instant-discount-rate\">50%</span> <del class=\"base-price\"> 25,600  </del> </span> <em class=\"sale discount isInstantDiscount\"> <strong class=\"price-value\">12,790</strong>원    <span class=\"badge rocket\"> <img alt=\"로켓배송\" height=\"16\" src=\"//image6.coupangcdn.com/image/cmg/icon/ios/logo_rocket_large@3x.png\"/> </span> </em> <span class=\"unit-price\">(<em>10</em>ml당 <em>1,279</em>원) </span> </div>\n",
      "<!-- Free Shipping Badge -->\n",
      "<div class=\"delivery\"><span class=\"arrival-info\"> <em style=\"color:#008C00\">내일(목)  </em> <em style=\"color:#008C00\">도착 보장 </em> </span></div> </div> </div><div class=\"other-info\"><div class=\"rating-star\"><span class=\"star\"><em class=\"rating\" style=\"width:90%\">4.5</em></span> <span class=\"rating-total-count\">(3604)</span></div></div><div class=\"benefit-badges\"> <div class=\"reward-cash-badge\"><div class=\"reward-cash-badge__inr\"><img alt=\"\" class=\"reward-cash-ico\" src=\"//image6.coupangcdn.com/image/badges/cashback/web/list-cash-icon@2x.png\"/> <span class=\"reward-cash-txt\">최대 608원 적립</span></div></div></div> </div></dd></dl> <span class=\"number no-10\">10 </span><div class=\"mask\"></div></a></li>\n",
      "<li class=\"search-product\" data-coupon-nudge-text=\"\" data-coupon-tag-area=\"\" data-is-rocket=\"true\" data-product-id=\"6472999417\" data-vendor-item-id=\"81383485507\" data-winner-vendor-item-id=\"81383485507\" id=\"6472999417\" style=\"height: auto;\"><a class=\"search-product-link\" data-is-soldout=\"\" data-item-id=\"14136744552\" data-product-id=\"6472999417\" data-srp-log='{\"group\":\"PRODUCT\", \"itemId\":\"14136744552\", \"productId\":\"6472999417\", \"vendorItemId\":\"81383485507\", \"page\":\"1\", \"listSize\":\"36\", \"isCcidEligible\":false, \"displayCcidBadge\":false, \"wowOnlyInstantDiscountRate\": -1, \"snsDiscountRate\" : -1, \"isLoyaltyMember\": false }' data-vendor-item-id=\"81383485507\" href=\"/vp/products/6472999417?itemId=14136744552&amp;vendorItemId=81383485507&amp;q=%EC%8D%AC%ED%81%AC%EB%A6%BC&amp;itemsCount=36&amp;searchId=5c088b1d5cff448eb352727dbcf6b6fe&amp;rank=16\" style=\"height: 475px;\" target=\"_blank\"><dl class=\"search-product-wrap\" style=\"height: 475px;\"><dt class=\"image\"> <img alt=\"미샤 올 어라운드 세이프 블록 아쿠아선크림 SPF50+ PA++++, 1개, 50ml\" class=\"search-product-wrap-img\" data-img-src=\"//thumbnail6.coupangcdn.com/thumbnails/remote/230x230ex/image/rs_quotation_api/hngpngap/bccacafc60744d509a1e7a00eb0eb3f0.jpg\" data-src=\"data:image/gif;base64,R0lGODlhAQABAAAAACH5BAEKAAEALAAAAAABAAEAAAICTAEAOw==\" height=\"230\" onerror=\"this.src='//img2a.coupangcdn.com/image/coupang/common/no_img_1000_1000.png'\" src=\"//thumbnail6.coupangcdn.com/thumbnails/remote/230x230ex/image/rs_quotation_api/hngpngap/bccacafc60744d509a1e7a00eb0eb3f0.jpg\" width=\"230\"/> </dt><dd class=\"descriptions\"><div class=\"descriptions-inner\"><div class=\"badges\"> </div><div class=\"name\">미샤 올 어라운드 세이프 블록 아쿠아선크림 SPF50+ PA++++, 1개, 50ml</div> <div class=\"price-area\"> <div class=\"price-wrap\"><div class=\"price\"> <span class=\"price-info\"> <span class=\"instant-discount-rate\">54%</span> <del class=\"base-price\"> 15,000  </del> </span> <em class=\"sale\"> <strong class=\"price-value\">6,800</strong>원    <span class=\"badge rocket\"> <img alt=\"로켓배송\" height=\"16\" src=\"//image6.coupangcdn.com/image/cmg/icon/ios/logo_rocket_large@3x.png\"/> </span> </em> <span class=\"unit-price\">(<em>10</em>ml당 <em>1,360</em>원) </span> </div>\n",
      "<!-- Free Shipping Badge -->\n",
      "<div class=\"delivery\"><span class=\"arrival-info\"> <em style=\"color:#008C00\">내일(목)  </em> <em style=\"color:#008C00\">도착 보장 </em> </span></div> </div> </div><div class=\"other-info\"><div class=\"rating-star\"><span class=\"star\"><em class=\"rating\" style=\"width:100%\">5.0</em></span> <span class=\"rating-total-count\">(1030)</span></div></div><div class=\"benefit-badges\"> <div class=\"reward-cash-badge\"><div class=\"reward-cash-badge__inr\"><img alt=\"\" class=\"reward-cash-ico\" src=\"//image6.coupangcdn.com/image/badges/cashback/web/list-cash-icon@2x.png\"/> <span class=\"reward-cash-txt\">최대 340원 적립</span></div></div></div> </div></dd></dl><div class=\"mask\"></div></a></li>\n",
      "<li class=\"search-product\" data-coupon-nudge-text=\"\" data-coupon-tag-area=\"\" data-is-rocket=\"\" data-product-id=\"2032659567\" data-vendor-item-id=\"83265753787\" data-winner-vendor-item-id=\"83265753787\" id=\"2032659567\" style=\"height: auto;\"><a class=\"search-product-link\" data-is-soldout=\"\" data-item-id=\"8380651938\" data-product-id=\"2032659567\" data-srp-log='{\"group\":\"PRODUCT\", \"itemId\":\"8380651938\", \"productId\":\"2032659567\", \"vendorItemId\":\"83265753787\", \"page\":\"1\", \"listSize\":\"36\", \"isCcidEligible\":false, \"displayCcidBadge\":false, \"wowOnlyInstantDiscountRate\": -1, \"snsDiscountRate\" : -1, \"isLoyaltyMember\": false }' data-vendor-item-id=\"83265753787\" href=\"/vp/products/2032659567?itemId=8380651938&amp;vendorItemId=83265753787&amp;q=%EC%8D%AC%ED%81%AC%EB%A6%BC&amp;itemsCount=36&amp;searchId=5c088b1d5cff448eb352727dbcf6b6fe&amp;rank=17\" style=\"height: 475px;\" target=\"_blank\"><dl class=\"search-product-wrap\" style=\"height: 475px;\"><dt class=\"image\"> <img alt=\"라운드랩 자작나무 수분 선 크림 50ml 1+1 (SPF 50+ PA++++), 2개\" class=\"search-product-wrap-img\" data-img-src=\"//thumbnail8.coupangcdn.com/thumbnails/remote/230x230ex/image/vendor_inventory/1768/46ea582a3b89270ba7c2468aa9b10a61a7afafe3ebd683ddc9b428323256.jpg\" data-src=\"data:image/gif;base64,R0lGODlhAQABAAAAACH5BAEKAAEALAAAAAABAAEAAAICTAEAOw==\" height=\"230\" onerror=\"this.src='//img2a.coupangcdn.com/image/coupang/common/no_img_1000_1000.png'\" src=\"//thumbnail8.coupangcdn.com/thumbnails/remote/230x230ex/image/vendor_inventory/1768/46ea582a3b89270ba7c2468aa9b10a61a7afafe3ebd683ddc9b428323256.jpg\" width=\"230\"/> </dt><dd class=\"descriptions\"><div class=\"descriptions-inner\"><div class=\"badges\"> <span class=\"badge badge-delivery\">무료배송</span> </div><div class=\"name\">라운드랩 자작나무 수분 선 크림 50ml 1+1 (SPF 50+ PA++++), 2개</div> <div class=\"price-area\"> <div class=\"price-wrap\"><div class=\"price\"> <span class=\"price-info\"> <span class=\"instant-discount-rate\">19%</span> <del class=\"base-price\"> 36,660  </del> </span> <em class=\"sale\"> <strong class=\"price-value\">29,520</strong>원     </em> <span class=\"unit-price\">(<em>10</em>ml당 <em>2,952</em>원) </span> </div>\n",
      "<!-- Free Shipping Badge -->\n",
      "<div class=\"delivery\"><span class=\"arrival-info\"> <em style=\"color:#212B36\">6/10(토)  </em> <em style=\"color:#212B36\">도착 예정 </em> </span></div> </div> </div><div class=\"other-info\"><div class=\"rating-star\"><span class=\"star\"><em class=\"rating\" style=\"width:100%\">5.0</em></span> <span class=\"rating-total-count\">(2384)</span></div></div><div class=\"benefit-badges\"> <div class=\"reward-cash-badge\"><div class=\"reward-cash-badge__inr\"><img alt=\"\" class=\"reward-cash-ico\" src=\"//image6.coupangcdn.com/image/badges/cashback/web/list-cash-icon@2x.png\"/> <span class=\"reward-cash-txt\">최대 1,476원 적립</span></div></div></div> </div></dd></dl><div class=\"mask\"></div></a></li>\n",
      "<li class=\"search-product\" data-coupon-nudge-text=\"\" data-coupon-tag-area=\"true\" data-is-rocket=\"true\" data-product-id=\"4583248357\" data-vendor-item-id=\"3000382598\" data-winner-vendor-item-id=\"3000382598\" id=\"4583248357\" style=\"height: auto;\"><a class=\"search-product-link\" data-is-soldout=\"\" data-item-id=\"5620934963\" data-product-id=\"4583248357\" data-srp-log='{\"group\":\"PRODUCT\", \"itemId\":\"5620934963\", \"productId\":\"4583248357\", \"vendorItemId\":\"3000382598\", \"page\":\"1\", \"listSize\":\"36\", \"isCcidEligible\":false, \"displayCcidBadge\":false, \"wowOnlyInstantDiscountRate\": -1, \"snsDiscountRate\" : -1, \"isLoyaltyMember\": false }' data-vendor-item-id=\"3000382598\" href=\"/vp/products/4583248357?itemId=5620934963&amp;vendorItemId=3000382598&amp;q=%EC%8D%AC%ED%81%AC%EB%A6%BC&amp;itemsCount=36&amp;searchId=5c088b1d5cff448eb352727dbcf6b6fe&amp;rank=18\" style=\"height: 507px;\" target=\"_blank\"><dl class=\"search-product-wrap\" style=\"height: 507px;\"><dt class=\"image\"> <img alt=\"본트리 베리 에센스 선블럭 SPF50+ PA++++, 50ml, 1개\" class=\"search-product-wrap-img\" data-img-src=\"//thumbnail8.coupangcdn.com/thumbnails/remote/230x230ex/image/retail/images/4440532827926417-c33cd6dd-fce7-491b-96cf-3cf7147dd163.jpg\" data-src=\"data:image/gif;base64,R0lGODlhAQABAAAAACH5BAEKAAEALAAAAAABAAEAAAICTAEAOw==\" height=\"230\" onerror=\"this.src='//img2a.coupangcdn.com/image/coupang/common/no_img_1000_1000.png'\" src=\"//thumbnail8.coupangcdn.com/thumbnails/remote/230x230ex/image/retail/images/4440532827926417-c33cd6dd-fce7-491b-96cf-3cf7147dd163.jpg\" width=\"230\"/> </dt><dd class=\"descriptions\"><div class=\"descriptions-inner\"><div class=\"badges\"> </div><div class=\"name\">본트리 베리 에센스 선블럭 SPF50+ PA++++, 50ml, 1개</div> <div class=\"price-area\"> <div class=\"price-wrap\"><div class=\"price\"> <span class=\"price-info\"> <span class=\"instant-discount-rate\">62%</span> <del class=\"base-price\"> 20,000  </del> </span> <em class=\"sale\"> <strong class=\"price-value\">7,500</strong>원    <span class=\"badge rocket\"> <img alt=\"로켓배송\" height=\"16\" src=\"//image6.coupangcdn.com/image/cmg/icon/ios/logo_rocket_large@3x.png\"/> </span> </em> <span class=\"unit-price\">(<em>10</em>ml당 <em>1,500</em>원) </span> </div>\n",
      "<div class=\"coupon-wot-nudge-row\">\n",
      "<div class=\"coupon-wot-nudge-ticket\">\n",
      "<div class=\"coupon-wot-nudge-ticket_left_border\">\n",
      "<span class=\"coupon-wot-nudge-ticket_left_border_amount\">1,800</span>원\n",
      "        </div>\n",
      "<div class=\"coupon-wot-nudge-ticket_right_border\"></div>\n",
      "</div>\n",
      "<div class=\"coupon-wot-nudge-text\">와우회원 추가 쿠폰</div>\n",
      "</div>\n",
      "<!-- Free Shipping Badge -->\n",
      "<div class=\"delivery\"><span class=\"arrival-info\"> <em style=\"color:#008C00\">내일(목)  </em> <em style=\"color:#008C00\">도착 보장 </em> </span></div> </div> </div><div class=\"other-info\"><div class=\"rating-star\"><span class=\"star\"><em class=\"rating\" style=\"width:90%\">4.5</em></span> <span class=\"rating-total-count\">(32038)</span></div></div><div class=\"benefit-badges\"> <div class=\"reward-cash-badge\"><div class=\"reward-cash-badge__inr\"><img alt=\"\" class=\"reward-cash-ico\" src=\"//image6.coupangcdn.com/image/badges/cashback/web/list-cash-icon@2x.png\"/> <span class=\"reward-cash-txt\">최대 285원 적립</span></div></div></div> </div></dd></dl><div class=\"mask\"></div></a></li>\n",
      "<li class=\"search-product\" data-coupon-nudge-text=\"\" data-coupon-tag-area=\"\" data-is-rocket=\"\" data-product-id=\"11745907\" data-vendor-item-id=\"71833951384\" data-winner-vendor-item-id=\"71833951384\" id=\"11745907\" style=\"height: auto;\"><a class=\"search-product-link\" data-is-soldout=\"\" data-item-id=\"50484195\" data-product-id=\"11745907\" data-srp-log='{\"group\":\"PRODUCT\", \"itemId\":\"50484195\", \"productId\":\"11745907\", \"vendorItemId\":\"71833951384\", \"page\":\"1\", \"listSize\":\"36\", \"isCcidEligible\":false, \"displayCcidBadge\":false, \"wowOnlyInstantDiscountRate\": -1, \"snsDiscountRate\" : -1, \"isLoyaltyMember\": false }' data-vendor-item-id=\"71833951384\" href=\"/vp/products/11745907?itemId=50484195&amp;vendorItemId=71833951384&amp;q=%EC%8D%AC%ED%81%AC%EB%A6%BC&amp;itemsCount=36&amp;searchId=5c088b1d5cff448eb352727dbcf6b6fe&amp;rank=19\" style=\"height: 507px;\" target=\"_blank\"><dl class=\"search-product-wrap\" style=\"height: 507px;\"><dt class=\"image\"> <img alt=\"헤라 선 메이트 레포츠 선크림 SPF50+ PA++++, 70ml, 1개\" class=\"search-product-wrap-img\" data-img-src=\"//thumbnail8.coupangcdn.com/thumbnails/remote/230x230ex/image/vendor_inventory/1494/ca5c60885a4f7d467e3ece06f0e9afd1f3353fbb68d0dbb0e453cea21d3b.jpg\" data-src=\"data:image/gif;base64,R0lGODlhAQABAAAAACH5BAEKAAEALAAAAAABAAEAAAICTAEAOw==\" height=\"230\" onerror=\"this.src='//img2a.coupangcdn.com/image/coupang/common/no_img_1000_1000.png'\" src=\"//thumbnail8.coupangcdn.com/thumbnails/remote/230x230ex/image/vendor_inventory/1494/ca5c60885a4f7d467e3ece06f0e9afd1f3353fbb68d0dbb0e453cea21d3b.jpg\" width=\"230\"/> </dt><dd class=\"descriptions\"><div class=\"descriptions-inner\"><div class=\"badges\"> <span class=\"badge badge-delivery\">무료배송</span> </div><div class=\"name\">헤라 선 메이트 레포츠 선크림 SPF50+ PA++++, 70ml, 1개</div> <div class=\"price-area\"> <div class=\"price-wrap\"><div class=\"price\"> <em class=\"sale\"> <strong class=\"price-value\">22,400</strong>원     </em> <span class=\"unit-price\">(<em>10</em>ml당 <em>3,200</em>원) </span> </div>\n",
      "<!-- Free Shipping Badge -->\n",
      "<div class=\"delivery\"><span class=\"arrival-info\"> <em style=\"color:#212B36\">모레(금)  </em> <em style=\"color:#212B36\">도착 예정 </em> </span></div> </div> </div><div class=\"other-info\"><div class=\"rating-star\"><span class=\"star\"><em class=\"rating\" style=\"width:90%\">4.5</em></span> <span class=\"rating-total-count\">(13770)</span></div></div><div class=\"benefit-badges\"> <div class=\"reward-cash-badge\"><div class=\"reward-cash-badge__inr\"><img alt=\"\" class=\"reward-cash-ico\" src=\"//image6.coupangcdn.com/image/badges/cashback/web/list-cash-icon@2x.png\"/> <span class=\"reward-cash-txt\">최대 1,120원 적립</span></div></div></div> </div></dd></dl><div class=\"mask\"></div></a></li>\n",
      "<li class=\"search-product\" data-coupon-nudge-text=\"\" data-coupon-tag-area=\"\" data-is-rocket=\"true\" data-product-id=\"4818995888\" data-vendor-item-id=\"78435698430\" data-winner-vendor-item-id=\"78435698430\" id=\"4818995888\" style=\"height: auto;\"><a class=\"search-product-link\" data-is-soldout=\"\" data-item-id=\"11157419439\" data-product-id=\"4818995888\" data-srp-log='{\"group\":\"PRODUCT\", \"itemId\":\"11157419439\", \"productId\":\"4818995888\", \"vendorItemId\":\"78435698430\", \"page\":\"1\", \"listSize\":\"36\", \"isCcidEligible\":false, \"displayCcidBadge\":false, \"wowOnlyInstantDiscountRate\": -1, \"snsDiscountRate\" : -1, \"isLoyaltyMember\": false }' data-vendor-item-id=\"78435698430\" href=\"/vp/products/4818995888?itemId=11157419439&amp;vendorItemId=78435698430&amp;q=%EC%8D%AC%ED%81%AC%EB%A6%BC&amp;itemsCount=36&amp;searchId=5c088b1d5cff448eb352727dbcf6b6fe&amp;rank=22\" style=\"height: 505px;\" target=\"_blank\"><dl class=\"search-product-wrap\" style=\"height: 505px;\"><dt class=\"image\"> <img alt=\"셀퓨전씨 레이저 썬스크린 100 SPF50+ PA+++, 45ml, 1개\" class=\"search-product-wrap-img\" data-img-src=\"//thumbnail9.coupangcdn.com/thumbnails/remote/230x230ex/image/retail/images/1740587874460043-a9b2d46b-f755-4301-b0d6-06cbe4e4379e.jpg\" data-src=\"data:image/gif;base64,R0lGODlhAQABAAAAACH5BAEKAAEALAAAAAABAAEAAAICTAEAOw==\" height=\"230\" onerror=\"this.src='//img2a.coupangcdn.com/image/coupang/common/no_img_1000_1000.png'\" src=\"//thumbnail9.coupangcdn.com/thumbnails/remote/230x230ex/image/retail/images/1740587874460043-a9b2d46b-f755-4301-b0d6-06cbe4e4379e.jpg\" width=\"230\"/> </dt><dd class=\"descriptions\"><div class=\"descriptions-inner\"><div class=\"badges\"> </div><div class=\"name\">셀퓨전씨 레이저 썬스크린 100 SPF50+ PA+++, 45ml, 1개</div> <div class=\"price-area\"> <div class=\"price-wrap\"><div class=\"price\"> <span class=\"price-info\"> <span class=\"instant-discount-rate\">66%</span> <del class=\"base-price\"> 38,000  </del> </span> <em class=\"sale\"> <strong class=\"price-value\">12,880</strong>원    <span class=\"badge rocket\"> <img alt=\"로켓배송\" height=\"16\" src=\"//image6.coupangcdn.com/image/cmg/icon/ios/logo_rocket_large@3x.png\"/> </span> </em> <span class=\"unit-price\">(<em>10</em>ml당 <em>2,862</em>원) </span> </div>\n",
      "<!-- Free Shipping Badge -->\n",
      "<div class=\"delivery\"><span class=\"arrival-info\"> <em style=\"color:#008C00\">내일(목)  </em> <em style=\"color:#008C00\">도착 보장 </em> </span></div> </div> </div><div class=\"other-info\"><div class=\"rating-star\"><span class=\"star\"><em class=\"rating\" style=\"width:100%\">5.0</em></span> <span class=\"rating-total-count\">(9430)</span></div></div><div class=\"benefit-badges\"> <div class=\"reward-cash-badge\"><div class=\"reward-cash-badge__inr\"><img alt=\"\" class=\"reward-cash-ico\" src=\"//image6.coupangcdn.com/image/badges/cashback/web/list-cash-icon@2x.png\"/> <span class=\"reward-cash-txt\">최대 644원 적립</span></div></div></div> </div></dd></dl><div class=\"mask\"></div></a></li>\n",
      "<li class=\"search-product\" data-coupon-nudge-text=\"\" data-coupon-tag-area=\"\" data-is-rocket=\"true\" data-product-id=\"6659189226\" data-vendor-item-id=\"82502001878\" data-winner-vendor-item-id=\"82502001878\" id=\"6659189226\" style=\"height: auto;\"><a class=\"search-product-link\" data-is-soldout=\"\" data-item-id=\"15281510884\" data-product-id=\"6659189226\" data-srp-log='{\"group\":\"PRODUCT\", \"itemId\":\"15281510884\", \"productId\":\"6659189226\", \"vendorItemId\":\"82502001878\", \"page\":\"1\", \"listSize\":\"36\", \"isCcidEligible\":false, \"displayCcidBadge\":false, \"wowOnlyInstantDiscountRate\": -1, \"snsDiscountRate\" : -1, \"isLoyaltyMember\": false }' data-vendor-item-id=\"82502001878\" href=\"/vp/products/6659189226?itemId=15281510884&amp;vendorItemId=82502001878&amp;q=%EC%8D%AC%ED%81%AC%EB%A6%BC&amp;itemsCount=36&amp;searchId=5c088b1d5cff448eb352727dbcf6b6fe&amp;rank=24\" style=\"height: 460px;\" target=\"_blank\"><dl class=\"search-product-wrap\" style=\"height: 460px;\"><dt class=\"image\"> <img alt=\"그린핑거 촉촉 선팩트 SPF50+ PA++++ 16g + 리필 16g, 1세트\" class=\"search-product-wrap-img\" data-img-src=\"//thumbnail8.coupangcdn.com/thumbnails/remote/230x230ex/image/retail/images/1216047850933861-508d9969-ea91-486d-a54d-e63f7d4f69f8.jpg\" data-src=\"data:image/gif;base64,R0lGODlhAQABAAAAACH5BAEKAAEALAAAAAABAAEAAAICTAEAOw==\" height=\"230\" onerror=\"this.src='//img2a.coupangcdn.com/image/coupang/common/no_img_1000_1000.png'\" src=\"//thumbnail8.coupangcdn.com/thumbnails/remote/230x230ex/image/retail/images/1216047850933861-508d9969-ea91-486d-a54d-e63f7d4f69f8.jpg\" width=\"230\"/> </dt><dd class=\"descriptions\"><div class=\"descriptions-inner\"><div class=\"badges\"> </div><div class=\"name\">그린핑거 촉촉 선팩트 SPF50+ PA++++ 16g + 리필 16g, 1세트</div> <div class=\"price-area\"> <div class=\"price-wrap\"><div class=\"price\"> <span class=\"price-info\"> <span class=\"instant-discount-rate\">44%</span> <del class=\"base-price\"> 37,800  </del> </span> <em class=\"sale\"> <strong class=\"price-value\">20,800</strong>원    <span class=\"badge rocket\"> <img alt=\"로켓배송\" height=\"16\" src=\"//image6.coupangcdn.com/image/badges/falcon/v1/web/rocket-fresh@2x.png\"/> </span> </em> </div>\n",
      "<!-- Free Shipping Badge -->\n",
      "<div class=\"delivery\"><span class=\"arrival-info\"> <em style=\"color:#008C00\">내일(목) 새벽  </em> <em style=\"color:#008C00\">도착 보장 </em> </span></div> </div> </div><div class=\"other-info\"><div class=\"rating-star\"><span class=\"star\"><em class=\"rating\" style=\"width:100%\">5.0</em></span> <span class=\"rating-total-count\">(69)</span></div></div><div class=\"benefit-badges\"> <div class=\"reward-cash-badge\"><div class=\"reward-cash-badge__inr\"><img alt=\"\" class=\"reward-cash-ico\" src=\"//image6.coupangcdn.com/image/badges/cashback/web/list-cash-icon@2x.png\"/> <span class=\"reward-cash-txt\">최대 1,040원 적립</span></div></div></div> </div></dd></dl><div class=\"mask\"></div></a></li>\n",
      "<li class=\"search-product\" data-coupon-nudge-text=\"\" data-coupon-tag-area=\"\" data-is-rocket=\"true\" data-product-id=\"6614779206\" data-vendor-item-id=\"86158187025\" data-winner-vendor-item-id=\"86158187025\" id=\"6614779206\" style=\"height: auto;\"><a class=\"search-product-link\" data-is-soldout=\"\" data-item-id=\"15014686986\" data-product-id=\"6614779206\" data-srp-log='{\"group\":\"PRODUCT\", \"itemId\":\"15014686986\", \"productId\":\"6614779206\", \"vendorItemId\":\"86158187025\", \"page\":\"1\", \"listSize\":\"36\", \"isCcidEligible\":false, \"displayCcidBadge\":false, \"wowOnlyInstantDiscountRate\": -1, \"snsDiscountRate\" : -1, \"isLoyaltyMember\": false }' data-vendor-item-id=\"86158187025\" href=\"/vp/products/6614779206?itemId=15014686986&amp;vendorItemId=86158187025&amp;q=%EC%8D%AC%ED%81%AC%EB%A6%BC&amp;itemsCount=36&amp;searchId=5c088b1d5cff448eb352727dbcf6b6fe&amp;rank=25\" style=\"height: 460px;\" target=\"_blank\"><dl class=\"search-product-wrap\" style=\"height: 460px;\"><dt class=\"image\"> <img alt=\"라운드랩 자작나무 무기자차 선크림 50ml 1+1 기획, 1세트\" class=\"search-product-wrap-img\" data-img-src=\"//thumbnail6.coupangcdn.com/thumbnails/remote/230x230ex/image/vendor_inventory/f15d/0ca96a46512a4ff21d01c44842c7dba56a391e28d8322fadb69afa0eeb91.jpg\" data-src=\"data:image/gif;base64,R0lGODlhAQABAAAAACH5BAEKAAEALAAAAAABAAEAAAICTAEAOw==\" height=\"230\" onerror=\"this.src='//img2a.coupangcdn.com/image/coupang/common/no_img_1000_1000.png'\" src=\"//thumbnail6.coupangcdn.com/thumbnails/remote/230x230ex/image/vendor_inventory/f15d/0ca96a46512a4ff21d01c44842c7dba56a391e28d8322fadb69afa0eeb91.jpg\" width=\"230\"/> </dt><dd class=\"descriptions\"><div class=\"descriptions-inner\"><div class=\"badges\"> </div><div class=\"name\">라운드랩 자작나무 무기자차 선크림 50ml 1+1 기획, 1세트</div> <div class=\"price-area\"> <div class=\"price-wrap\"><div class=\"price\"> <em class=\"sale\"> <strong class=\"price-value\">30,300</strong>원    <span class=\"badge rocket\"> <img alt=\"로켓배송\" height=\"16\" src=\"//image10.coupangcdn.com/image/delivery_badge/default/ios/rocket_merchant/consignment_v3@2x.png\"/> </span> </em> </div>\n",
      "<!-- Free Shipping Badge -->\n",
      "<div class=\"delivery\"><span class=\"arrival-info\"> <em style=\"color:#008C00\">내일(목)  </em> <em style=\"color:#008C00\">도착 보장 </em> </span></div> </div> </div><div class=\"other-info\"><div class=\"rating-star\"><span class=\"star\"><em class=\"rating\" style=\"width:100%\">5.0</em></span> <span class=\"rating-total-count\">(20)</span></div></div><div class=\"benefit-badges\"> <div class=\"reward-cash-badge\"><div class=\"reward-cash-badge__inr\"><img alt=\"\" class=\"reward-cash-ico\" src=\"//image6.coupangcdn.com/image/badges/cashback/web/list-cash-icon@2x.png\"/> <span class=\"reward-cash-txt\">최대 1,515원 적립</span></div></div></div> </div></dd></dl><div class=\"mask\"></div></a></li>\n",
      "<li class=\"search-product\" data-coupon-nudge-text=\"\" data-coupon-tag-area=\"\" data-is-rocket=\"\" data-product-id=\"90787989\" data-vendor-item-id=\"85362938487\" data-winner-vendor-item-id=\"85362938487\" id=\"90787989\" style=\"height: auto;\"><a class=\"search-product-link\" data-is-soldout=\"\" data-item-id=\"11125359613\" data-product-id=\"90787989\" data-srp-log='{\"group\":\"PRODUCT\", \"itemId\":\"11125359613\", \"productId\":\"90787989\", \"vendorItemId\":\"85362938487\", \"page\":\"1\", \"listSize\":\"36\", \"isCcidEligible\":false, \"displayCcidBadge\":false, \"wowOnlyInstantDiscountRate\": 21, \"snsDiscountRate\" : -1, \"isLoyaltyMember\": false }' data-vendor-item-id=\"85362938487\" href=\"/vp/products/90787989?itemId=11125359613&amp;vendorItemId=85362938487&amp;q=%EC%8D%AC%ED%81%AC%EB%A6%BC&amp;itemsCount=36&amp;searchId=5c088b1d5cff448eb352727dbcf6b6fe&amp;rank=26\" style=\"height: 460px;\" target=\"_blank\"><dl class=\"search-product-wrap\" style=\"height: 460px;\"><dt class=\"image\"> <img alt=\"A.H.C 내추럴 퍼펙션 모이스트 선 크림 SPF50+ PA++++, 50ml, 2개\" class=\"search-product-wrap-img\" data-img-src=\"//thumbnail6.coupangcdn.com/thumbnails/remote/230x230ex/image/vendor_inventory/13d1/caff354d807e313c7615db28d76a2e2bbf80de40d36baed7f4b557d38b68.jpg\" data-src=\"data:image/gif;base64,R0lGODlhAQABAAAAACH5BAEKAAEALAAAAAABAAEAAAICTAEAOw==\" height=\"230\" onerror=\"this.src='//img2a.coupangcdn.com/image/coupang/common/no_img_1000_1000.png'\" src=\"//thumbnail6.coupangcdn.com/thumbnails/remote/230x230ex/image/vendor_inventory/13d1/caff354d807e313c7615db28d76a2e2bbf80de40d36baed7f4b557d38b68.jpg\" width=\"230\"/> </dt><dd class=\"descriptions\"><div class=\"descriptions-inner\"><div class=\"badges\"> <span class=\"badge badge-delivery\">무료배송</span> </div><div class=\"name\">A.H.C 내추럴 퍼펙션 모이스트 선 크림 SPF50+ PA++++, 50ml, 2개</div> <div class=\"price-area\"> <div class=\"price-wrap\"><div class=\"price\"> <em class=\"sale discount isInstantDiscount\"> <strong class=\"price-value\">20,000</strong>원     </em> <span class=\"unit-price\">(<em>10</em>ml당 <em>2,000</em>원) </span> </div>\n",
      "<!-- Free Shipping Badge -->\n",
      "<div class=\"delivery\"><span class=\"arrival-info\"> <em style=\"color:#212B36\">모레(금)  </em> <em style=\"color:#212B36\">도착 예정 </em> </span></div> </div> </div><div class=\"other-info\"><div class=\"rating-star\"><span class=\"star\"><em class=\"rating\" style=\"width:90%\">4.5</em></span> <span class=\"rating-total-count\">(2147)</span></div></div><div class=\"benefit-badges\"> <div class=\"reward-cash-badge\"><div class=\"reward-cash-badge__inr\"><img alt=\"\" class=\"reward-cash-ico\" src=\"//image6.coupangcdn.com/image/badges/cashback/web/list-cash-icon@2x.png\"/> <span class=\"reward-cash-txt\">최대 784원 적립</span></div></div></div> </div></dd></dl><div class=\"mask\"></div></a></li>\n",
      "<li class=\"search-product\" data-coupon-nudge-text=\"\" data-coupon-tag-area=\"\" data-is-rocket=\"true\" data-product-id=\"1675342644\" data-vendor-item-id=\"70843609310\" data-winner-vendor-item-id=\"70843609310\" id=\"1675342644\" style=\"height: auto;\"><a class=\"search-product-link\" data-is-soldout=\"\" data-item-id=\"2854298082\" data-product-id=\"1675342644\" data-srp-log='{\"group\":\"PRODUCT\", \"itemId\":\"2854298082\", \"productId\":\"1675342644\", \"vendorItemId\":\"70843609310\", \"page\":\"1\", \"listSize\":\"36\", \"isCcidEligible\":false, \"displayCcidBadge\":false, \"wowOnlyInstantDiscountRate\": -1, \"snsDiscountRate\" : -1, \"isLoyaltyMember\": false }' data-vendor-item-id=\"70843609310\" href=\"/vp/products/1675342644?itemId=2854298082&amp;vendorItemId=70843609310&amp;q=%EC%8D%AC%ED%81%AC%EB%A6%BC&amp;itemsCount=36&amp;searchId=5c088b1d5cff448eb352727dbcf6b6fe&amp;rank=27\" style=\"height: 475px;\" target=\"_blank\"><dl class=\"search-product-wrap\" style=\"height: 475px;\"><dt class=\"image\"> <img alt=\"아요델 내추럴 알로에베라 선크림 SPF50+ PA+++, 500ml, 1개\" class=\"search-product-wrap-img\" data-img-src=\"//thumbnail6.coupangcdn.com/thumbnails/remote/230x230ex/image/retail/images/172064137236121-086c3939-4521-4bee-b6a9-8a7473cb4422.jpg\" data-src=\"data:image/gif;base64,R0lGODlhAQABAAAAACH5BAEKAAEALAAAAAABAAEAAAICTAEAOw==\" height=\"230\" onerror=\"this.src='//img2a.coupangcdn.com/image/coupang/common/no_img_1000_1000.png'\" src=\"//thumbnail6.coupangcdn.com/thumbnails/remote/230x230ex/image/retail/images/172064137236121-086c3939-4521-4bee-b6a9-8a7473cb4422.jpg\" width=\"230\"/> </dt><dd class=\"descriptions\"><div class=\"descriptions-inner\"><div class=\"badges\"> </div><div class=\"name\">아요델 내추럴 알로에베라 선크림 SPF50+ PA+++, 500ml, 1개</div> <div class=\"price-area\"> <div class=\"price-wrap\"><div class=\"price\"> <span class=\"price-info\"> <span class=\"instant-discount-rate\">11%</span> <del class=\"base-price\"> 16,070  </del> </span> <em class=\"sale\"> <strong class=\"price-value\">14,160</strong>원    <span class=\"badge rocket\"> <img alt=\"로켓배송\" height=\"16\" src=\"//image6.coupangcdn.com/image/cmg/icon/ios/logo_rocket_large@3x.png\"/> </span> </em> <span class=\"unit-price\">(<em>10</em>ml당 <em>283</em>원) </span> </div>\n",
      "<!-- Free Shipping Badge -->\n",
      "<div class=\"delivery\"><span class=\"arrival-info\"> <em style=\"color:#008C00\">내일(목)  </em> <em style=\"color:#008C00\">도착 보장 </em> </span></div> </div> </div><div class=\"other-info\"><div class=\"rating-star\"><span class=\"star\"><em class=\"rating\" style=\"width:90%\">4.5</em></span> <span class=\"rating-total-count\">(2786)</span></div></div><div class=\"benefit-badges\"> <div class=\"reward-cash-badge\"><div class=\"reward-cash-badge__inr\"><img alt=\"\" class=\"reward-cash-ico\" src=\"//image6.coupangcdn.com/image/badges/cashback/web/list-cash-icon@2x.png\"/> <span class=\"reward-cash-txt\">최대 708원 적립</span></div></div></div> </div></dd></dl><div class=\"mask\"></div></a></li>\n",
      "<li class=\"search-product\" data-coupon-nudge-text=\"\" data-coupon-tag-area=\"\" data-is-rocket=\"true\" data-product-id=\"7266354484\" data-vendor-item-id=\"85659186752\" data-winner-vendor-item-id=\"85659186752\" id=\"7266354484\" style=\"height: auto;\"><a class=\"search-product-link\" data-is-soldout=\"\" data-item-id=\"18520523426\" data-product-id=\"7266354484\" data-srp-log='{\"group\":\"PRODUCT\", \"itemId\":\"18520523426\", \"productId\":\"7266354484\", \"vendorItemId\":\"85659186752\", \"page\":\"1\", \"listSize\":\"36\", \"isCcidEligible\":false, \"displayCcidBadge\":false, \"wowOnlyInstantDiscountRate\": 40, \"snsDiscountRate\" : -1, \"isLoyaltyMember\": false }' data-vendor-item-id=\"85659186752\" href=\"/vp/products/7266354484?itemId=18520523426&amp;vendorItemId=85659186752&amp;q=%EC%8D%AC%ED%81%AC%EB%A6%BC&amp;itemsCount=36&amp;searchId=5c088b1d5cff448eb352727dbcf6b6fe&amp;rank=28\" style=\"height: 475px;\" target=\"_blank\"><dl class=\"search-product-wrap\" style=\"height: 475px;\"><dt class=\"image\"> <img alt=\"에스쁘아 워터 스플래쉬 선크림 프레쉬 시카 SPF50+ PA++++, 1개, 60ml\" class=\"search-product-wrap-img\" data-img-src=\"//thumbnail10.coupangcdn.com/thumbnails/remote/230x230ex/image/retail/images/2023/04/13/18/8/c84eb0e0-6132-46a9-8d03-01b7cc105c38.jpg\" data-src=\"data:image/gif;base64,R0lGODlhAQABAAAAACH5BAEKAAEALAAAAAABAAEAAAICTAEAOw==\" height=\"230\" onerror=\"this.src='//img2a.coupangcdn.com/image/coupang/common/no_img_1000_1000.png'\" src=\"//thumbnail10.coupangcdn.com/thumbnails/remote/230x230ex/image/retail/images/2023/04/13/18/8/c84eb0e0-6132-46a9-8d03-01b7cc105c38.jpg\" width=\"230\"/> </dt><dd class=\"descriptions\"><div class=\"descriptions-inner\"><div class=\"badges\"> </div><div class=\"name\">에스쁘아 워터 스플래쉬 선크림 프레쉬 시카 SPF50+ PA++++, 1개, 60ml</div> <div class=\"price-area\"> <div class=\"price-wrap\"><div class=\"price\"> <span class=\"price-info\"> <span class=\"instant-discount-rate\">37%</span> <del class=\"base-price\"> 22,000  </del> </span> <em class=\"sale discount isInstantDiscount\"> <strong class=\"price-value\">13,790</strong>원    <span class=\"badge rocket\"> <img alt=\"로켓배송\" height=\"16\" src=\"//image6.coupangcdn.com/image/cmg/icon/ios/logo_rocket_large@3x.png\"/> </span> </em> <span class=\"unit-price\">(<em>10</em>ml당 <em>2,298</em>원) </span> </div>\n",
      "<!-- Free Shipping Badge -->\n",
      "<div class=\"delivery\"><span class=\"arrival-info\"> <em style=\"color:#008C00\">내일(목)  </em> <em style=\"color:#008C00\">도착 보장 </em> </span></div> </div> </div><div class=\"other-info\"><div class=\"rating-star\"><span class=\"star\"><em class=\"rating\" style=\"width:100%\">5.0</em></span> <span class=\"rating-total-count\">(23)</span></div></div><div class=\"benefit-badges\"> <div class=\"reward-cash-badge\"><div class=\"reward-cash-badge__inr\"><img alt=\"\" class=\"reward-cash-ico\" src=\"//image6.coupangcdn.com/image/badges/cashback/web/list-cash-icon@2x.png\"/> <span class=\"reward-cash-txt\">최대 655원 적립</span></div></div></div> </div></dd></dl><div class=\"mask\"></div></a></li>\n",
      "<li class=\"search-product\" data-coupon-nudge-text=\"\" data-coupon-tag-area=\"\" data-is-rocket=\"true\" data-product-id=\"78603900\" data-vendor-item-id=\"75195084841\" data-winner-vendor-item-id=\"75195084841\" id=\"78603900\" style=\"height: auto;\"><a class=\"search-product-link\" data-is-soldout=\"\" data-item-id=\"253619250\" data-product-id=\"78603900\" data-srp-log='{\"group\":\"PRODUCT\", \"itemId\":\"253619250\", \"productId\":\"78603900\", \"vendorItemId\":\"75195084841\", \"page\":\"1\", \"listSize\":\"36\", \"isCcidEligible\":false, \"displayCcidBadge\":false, \"wowOnlyInstantDiscountRate\": -1, \"snsDiscountRate\" : -1, \"isLoyaltyMember\": false }' data-vendor-item-id=\"75195084841\" href=\"/vp/products/78603900?itemId=253619250&amp;vendorItemId=75195084841&amp;q=%EC%8D%AC%ED%81%AC%EB%A6%BC&amp;itemsCount=36&amp;searchId=5c088b1d5cff448eb352727dbcf6b6fe&amp;rank=29\" style=\"height: 475px;\" target=\"_blank\"><dl class=\"search-product-wrap\" style=\"height: 475px;\"><dt class=\"image\"> <img alt=\"닥터아토 쿨링 선스프레이 SPF50 PA+++, 150ml, 1개\" class=\"search-product-wrap-img\" data-img-src=\"//thumbnail6.coupangcdn.com/thumbnails/remote/230x230ex/image/retail/images/119186997557188-fa85bded-0230-4df9-9411-a374107ab9d8.jpg\" data-src=\"data:image/gif;base64,R0lGODlhAQABAAAAACH5BAEKAAEALAAAAAABAAEAAAICTAEAOw==\" height=\"230\" onerror=\"this.src='//img2a.coupangcdn.com/image/coupang/common/no_img_1000_1000.png'\" src=\"//thumbnail6.coupangcdn.com/thumbnails/remote/230x230ex/image/retail/images/119186997557188-fa85bded-0230-4df9-9411-a374107ab9d8.jpg\" width=\"230\"/> </dt><dd class=\"descriptions\"><div class=\"descriptions-inner\"><div class=\"badges\"> </div><div class=\"name\">닥터아토 쿨링 선스프레이 SPF50 PA+++, 150ml, 1개</div> <div class=\"price-area\"> <div class=\"price-wrap\"><div class=\"price\"> <span class=\"price-info\"> <span class=\"instant-discount-rate\">19%</span> <del class=\"base-price\"> 9,980  </del> </span> <em class=\"sale\"> <strong class=\"price-value\">8,060</strong>원    <span class=\"badge rocket\"> <img alt=\"로켓배송\" height=\"16\" src=\"//image6.coupangcdn.com/image/cmg/icon/ios/logo_rocket_large@3x.png\"/> </span> </em> <span class=\"unit-price\">(<em>10</em>ml당 <em>537</em>원) </span> </div>\n",
      "<!-- Free Shipping Badge -->\n",
      "<div class=\"delivery\"><span class=\"arrival-info\"> <em style=\"color:#008C00\">내일(목)  </em> <em style=\"color:#008C00\">도착 보장 </em> </span></div> </div> </div><div class=\"other-info\"><div class=\"rating-star\"><span class=\"star\"><em class=\"rating\" style=\"width:90%\">4.5</em></span> <span class=\"rating-total-count\">(6584)</span></div></div><div class=\"benefit-badges\"> <div class=\"reward-cash-badge\"><div class=\"reward-cash-badge__inr\"><img alt=\"\" class=\"reward-cash-ico\" src=\"//image6.coupangcdn.com/image/badges/cashback/web/list-cash-icon@2x.png\"/> <span class=\"reward-cash-txt\">최대 403원 적립</span></div></div></div> </div></dd></dl><div class=\"mask\"></div></a></li>\n",
      "<li class=\"search-product\" data-coupon-nudge-text=\"\" data-coupon-tag-area=\"\" data-is-rocket=\"true\" data-product-id=\"6427738297\" data-vendor-item-id=\"78370846441\" data-winner-vendor-item-id=\"78370846441\" id=\"6427738297\" style=\"height: auto;\"><a class=\"search-product-link\" data-is-soldout=\"\" data-item-id=\"11091457471\" data-product-id=\"6427738297\" data-srp-log='{\"group\":\"PRODUCT\", \"itemId\":\"11091457471\", \"productId\":\"6427738297\", \"vendorItemId\":\"78370846441\", \"page\":\"1\", \"listSize\":\"36\", \"isCcidEligible\":false, \"displayCcidBadge\":false, \"wowOnlyInstantDiscountRate\": 52, \"snsDiscountRate\" : -1, \"isLoyaltyMember\": false }' data-vendor-item-id=\"78370846441\" href=\"/vp/products/6427738297?itemId=11091457471&amp;vendorItemId=78370846441&amp;q=%EC%8D%AC%ED%81%AC%EB%A6%BC&amp;itemsCount=36&amp;searchId=5c088b1d5cff448eb352727dbcf6b6fe&amp;rank=30\" style=\"height: 475px;\" target=\"_blank\"><dl class=\"search-product-wrap\" style=\"height: 475px;\"><dt class=\"image\"> <img alt=\"홀리카홀리카 알로에 워터프루프 선크림 SPF 50+ PA++++, 70ml, 1개\" class=\"search-product-wrap-img\" data-img-src=\"//thumbnail6.coupangcdn.com/thumbnails/remote/230x230ex/image/rs_quotation_api/ywvri5hk/8641e3bfcfa54c77bc82168932586304.jpg\" data-src=\"data:image/gif;base64,R0lGODlhAQABAAAAACH5BAEKAAEALAAAAAABAAEAAAICTAEAOw==\" height=\"230\" onerror=\"this.src='//img2a.coupangcdn.com/image/coupang/common/no_img_1000_1000.png'\" src=\"//thumbnail6.coupangcdn.com/thumbnails/remote/230x230ex/image/rs_quotation_api/ywvri5hk/8641e3bfcfa54c77bc82168932586304.jpg\" width=\"230\"/> </dt><dd class=\"descriptions\"><div class=\"descriptions-inner\"><div class=\"badges\"> </div><div class=\"name\">홀리카홀리카 알로에 워터프루프 선크림 SPF 50+ PA++++, 70ml, 1개</div> <div class=\"price-area\"> <div class=\"price-wrap\"><div class=\"price\"> <span class=\"price-info\"> <span class=\"instant-discount-rate\">43%</span> <del class=\"base-price\"> 14,000  </del> </span> <em class=\"sale discount isInstantDiscount\"> <strong class=\"price-value\">7,840</strong>원    <span class=\"badge rocket\"> <img alt=\"로켓배송\" height=\"16\" src=\"//image6.coupangcdn.com/image/cmg/icon/ios/logo_rocket_large@3x.png\"/> </span> </em> <span class=\"unit-price\">(<em>10</em>ml당 <em>1,120</em>원) </span> </div>\n",
      "<!-- Free Shipping Badge -->\n",
      "<div class=\"delivery\"><span class=\"arrival-info\"> <em style=\"color:#008C00\">내일(목)  </em> <em style=\"color:#008C00\">도착 보장 </em> </span></div> </div> </div><div class=\"other-info\"><div class=\"rating-star\"><span class=\"star\"><em class=\"rating\" style=\"width:100%\">5.0</em></span> <span class=\"rating-total-count\">(1455)</span></div></div><div class=\"benefit-badges\"> <div class=\"reward-cash-badge\"><div class=\"reward-cash-badge__inr\"><img alt=\"\" class=\"reward-cash-ico\" src=\"//image6.coupangcdn.com/image/badges/cashback/web/list-cash-icon@2x.png\"/> <span class=\"reward-cash-txt\">최대 333원 적립</span></div></div></div> </div></dd></dl><div class=\"mask\"></div></a></li>\n",
      "<li class=\"search-product\" data-coupon-nudge-text=\"\" data-coupon-tag-area=\"\" data-is-rocket=\"true\" data-product-id=\"6570235846\" data-vendor-item-id=\"81986282762\" data-winner-vendor-item-id=\"81986282762\" id=\"6570235846\" style=\"height: auto;\"><a class=\"search-product-link\" data-is-soldout=\"\" data-item-id=\"14745864103\" data-product-id=\"6570235846\" data-srp-log='{\"group\":\"PRODUCT\", \"itemId\":\"14745864103\", \"productId\":\"6570235846\", \"vendorItemId\":\"81986282762\", \"page\":\"1\", \"listSize\":\"36\", \"isCcidEligible\":false, \"displayCcidBadge\":false, \"wowOnlyInstantDiscountRate\": 57, \"snsDiscountRate\" : -1, \"isLoyaltyMember\": false }' data-vendor-item-id=\"81986282762\" href=\"/vp/products/6570235846?itemId=14745864103&amp;vendorItemId=81986282762&amp;q=%EC%8D%AC%ED%81%AC%EB%A6%BC&amp;itemsCount=36&amp;searchId=5c088b1d5cff448eb352727dbcf6b6fe&amp;rank=31\" style=\"height: 475px;\" target=\"_blank\"><dl class=\"search-product-wrap\" style=\"height: 475px;\"><dt class=\"image\"> <img alt=\"닥터방기원 시카마이드 데일리 에센스 선크림 SPF50+ PA++++, 50g, 2개\" class=\"search-product-wrap-img\" data-img-src=\"//thumbnail7.coupangcdn.com/thumbnails/remote/230x230ex/image/retail/images/7814237120523610-da74438b-e1bf-4a98-82bf-49eb920afadb.jpg\" data-src=\"data:image/gif;base64,R0lGODlhAQABAAAAACH5BAEKAAEALAAAAAABAAEAAAICTAEAOw==\" height=\"230\" onerror=\"this.src='//img2a.coupangcdn.com/image/coupang/common/no_img_1000_1000.png'\" src=\"//thumbnail7.coupangcdn.com/thumbnails/remote/230x230ex/image/retail/images/7814237120523610-da74438b-e1bf-4a98-82bf-49eb920afadb.jpg\" width=\"230\"/> </dt><dd class=\"descriptions\"><div class=\"descriptions-inner\"><div class=\"badges\"> </div><div class=\"name\">닥터방기원 시카마이드 데일리 에센스 선크림 SPF50+ PA++++, 50g, 2개</div> <div class=\"price-area\"> <div class=\"price-wrap\"><div class=\"price\"> <span class=\"price-info\"> <span class=\"instant-discount-rate\">50%</span> <del class=\"base-price\"> 32,000  </del> </span> <em class=\"sale discount isInstantDiscount\"> <strong class=\"price-value\">15,900</strong>원    <span class=\"badge rocket\"> <img alt=\"로켓배송\" height=\"16\" src=\"//image6.coupangcdn.com/image/cmg/icon/ios/logo_rocket_large@3x.png\"/> </span> </em> <span class=\"unit-price\">(<em>10</em>g당 <em>1,590</em>원) </span> </div>\n",
      "<!-- Free Shipping Badge -->\n",
      "<div class=\"delivery\"><span class=\"arrival-info\"> <em style=\"color:#008C00\">내일(목)  </em> <em style=\"color:#008C00\">도착 보장 </em> </span></div> </div> </div><div class=\"other-info\"><div class=\"rating-star\"><span class=\"star\"><em class=\"rating\" style=\"width:90%\">4.5</em></span> <span class=\"rating-total-count\">(2941)</span></div></div><div class=\"benefit-badges\"> <div class=\"reward-cash-badge\"><div class=\"reward-cash-badge__inr\"><img alt=\"\" class=\"reward-cash-ico\" src=\"//image6.coupangcdn.com/image/badges/cashback/web/list-cash-icon@2x.png\"/> <span class=\"reward-cash-txt\">최대 675원 적립</span></div></div></div> </div></dd></dl><div class=\"mask\"></div></a></li>\n",
      "<li class=\"search-product\" data-coupon-nudge-text=\"\" data-coupon-tag-area=\"\" data-is-rocket=\"true\" data-product-id=\"6417990108\" data-vendor-item-id=\"81043224952\" data-winner-vendor-item-id=\"81043224952\" id=\"6417990108\" style=\"height: auto;\"><a class=\"search-product-link\" data-is-soldout=\"\" data-item-id=\"13792854160\" data-product-id=\"6417990108\" data-srp-log='{\"group\":\"PRODUCT\", \"itemId\":\"13792854160\", \"productId\":\"6417990108\", \"vendorItemId\":\"81043224952\", \"page\":\"1\", \"listSize\":\"36\", \"isCcidEligible\":false, \"displayCcidBadge\":false, \"wowOnlyInstantDiscountRate\": 67, \"snsDiscountRate\" : -1, \"isLoyaltyMember\": false }' data-vendor-item-id=\"81043224952\" href=\"/vp/products/6417990108?itemId=13792854160&amp;vendorItemId=81043224952&amp;q=%EC%8D%AC%ED%81%AC%EB%A6%BC&amp;itemsCount=36&amp;searchId=5c088b1d5cff448eb352727dbcf6b6fe&amp;rank=32\" style=\"height: 475px;\" target=\"_blank\"><dl class=\"search-product-wrap\" style=\"height: 475px;\"><dt class=\"image\"> <img alt=\"셀퓨전씨 레이저 썬스크린 100 SPF50+ PA+++ 45ml x 2p + 10ml, 1세트\" class=\"search-product-wrap-img\" data-img-src=\"//thumbnail7.coupangcdn.com/thumbnails/remote/230x230ex/image/rs_quotation_api/rix5p9vk/43a33956c09e4cf7b836694e0e67d107.jpg\" data-src=\"data:image/gif;base64,R0lGODlhAQABAAAAACH5BAEKAAEALAAAAAABAAEAAAICTAEAOw==\" height=\"230\" onerror=\"this.src='//img2a.coupangcdn.com/image/coupang/common/no_img_1000_1000.png'\" src=\"//thumbnail7.coupangcdn.com/thumbnails/remote/230x230ex/image/rs_quotation_api/rix5p9vk/43a33956c09e4cf7b836694e0e67d107.jpg\" width=\"230\"/> </dt><dd class=\"descriptions\"><div class=\"descriptions-inner\"><div class=\"badges\"> </div><div class=\"name\">셀퓨전씨 레이저 썬스크린 100 SPF50+ PA+++ 45ml x 2p + 10ml, 1세트</div> <div class=\"price-area\"> <div class=\"price-wrap\"><div class=\"price\"> <span class=\"price-info\"> <span class=\"instant-discount-rate\">59%</span> <del class=\"base-price\"> 76,000  </del> </span> <em class=\"sale discount isInstantDiscount\"> <strong class=\"price-value\">30,930</strong>원    <span class=\"badge rocket\"> <img alt=\"로켓배송\" height=\"16\" src=\"//image6.coupangcdn.com/image/cmg/icon/ios/logo_rocket_large@3x.png\"/> </span> </em> </div>\n",
      "<!-- Free Shipping Badge -->\n",
      "<div class=\"delivery\"><span class=\"arrival-info\"> <em style=\"color:#008C00\">내일(목)  </em> <em style=\"color:#008C00\">도착 보장 </em> </span></div> </div> </div><div class=\"other-info\"><div class=\"rating-star\"><span class=\"star\"><em class=\"rating\" style=\"width:100%\">5.0</em></span> <span class=\"rating-total-count\">(1385)</span></div></div><div class=\"benefit-badges\"> <div class=\"reward-cash-badge\"><div class=\"reward-cash-badge__inr\"><img alt=\"\" class=\"reward-cash-ico\" src=\"//image6.coupangcdn.com/image/badges/cashback/web/list-cash-icon@2x.png\"/> <span class=\"reward-cash-txt\">최대 1,237원 적립</span></div></div></div> </div></dd></dl><div class=\"mask\"></div></a></li>\n",
      "<li class=\"search-product\" data-coupon-nudge-text=\"\" data-coupon-tag-area=\"\" data-is-rocket=\"true\" data-product-id=\"6598003859\" data-vendor-item-id=\"80103763033\" data-winner-vendor-item-id=\"80103763033\" id=\"6598003859\" style=\"height: auto;\"><a class=\"search-product-link\" data-is-soldout=\"\" data-item-id=\"12838144146\" data-product-id=\"6598003859\" data-srp-log='{\"group\":\"PRODUCT\", \"itemId\":\"12838144146\", \"productId\":\"6598003859\", \"vendorItemId\":\"80103763033\", \"page\":\"1\", \"listSize\":\"36\", \"isCcidEligible\":false, \"displayCcidBadge\":false, \"wowOnlyInstantDiscountRate\": -1, \"snsDiscountRate\" : -1, \"isLoyaltyMember\": false }' data-vendor-item-id=\"80103763033\" href=\"/vp/products/6598003859?itemId=12838144146&amp;vendorItemId=80103763033&amp;q=%EC%8D%AC%ED%81%AC%EB%A6%BC&amp;itemsCount=36&amp;searchId=5c088b1d5cff448eb352727dbcf6b6fe&amp;rank=33\" style=\"height: 499px;\" target=\"_blank\"><dl class=\"search-product-wrap\" style=\"height: 499px;\"><dt class=\"image\"> <img alt=\"라운드랩 1025 독도 선크림 SPF 50+ PA++++, 1개, 50ml\" class=\"search-product-wrap-img\" data-img-src=\"//thumbnail10.coupangcdn.com/thumbnails/remote/230x230ex/image/retail/images/3044563722892825-42ce4145-9804-425b-8a30-f27311d6939b.jpg\" data-src=\"data:image/gif;base64,R0lGODlhAQABAAAAACH5BAEKAAEALAAAAAABAAEAAAICTAEAOw==\" height=\"230\" onerror=\"this.src='//img2a.coupangcdn.com/image/coupang/common/no_img_1000_1000.png'\" src=\"//thumbnail10.coupangcdn.com/thumbnails/remote/230x230ex/image/retail/images/3044563722892825-42ce4145-9804-425b-8a30-f27311d6939b.jpg\" width=\"230\"/> </dt><dd class=\"descriptions\"><div class=\"descriptions-inner\"><div class=\"badges\"> </div><div class=\"name\">라운드랩 1025 독도 선크림 SPF 50+ PA++++, 1개, 50ml</div> <div class=\"price-area\"> <div class=\"price-wrap\"><div class=\"price\"> <span class=\"price-info\"> <span class=\"instant-discount-rate\">35%</span> <del class=\"base-price\"> 25,000  </del> </span> <em class=\"sale\"> <strong class=\"price-value\">16,110</strong>원    <span class=\"badge rocket\"> <img alt=\"로켓배송\" height=\"16\" src=\"//image6.coupangcdn.com/image/cmg/icon/ios/logo_rocket_large@3x.png\"/> </span> </em> <span class=\"unit-price\">(<em>10</em>ml당 <em>3,222</em>원) </span> </div>\n",
      "<!-- Free Shipping Badge -->\n",
      "<div class=\"delivery\"><span class=\"arrival-info\"> <em style=\"color:#008C00\">내일(목)  </em> <em style=\"color:#008C00\">도착 보장 </em> </span></div> </div> <div class=\"used-product-info\"><span>새 상품</span><span>, </span><span>반품</span><strong> (3)</strong> </div> </div><div class=\"other-info\"><div class=\"rating-star\"><span class=\"star\"><em class=\"rating\" style=\"width:100%\">5.0</em></span> <span class=\"rating-total-count\">(1104)</span></div></div><div class=\"benefit-badges\"> <div class=\"reward-cash-badge\"><div class=\"reward-cash-badge__inr\"><img alt=\"\" class=\"reward-cash-ico\" src=\"//image6.coupangcdn.com/image/badges/cashback/web/list-cash-icon@2x.png\"/> <span class=\"reward-cash-txt\">최대 805원 적립</span></div></div></div> </div></dd></dl><div class=\"mask\"></div></a></li>\n",
      "<li class=\"search-product\" data-coupon-nudge-text=\"\" data-coupon-tag-area=\"\" data-is-rocket=\"true\" data-product-id=\"7212739502\" data-vendor-item-id=\"85404004808\" data-winner-vendor-item-id=\"85404004808\" id=\"7212739502\" style=\"height: auto;\"><a class=\"search-product-link\" data-is-soldout=\"\" data-item-id=\"18257421907\" data-product-id=\"7212739502\" data-srp-log='{\"group\":\"PRODUCT\", \"itemId\":\"18257421907\", \"productId\":\"7212739502\", \"vendorItemId\":\"85404004808\", \"page\":\"1\", \"listSize\":\"36\", \"isCcidEligible\":false, \"displayCcidBadge\":false, \"wowOnlyInstantDiscountRate\": -1, \"snsDiscountRate\" : -1, \"isLoyaltyMember\": false }' data-vendor-item-id=\"85404004808\" href=\"/vp/products/7212739502?itemId=18257421907&amp;vendorItemId=85404004808&amp;q=%EC%8D%AC%ED%81%AC%EB%A6%BC&amp;itemsCount=36&amp;searchId=5c088b1d5cff448eb352727dbcf6b6fe&amp;rank=34\" style=\"height: 499px;\" target=\"_blank\"><dl class=\"search-product-wrap\" style=\"height: 499px;\"><dt class=\"image\"> <img alt=\"편강율 키즈 앤 베이비 모이스처 선크림 SPF50+ PA++++, 1개, 150ml\" class=\"search-product-wrap-img\" data-img-src=\"//thumbnail6.coupangcdn.com/thumbnails/remote/230x230ex/image/rs_quotation_api/aaqxxtt9/deed2cf9ab94417bbcefea3dcf243f98.jpg\" data-src=\"data:image/gif;base64,R0lGODlhAQABAAAAACH5BAEKAAEALAAAAAABAAEAAAICTAEAOw==\" height=\"230\" onerror=\"this.src='//img2a.coupangcdn.com/image/coupang/common/no_img_1000_1000.png'\" src=\"//thumbnail6.coupangcdn.com/thumbnails/remote/230x230ex/image/rs_quotation_api/aaqxxtt9/deed2cf9ab94417bbcefea3dcf243f98.jpg\" width=\"230\"/> </dt><dd class=\"descriptions\"><div class=\"descriptions-inner\"><div class=\"badges\"> </div><div class=\"name\">편강율 키즈 앤 베이비 모이스처 선크림 SPF50+ PA++++, 1개, 150ml</div> <div class=\"price-area\"> <div class=\"price-wrap\"><div class=\"price\"> <span class=\"price-info\"> <span class=\"instant-discount-rate\">43%</span> <del class=\"base-price\"> 28,000  </del> </span> <em class=\"sale\"> <strong class=\"price-value\">15,900</strong>원    <span class=\"badge rocket\"> <img alt=\"로켓배송\" height=\"16\" src=\"//image6.coupangcdn.com/image/cmg/icon/ios/logo_rocket_large@3x.png\"/> </span> </em> <span class=\"unit-price\">(<em>10</em>ml당 <em>1,060</em>원) </span> </div>\n",
      "<!-- Free Shipping Badge -->\n",
      "<div class=\"delivery\"><span class=\"arrival-info\"> <em style=\"color:#008C00\">내일(목)  </em> <em style=\"color:#008C00\">도착 보장 </em> </span></div> </div> </div><div class=\"other-info\"><div class=\"rating-star\"><span class=\"star\"><em class=\"rating\" style=\"width:100%\">5.0</em></span> <span class=\"rating-total-count\">(401)</span></div></div><div class=\"benefit-badges\"> <div class=\"reward-cash-badge\"><div class=\"reward-cash-badge__inr\"><img alt=\"\" class=\"reward-cash-ico\" src=\"//image6.coupangcdn.com/image/badges/cashback/web/list-cash-icon@2x.png\"/> <span class=\"reward-cash-txt\">최대 795원 적립</span></div></div></div> </div></dd></dl><div class=\"mask\"></div></a></li>\n",
      "<li class=\"search-product\" data-coupon-nudge-text=\"\" data-coupon-tag-area=\"\" data-is-rocket=\"true\" data-product-id=\"7219417544\" data-vendor-item-id=\"85436606543\" data-winner-vendor-item-id=\"85436606543\" id=\"7219417544\" style=\"height: auto;\"><a class=\"search-product-link\" data-is-soldout=\"\" data-item-id=\"18290882727\" data-product-id=\"7219417544\" data-srp-log='{\"group\":\"PRODUCT\", \"itemId\":\"18290882727\", \"productId\":\"7219417544\", \"vendorItemId\":\"85436606543\", \"page\":\"1\", \"listSize\":\"36\", \"isCcidEligible\":false, \"displayCcidBadge\":false, \"wowOnlyInstantDiscountRate\": -1, \"snsDiscountRate\" : -1, \"isLoyaltyMember\": false }' data-vendor-item-id=\"85436606543\" href=\"/vp/products/7219417544?itemId=18290882727&amp;vendorItemId=85436606543&amp;q=%EC%8D%AC%ED%81%AC%EB%A6%BC&amp;itemsCount=36&amp;searchId=5c088b1d5cff448eb352727dbcf6b6fe&amp;rank=35\" style=\"height: 499px;\" target=\"_blank\"><dl class=\"search-product-wrap\" style=\"height: 499px;\"><dt class=\"image\"> <img alt=\"이니스프리 히알루론 수분 선크림 SPF50+ PA++++, 35ml, 1개\" class=\"search-product-wrap-img\" data-img-src=\"//thumbnail9.coupangcdn.com/thumbnails/remote/230x230ex/image/retail/images/2023/03/24/15/9/982a861c-64a5-4e3a-9369-94aa9268e8f7.png\" data-src=\"data:image/gif;base64,R0lGODlhAQABAAAAACH5BAEKAAEALAAAAAABAAEAAAICTAEAOw==\" height=\"230\" onerror=\"this.src='//img2a.coupangcdn.com/image/coupang/common/no_img_1000_1000.png'\" src=\"//thumbnail9.coupangcdn.com/thumbnails/remote/230x230ex/image/retail/images/2023/03/24/15/9/982a861c-64a5-4e3a-9369-94aa9268e8f7.png\" width=\"230\"/> </dt><dd class=\"descriptions\"><div class=\"descriptions-inner\"><div class=\"badges\"> </div><div class=\"name\">이니스프리 히알루론 수분 선크림 SPF50+ PA++++, 35ml, 1개</div> <div class=\"price-area\"> <div class=\"price-wrap\"><div class=\"price\"> <span class=\"price-info\"> <span class=\"instant-discount-rate\">36%</span> <del class=\"base-price\"> 17,000  </del> </span> <em class=\"sale\"> <strong class=\"price-value\">10,720</strong>원    <span class=\"badge rocket\"> <img alt=\"로켓배송\" height=\"16\" src=\"//image6.coupangcdn.com/image/cmg/icon/ios/logo_rocket_large@3x.png\"/> </span> </em> <span class=\"unit-price\">(<em>10</em>ml당 <em>3,063</em>원) </span> </div>\n",
      "<!-- Free Shipping Badge -->\n",
      "<div class=\"delivery\"><span class=\"arrival-info\"> <em style=\"color:#008C00\">내일(목)  </em> <em style=\"color:#008C00\">도착 보장 </em> </span></div> </div> </div><div class=\"other-info\"><div class=\"rating-star\"><span class=\"star\"><em class=\"rating\" style=\"width:90%\">4.5</em></span> <span class=\"rating-total-count\">(234)</span></div></div><div class=\"benefit-badges\"> <div class=\"reward-cash-badge\"><div class=\"reward-cash-badge__inr\"><img alt=\"\" class=\"reward-cash-ico\" src=\"//image6.coupangcdn.com/image/badges/cashback/web/list-cash-icon@2x.png\"/> <span class=\"reward-cash-txt\">최대 536원 적립</span></div></div></div> </div></dd></dl><div class=\"mask\"></div></a></li>\n"
     ]
    }
   ],
   "source": [
    "# 36개중 9개 광고 제거 데이터 출력\n",
    "\n",
    "for product in filtered_products:\n",
    "    print(product)\n"
   ]
  },
  {
   "cell_type": "markdown",
   "id": "e670238b",
   "metadata": {},
   "source": [
    "---"
   ]
  },
  {
   "cell_type": "markdown",
   "id": "0f93bba5",
   "metadata": {},
   "source": [
    "## 데이터 추출\n",
    "\n",
    "\n",
    "1. 이미지\n",
    "\n",
    "2. 브랜드\n",
    "\n",
    "3. 네임\n",
    "\n",
    "4. 가격\n",
    "\n",
    "5. 와우회원 추가 할인 쿠폰 적용 가격\n",
    "\n",
    "6. 링크\n",
    "\n"
   ]
  },
  {
   "cell_type": "code",
   "execution_count": 4,
   "id": "ae43295f",
   "metadata": {},
   "outputs": [
    {
     "name": "stdout",
     "output_type": "stream",
     "text": [
      "https://www.coupang.com//vp/products/4583248357?itemId=5620780687&vendorItemId=4498803481&q=%EC%8D%AC%ED%81%AC%EB%A6%BC&itemsCount=36&searchId=5c088b1d5cff448eb352727dbcf6b6fe&rank=1\n"
     ]
    }
   ],
   "source": [
    "# 제품 링크\n",
    "\n",
    "anchor = filtered_products[0].find('a')\n",
    "\n",
    "print('https://www.coupang.com/'+anchor['href'])"
   ]
  },
  {
   "cell_type": "code",
   "execution_count": 5,
   "id": "55783f21",
   "metadata": {},
   "outputs": [],
   "source": [
    "link = 'https://www.coupang.com/'+anchor['href']"
   ]
  },
  {
   "cell_type": "code",
   "execution_count": 6,
   "id": "447c6c2f",
   "metadata": {},
   "outputs": [
    {
     "name": "stdout",
     "output_type": "stream",
     "text": [
      "https://www.coupang.com//vp/products/4583248357?itemId=5620780687&vendorItemId=4498803481&q=%EC%8D%AC%ED%81%AC%EB%A6%BC&itemsCount=36&searchId=5c088b1d5cff448eb352727dbcf6b6fe&rank=1\n"
     ]
    }
   ],
   "source": [
    "print(link)"
   ]
  },
  {
   "cell_type": "markdown",
   "id": "b12d87f0",
   "metadata": {},
   "source": [
    "---"
   ]
  },
  {
   "cell_type": "code",
   "execution_count": 7,
   "id": "25e048ed",
   "metadata": {},
   "outputs": [
    {
     "data": {
      "text/plain": [
       "<div class=\"name\">본트리 베리 에센스 선블럭 SPF50+ PA++++, 50ml, 2개</div>"
      ]
     },
     "execution_count": 7,
     "metadata": {},
     "output_type": "execute_result"
    }
   ],
   "source": [
    "# 브랜드, 제품명, SPF, PA\n",
    "\n",
    "filtered_products[0].select_one('.name')"
   ]
  },
  {
   "cell_type": "code",
   "execution_count": 8,
   "id": "c44d8506",
   "metadata": {},
   "outputs": [],
   "source": [
    "s = filtered_products[0].select_one('.name').string"
   ]
  },
  {
   "cell_type": "code",
   "execution_count": 9,
   "id": "d47b72ce",
   "metadata": {},
   "outputs": [],
   "source": [
    "split_result = s.split(' ', 1)  # 첫 번째 공백을 기준으로 문자열 분리\n",
    "\n",
    "brand_name = split_result[0]\n",
    "product_name = split_result[1]"
   ]
  },
  {
   "cell_type": "code",
   "execution_count": 10,
   "id": "a7db86fb",
   "metadata": {},
   "outputs": [
    {
     "data": {
      "text/plain": [
       "('본트리', '베리 에센스 선블럭 SPF50+ PA++++, 50ml, 2개')"
      ]
     },
     "execution_count": 10,
     "metadata": {},
     "output_type": "execute_result"
    }
   ],
   "source": [
    "brand_name,product_name"
   ]
  },
  {
   "cell_type": "markdown",
   "id": "bd8d93da",
   "metadata": {},
   "source": [
    "---"
   ]
  },
  {
   "cell_type": "code",
   "execution_count": 11,
   "id": "84678ca5",
   "metadata": {},
   "outputs": [
    {
     "data": {
      "text/plain": [
       "<strong class=\"price-value\">15,000</strong>"
      ]
     },
     "execution_count": 11,
     "metadata": {},
     "output_type": "execute_result"
    }
   ],
   "source": [
    "# 가격\n",
    "\n",
    "filtered_products[0].select_one('.price-value')"
   ]
  },
  {
   "cell_type": "code",
   "execution_count": 12,
   "id": "3ae3329c",
   "metadata": {},
   "outputs": [],
   "source": [
    "price = filtered_products[0].select_one('.price-value').string"
   ]
  },
  {
   "cell_type": "code",
   "execution_count": 13,
   "id": "7741fe6d",
   "metadata": {},
   "outputs": [
    {
     "data": {
      "text/plain": [
       "'15,000'"
      ]
     },
     "execution_count": 13,
     "metadata": {},
     "output_type": "execute_result"
    }
   ],
   "source": [
    "price"
   ]
  },
  {
   "cell_type": "code",
   "execution_count": 14,
   "id": "50ea74b5",
   "metadata": {},
   "outputs": [
    {
     "data": {
      "text/plain": [
       "bs4.element.NavigableString"
      ]
     },
     "execution_count": 14,
     "metadata": {},
     "output_type": "execute_result"
    }
   ],
   "source": [
    "type(price)"
   ]
  },
  {
   "cell_type": "code",
   "execution_count": 16,
   "id": "6f5c1b3a",
   "metadata": {},
   "outputs": [],
   "source": [
    "p = int(filtered_products[0].select_one('.price-value').string.replace(\",\", \"\"))"
   ]
  },
  {
   "cell_type": "code",
   "execution_count": 17,
   "id": "0c8f692f",
   "metadata": {},
   "outputs": [
    {
     "data": {
      "text/plain": [
       "15000"
      ]
     },
     "execution_count": 17,
     "metadata": {},
     "output_type": "execute_result"
    }
   ],
   "source": [
    "p"
   ]
  },
  {
   "cell_type": "code",
   "execution_count": 18,
   "id": "aabd69d2",
   "metadata": {},
   "outputs": [
    {
     "data": {
      "text/plain": [
       "int"
      ]
     },
     "execution_count": 18,
     "metadata": {},
     "output_type": "execute_result"
    }
   ],
   "source": [
    "type(p)"
   ]
  },
  {
   "cell_type": "markdown",
   "id": "e50159b3",
   "metadata": {},
   "source": [
    "---"
   ]
  },
  {
   "cell_type": "code",
   "execution_count": 19,
   "id": "697e1feb",
   "metadata": {},
   "outputs": [],
   "source": [
    "# 와우 회원 할인 쿠폰 유무  추가 할인 쿠폰 여부 있으면 if true, 없으면, None\n",
    "\n",
    "l = filtered_products[0].select_one('.coupon-wot-nudge-ticket_left_border_amount')\n",
    "    "
   ]
  },
  {
   "cell_type": "code",
   "execution_count": 20,
   "id": "916161b7",
   "metadata": {},
   "outputs": [
    {
     "name": "stdout",
     "output_type": "stream",
     "text": [
      "<span class=\"coupon-wot-nudge-ticket_left_border_amount\">1,600</span>\n"
     ]
    }
   ],
   "source": [
    "print(l)"
   ]
  },
  {
   "cell_type": "markdown",
   "id": "4f28e9f9",
   "metadata": {},
   "source": [
    "---"
   ]
  },
  {
   "cell_type": "code",
   "execution_count": 21,
   "id": "f5296a5e",
   "metadata": {},
   "outputs": [
    {
     "data": {
      "text/plain": [
       "<span class=\"unit-price\">(<em>10</em>ml당 <em>1,500</em>원) </span>"
      ]
     },
     "execution_count": 21,
     "metadata": {},
     "output_type": "execute_result"
    }
   ],
   "source": [
    "# 유닛 별 가격\n",
    "\n",
    "filtered_products[0].select_one('.unit-price')"
   ]
  },
  {
   "cell_type": "markdown",
   "id": "f2f2d0a6",
   "metadata": {},
   "source": [
    "---"
   ]
  },
  {
   "cell_type": "markdown",
   "id": "81d7551f",
   "metadata": {},
   "source": [
    "https://thumbnail7.coupangcdn.com/thumbnails/remote/230x230ex/image/retail/images/aa87de05-2343-4704-ab69-946e854d13a43873205657323349374.png"
   ]
  },
  {
   "cell_type": "code",
   "execution_count": 22,
   "id": "74202af0",
   "metadata": {},
   "outputs": [
    {
     "name": "stdout",
     "output_type": "stream",
     "text": [
      "https://thumbnail7.coupangcdn.com/thumbnails/remote/230x230ex/image/retail/images/4583290751164806-872ed467-d261-408d-8269-6a6f5e189e66.jpg\n"
     ]
    }
   ],
   "source": [
    "# 이미지\n",
    "\n",
    "img_link = 'https:'+filtered_products[1].select_one('.search-product-wrap-img')['src']\n",
    "print(img_link)"
   ]
  },
  {
   "cell_type": "markdown",
   "id": "72e956c8",
   "metadata": {},
   "source": [
    "<img src = https://thumbnail9.coupangcdn.com/thumbnails/remote/230x230ex/image/retail/images/13745872385703788-0927705e-e248-4364-aa3d-bd0b4bde068a.jpg>"
   ]
  },
  {
   "cell_type": "markdown",
   "id": "d774a708",
   "metadata": {},
   "source": [
    "---"
   ]
  },
  {
   "cell_type": "code",
   "execution_count": 23,
   "id": "90474b39",
   "metadata": {},
   "outputs": [
    {
     "data": {
      "text/plain": [
       "<span class=\"number no-8\">8 </span>"
      ]
     },
     "execution_count": 23,
     "metadata": {},
     "output_type": "execute_result"
    }
   ],
   "source": [
    "# rank, 10위까지만 표시 됨\n",
    "# 데이터 처리순 랭크, \n",
    "\n",
    "num = filtered_products[7].find('span', class_='number')\n",
    "num"
   ]
  },
  {
   "cell_type": "markdown",
   "id": "dbb512df",
   "metadata": {},
   "source": [
    "---"
   ]
  },
  {
   "cell_type": "markdown",
   "id": "5041734d",
   "metadata": {},
   "source": [
    "## 데이터 추출 후 딕셔너리 형태로 처리, list화\n",
    "\n",
    "- result\n",
    "- 검색어 input 처리"
   ]
  },
  {
   "cell_type": "code",
   "execution_count": null,
   "id": "23b8e44b",
   "metadata": {},
   "outputs": [],
   "source": [
    "from bs4 import BeautifulSoup\n",
    "\n",
    "from selenium import webdriver\n",
    "from selenium.webdriver.chrome.options import Options\n",
    "\n",
    "options = Options()\n",
    "\n",
    "browser = webdriver.Chrome(options=options)\n",
    "\n",
    "base_url = \"https://www.coupang.com/np/search?component\"\n",
    "\n",
    "\n",
    "search_term = input()\n",
    "\n",
    "\n",
    "browser.get(f\"{base_url}=&q={search_term}&channel=user\")\n",
    "\n",
    "soup = BeautifulSoup(browser.page_source, \"html.parser\")\n",
    "\n",
    "search_product_list = soup.find(\"ul\", class_=\"search-product-list\")\n",
    "\n",
    "filtered_products = [ product for product in search_product_list.find_all('li', recursive=False) if 'search-product__ad-badge' not in product['class'] ]\n",
    "\n",
    "\n",
    "results = []\n",
    "\n",
    "for i in range(len(filtered_products)):\n",
    "    \n",
    "    # brand_name, product_name\n",
    "    s = filtered_products[i].select_one('.name').string\n",
    "    split_result = s.split(' ', 1)  # 첫 번째 공백을 기준으로 문자열 분리\n",
    "\n",
    "    brand_name = split_result[0]\n",
    "    product_name = split_result[1]\n",
    "    \n",
    "    # link\n",
    "    anchor = filtered_products[i].find('a')\n",
    "\n",
    "    product_data = {\n",
    "        \n",
    "        'img_link' : 'https:'+filtered_products[i].select_one('.search-product-wrap-img')['src'],\n",
    "        'brand' : brand_name,\n",
    "        'name' : product_name,\n",
    "        'price': filtered_products[i].select_one('.price-value').string,\n",
    "        'link' : 'https://www.coupang.com/'+anchor['href']\n",
    "    }\n",
    "\n",
    "    results.append(product_data)"
   ]
  },
  {
   "cell_type": "code",
   "execution_count": null,
   "id": "87cebfdd",
   "metadata": {},
   "outputs": [],
   "source": [
    "results"
   ]
  },
  {
   "cell_type": "code",
   "execution_count": null,
   "id": "805ad374",
   "metadata": {},
   "outputs": [],
   "source": [
    "len(results)"
   ]
  },
  {
   "cell_type": "markdown",
   "id": "f967ddeb",
   "metadata": {},
   "source": [
    "---"
   ]
  },
  {
   "cell_type": "markdown",
   "id": "f7a27d19",
   "metadata": {},
   "source": [
    "## 함수화\n",
    "\n",
    "- 데이터 정제 \n",
    "    - 쉼표 처리,\n",
    "    - Price int 처리"
   ]
  },
  {
   "cell_type": "code",
   "execution_count": null,
   "id": "6b7ff032",
   "metadata": {},
   "outputs": [],
   "source": [
    "from bs4 import BeautifulSoup\n",
    "from selenium import webdriver\n",
    "from selenium.webdriver.chrome.options import Options\n",
    "\n",
    "\n",
    "def remove_ad_coopang(keyword):\n",
    "\n",
    "    options = Options()\n",
    "    browser = webdriver.Chrome(options=options)\n",
    "\n",
    "    base_url = \"https://www.coupang.com/np/search?component\"\n",
    "    search_term = keyword\n",
    "\n",
    "    browser.get(f\"{base_url}=&q={search_term}&channel=user\")\n",
    "\n",
    "    soup = BeautifulSoup(browser.page_source, \"html.parser\")\n",
    "\n",
    "    search_product_list = soup.find(\"ul\", class_=\"search-product-list\")\n",
    "\n",
    "    filtered_products = [ product for product in search_product_list.find_all('li', recursive=False) if 'search-product__ad-badge' not in product['class'] ]\n",
    "\n",
    "\n",
    "    results = []\n",
    "\n",
    "    for i in range(len(filtered_products)):\n",
    "\n",
    "        # brand_name, product_name\n",
    "        s = filtered_products[i].select_one('.name').string\n",
    "        split_result = s.split(' ', 1)  # 첫 번째 공백을 기준으로 문자열 분리\n",
    "\n",
    "        brand_name = split_result[0]\n",
    "        product_name = split_result[1]\n",
    "\n",
    "        # link\n",
    "        anchor = filtered_products[i].find('a')\n",
    "\n",
    "        product_data = {\n",
    "\n",
    "            'img_link' : 'https:'+filtered_products[i].select_one('.search-product-wrap-img')['src'],\n",
    "            'brand' : brand_name,\n",
    "            'name' : product_name.replace(\",\", \"\"),\n",
    "            'price': int(filtered_products[i].select_one('.price-value').string.replace(\",\", \"\")),\n",
    "            'link' : 'https://www.coupang.com/'+anchor['href']\n",
    "        }\n",
    "\n",
    "        results.append(product_data)\n",
    "    \n",
    "    return results"
   ]
  },
  {
   "cell_type": "code",
   "execution_count": null,
   "id": "3c8da198",
   "metadata": {},
   "outputs": [],
   "source": [
    "remove_ad_coopang('썬크림')"
   ]
  },
  {
   "cell_type": "markdown",
   "id": "2c2dc52f",
   "metadata": {},
   "source": [
    "---"
   ]
  },
  {
   "cell_type": "markdown",
   "id": "4ca06917",
   "metadata": {},
   "source": [
    "## CSV 파일 처리"
   ]
  },
  {
   "cell_type": "code",
   "execution_count": null,
   "id": "75639033",
   "metadata": {},
   "outputs": [],
   "source": [
    "keyword = input('what do you want to search for? ')\n",
    "\n",
    "products = remove_ad_coopang(keyword)\n",
    "\n",
    "# 입력 받은 키워드 이름으로 파일 오픈, 없으면 새로 생성\n",
    "file = open(f\"{keyword}.csv\", \"w\",encoding=\"utf-8-sig\")\n",
    "\n",
    "# 파일에 헤더 입력 , \\n\n",
    "file.write(\"Image,Brand,Name,Price,URL\\n\")\n",
    "\n",
    "# jobs 리스트, job dict\n",
    "for product in products:\n",
    "    file.write(f\"{product['img_link']},{product['brand']},{product['name']},{product['price']},{product['link']}\\n\")"
   ]
  },
  {
   "cell_type": "code",
   "execution_count": null,
   "id": "bef601b1",
   "metadata": {},
   "outputs": [],
   "source": [
    "file.close()"
   ]
  },
  {
   "cell_type": "markdown",
   "id": "38f75d78",
   "metadata": {},
   "source": [
    "---"
   ]
  }
 ],
 "metadata": {
  "kernelspec": {
   "display_name": "Python 3 (ipykernel)",
   "language": "python",
   "name": "python3"
  },
  "language_info": {
   "codemirror_mode": {
    "name": "ipython",
    "version": 3
   },
   "file_extension": ".py",
   "mimetype": "text/x-python",
   "name": "python",
   "nbconvert_exporter": "python",
   "pygments_lexer": "ipython3",
   "version": "3.8.16"
  },
  "toc": {
   "base_numbering": 1,
   "nav_menu": {},
   "number_sections": true,
   "sideBar": true,
   "skip_h1_title": false,
   "title_cell": "Table of Contents",
   "title_sidebar": "Contents",
   "toc_cell": false,
   "toc_position": {},
   "toc_section_display": true,
   "toc_window_display": false
  },
  "varInspector": {
   "cols": {
    "lenName": 16,
    "lenType": 16,
    "lenVar": 40
   },
   "kernels_config": {
    "python": {
     "delete_cmd_postfix": "",
     "delete_cmd_prefix": "del ",
     "library": "var_list.py",
     "varRefreshCmd": "print(var_dic_list())"
    },
    "r": {
     "delete_cmd_postfix": ") ",
     "delete_cmd_prefix": "rm(",
     "library": "var_list.r",
     "varRefreshCmd": "cat(var_dic_list()) "
    }
   },
   "types_to_exclude": [
    "module",
    "function",
    "builtin_function_or_method",
    "instance",
    "_Feature"
   ],
   "window_display": false
  }
 },
 "nbformat": 4,
 "nbformat_minor": 5
}
