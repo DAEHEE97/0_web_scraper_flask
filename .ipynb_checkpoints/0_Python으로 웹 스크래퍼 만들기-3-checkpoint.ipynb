{
 "cells": [
  {
   "cell_type": "markdown",
   "id": "78050053",
   "metadata": {},
   "source": [
    "# Python으로 웹 스크래퍼 만들기 3\n",
    "\n",
    "사이트 운영자들은 웹 스크래핑 매우 싫어한다.\n",
    "\n",
    "그래서 봇 인증 프로그램 등을 만들어 작업을 까다롭게 조치를 해두는 경우가 있다. ( 이용약관에도 기입해 두기도 한다. )\n",
    "\n",
    "민감한 사항이 때문에 스크래핑한 내용을 상업적으로 사용할 경우 법적다툼이 벌어질 가능성도 있다.\n",
    "\n",
    "교육 목적 이외에 상업적인 서비스를 만들 생각이라면 참고하자."
   ]
  },
  {
   "cell_type": "markdown",
   "id": "e4cde683",
   "metadata": {},
   "source": [
    "\n",
    "- URL Formatting\n",
    "\n",
    "- Requests\n",
    "\n",
    "- [HTTP Status Codes](https://developer.mozilla.org/ko/docs/Web/HTTP/Status)\n",
    "\n",
    "- dictionary\n",
    "\n",
    "- .startswith\n",
    "\n",
    "- f\"{}\"\n",
    "\n",
    "- find_all : list\n",
    "\n",
    "- find : v"
   ]
  },
  {
   "cell_type": "markdown",
   "id": "2f9812d9",
   "metadata": {},
   "source": [
    "---"
   ]
  },
  {
   "cell_type": "markdown",
   "id": "7397d657",
   "metadata": {},
   "source": [
    "## extract_jobs\n",
    "\n",
    "- search_term 을 parameter 로 받고, dict 데이터로 results 를 return 하는 함수 생성\n"
   ]
  },
  {
   "cell_type": "code",
   "execution_count": 1,
   "id": "f39fd948",
   "metadata": {},
   "outputs": [
    {
     "name": "stdout",
     "output_type": "stream",
     "text": [
      "[{'position': 'Full-Time', 'company': 'OpenCraft', 'location': 'Anywhere in the World', 'link': 'https://weworkremotely.com/remote-jobs/opencraft-senior-open-source-developer-devops-python-django-react-aws-openstack'}, {'position': 'Full-Time', 'company': 'Close', 'location': 'USA Only', 'link': 'https://weworkremotely.com/remote-jobs/close-senior-staff-software-engineer-backend-python-usa-100-remote'}, {'position': 'Full-Time', 'company': 'Proxify AB', 'location': 'Latin America Only/Europe Only/EMEA Only', 'link': 'https://weworkremotely.com/remote-jobs/proxify-ab-senior-backend-python-engineer-long-term-job-100-remote'}]\n"
     ]
    }
   ],
   "source": [
    "from requests import get \n",
    "from bs4 import BeautifulSoup\n",
    "\n",
    "# extract 폴더, wwr.py 파일, extract_jobs 함수 import\n",
    "\n",
    "from extract.wwr import extract_jobs\n",
    "\n",
    "jobs = extract_jobs('python')\n",
    "print(jobs)"
   ]
  },
  {
   "cell_type": "markdown",
   "id": "ba2c2fd9",
   "metadata": {},
   "source": [
    "---"
   ]
  },
  {
   "cell_type": "markdown",
   "id": "202d2e59",
   "metadata": {},
   "source": [
    "## get_page_count"
   ]
  },
  {
   "cell_type": "code",
   "execution_count": 6,
   "id": "c52f57b9",
   "metadata": {},
   "outputs": [],
   "source": [
    "from bs4 import BeautifulSoup\n",
    "from selenium import webdriver\n",
    "from selenium.webdriver.chrome.options import Options\n",
    "\n",
    "\n",
    "def get_page_count(keyword):\n",
    "    \n",
    "    options = Options()\n",
    "    browser = webdriver.Chrome(options=options)\n",
    "\n",
    "    base_url = \"https://kr.indeed.com/jobs\"\n",
    "    browser.get(f\"{base_url}?q={keyword}\")\n",
    "    \n",
    "    soup = BeautifulSoup(browser.page_source, \"html.parser\")\n",
    "    \n",
    "    pagination = soup.find('nav', class_='css-jbuxu0 ecydgvn0')    \n",
    "    \n",
    "    pages = pagination.find_all('div', recursive=False)\n",
    "    \n",
    "    length = len(pages)\n",
    "    \n",
    "    # 5를 초과하는 6 이상 부터는 처리 하지 않을 예정\n",
    "    if length == 0:\n",
    "        return 1\n",
    "    elif length > 5:\n",
    "        return 5\n",
    "    else: \n",
    "        return length"
   ]
  },
  {
   "cell_type": "markdown",
   "id": "eff185c0",
   "metadata": {},
   "source": [
    "---"
   ]
  },
  {
   "cell_type": "markdown",
   "id": "047a8918",
   "metadata": {},
   "source": [
    "## extract_indeed_jobs\n",
    "\n",
    "\n",
    "- 함수 내에서 크롬 브라우저 띄어서 실행\n",
    "\n",
    "\n",
    "```.py\n",
    "options = Options()\n",
    "browser = webdriver.Chrome(options=options)\n",
    "```\n"
   ]
  },
  {
   "cell_type": "code",
   "execution_count": 4,
   "id": "d18101ec",
   "metadata": {},
   "outputs": [],
   "source": [
    "from bs4 import BeautifulSoup\n",
    "from selenium import webdriver\n",
    "from selenium.webdriver.chrome.options import Options\n",
    "\n",
    "\n",
    "def extract_indeed_jobs(keyword):\n",
    "    \n",
    "    pages = get_page_count(keyword)\n",
    "    \n",
    "    results = []\n",
    "  \n",
    "    for page in range(pages):\n",
    "        \n",
    "        options = Options()\n",
    "\n",
    "        browser = webdriver.Chrome(options=options)\n",
    "        \n",
    "        base_url = \"https://kr.indeed.com/jobs\"\n",
    "        search_term = f'{keyword}'\n",
    "        final_url = f\"{base_url}?q={search_term}&start={page*10}\"\n",
    "        \n",
    "        print(f'Request url : {final_url}')\n",
    "        browser.get(final_url)\n",
    "\n",
    "        # --- bs4 처리 \n",
    "\n",
    "        soup = BeautifulSoup(browser.page_source, \"html.parser\")\n",
    "\n",
    "        job_list = soup.find(\"ul\", class_=\"jobsearch-ResultsList\")\n",
    "\n",
    "        jobs = job_list.find_all('li', recursive=False)\n",
    "\n",
    "\n",
    "        # li 태그 중 class 네임에 따라 출력,\n",
    "        # find, none 논리로 출력 \n",
    "\n",
    "\n",
    "        for job in jobs:\n",
    "\n",
    "            zone = job.find(\"div\", class_=\"mosaic-zone\")\n",
    "\n",
    "            if zone == None:\n",
    "\n",
    "                # anchor = job.find_all('a') # list\n",
    "\n",
    "                anchor = job.select_one('h2 a') # dict\n",
    "\n",
    "                title = anchor['aria-label']\n",
    "                link = anchor['href']\n",
    "\n",
    "                company = job.find('span', class_='companyName')\n",
    "                location = job.find('div', class_='companyLocation')\n",
    "\n",
    "                # dict 데이터 형\n",
    "                job_data = {\n",
    "                    'position': title,\n",
    "                    'link': f\"https://kr.indeed.com{link}\",\n",
    "                    'company': company.string,\n",
    "                    'location': location.string\n",
    "                }\n",
    "\n",
    "                # 결과 리스트 append\n",
    "                results.append(job_data)\n",
    "\n",
    "    \n",
    "    return results"
   ]
  },
  {
   "cell_type": "code",
   "execution_count": 7,
   "id": "fc906c6e",
   "metadata": {},
   "outputs": [
    {
     "name": "stdout",
     "output_type": "stream",
     "text": [
      "Request url : https://kr.indeed.com/jobs?q=python&start=0\n",
      "Request url : https://kr.indeed.com/jobs?q=python&start=10\n",
      "Request url : https://kr.indeed.com/jobs?q=python&start=20\n",
      "Request url : https://kr.indeed.com/jobs?q=python&start=30\n",
      "Request url : https://kr.indeed.com/jobs?q=python&start=40\n",
      "[{'position': '2023 Software Engineering Intern, People with Disabilities (장애인 채용)의 전체 세부 정보', 'link': 'https://kr.indeed.com/rc/clk?jk=ed7b7e6eb72ffab8&fccid=a5b4499d9e91a5c6&vjs=3', 'company': 'Google', 'location': '서울'}, {'position': '2023 Student Training in Engineering Program (STEP), People with Disabilities (장애인 채용)의 전체 세부 정보', 'link': 'https://kr.indeed.com/rc/clk?jk=5d24a062cabc9f0d&fccid=a5b4499d9e91a5c6&vjs=3', 'company': 'Google', 'location': '서울'}, {'position': '[송파구] 데이터분석(Python,R,모델,ML)의 전체 세부 정보', 'link': 'https://kr.indeed.com/rc/clk?jk=a0f0a1cb28e20f8c&fccid=59060ddcdf96b101&vjs=3', 'company': '시니어앤파트너즈', 'location': '서울 송파구'}, {'position': '인공지능 관리 및 개발자 (Python, yolo 사용자 우대)의 전체 세부 정보', 'link': 'https://kr.indeed.com/rc/clk?jk=b469f992ddab8f71&fccid=aa11023cc66bb11b&vjs=3', 'company': '하가', 'location': '서울 동작구'}, {'position': '[2023 Summer Internship] MedTech – Business Excellence의 전체 세부 정보', 'link': 'https://kr.indeed.com/rc/clk?jk=e8f858ada4b36c5c&fccid=0bed8e17bc113980&vjs=3', 'company': 'Johnson & Johnson', 'location': '서울'}, {'position': 'IT분야 직업훈련교사의 전체 세부 정보', 'link': 'https://kr.indeed.com/rc/clk?jk=5594832db046013e&fccid=af1182589e05cf0b&vjs=3', 'company': '재단법인 한국아이티교육재단', 'location': '서울 서초구'}, {'position': '그룹공동 마이데이터 분석 플랫폼(데이터분석가)의 전체 세부 정보', 'link': 'https://kr.indeed.com/rc/clk?jk=25b3c3e6a66bd77c&fccid=fe227fbd2afb9580&vjs=3', 'company': 'KB데이타시스템', 'location': '서울 마포구'}, {'position': '인공지능(AI) 기술 개발(신입)의 전체 세부 정보', 'link': 'https://kr.indeed.com/rc/clk?cmp=(%EC%A3%BC)RGA-Inc.&ti=%EC%9D%B8%EA%B3%B5%EC%A7%80%EB%8A%A5%28ai%29+%EA%B8%B0%EC%88%A0+%EA%B0%9C%EB%B0%9C%28%EC%8B%A0%EC%9E%85%29&jk=95a7a9b4c00f9ada&fccid=dd616958bd9ddc12&vjs=3', 'company': '(주)RGA Inc.', 'location': '서울 강남역'}, {'position': '`23년 상반기 아비커스 공개의 전체 세부 정보', 'link': 'https://kr.indeed.com/rc/clk?jk=bb17e4528555174f&fccid=ee13651dcbd31376&vjs=3', 'company': 'HD현대그룹', 'location': '서울'}, {'position': '빅데이터플랫폼 / Python 개발자의 전체 세부 정보', 'link': 'https://kr.indeed.com/rc/clk?jk=3af3cac46966cc13&fccid=d22d7c6a99de76b6&vjs=3', 'company': '핸디소프트', 'location': '안양 동안구'}, {'position': '인공지능(AI), 인공지능(AI) 외 신입의 전체 세부 정보', 'link': 'https://kr.indeed.com/rc/clk?jk=c5112e132f7f1e05&fccid=03ad1f6903097dae&vjs=3', 'company': '사단법인 한국서비스산업진흥원', 'location': '서울 종로구'}, {'position': 'php, java, python(api연동) 개발자의 전체 세부 정보', 'link': 'https://kr.indeed.com/rc/clk?jk=d47b5236f7e4a7b8&fccid=2a4ae9e231fe1079&vjs=3', 'company': '메타유니버스', 'location': '서울 중구'}, {'position': '기술 인턴 인공지능 응용 연구/개발 인턴의 전체 세부 정보', 'link': 'https://kr.indeed.com/rc/clk?jk=71c47ac87bb4087e&fccid=230e414668234579&vjs=3', 'company': '써로마인드로보틱스', 'location': '서울 관악구'}, {'position': '부문별 수시 [IT/개발/SW/공무/기술지원/총무/영업 외]의 전체 세부 정보', 'link': 'https://kr.indeed.com/rc/clk?jk=c71d26dc7e43def1&fccid=05b9e3e68be655f0&vjs=3', 'company': '한국전자금융', 'location': '서울 마포구'}, {'position': '백엔드 엔지니어 (Python) 정규직의 전체 세부 정보', 'link': 'https://kr.indeed.com/rc/clk?jk=79d696388d32d3ff&fccid=dd6f5fd8e8c02e7e&vjs=3', 'company': '데이터비', 'location': '서울 마포구'}, {'position': 'Boeing Korea Summer Intern_Software Engineer의 전체 세부 정보', 'link': 'https://kr.indeed.com/rc/clk?jk=9261f808b885e89a&fccid=edae4285faf6c2f0&vjs=3', 'company': 'BOEING', 'location': '서울'}, {'position': '(AI개발자) python활용의 전체 세부 정보', 'link': 'https://kr.indeed.com/rc/clk?jk=4c8e7cc0d6848534&fccid=27b797a8598f2610&vjs=3', 'company': '비지언스', 'location': '서울 금천구'}, {'position': '데이터분석 신입/경력 정규직의 전체 세부 정보', 'link': 'https://kr.indeed.com/rc/clk?jk=88960e11c2cdd682&fccid=72348558bd9456ba&vjs=3', 'company': '블록스퀘어서울', 'location': '서울 서초구'}, {'position': '[메이저 금융그룹 연구소] Data Scientist 경력직 연구원 포지션의 전체 세부 정보', 'link': 'https://kr.indeed.com/company/%EB%8D%94-%ED%9C%B4%EB%A8%BC/jobs/%EC%97%B0%EA%B5%AC%EC%86%8C-%EC%97%B0%EA%B5%AC%EC%9B%90-f8a5bc05f47465f8?fccid=3cfe13845f73c09f&vjs=3', 'company': '메이저 금융그룹 연구소', 'location': '서울'}, {'position': 'DNN 모델 개발 엔지니어의 전체 세부 정보', 'link': 'https://kr.indeed.com/rc/clk?jk=303d8c644a5f2e0f&fccid=e34932b8232a173b&vjs=3', 'company': '딥엑스', 'location': '성남 분당구'}, {'position': '[KITRI] IT 정보 보안/개발 교육생의 전체 세부 정보', 'link': 'https://kr.indeed.com/rc/clk?jk=8274c2d094ef24ac&fccid=f065bd051552743e&vjs=3', 'company': '한국정보기술연구원', 'location': '서울'}, {'position': '2023년 상시 [신입/경력] 개발자 중의 전체 세부 정보', 'link': 'https://kr.indeed.com/rc/clk?jk=5939f1161708ca93&fccid=0673ca84bc014599&vjs=3', 'company': '사이냅소프트', 'location': '서울 강서구'}, {'position': '[인공지능개발] AI Developer를 모십니다.의 전체 세부 정보', 'link': 'https://kr.indeed.com/rc/clk?cmp=(%EC%A3%BC)%EB%B0%94%EC%9D%B4%EC%98%A4%EC%97%90%EC%9D%B4%EC%95%84%EC%9D%B4&ti=%5B%EC%9D%B8%EA%B3%B5%EC%A7%80%EB%8A%A5%EA%B0%9C%EB%B0%9C%5D+Ai+Developer%EB%A5%BC+%EB%AA%A8%EC%8B%AD%EB%8B%88%EB%8B%A4.&jk=393d36ead0df8531&fccid=2bf1cac26c8a5833&vjs=3', 'company': '(주)바이오에이아이', 'location': '서울'}, {'position': '차량 제어SW 개발/PM 부문 경력의 전체 세부 정보', 'link': 'https://kr.indeed.com/rc/clk?jk=06162e62a5cc6b53&fccid=d5a22a3e93377742&vjs=3', 'company': '현대오토에버', 'location': '서울 강남구'}, {'position': '음성합성/음색변환 및 Music 생성 기술 전문가의 전체 세부 정보', 'link': 'https://kr.indeed.com/rc/clk?jk=7b3fb1b029354bc4&fccid=ce2f0f28b40a5be8&vjs=3', 'company': '에스케이텔레콤', 'location': '서울 중구'}, {'position': 'IT Manager - Data Scientist의 전체 세부 정보', 'link': 'https://kr.indeed.com/rc/clk?jk=d646b6fdb341deec&fccid=2da0dedf6df97194&vjs=3', 'company': 'Procter & Gamble', 'location': '서울'}, {'position': '[2023 Summer Internship] MedTech - Business Excellence의 전체 세부 정보', 'link': 'https://kr.indeed.com/rc/clk?jk=fedd89e18af95c50&fccid=dd564dec75d08f91&vjs=3', 'company': '한국존슨앤드존슨메디칼', 'location': '서울 용산구'}, {'position': 'AI 연구개발자 전문연구요원(병역특례)의 전체 세부 정보', 'link': 'https://kr.indeed.com/rc/clk?jk=d8052c1b4677239a&fccid=e391d8e930358bac&vjs=3', 'company': '라이트비전', 'location': '서울 성동구'}, {'position': '딥러닝 AI 개발 연구원의 전체 세부 정보', 'link': 'https://kr.indeed.com/rc/clk?jk=87309d3ff40ead61&fccid=ce871e9e4a9f430a&vjs=3', 'company': '베이리스', 'location': '성남 수정구'}, {'position': '[취업축하금300] 미스고 웹 크롤러 - 주거안정비 지원의 전체 세부 정보', 'link': 'https://kr.indeed.com/rc/clk?jk=dcea8f10155e3061&fccid=28ad02baea3e6b67&vjs=3', 'company': '미스고', 'location': '서울 강남구'}, {'position': 'Associate Customer Engineer, Data Analytics, Google Cloud, gReach Program for People with Disabilities (장애인 채용)의 전체 세부 정보', 'link': 'https://kr.indeed.com/rc/clk?jk=1c352a43e087ad61&fccid=a5b4499d9e91a5c6&vjs=3', 'company': 'Google', 'location': '서울'}, {'position': '[에코마케팅] Data Integration Engineer 연계형인턴/사원의 전체 세부 정보', 'link': 'https://kr.indeed.com/rc/clk?jk=db40aa474036f12f&fccid=5d3316a6c97b8577&vjs=3', 'company': '에코마케팅', 'location': '서울'}, {'position': '2023년 2분기 정규직(신입&경력)의 전체 세부 정보', 'link': 'https://kr.indeed.com/rc/clk?jk=6740ae9621d4b66a&fccid=7c3898912578b6c7&vjs=3', 'company': '나이스피앤아이', 'location': '서울 여의도역'}, {'position': '[신입] 미래 인재 DB의 전체 세부 정보', 'link': 'https://kr.indeed.com/rc/clk?jk=8488f46665d1b77a&fccid=d5a22a3e93377742&vjs=3', 'company': '현대오토에버', 'location': '서울'}, {'position': '웹개발, 프론트엔드 신입/경력 계약직의 전체 세부 정보', 'link': 'https://kr.indeed.com/rc/clk?jk=f498a784c28d03bb&fccid=5fc71e9cbda0dfc6&vjs=3', 'company': '뮤레파코리아', 'location': '성남 수정구'}, {'position': '백엔드개발자, 모바일앱 개발자, 블록체인 개발자 신입의 전체 세부 정보', 'link': 'https://kr.indeed.com/rc/clk?jk=52049395e06b34cb&fccid=8b01882cef0e8002&vjs=3', 'company': '와이즈텍', 'location': '서울 용산구'}, {'position': '2023년 DIgital Lab 전문계약직 상시의 전체 세부 정보', 'link': 'https://kr.indeed.com/rc/clk?jk=2e45e43017a6ea1f&fccid=f152288f3dcf6e51&vjs=3', 'company': 'GS칼텍스', 'location': '서울 강남구'}, {'position': 'Engineering internship in Sweden!의 전체 세부 정보', 'link': 'https://kr.indeed.com/rc/clk?jk=73f84a6025e969d5&fccid=1c1f99bc5683e9f2&vjs=3', 'company': 'Iknal Semikan', 'location': '서울'}, {'position': '[NHN Enterprise] 클라우드 플랫폼 운영 엔지니어의 전체 세부 정보', 'link': 'https://kr.indeed.com/rc/clk?jk=90a7214a62825dba&fccid=c6959d0e760ece96&vjs=3', 'company': '엔에이치엔엔터프라이즈', 'location': '성남 분당구'}, {'position': '웹개발, 백엔드 외 신입/경력 정규직의 전체 세부 정보', 'link': 'https://kr.indeed.com/rc/clk?jk=e3f3b7e2103d9bc7&fccid=e60f835b4d91f8e6&vjs=3', 'company': '코인챗', 'location': '서울 강남구'}, {'position': '백엔드 개발자(인턴십)의 전체 세부 정보', 'link': 'https://kr.indeed.com/rc/clk?jk=b7223c792bfcbcd4&fccid=5013eca338141e7d&vjs=3', 'company': '액스', 'location': '서울 서초구'}, {'position': '[한국 휴렛팩커드] Determined AI - Developer Support Engineer (부장급)의 전체 세부 정보', 'link': 'https://kr.indeed.com/rc/clk?jk=ee3417f78526645a&fccid=453a1d72c82baf2d&vjs=3', 'company': '한국휴렛팩커드 유한회사', 'location': '서울 영등포구'}, {'position': '[데브시스터즈] DevOps Engineer (신입)의 전체 세부 정보', 'link': 'https://kr.indeed.com/rc/clk?jk=3058f7280a2e6644&fccid=58a9a803698a0afd&vjs=3', 'company': '데브시스터즈', 'location': '서울 강남구'}, {'position': '[People with Disabilities] Boeing Korea Summer Intern_Software Engineer의 전체 세부 정보', 'link': 'https://kr.indeed.com/rc/clk?jk=784d33be59a5a14a&fccid=edae4285faf6c2f0&vjs=3', 'company': 'BOEING', 'location': '서울'}, {'position': '(시간제)B2B 소프트웨어 운영 개발자의 전체 세부 정보', 'link': 'https://kr.indeed.com/rc/clk?jk=f60dd6eaff468d50&fccid=6110e8c63f0c3bbf&vjs=3', 'company': '법틀', 'location': '서울 성동구'}, {'position': '[데브툴즈] Front end 개발자의 전체 세부 정보', 'link': 'https://kr.indeed.com/rc/clk?jk=a76e48ed8883b9b5&fccid=ad60a0632f3f3e71&vjs=3', 'company': '데브툴즈', 'location': '안양 동안구'}, {'position': 'Software Engineer, Applied Machine Learning, Edge TPU의 전체 세부 정보', 'link': 'https://kr.indeed.com/rc/clk?jk=32c7dc89fa6d4ca8&fccid=a5b4499d9e91a5c6&vjs=3', 'company': 'Google', 'location': '서울'}, {'position': '[2023 Summer Internship] MedTech – Strategic Commercial Excellence의 전체 세부 정보', 'link': 'https://kr.indeed.com/rc/clk?jk=2926e817928cf0c5&fccid=0bed8e17bc113980&vjs=3', 'company': 'Johnson & Johnson', 'location': '서울'}, {'position': '사세확장으로 인한 Web 솔루션 개발자 (정규직)의 전체 세부 정보', 'link': 'https://kr.indeed.com/rc/clk?jk=2d1598a6cf0de722&fccid=da67757fa8b368d8&vjs=3', 'company': '더파워브레인스', 'location': '서울 금천구'}, {'position': '㈜쓰리케이비카스 java, python개발자의 전체 세부 정보', 'link': 'https://kr.indeed.com/rc/clk?jk=f3a9254e8166a1ad&fccid=4ad5c4a25536f2d0&vjs=3', 'company': '쓰리케이비카스', 'location': '서울 강동구'}, {'position': '대기업계열 모빌리티 데이터 분석 모델 개발 (신입/경력)의 전체 세부 정보', 'link': 'https://kr.indeed.com/rc/clk?jk=fc4ce8e7031b4ab0&fccid=0f76eb1d9acd6c10&vjs=3', 'company': '경연파트너스', 'location': '서울 용산구'}, {'position': '상반기 각 부문 신입/경력 수시 [IT/개발/SW/공무/기술지원/총무/영업 외]의 전체 세부 정보', 'link': 'https://kr.indeed.com/rc/clk?jk=cab6bc36f2e4a48e&fccid=05b9e3e68be655f0&vjs=3', 'company': '한국전자금융', 'location': '서울 서대문구'}, {'position': 'Tensor Processing Unit Architect, Silicon의 전체 세부 정보', 'link': 'https://kr.indeed.com/rc/clk?jk=39d5b62f514313d4&fccid=a5b4499d9e91a5c6&vjs=3', 'company': 'Google', 'location': '서울'}, {'position': '자율주행 센서퓨전 개발[연구원, 책임연구원]의 전체 세부 정보', 'link': 'https://kr.indeed.com/rc/clk?jk=02839b1c3823ddd5&fccid=980d6ecc399a3373&vjs=3', 'company': '현대자동차그룹', 'location': '서울 강남구'}, {'position': '응용프로그램, Web 개발 엔지니어의 전체 세부 정보', 'link': 'https://kr.indeed.com/rc/clk?jk=2226f969e09c5c80&fccid=9952b8a561919689&vjs=3', 'company': '에이피에스티', 'location': '서울 강서구'}, {'position': '[2023 전문연구요원] AI R&D-Language AI의 전체 세부 정보', 'link': 'https://kr.indeed.com/rc/clk?jk=7da87f6985949b06&fccid=a1e4e21b1f33cf40&vjs=3', 'company': '엔씨소프트', 'location': '성남 판교역'}, {'position': '2023년 (주)하람아이 AI팀의 전체 세부 정보', 'link': 'https://kr.indeed.com/rc/clk?jk=f1a40936df480707&fccid=5d0ea4093a1ed598&vjs=3', 'company': '하람아이', 'location': '성남 수정구'}, {'position': '리드급 풀스택 개발자 / 신입 개발자의 전체 세부 정보', 'link': 'https://kr.indeed.com/rc/clk?jk=1fe6a772e758057c&fccid=89eb3eb174f006ff&vjs=3', 'company': '가보드림', 'location': '서울 서초구'}, {'position': '위시켓과 함께할 서버개발자님의 전체 세부 정보', 'link': 'https://kr.indeed.com/rc/clk?jk=a3a65a4d59061430&fccid=533c91503ff32d48&vjs=3', 'company': '위시켓', 'location': '서울 강남구'}, {'position': 'AI 연구 MLOps의 전체 세부 정보', 'link': 'https://kr.indeed.com/rc/clk?jk=36ae5f764253d121&fccid=015d2bad6d9df969&vjs=3', 'company': '코그넷나인', 'location': '서울 서초구'}, {'position': '2022년 상반기 주식회사 쏘마 전 개발 직군 (백엔드, 프론트엔드 외 신입/경력 정규직)의 전체 세부 정보', 'link': 'https://kr.indeed.com/rc/clk?jk=13ef6f86810c0843&fccid=a3463f311ce6421e&vjs=3', 'company': '쏘마', 'location': '성남 분당구'}, {'position': 'Robotics Engineer [Computer Vision][연구원, 책임연구원]의 전체 세부 정보', 'link': 'https://kr.indeed.com/rc/clk?jk=d18652df74e7a983&fccid=980d6ecc399a3373&vjs=3', 'company': '현대자동차그룹', 'location': '대한민국'}, {'position': '[비에이코리아 주식회사] 데이터분석가(Business Data Analyst) 신입/경력의 전체 세부 정보', 'link': 'https://kr.indeed.com/rc/clk?jk=1dc91764525277cc&fccid=4c13ec332a36c73a&vjs=3', 'company': '비에이코리아', 'location': '서울'}, {'position': '데이터 사이언티스트 (경력1년이상우대)의 전체 세부 정보', 'link': 'https://kr.indeed.com/rc/clk?jk=590e155f288bd18b&fccid=f21fdfb1a45c8aea&vjs=3', 'company': '코너스톤42', 'location': '서울 송파구'}, {'position': 'JR0192526 SW engineer intern의 전체 세부 정보', 'link': 'https://kr.indeed.com/rc/clk?jk=83f4939522ffaa68&fccid=ded06d6a6799d929&vjs=3', 'company': '인텔코리아', 'location': '서울'}, {'position': 'AI Consultant, Google Cloud Consulting의 전체 세부 정보', 'link': 'https://kr.indeed.com/rc/clk?jk=8b0465ded60da05e&fccid=a5b4499d9e91a5c6&vjs=3', 'company': 'Google', 'location': '서울'}, {'position': '[선행기술원] 수치해석 기법 개발 (시뮬레이션)[책임연구원]의 전체 세부 정보', 'link': 'https://kr.indeed.com/rc/clk?jk=e88a012377584fab&fccid=980d6ecc399a3373&vjs=3', 'company': '현대자동차그룹', 'location': '성남 판교역'}, {'position': '(주)이젝스 연구소 소프트웨어 개발자의 전체 세부 정보', 'link': 'https://kr.indeed.com/rc/clk?jk=4e35249f02512af8&fccid=06535f1b49990e1a&vjs=3', 'company': '이젝스', 'location': '성남 중원구'}, {'position': '[배터리분야/인공지능개발] AI Developer를 모십니다.의 전체 세부 정보', 'link': 'https://kr.indeed.com/rc/clk?cmp=(%EC%A3%BC)%EB%B0%94%EC%9D%B4%EC%98%A4%EC%97%90%EC%9D%B4%EC%95%84%EC%9D%B4&ti=%5B%EB%B0%B0%ED%84%B0%EB%A6%AC%EB%B6%84%EC%95%BC%2F%EC%9D%B8%EA%B3%B5%EC%A7%80%EB%8A%A5%EA%B0%9C%EB%B0%9C%5D+Ai+Developer%EB%A5%BC+%EB%AA%A8%EC%8B%AD%EB%8B%88%EB%8B%A4.&jk=159caf4673ba854e&fccid=2bf1cac26c8a5833&vjs=3', 'company': '(주)바이오에이아이', 'location': '서울'}, {'position': '파이썬(python) 백엔드 개발자 (전문연구요원 가능)의 전체 세부 정보', 'link': 'https://kr.indeed.com/rc/clk?jk=240326a26bd13bf2&fccid=660bbb21789ab63d&vjs=3', 'company': '아토머스', 'location': '서울 강남구'}, {'position': '[올라핀테크] 핀테크 플랫폼 Python(파이썬) 개발자의 전체 세부 정보', 'link': 'https://kr.indeed.com/rc/clk?jk=83afc0063130f3f2&fccid=ee9199e84b45d22f&vjs=3', 'company': '주식회사 올라핀테크 관심기업', 'location': '서울 논현동'}, {'position': '2023년 (주)하람아이 AI팀의 전체 세부 정보', 'link': 'https://kr.indeed.com/rc/clk?jk=f1a40936df480707&fccid=5d0ea4093a1ed598&vjs=3', 'company': '하람아이', 'location': '성남 수정구'}, {'position': 'Associate Solutions Architect Internship - Summer 2023 (Korea), Builder의 전체 세부 정보', 'link': 'https://kr.indeed.com/rc/clk?jk=715514fa2903944c&fccid=fe2d21eef233e94a&vjs=3', 'company': 'Amazon Web Services Korea LLC', 'location': '서울'}, {'position': '웹개발자 백엔드&서버개발(HTML·DHTML·mHTML, JAVA 외) 신입/경력 정규직의 전체 세부 정보', 'link': 'https://kr.indeed.com/rc/clk?jk=1eeb4f006adf13ba&fccid=72348558bd9456ba&vjs=3', 'company': '블록스퀘어서울', 'location': '서울 서초구'}, {'position': 'Financial, Regulatory and Risk Reporting Speciallist의 전체 세부 정보', 'link': 'https://kr.indeed.com/rc/clk?jk=4e842304541b3a53&fccid=f1d8e147024abb3f&vjs=3', 'company': 'Deutsche Bank', 'location': '서울'}]\n"
     ]
    }
   ],
   "source": [
    "jobs = extract_indeed_jobs('python')\n",
    "print(jobs)"
   ]
  },
  {
   "cell_type": "code",
   "execution_count": 8,
   "id": "914b35a7",
   "metadata": {},
   "outputs": [
    {
     "name": "stdout",
     "output_type": "stream",
     "text": [
      "75\n"
     ]
    }
   ],
   "source": [
    "print(len(jobs))"
   ]
  },
  {
   "cell_type": "markdown",
   "id": "b200fcbe",
   "metadata": {},
   "source": [
    "- 첫번째 페이지로 이동후, 그 이후 페이지가 몇개 있는지 확인, 제약사항(5) 후 처리\n"
   ]
  },
  {
   "cell_type": "markdown",
   "id": "1908561a",
   "metadata": {},
   "source": [
    "---"
   ]
  },
  {
   "cell_type": "markdown",
   "id": "a15741d4",
   "metadata": {},
   "source": [
    "## Refactoring\n",
    "\n",
    "- 함수 처리"
   ]
  },
  {
   "cell_type": "code",
   "execution_count": 10,
   "id": "bfb44efe",
   "metadata": {},
   "outputs": [
    {
     "name": "stdout",
     "output_type": "stream",
     "text": [
      "Request url : https://kr.indeed.com/jobs?q=python&start=0\n",
      "Request url : https://kr.indeed.com/jobs?q=python&start=10\n",
      "Request url : https://kr.indeed.com/jobs?q=python&start=20\n",
      "Request url : https://kr.indeed.com/jobs?q=python&start=30\n",
      "Request url : https://kr.indeed.com/jobs?q=python&start=40\n"
     ]
    }
   ],
   "source": [
    "# 폴더.파일.py import 함수\n",
    "# 리스트 리턴,(리스트내 데이터 dict)\n",
    "\n",
    "from extract.indeed import extract_indeed_jobs\n",
    "from extract.wwr import extract_jobs\n",
    "\n",
    "wwr = extract_jobs('python')\n",
    "indeed = extract_indeed_jobs('python')\n",
    "\n",
    "jobs = wwr + indeed\n"
   ]
  },
  {
   "cell_type": "code",
   "execution_count": 11,
   "id": "89cf0a8e",
   "metadata": {},
   "outputs": [
    {
     "data": {
      "text/plain": [
       "78"
      ]
     },
     "execution_count": 11,
     "metadata": {},
     "output_type": "execute_result"
    }
   ],
   "source": [
    "len(jobs) # 3 + 15 * 5 "
   ]
  },
  {
   "cell_type": "code",
   "execution_count": 12,
   "id": "ff06024a",
   "metadata": {},
   "outputs": [
    {
     "name": "stdout",
     "output_type": "stream",
     "text": [
      "[{'position': 'Full-Time', 'company': 'OpenCraft', 'location': 'Anywhere in the World', 'link': 'https://weworkremotely.com/remote-jobs/opencraft-senior-open-source-developer-devops-python-django-react-aws-openstack'}, {'position': 'Full-Time', 'company': 'Close', 'location': 'USA Only', 'link': 'https://weworkremotely.com/remote-jobs/close-senior-staff-software-engineer-backend-python-usa-100-remote'}, {'position': 'Full-Time', 'company': 'Proxify AB', 'location': 'Latin America Only/Europe Only/EMEA Only', 'link': 'https://weworkremotely.com/remote-jobs/proxify-ab-senior-backend-python-engineer-long-term-job-100-remote'}, {'position': '2023 Software Engineering Intern  People with Disabilities (장애인 채용)의 전체 세부 정보', 'company': 'Google', 'location': '서울', 'link': 'https://kr.indeed.com/rc/clk?jk=ed7b7e6eb72ffab8&fccid=a5b4499d9e91a5c6&vjs=3'}, {'position': '2023 Student Training in Engineering Program (STEP)  People with Disabilities (장애인 채용)의 전체 세부 정보', 'company': 'Google', 'location': '서울', 'link': 'https://kr.indeed.com/rc/clk?jk=5d24a062cabc9f0d&fccid=a5b4499d9e91a5c6&vjs=3'}, {'position': '[송파구] 데이터분석(Python R 모델 ML)의 전체 세부 정보', 'company': '시니어앤파트너즈', 'location': '서울 송파구', 'link': 'https://kr.indeed.com/rc/clk?jk=a0f0a1cb28e20f8c&fccid=59060ddcdf96b101&vjs=3'}, {'position': '인공지능 관리 및 개발자 (Python  yolo 사용자 우대)의 전체 세부 정보', 'company': '하가', 'location': '서울 동작구', 'link': 'https://kr.indeed.com/rc/clk?jk=b469f992ddab8f71&fccid=aa11023cc66bb11b&vjs=3'}, {'position': '[2023 Summer Internship] MedTech – Business Excellence의 전체 세부 정보', 'company': 'Johnson & Johnson', 'location': '서울', 'link': 'https://kr.indeed.com/rc/clk?jk=e8f858ada4b36c5c&fccid=0bed8e17bc113980&vjs=3'}, {'position': 'IT분야 직업훈련교사의 전체 세부 정보', 'company': '재단법인 한국아이티교육재단', 'location': '서울 서초구', 'link': 'https://kr.indeed.com/rc/clk?jk=5594832db046013e&fccid=af1182589e05cf0b&vjs=3'}, {'position': '그룹공동 마이데이터 분석 플랫폼(데이터분석가)의 전체 세부 정보', 'company': 'KB데이타시스템', 'location': '서울 마포구', 'link': 'https://kr.indeed.com/rc/clk?jk=25b3c3e6a66bd77c&fccid=fe227fbd2afb9580&vjs=3'}, {'position': '인공지능(AI) 기술 개발(신입)의 전체 세부 정보', 'company': '(주)RGA Inc.', 'location': '서울 강남역', 'link': 'https://kr.indeed.com/rc/clk?cmp=(%EC%A3%BC)RGA-Inc.&ti=%EC%9D%B8%EA%B3%B5%EC%A7%80%EB%8A%A5%28ai%29+%EA%B8%B0%EC%88%A0+%EA%B0%9C%EB%B0%9C%28%EC%8B%A0%EC%9E%85%29&jk=95a7a9b4c00f9ada&fccid=dd616958bd9ddc12&vjs=3'}, {'position': '`23년 상반기 아비커스 공개의 전체 세부 정보', 'company': 'HD현대그룹', 'location': '서울', 'link': 'https://kr.indeed.com/rc/clk?jk=bb17e4528555174f&fccid=ee13651dcbd31376&vjs=3'}, {'position': '빅데이터플랫폼 / Python 개발자의 전체 세부 정보', 'company': '핸디소프트', 'location': '안양 동안구', 'link': 'https://kr.indeed.com/rc/clk?jk=3af3cac46966cc13&fccid=d22d7c6a99de76b6&vjs=3'}, {'position': 'php  java  python(api연동) 개발자의 전체 세부 정보', 'company': '메타유니버스', 'location': '서울 중구', 'link': 'https://kr.indeed.com/rc/clk?jk=d47b5236f7e4a7b8&fccid=2a4ae9e231fe1079&vjs=3'}, {'position': '2023년 2분기 정규직(신입&경력)의 전체 세부 정보', 'company': '나이스피앤아이', 'location': '서울 여의도역', 'link': 'https://kr.indeed.com/rc/clk?jk=6740ae9621d4b66a&fccid=7c3898912578b6c7&vjs=3'}, {'position': '기술 인턴 인공지능 응용 연구/개발 인턴의 전체 세부 정보', 'company': '써로마인드로보틱스', 'location': '서울 관악구', 'link': 'https://kr.indeed.com/rc/clk?jk=71c47ac87bb4087e&fccid=230e414668234579&vjs=3'}, {'position': '부문별 수시 [IT/개발/SW/공무/기술지원/총무/영업 외]의 전체 세부 정보', 'company': '한국전자금융', 'location': '서울 마포구', 'link': 'https://kr.indeed.com/rc/clk?jk=c71d26dc7e43def1&fccid=05b9e3e68be655f0&vjs=3'}, {'position': '백엔드 엔지니어 (Python) 정규직의 전체 세부 정보', 'company': '데이터비', 'location': '서울 마포구', 'link': 'https://kr.indeed.com/rc/clk?jk=79d696388d32d3ff&fccid=dd6f5fd8e8c02e7e&vjs=3'}, {'position': 'Boeing Korea Summer Intern_Software Engineer의 전체 세부 정보', 'company': 'BOEING', 'location': '서울', 'link': 'https://kr.indeed.com/rc/clk?jk=9261f808b885e89a&fccid=edae4285faf6c2f0&vjs=3'}, {'position': '2023 대전시 해외기업 인재채움 프로젝트 참여자의 전체 세부 정보', 'company': '대전일자리경제진흥원', 'location': '대전', 'link': 'https://kr.indeed.com/rc/clk?jk=db05c62607d5a490&fccid=c4081a575b958f56&vjs=3'}, {'position': '(AI개발자) python활용의 전체 세부 정보', 'company': '비지언스', 'location': '서울 금천구', 'link': 'https://kr.indeed.com/rc/clk?jk=4c8e7cc0d6848534&fccid=27b797a8598f2610&vjs=3'}, {'position': '데이터분석 신입/경력 정규직의 전체 세부 정보', 'company': '블록스퀘어서울', 'location': '서울 서초구', 'link': 'https://kr.indeed.com/rc/clk?jk=88960e11c2cdd682&fccid=72348558bd9456ba&vjs=3'}, {'position': '[메이저 금융그룹 연구소] Data Scientist 경력직 연구원 포지션의 전체 세부 정보', 'company': '메이저 금융그룹 연구소', 'location': '서울', 'link': 'https://kr.indeed.com/company/%EB%8D%94-%ED%9C%B4%EB%A8%BC/jobs/%EC%97%B0%EA%B5%AC%EC%86%8C-%EC%97%B0%EA%B5%AC%EC%9B%90-f8a5bc05f47465f8?fccid=3cfe13845f73c09f&vjs=3'}, {'position': 'IT Manager - Data Scientist의 전체 세부 정보', 'company': 'Procter & Gamble', 'location': '서울', 'link': 'https://kr.indeed.com/rc/clk?jk=d646b6fdb341deec&fccid=2da0dedf6df97194&vjs=3'}, {'position': 'DNN 모델 개발 엔지니어의 전체 세부 정보', 'company': '딥엑스', 'location': '성남 분당구', 'link': 'https://kr.indeed.com/rc/clk?jk=303d8c644a5f2e0f&fccid=e34932b8232a173b&vjs=3'}, {'position': '인공지능(AI)  인공지능(AI) 외 신입의 전체 세부 정보', 'company': '사단법인 한국서비스산업진흥원', 'location': '서울 종로구', 'link': 'https://kr.indeed.com/rc/clk?jk=c5112e132f7f1e05&fccid=03ad1f6903097dae&vjs=3'}, {'position': '[KITRI] IT 정보 보안/개발 교육생의 전체 세부 정보', 'company': '한국정보기술연구원', 'location': '서울', 'link': 'https://kr.indeed.com/rc/clk?jk=8274c2d094ef24ac&fccid=f065bd051552743e&vjs=3'}, {'position': '2023년 상시 [신입/경력] 개발자 중의 전체 세부 정보', 'company': '사이냅소프트', 'location': '서울 강서구', 'link': 'https://kr.indeed.com/rc/clk?jk=5939f1161708ca93&fccid=0673ca84bc014599&vjs=3'}, {'position': '[인공지능개발] AI Developer를 모십니다.의 전체 세부 정보', 'company': '(주)바이오에이아이', 'location': '서울', 'link': 'https://kr.indeed.com/rc/clk?cmp=(%EC%A3%BC)%EB%B0%94%EC%9D%B4%EC%98%A4%EC%97%90%EC%9D%B4%EC%95%84%EC%9D%B4&ti=%5B%EC%9D%B8%EA%B3%B5%EC%A7%80%EB%8A%A5%EA%B0%9C%EB%B0%9C%5D+Ai+Developer%EB%A5%BC+%EB%AA%A8%EC%8B%AD%EB%8B%88%EB%8B%A4.&jk=393d36ead0df8531&fccid=2bf1cac26c8a5833&vjs=3'}, {'position': '차량 제어SW 개발/PM 부문 경력의 전체 세부 정보', 'company': '현대오토에버', 'location': '서울 강남구', 'link': 'https://kr.indeed.com/rc/clk?jk=06162e62a5cc6b53&fccid=d5a22a3e93377742&vjs=3'}, {'position': '[취업축하금300] 미스고 웹 크롤러 - 주거안정비 지원의 전체 세부 정보', 'company': '미스고', 'location': '서울 강남구', 'link': 'https://kr.indeed.com/rc/clk?jk=dcea8f10155e3061&fccid=28ad02baea3e6b67&vjs=3'}, {'position': '딥러닝 AI 개발 연구원의 전체 세부 정보', 'company': '베이리스', 'location': '성남 수정구', 'link': 'https://kr.indeed.com/rc/clk?jk=87309d3ff40ead61&fccid=ce871e9e4a9f430a&vjs=3'}, {'position': '음성합성/음색변환 및 Music 생성 기술 전문가의 전체 세부 정보', 'company': '에스케이텔레콤', 'location': '서울 중구', 'link': 'https://kr.indeed.com/rc/clk?jk=7b3fb1b029354bc4&fccid=ce2f0f28b40a5be8&vjs=3'}, {'position': 'Associate Customer Engineer  Data Analytics  Google Cloud  gReach Program for People with Disabilities (장애인 채용)의 전체 세부 정보', 'company': 'Google', 'location': '서울', 'link': 'https://kr.indeed.com/rc/clk?jk=1c352a43e087ad61&fccid=a5b4499d9e91a5c6&vjs=3'}, {'position': '[에코마케팅] Data Integration Engineer 연계형인턴/사원의 전체 세부 정보', 'company': '에코마케팅', 'location': '서울', 'link': 'https://kr.indeed.com/rc/clk?jk=db40aa474036f12f&fccid=5d3316a6c97b8577&vjs=3'}, {'position': '2023년 2분기 정규직(신입&경력)의 전체 세부 정보', 'company': '나이스피앤아이', 'location': '서울 여의도역', 'link': 'https://kr.indeed.com/rc/clk?jk=6740ae9621d4b66a&fccid=7c3898912578b6c7&vjs=3'}, {'position': '[신입] 미래 인재 DB의 전체 세부 정보', 'company': '현대오토에버', 'location': '서울', 'link': 'https://kr.indeed.com/rc/clk?jk=8488f46665d1b77a&fccid=d5a22a3e93377742&vjs=3'}, {'position': '웹개발  프론트엔드 신입/경력 계약직의 전체 세부 정보', 'company': '뮤레파코리아', 'location': '성남 수정구', 'link': 'https://kr.indeed.com/rc/clk?jk=f498a784c28d03bb&fccid=5fc71e9cbda0dfc6&vjs=3'}, {'position': '백엔드개발자  모바일앱 개발자  블록체인 개발자 신입의 전체 세부 정보', 'company': '와이즈텍', 'location': '서울 용산구', 'link': 'https://kr.indeed.com/rc/clk?jk=52049395e06b34cb&fccid=8b01882cef0e8002&vjs=3'}, {'position': '2023년 DIgital Lab 전문계약직 상시의 전체 세부 정보', 'company': 'GS칼텍스', 'location': '서울 강남구', 'link': 'https://kr.indeed.com/rc/clk?jk=2e45e43017a6ea1f&fccid=f152288f3dcf6e51&vjs=3'}, {'position': 'Engineering internship in Sweden!의 전체 세부 정보', 'company': 'Iknal Semikan', 'location': '서울', 'link': 'https://kr.indeed.com/rc/clk?jk=73f84a6025e969d5&fccid=1c1f99bc5683e9f2&vjs=3'}, {'position': '[NHN Enterprise] 클라우드 플랫폼 운영 엔지니어의 전체 세부 정보', 'company': '엔에이치엔엔터프라이즈', 'location': '성남 분당구', 'link': 'https://kr.indeed.com/rc/clk?jk=90a7214a62825dba&fccid=c6959d0e760ece96&vjs=3'}, {'position': '웹개발  백엔드 외 신입/경력 정규직의 전체 세부 정보', 'company': '코인챗', 'location': '서울 강남구', 'link': 'https://kr.indeed.com/rc/clk?jk=e3f3b7e2103d9bc7&fccid=e60f835b4d91f8e6&vjs=3'}, {'position': '백엔드 개발자(인턴십)의 전체 세부 정보', 'company': '액스', 'location': '서울 서초구', 'link': 'https://kr.indeed.com/rc/clk?jk=b7223c792bfcbcd4&fccid=5013eca338141e7d&vjs=3'}, {'position': '[한국 휴렛팩커드] Determined AI - Developer Support Engineer (부장급)의 전체 세부 정보', 'company': '한국휴렛팩커드 유한회사', 'location': '서울 영등포구', 'link': 'https://kr.indeed.com/rc/clk?jk=ee3417f78526645a&fccid=453a1d72c82baf2d&vjs=3'}, {'position': '[데브시스터즈] DevOps Engineer (신입)의 전체 세부 정보', 'company': '데브시스터즈', 'location': '서울 강남구', 'link': 'https://kr.indeed.com/rc/clk?jk=3058f7280a2e6644&fccid=58a9a803698a0afd&vjs=3'}, {'position': '[People with Disabilities] Boeing Korea Summer Intern_Software Engineer의 전체 세부 정보', 'company': 'BOEING', 'location': '서울', 'link': 'https://kr.indeed.com/rc/clk?jk=784d33be59a5a14a&fccid=edae4285faf6c2f0&vjs=3'}, {'position': '(시간제)B2B 소프트웨어 운영 개발자의 전체 세부 정보', 'company': '법틀', 'location': '서울 성동구', 'link': 'https://kr.indeed.com/rc/clk?jk=f60dd6eaff468d50&fccid=6110e8c63f0c3bbf&vjs=3'}, {'position': '[데브툴즈] Front end 개발자의 전체 세부 정보', 'company': '데브툴즈', 'location': '안양 동안구', 'link': 'https://kr.indeed.com/rc/clk?jk=a76e48ed8883b9b5&fccid=ad60a0632f3f3e71&vjs=3'}, {'position': '[2023 Summer Internship] MedTech – Strategic Commercial Excellence의 전체 세부 정보', 'company': 'Johnson & Johnson', 'location': '서울', 'link': 'https://kr.indeed.com/rc/clk?jk=2926e817928cf0c5&fccid=0bed8e17bc113980&vjs=3'}, {'position': '사세확장으로 인한 Web 솔루션 개발자 (정규직)의 전체 세부 정보', 'company': '더파워브레인스', 'location': '서울 금천구', 'link': 'https://kr.indeed.com/rc/clk?jk=2d1598a6cf0de722&fccid=da67757fa8b368d8&vjs=3'}, {'position': '㈜쓰리케이비카스 java  python개발자의 전체 세부 정보', 'company': '쓰리케이비카스', 'location': '서울 강동구', 'link': 'https://kr.indeed.com/rc/clk?jk=f3a9254e8166a1ad&fccid=4ad5c4a25536f2d0&vjs=3'}, {'position': '대기업계열 모빌리티 데이터 분석 모델 개발 (신입/경력)의 전체 세부 정보', 'company': '경연파트너스', 'location': '서울 용산구', 'link': 'https://kr.indeed.com/rc/clk?jk=fc4ce8e7031b4ab0&fccid=0f76eb1d9acd6c10&vjs=3'}, {'position': '상반기 각 부문 신입/경력 수시 [IT/개발/SW/공무/기술지원/총무/영업 외]의 전체 세부 정보', 'company': '한국전자금융', 'location': '서울 서대문구', 'link': 'https://kr.indeed.com/rc/clk?jk=cab6bc36f2e4a48e&fccid=05b9e3e68be655f0&vjs=3'}, {'position': 'Tensor Processing Unit Architect  Silicon의 전체 세부 정보', 'company': 'Google', 'location': '서울', 'link': 'https://kr.indeed.com/rc/clk?jk=39d5b62f514313d4&fccid=a5b4499d9e91a5c6&vjs=3'}, {'position': '자율주행 센서퓨전 개발[연구원  책임연구원]의 전체 세부 정보', 'company': '현대자동차그룹', 'location': '서울 강남구', 'link': 'https://kr.indeed.com/rc/clk?jk=02839b1c3823ddd5&fccid=980d6ecc399a3373&vjs=3'}, {'position': 'AI 연구개발자 전문연구요원(병역특례)의 전체 세부 정보', 'company': '라이트비전', 'location': '서울 성동구', 'link': 'https://kr.indeed.com/rc/clk?jk=d8052c1b4677239a&fccid=e391d8e930358bac&vjs=3'}, {'position': '[에코마케팅] Data Integration Engineer 연계형인턴/사원의 전체 세부 정보', 'company': '에코마케팅', 'location': '서울', 'link': 'https://kr.indeed.com/rc/clk?jk=db40aa474036f12f&fccid=5d3316a6c97b8577&vjs=3'}, {'position': '응용프로그램  Web 개발 엔지니어의 전체 세부 정보', 'company': '에이피에스티', 'location': '서울 강서구', 'link': 'https://kr.indeed.com/rc/clk?jk=2226f969e09c5c80&fccid=9952b8a561919689&vjs=3'}, {'position': '[2023 전문연구요원] AI R&D-Language AI의 전체 세부 정보', 'company': '엔씨소프트', 'location': '성남 판교역', 'link': 'https://kr.indeed.com/rc/clk?jk=7da87f6985949b06&fccid=a1e4e21b1f33cf40&vjs=3'}, {'position': '리드급 풀스택 개발자 / 신입 개발자의 전체 세부 정보', 'company': '가보드림', 'location': '서울 서초구', 'link': 'https://kr.indeed.com/rc/clk?jk=1fe6a772e758057c&fccid=89eb3eb174f006ff&vjs=3'}, {'position': '위시켓과 함께할 서버개발자님의 전체 세부 정보', 'company': '위시켓', 'location': '서울 강남구', 'link': 'https://kr.indeed.com/rc/clk?jk=a3a65a4d59061430&fccid=533c91503ff32d48&vjs=3'}, {'position': 'AI 연구 MLOps의 전체 세부 정보', 'company': '코그넷나인', 'location': '서울 서초구', 'link': 'https://kr.indeed.com/rc/clk?jk=36ae5f764253d121&fccid=015d2bad6d9df969&vjs=3'}, {'position': '2022년 상반기 주식회사 쏘마 전 개발 직군 (백엔드  프론트엔드 외 신입/경력 정규직)의 전체 세부 정보', 'company': '쏘마', 'location': '성남 분당구', 'link': 'https://kr.indeed.com/rc/clk?jk=13ef6f86810c0843&fccid=a3463f311ce6421e&vjs=3'}, {'position': 'Robotics Engineer [Computer Vision][연구원  책임연구원]의 전체 세부 정보', 'company': '현대자동차그룹', 'location': '대한민국', 'link': 'https://kr.indeed.com/rc/clk?jk=d18652df74e7a983&fccid=980d6ecc399a3373&vjs=3'}, {'position': '[비에이코리아 주식회사] 데이터분석가(Business Data Analyst) 신입/경력의 전체 세부 정보', 'company': '비에이코리아', 'location': '서울', 'link': 'https://kr.indeed.com/rc/clk?jk=1dc91764525277cc&fccid=4c13ec332a36c73a&vjs=3'}, {'position': '데이터 사이언티스트 (경력1년이상우대)의 전체 세부 정보', 'company': '코너스톤42', 'location': '서울 송파구', 'link': 'https://kr.indeed.com/rc/clk?jk=590e155f288bd18b&fccid=f21fdfb1a45c8aea&vjs=3'}, {'position': 'JR0192526 SW engineer intern의 전체 세부 정보', 'company': '인텔코리아', 'location': '서울', 'link': 'https://kr.indeed.com/rc/clk?jk=83f4939522ffaa68&fccid=ded06d6a6799d929&vjs=3'}, {'position': 'AI Consultant  Google Cloud Consulting의 전체 세부 정보', 'company': 'Google', 'location': '서울', 'link': 'https://kr.indeed.com/rc/clk?jk=8b0465ded60da05e&fccid=a5b4499d9e91a5c6&vjs=3'}, {'position': '[선행기술원] 수치해석 기법 개발 (시뮬레이션)[책임연구원]의 전체 세부 정보', 'company': '현대자동차그룹', 'location': '성남 판교역', 'link': 'https://kr.indeed.com/rc/clk?jk=e88a012377584fab&fccid=980d6ecc399a3373&vjs=3'}, {'position': '(주)이젝스 연구소 소프트웨어 개발자의 전체 세부 정보', 'company': '이젝스', 'location': '성남 중원구', 'link': 'https://kr.indeed.com/rc/clk?jk=4e35249f02512af8&fccid=06535f1b49990e1a&vjs=3'}, {'position': '[배터리분야/인공지능개발] AI Developer를 모십니다.의 전체 세부 정보', 'company': '(주)바이오에이아이', 'location': '서울', 'link': 'https://kr.indeed.com/rc/clk?cmp=(%EC%A3%BC)%EB%B0%94%EC%9D%B4%EC%98%A4%EC%97%90%EC%9D%B4%EC%95%84%EC%9D%B4&ti=%5B%EB%B0%B0%ED%84%B0%EB%A6%AC%EB%B6%84%EC%95%BC%2F%EC%9D%B8%EA%B3%B5%EC%A7%80%EB%8A%A5%EA%B0%9C%EB%B0%9C%5D+Ai+Developer%EB%A5%BC+%EB%AA%A8%EC%8B%AD%EB%8B%88%EB%8B%A4.&jk=159caf4673ba854e&fccid=2bf1cac26c8a5833&vjs=3'}, {'position': '파이썬(python) 백엔드 개발자 (전문연구요원 가능)의 전체 세부 정보', 'company': '아토머스', 'location': '서울 강남구', 'link': 'https://kr.indeed.com/rc/clk?jk=240326a26bd13bf2&fccid=660bbb21789ab63d&vjs=3'}, {'position': '[올라핀테크] 핀테크 플랫폼 Python(파이썬) 개발자의 전체 세부 정보', 'company': '주식회사 올라핀테크 관심기업', 'location': '서울 논현동', 'link': 'https://kr.indeed.com/rc/clk?jk=83afc0063130f3f2&fccid=ee9199e84b45d22f&vjs=3'}, {'position': 'Financial  Regulatory and Risk Reporting Speciallist의 전체 세부 정보', 'company': 'Deutsche Bank', 'location': '서울', 'link': 'https://kr.indeed.com/rc/clk?jk=4e842304541b3a53&fccid=f1d8e147024abb3f&vjs=3'}, {'position': '웹개발자 백엔드&서버개발(HTML·DHTML·mHTML  JAVA 외) 신입/경력 정규직의 전체 세부 정보', 'company': '블록스퀘어서울', 'location': '서울 서초구', 'link': 'https://kr.indeed.com/rc/clk?jk=1eeb4f006adf13ba&fccid=72348558bd9456ba&vjs=3'}, {'position': '시스템 & 성능 엔지니어 모집의 전체 세부 정보', 'company': '엔씨소프트', 'location': '성남 판교역', 'link': 'https://kr.indeed.com/rc/clk?jk=40fff51901aaf6b9&fccid=a1e4e21b1f33cf40&vjs=3'}, {'position': 'Associate Solutions Architect Internship - Summer 2023 (Korea)  Builder의 전체 세부 정보', 'company': 'Amazon Web Services Korea LLC', 'location': '서울', 'link': 'https://kr.indeed.com/rc/clk?jk=715514fa2903944c&fccid=fe2d21eef233e94a&vjs=3'}]\n"
     ]
    }
   ],
   "source": [
    "print(jobs)"
   ]
  },
  {
   "cell_type": "markdown",
   "id": "9a6d47ed",
   "metadata": {},
   "source": [
    "---"
   ]
  },
  {
   "cell_type": "markdown",
   "id": "76b6c420",
   "metadata": {},
   "source": [
    "## 사용자 입력 및 파일 처리\n",
    "\n",
    "\n",
    "- csv 파일 생성 \n",
    "\n",
    "- 파일 open 및 write\n",
    "\n"
   ]
  },
  {
   "cell_type": "code",
   "execution_count": 14,
   "id": "dd2cf7e0",
   "metadata": {},
   "outputs": [
    {
     "name": "stdout",
     "output_type": "stream",
     "text": [
      "what do you want to search for? python\n"
     ]
    }
   ],
   "source": [
    "keyword = input('what do you want to search for? ')"
   ]
  },
  {
   "cell_type": "code",
   "execution_count": 2,
   "id": "a15941e5",
   "metadata": {},
   "outputs": [
    {
     "name": "stdout",
     "output_type": "stream",
     "text": [
      "Request url : https://kr.indeed.com/jobs?q=python&start=0\n",
      "Request url : https://kr.indeed.com/jobs?q=python&start=10\n",
      "Request url : https://kr.indeed.com/jobs?q=python&start=20\n",
      "Request url : https://kr.indeed.com/jobs?q=python&start=30\n",
      "Request url : https://kr.indeed.com/jobs?q=python&start=40\n"
     ]
    }
   ],
   "source": [
    "from extract.indeed import extract_indeed_jobs\n",
    "from extract.wwr import extract_jobs\n",
    "\n",
    "wwr = extract_jobs(keyword)\n",
    "indeed = extract_indeed_jobs(keyword)\n",
    "\n",
    "jobs = wwr + indeed"
   ]
  },
  {
   "cell_type": "code",
   "execution_count": 15,
   "id": "5939133e",
   "metadata": {},
   "outputs": [],
   "source": [
    "# 입력 받은 키워드 이름으로 파일 오픈, 없으면 새로 생성\n",
    "file = open(f\"{keyword}.csv\", \"w\",encoding=\"utf-8-sig\")\n",
    "\n",
    "# 파일에 헤더 입력 , \\n\n",
    "file.write(\"Position,Company,Location,URL\\n\")\n",
    "\n",
    "# jobs 리스트, job dict\n",
    "for job in jobs:\n",
    "    file.write(f\"{job['position']},{job['company']},{job['location']},{job['link']}\\n\")"
   ]
  },
  {
   "cell_type": "code",
   "execution_count": 16,
   "id": "6ba7cc93",
   "metadata": {},
   "outputs": [],
   "source": [
    "file.close()"
   ]
  },
  {
   "cell_type": "markdown",
   "id": "501f51d9",
   "metadata": {},
   "source": [
    "---"
   ]
  },
  {
   "cell_type": "markdown",
   "id": "f2212564",
   "metadata": {},
   "source": [
    "## 쉽표 (`,`) 처리"
   ]
  },
  {
   "cell_type": "code",
   "execution_count": 9,
   "id": "e104c894",
   "metadata": {},
   "outputs": [
    {
     "data": {
      "text/plain": [
       "'hello world  happy toady'"
      ]
     },
     "execution_count": 9,
     "metadata": {},
     "output_type": "execute_result"
    }
   ],
   "source": [
    "'hello,world, happy,toady'.replace(',', ' ')"
   ]
  },
  {
   "cell_type": "markdown",
   "id": "f1c882f7",
   "metadata": {},
   "source": [
    "- 딕셔너리 내 데이터가  `,` 포함 하고 있음, `,` 는 csv 파일에서 열 분리를 의미함. csv 인코딩 하는데 문제 발생 \n",
    "    - ex) '구글, 서울' > 구글 입력후 `,` 로 자동 열 분리 \n",
    "    \n",
    "- extract 함수 내에서 `,`가 있다면, 공백으로 처리 하여 해결\n",
    "```.py\n",
    "                job_data = {\n",
    "                    'position': title.replace(\",\", \" \"),\n",
    "                    'company': company.string.replace(\",\", \" \"),\n",
    "                    'location': location.string.replace(\",\", \" \"),\n",
    "                    'link': f\"https://kr.indeed.com{link}\"\n",
    "\n",
    "                }\n",
    "```\n",
    "\n"
   ]
  },
  {
   "cell_type": "markdown",
   "id": "7df9c16e",
   "metadata": {},
   "source": [
    "---"
   ]
  },
  {
   "cell_type": "markdown",
   "id": "180dc4ae",
   "metadata": {},
   "source": [
    "## Refactoring\n",
    "\n",
    "- 사용자 입력 , 파일 생성 까지 모두 함수화"
   ]
  },
  {
   "cell_type": "code",
   "execution_count": 17,
   "id": "dbb0906a",
   "metadata": {},
   "outputs": [
    {
     "name": "stdout",
     "output_type": "stream",
     "text": [
      "what do you want to search for ? python\n",
      "Request url : https://kr.indeed.com/jobs?q=python&start=0\n",
      "Request url : https://kr.indeed.com/jobs?q=python&start=10\n",
      "Request url : https://kr.indeed.com/jobs?q=python&start=20\n",
      "Request url : https://kr.indeed.com/jobs?q=python&start=30\n",
      "Request url : https://kr.indeed.com/jobs?q=python&start=40\n"
     ]
    }
   ],
   "source": [
    "from extract.indeed import extract_indeed_jobs\n",
    "from extract.wwr import extract_jobs\n",
    "from extract.file import save_to_file\n",
    "\n",
    "keyword = input('what do you want to search for ? ')\n",
    "\n",
    "wwr = extract_jobs(keyword)\n",
    "indeed = extract_indeed_jobs(keyword)\n",
    "\n",
    "jobs = wwr + indeed\n",
    "\n",
    "save_to_file(keyword,jobs)\n"
   ]
  },
  {
   "cell_type": "markdown",
   "id": "68486653",
   "metadata": {},
   "source": [
    "---"
   ]
  }
 ],
 "metadata": {
  "kernelspec": {
   "display_name": "Python 3 (ipykernel)",
   "language": "python",
   "name": "python3"
  },
  "language_info": {
   "codemirror_mode": {
    "name": "ipython",
    "version": 3
   },
   "file_extension": ".py",
   "mimetype": "text/x-python",
   "name": "python",
   "nbconvert_exporter": "python",
   "pygments_lexer": "ipython3",
   "version": "3.8.16"
  },
  "toc": {
   "base_numbering": 1,
   "nav_menu": {},
   "number_sections": true,
   "sideBar": true,
   "skip_h1_title": false,
   "title_cell": "Table of Contents",
   "title_sidebar": "Contents",
   "toc_cell": false,
   "toc_position": {
    "height": "calc(100% - 180px)",
    "left": "10px",
    "top": "150px",
    "width": "262.390625px"
   },
   "toc_section_display": true,
   "toc_window_display": true
  },
  "varInspector": {
   "cols": {
    "lenName": 16,
    "lenType": 16,
    "lenVar": 40
   },
   "kernels_config": {
    "python": {
     "delete_cmd_postfix": "",
     "delete_cmd_prefix": "del ",
     "library": "var_list.py",
     "varRefreshCmd": "print(var_dic_list())"
    },
    "r": {
     "delete_cmd_postfix": ") ",
     "delete_cmd_prefix": "rm(",
     "library": "var_list.r",
     "varRefreshCmd": "cat(var_dic_list()) "
    }
   },
   "types_to_exclude": [
    "module",
    "function",
    "builtin_function_or_method",
    "instance",
    "_Feature"
   ],
   "window_display": false
  }
 },
 "nbformat": 4,
 "nbformat_minor": 5
}
