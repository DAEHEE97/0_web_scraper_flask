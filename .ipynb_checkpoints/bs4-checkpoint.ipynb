{
 "cells": [
  {
   "cell_type": "markdown",
   "id": "6000c67c",
   "metadata": {},
   "source": [
    "## 특정 클래스 제외 "
   ]
  },
  {
   "cell_type": "code",
   "execution_count": 10,
   "id": "2e19a620",
   "metadata": {},
   "outputs": [
    {
     "name": "stdout",
     "output_type": "stream",
     "text": [
      "<ul class=\"job_list\">\n",
      "<li class=\"job_posting\">\n",
      "<h2>Job Title 1</h2>\n",
      "<p>Job Description 1</p>\n",
      "</li>\n",
      "<li class=\"job_posting\">\n",
      "<h2>Job Title 2</h2>\n",
      "<p>Job Description 2</p>\n",
      "</li>\n",
      "<li class=\"job_posting\">\n",
      "<h2>Job Title 3</h2>\n",
      "<p>Job Description 3</p>\n",
      "</li>\n",
      "<li class=\"view-all\">\n",
      "<a href=\"#\">View All Jobs</a>\n",
      "</li>\n",
      "</ul>\n",
      "\n",
      "<li class=\"job_posting\">\n",
      "<h2>Job Title 1</h2>\n",
      "<p>Job Description 1</p>\n",
      "</li>\n",
      "<li class=\"job_posting\">\n",
      "<h2>Job Title 2</h2>\n",
      "<p>Job Description 2</p>\n",
      "</li>\n",
      "<li class=\"job_posting\">\n",
      "<h2>Job Title 3</h2>\n",
      "<p>Job Description 3</p>\n",
      "</li>\n"
     ]
    }
   ],
   "source": [
    "from bs4 import BeautifulSoup\n",
    "\n",
    "html = '''\n",
    "<ul class=\"job_list\">\n",
    "    <li class=\"job_posting\">\n",
    "        <h2>Job Title 1</h2>\n",
    "        <p>Job Description 1</p>\n",
    "    </li>\n",
    "    <li class=\"job_posting\">\n",
    "        <h2>Job Title 2</h2>\n",
    "        <p>Job Description 2</p>\n",
    "    </li>\n",
    "    <li class=\"job_posting\">\n",
    "        <h2>Job Title 3</h2>\n",
    "        <p>Job Description 3</p>\n",
    "    </li>\n",
    "    <li class=\"view-all\">\n",
    "        <a href=\"#\">View All Jobs</a>\n",
    "    </li>\n",
    "</ul>\n",
    "'''\n",
    "\n",
    "\n",
    "soup = BeautifulSoup(html, 'html.parser')\n",
    "\n",
    "job_section = soup.find('ul',{'class': 'job_list'})\n",
    "print(job_section)\n",
    "print()\n",
    "\n",
    "job_posts = [post for post in job_section.find_all('li') if 'view-all' not in post['class']]\n",
    "for job in job_posts:\n",
    "    print(job)"
   ]
  },
  {
   "cell_type": "code",
   "execution_count": null,
   "id": "f09e31fe",
   "metadata": {},
   "outputs": [],
   "source": []
  }
 ],
 "metadata": {
  "kernelspec": {
   "display_name": "Python 3 (ipykernel)",
   "language": "python",
   "name": "python3"
  },
  "language_info": {
   "codemirror_mode": {
    "name": "ipython",
    "version": 3
   },
   "file_extension": ".py",
   "mimetype": "text/x-python",
   "name": "python",
   "nbconvert_exporter": "python",
   "pygments_lexer": "ipython3",
   "version": "3.11.2"
  }
 },
 "nbformat": 4,
 "nbformat_minor": 5
}
